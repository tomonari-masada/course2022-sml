{
  "nbformat": 4,
  "nbformat_minor": 0,
  "metadata": {
    "colab": {
      "name": "08_linear_regression_3_example.ipynb",
      "provenance": [],
      "collapsed_sections": [],
      "mount_file_id": "16FwSELqvgadDj7UzXoqufPO45Hq1fbC-",
      "authorship_tag": "ABX9TyPLLb4hmav0/NEtiWoPMwlr",
      "include_colab_link": true
    },
    "kernelspec": {
      "name": "python3",
      "display_name": "Python 3"
    }
  },
  "cells": [
    {
      "cell_type": "markdown",
      "metadata": {
        "id": "view-in-github",
        "colab_type": "text"
      },
      "source": [
        "<a href=\"https://colab.research.google.com/github/tomonari-masada/course2022-sml/blob/main/08_linear_regression_3_example.ipynb\" target=\"_parent\"><img src=\"https://colab.research.google.com/assets/colab-badge.svg\" alt=\"Open In Colab\"/></a>"
      ]
    },
    {
      "cell_type": "markdown",
      "metadata": {
        "id": "Qy8AYW1oaHQi"
      },
      "source": [
        "# 2022/06/04の課題\n",
        "* solubilityデータセットの、上で作った検証データに対して、できるだけ予測性能の良いモデルを見つけよう\n",
        " * Ridge回帰やLassoを使ってもいいです。\n",
        " * 特徴量はどのように加工してもいいです。（上では2値変数にPCAを使った）\n",
        "* 検証データを使って見つけた最も良いモデルを、最後に一回、テストデータで評価してみよう"
      ]
    },
    {
      "cell_type": "code",
      "metadata": {
        "id": "BAs8TdF-Ly5J"
      },
      "source": [
        "import numpy as np\n",
        "from scipy import stats\n",
        "import pandas as pd\n",
        "import matplotlib.pyplot as plt\n",
        "import seaborn as sns\n",
        "from sklearn.model_selection import train_test_split\n",
        "from sklearn.preprocessing import PolynomialFeatures, StandardScaler\n",
        "from sklearn.linear_model import LinearRegression, Ridge, Lasso\n",
        "from sklearn.decomposition import PCA\n",
        "from sklearn.metrics import mean_squared_error\n",
        "\n",
        "%config InlineBackend.figure_format = 'retina'"
      ],
      "execution_count": 1,
      "outputs": []
    },
    {
      "cell_type": "code",
      "metadata": {
        "id": "FHmuTZD1L5ka"
      },
      "source": [
        "PATH = '/content/drive/MyDrive/data/'\n",
        "\n",
        "X = pd.read_csv(PATH + 'solTrainX.csv')\n",
        "y = pd.read_csv(PATH + 'solTrainY.csv')['x']\n",
        "\n",
        "X_test = pd.read_csv(PATH + 'solTestX.csv')\n",
        "y_test = pd.read_csv(PATH + 'solTestY.csv')['x']"
      ],
      "execution_count": 2,
      "outputs": []
    },
    {
      "cell_type": "code",
      "metadata": {
        "id": "mJxFDaWRRh7S",
        "colab": {
          "base_uri": "https://localhost:8080/"
        },
        "outputId": "a68bd4c1-dee0-453c-98be-c89291bcd8f1"
      },
      "source": [
        "continuous = [s for s in X.columns if s[:3] in ['Num', 'Hyd', 'Mol', 'Sur']]\n",
        "print(len(continuous), 'continuous features')\n",
        "print(continuous)"
      ],
      "execution_count": 3,
      "outputs": [
        {
          "output_type": "stream",
          "name": "stdout",
          "text": [
            "20 continuous features\n",
            "['MolWeight', 'NumAtoms', 'NumNonHAtoms', 'NumBonds', 'NumNonHBonds', 'NumMultBonds', 'NumRotBonds', 'NumDblBonds', 'NumAromaticBonds', 'NumHydrogen', 'NumCarbon', 'NumNitrogen', 'NumOxygen', 'NumSulfer', 'NumChlorine', 'NumHalogen', 'NumRings', 'HydrophilicFactor', 'SurfaceArea1', 'SurfaceArea2']\n"
          ]
        }
      ]
    },
    {
      "cell_type": "code",
      "metadata": {
        "id": "o9ts2bVrDA1B",
        "colab": {
          "base_uri": "https://localhost:8080/"
        },
        "outputId": "a010cd4f-64c9-4f8f-bd87-dd895dd9d18d"
      },
      "source": [
        "# 0/1値をとる変数の名前を取り出す\n",
        "binary = X.columns[X.columns.str.startswith('FP')]\n",
        "print(len(binary), 'binary features')"
      ],
      "execution_count": 4,
      "outputs": [
        {
          "output_type": "stream",
          "name": "stdout",
          "text": [
            "208 binary features\n"
          ]
        }
      ]
    },
    {
      "cell_type": "markdown",
      "metadata": {
        "id": "xevwrxX3W1pR"
      },
      "source": [
        "* 訓練データと検証データを分けておく"
      ]
    },
    {
      "cell_type": "code",
      "metadata": {
        "id": "Usulx84yBkgX"
      },
      "source": [
        "X_train, X_valid, y_train, y_valid = train_test_split(X, y, test_size=0.2, random_state=42)"
      ],
      "execution_count": 5,
      "outputs": []
    },
    {
      "cell_type": "markdown",
      "metadata": {
        "id": "S3yUNXq3ftaz"
      },
      "source": [
        "## ２値変数のインタラクションを考慮してみる\n",
        "\n",
        "* PolynomialFeaturesを2次の設定で使う\n",
        "* その上で主成分分析を適用\n"
      ]
    },
    {
      "cell_type": "markdown",
      "metadata": {
        "id": "LwfrLojscUyC"
      },
      "source": [
        "## Ridge回帰の場合"
      ]
    },
    {
      "cell_type": "code",
      "metadata": {
        "colab": {
          "base_uri": "https://localhost:8080/"
        },
        "id": "SMeUJkwAXXIb",
        "outputId": "19625f96-f079-4fc0-9d5f-d7a8ae6b6e48"
      },
      "source": [
        "poly = PolynomialFeatures(2, interaction_only=True, include_bias=False)\n",
        "scaler = StandardScaler()\n",
        "\n",
        "for n_components in [150, 200, 250, 300, 350, 400]:\n",
        "\n",
        "  pca = PCA(n_components=n_components, random_state=123)\n",
        "\n",
        "  X_train_binary = pca.fit_transform(poly.fit_transform(X_train[binary]))\n",
        "  X_train_embedded = scaler.fit_transform(np.concatenate([X_train_binary, X_train[continuous]], 1))\n",
        "\n",
        "  X_valid_binary = pca.transform(poly.transform(X_valid[binary]))\n",
        "  X_valid_embedded = scaler.transform(np.concatenate([X_valid_binary, X_valid[continuous]], 1))\n",
        "\n",
        "  for alpha in 10.0 ** np.arange(-3, 3):\n",
        "    reg = Ridge(alpha=alpha, random_state=42)\n",
        "    reg.fit(X_train_embedded, y_train)\n",
        "    y_valid_pred = reg.predict(X_valid_embedded)\n",
        "    rmse = mean_squared_error(y_valid, y_valid_pred, squared=False)\n",
        "    print(f'{n_components} components | alpha {alpha:.1e} | RMSE {rmse:.4f}')\n",
        "\n",
        "  print('-'*40)"
      ],
      "execution_count": 6,
      "outputs": [
        {
          "output_type": "stream",
          "name": "stdout",
          "text": [
            "150 components | alpha 1.0e-03 | RMSE 0.5923\n",
            "150 components | alpha 1.0e-02 | RMSE 0.5920\n",
            "150 components | alpha 1.0e-01 | RMSE 0.5908\n",
            "150 components | alpha 1.0e+00 | RMSE 0.5911\n",
            "150 components | alpha 1.0e+01 | RMSE 0.6112\n",
            "150 components | alpha 1.0e+02 | RMSE 0.6718\n",
            "----------------------------------------\n",
            "200 components | alpha 1.0e-03 | RMSE 0.5749\n",
            "200 components | alpha 1.0e-02 | RMSE 0.5741\n",
            "200 components | alpha 1.0e-01 | RMSE 0.5720\n",
            "200 components | alpha 1.0e+00 | RMSE 0.5703\n",
            "200 components | alpha 1.0e+01 | RMSE 0.5859\n",
            "200 components | alpha 1.0e+02 | RMSE 0.6491\n",
            "----------------------------------------\n",
            "250 components | alpha 1.0e-03 | RMSE 0.5699\n",
            "250 components | alpha 1.0e-02 | RMSE 0.5679\n",
            "250 components | alpha 1.0e-01 | RMSE 0.5652\n",
            "250 components | alpha 1.0e+00 | RMSE 0.5668\n",
            "250 components | alpha 1.0e+01 | RMSE 0.5830\n",
            "250 components | alpha 1.0e+02 | RMSE 0.6416\n",
            "----------------------------------------\n",
            "300 components | alpha 1.0e-03 | RMSE 0.5749\n",
            "300 components | alpha 1.0e-02 | RMSE 0.5700\n",
            "300 components | alpha 1.0e-01 | RMSE 0.5622\n",
            "300 components | alpha 1.0e+00 | RMSE 0.5594\n",
            "300 components | alpha 1.0e+01 | RMSE 0.5695\n",
            "300 components | alpha 1.0e+02 | RMSE 0.6368\n",
            "----------------------------------------\n",
            "350 components | alpha 1.0e-03 | RMSE 0.6062\n",
            "350 components | alpha 1.0e-02 | RMSE 0.5999\n",
            "350 components | alpha 1.0e-01 | RMSE 0.5894\n",
            "350 components | alpha 1.0e+00 | RMSE 0.5790\n",
            "350 components | alpha 1.0e+01 | RMSE 0.5875\n",
            "350 components | alpha 1.0e+02 | RMSE 0.6546\n",
            "----------------------------------------\n",
            "400 components | alpha 1.0e-03 | RMSE 0.5897\n",
            "400 components | alpha 1.0e-02 | RMSE 0.5816\n",
            "400 components | alpha 1.0e-01 | RMSE 0.5751\n",
            "400 components | alpha 1.0e+00 | RMSE 0.5733\n",
            "400 components | alpha 1.0e+01 | RMSE 0.5912\n",
            "400 components | alpha 1.0e+02 | RMSE 0.6579\n",
            "----------------------------------------\n"
          ]
        }
      ]
    },
    {
      "cell_type": "markdown",
      "metadata": {
        "id": "p7t_39oKcXi7"
      },
      "source": [
        "## Lassoの場合\n",
        "* まだ収束していないというwarningが出ないように、max_iterを大きな値にしておく。"
      ]
    },
    {
      "cell_type": "code",
      "metadata": {
        "colab": {
          "base_uri": "https://localhost:8080/"
        },
        "id": "S85G4b0pYD8a",
        "outputId": "4521e4e9-a0fb-48b2-baeb-94a1d747e77b"
      },
      "source": [
        "poly = PolynomialFeatures(2, interaction_only=True, include_bias=False)\n",
        "scaler = StandardScaler()\n",
        "\n",
        "for n_components in [150, 200, 250, 300, 350, 400]:\n",
        "\n",
        "  pca = PCA(n_components=n_components, random_state=123)\n",
        "\n",
        "  X_train_binary = pca.fit_transform(poly.fit_transform(X_train[binary]))\n",
        "  X_train_embedded = scaler.fit_transform(np.concatenate([X_train_binary, X_train[continuous]], 1))\n",
        "\n",
        "  X_valid_binary = pca.transform(poly.transform(X_valid[binary]))\n",
        "  X_valid_embedded = scaler.transform(np.concatenate([X_valid_binary, X_valid[continuous]], 1))\n",
        "\n",
        "  for alpha in 10.0 ** np.arange(-4, 0):\n",
        "    reg = Lasso(alpha=alpha, random_state=42, max_iter=50000)\n",
        "    reg.fit(X_train_embedded, y_train)\n",
        "    y_valid_pred = reg.predict(X_valid_embedded)\n",
        "    rmse = mean_squared_error(y_valid, y_valid_pred, squared=False)\n",
        "    print(f'{n_components} components | alpha {alpha:.1e} | RMSE {rmse:.4f}')\n",
        "\n",
        "  print('-'*40)"
      ],
      "execution_count": 7,
      "outputs": [
        {
          "output_type": "stream",
          "name": "stdout",
          "text": [
            "150 components | alpha 1.0e-04 | RMSE 0.5911\n",
            "150 components | alpha 1.0e-03 | RMSE 0.5877\n",
            "150 components | alpha 1.0e-02 | RMSE 0.6044\n",
            "150 components | alpha 1.0e-01 | RMSE 0.8761\n",
            "----------------------------------------\n",
            "200 components | alpha 1.0e-04 | RMSE 0.5727\n",
            "200 components | alpha 1.0e-03 | RMSE 0.5651\n",
            "200 components | alpha 1.0e-02 | RMSE 0.5858\n",
            "200 components | alpha 1.0e-01 | RMSE 0.8772\n",
            "----------------------------------------\n",
            "250 components | alpha 1.0e-04 | RMSE 0.5653\n",
            "250 components | alpha 1.0e-03 | RMSE 0.5642\n",
            "250 components | alpha 1.0e-02 | RMSE 0.5778\n",
            "250 components | alpha 1.0e-01 | RMSE 0.8774\n",
            "----------------------------------------\n",
            "300 components | alpha 1.0e-04 | RMSE 0.5607\n",
            "300 components | alpha 1.0e-03 | RMSE 0.5551\n",
            "300 components | alpha 1.0e-02 | RMSE 0.5660\n",
            "300 components | alpha 1.0e-01 | RMSE 0.8773\n",
            "----------------------------------------\n",
            "350 components | alpha 1.0e-04 | RMSE 0.5875\n",
            "350 components | alpha 1.0e-03 | RMSE 0.5704\n",
            "350 components | alpha 1.0e-02 | RMSE 0.5716\n",
            "350 components | alpha 1.0e-01 | RMSE 0.8773\n",
            "----------------------------------------\n",
            "400 components | alpha 1.0e-04 | RMSE 0.5727\n",
            "400 components | alpha 1.0e-03 | RMSE 0.5693\n",
            "400 components | alpha 1.0e-02 | RMSE 0.5771\n",
            "400 components | alpha 1.0e-01 | RMSE 0.8773\n",
            "----------------------------------------\n"
          ]
        }
      ]
    },
    {
      "cell_type": "markdown",
      "source": [
        "* Ridge回帰でも、Lassoでも、コンポーネント数300あたりが良さそう。"
      ],
      "metadata": {
        "id": "9TC_qI_kek83"
      }
    },
    {
      "cell_type": "markdown",
      "source": [
        "## 交差検証をおこなう"
      ],
      "metadata": {
        "id": "jgVfIWdvhPqd"
      }
    },
    {
      "cell_type": "markdown",
      "source": [
        "* 訓練データと検証データの切り分け方が変わると、予測性能がどの程度変動するか、確認する。"
      ],
      "metadata": {
        "id": "QLtTUDljkLJJ"
      }
    },
    {
      "cell_type": "markdown",
      "source": [
        "* テストセット以外を読み直す。"
      ],
      "metadata": {
        "id": "o-YU3cahhzmk"
      }
    },
    {
      "cell_type": "code",
      "source": [
        "X = pd.read_csv(PATH + 'solTrainX.csv')\n",
        "y = pd.read_csv(PATH + 'solTrainY.csv')['x']"
      ],
      "metadata": {
        "id": "d5yVUfsRhy_g"
      },
      "execution_count": 8,
      "outputs": []
    },
    {
      "cell_type": "code",
      "source": [
        "from sklearn.model_selection import KFold\n",
        "kf = KFold(n_splits=5, shuffle=True, random_state=123)"
      ],
      "metadata": {
        "id": "wN86EiZHhXu0"
      },
      "execution_count": 9,
      "outputs": []
    },
    {
      "cell_type": "code",
      "source": [
        "poly = PolynomialFeatures(2, interaction_only=True, include_bias=False)\n",
        "scaler = StandardScaler()\n",
        "\n",
        "for n_components in [300]:\n",
        "  pca = PCA(n_components=n_components, random_state=123)\n",
        "\n",
        "  for alpha in 10.0 ** np.arange(-3, 3):\n",
        "    reg = Ridge(alpha=alpha, random_state=42)\n",
        "\n",
        "    rmses = []\n",
        "    print(f'\\tRMSE:', end=' ')\n",
        "    for train_index, valid_index in kf.split(X):\n",
        "      X_train = X.iloc[train_index]\n",
        "      X_valid = X.iloc[valid_index]\n",
        "\n",
        "      X_train_binary = pca.fit_transform(poly.fit_transform(X_train[binary]))\n",
        "      X_train_embedded = scaler.fit_transform(np.concatenate([X_train_binary, X_train[continuous]], 1))\n",
        "      X_valid_binary = pca.transform(poly.transform(X_valid[binary]))\n",
        "      X_valid_embedded = scaler.transform(np.concatenate([X_valid_binary, X_valid[continuous]], 1))\n",
        "\n",
        "      reg.fit(X_train_embedded, y[train_index])\n",
        "      y_valid_pred = reg.predict(X_valid_embedded)\n",
        "      rmse = mean_squared_error(y[valid_index], y_valid_pred, squared=False)\n",
        "      rmses.append(rmse)\n",
        "      print(f'{rmse:.4f}', end=', ')\n",
        "\n",
        "    print()\n",
        "    rmses = np.array(rmses)\n",
        "    print(f'{n_components} components | alpha {alpha:.1e} | mean RMSE {rmses.mean():.4f} ({rmses.std():.4f})')\n",
        "  print('-'*40)"
      ],
      "metadata": {
        "colab": {
          "base_uri": "https://localhost:8080/"
        },
        "id": "Tn6MvlsphdYS",
        "outputId": "816a9d4c-be22-4316-cbcf-49e1a20412dd"
      },
      "execution_count": 10,
      "outputs": [
        {
          "output_type": "stream",
          "name": "stdout",
          "text": [
            "\tRMSE: 0.5797, 0.6249, 0.6082, 0.7003, 0.6256, \n",
            "300 components | alpha 1.0e-03 | mean RMSE 0.6278 (0.0399)\n",
            "\tRMSE: 0.5797, 0.6280, 0.6013, 0.7009, 0.6255, \n",
            "300 components | alpha 1.0e-02 | mean RMSE 0.6271 (0.0409)\n",
            "\tRMSE: 0.5812, 0.6301, 0.5898, 0.7025, 0.6241, \n",
            "300 components | alpha 1.0e-01 | mean RMSE 0.6255 (0.0429)\n",
            "\tRMSE: 0.5873, 0.6301, 0.5842, 0.7040, 0.6228, \n",
            "300 components | alpha 1.0e+00 | mean RMSE 0.6257 (0.0433)\n",
            "\tRMSE: 0.5842, 0.6309, 0.5857, 0.6766, 0.6104, \n",
            "300 components | alpha 1.0e+01 | mean RMSE 0.6176 (0.0342)\n",
            "\tRMSE: 0.6194, 0.6838, 0.6022, 0.6908, 0.6162, \n",
            "300 components | alpha 1.0e+02 | mean RMSE 0.6425 (0.0371)\n",
            "----------------------------------------\n"
          ]
        }
      ]
    },
    {
      "cell_type": "code",
      "source": [
        "poly = PolynomialFeatures(2, interaction_only=True, include_bias=False)\n",
        "scaler = StandardScaler()\n",
        "\n",
        "for n_components in [300]:\n",
        "  pca = PCA(n_components=n_components, random_state=123)\n",
        "\n",
        "  for alpha in 10.0 ** np.arange(-4, 0):\n",
        "    reg = Lasso(alpha=alpha, random_state=42, max_iter=50000)\n",
        "\n",
        "    rmses = []\n",
        "    print(f'\\tRMSE:', end=' ')\n",
        "    for train_index, valid_index in kf.split(X):\n",
        "      X_train = X.iloc[train_index]\n",
        "      X_valid = X.iloc[valid_index]\n",
        "\n",
        "      X_train_binary = pca.fit_transform(poly.fit_transform(X_train[binary]))\n",
        "      X_train_embedded = scaler.fit_transform(np.concatenate([X_train_binary, X_train[continuous]], 1))\n",
        "      X_valid_binary = pca.transform(poly.transform(X_valid[binary]))\n",
        "      X_valid_embedded = scaler.transform(np.concatenate([X_valid_binary, X_valid[continuous]], 1))\n",
        "\n",
        "      reg.fit(X_train_embedded, y[train_index])\n",
        "      y_valid_pred = reg.predict(X_valid_embedded)\n",
        "      rmse = mean_squared_error(y[valid_index], y_valid_pred, squared=False)\n",
        "      rmses.append(rmse)\n",
        "      print(f'{rmse:.4f}', end=', ')\n",
        "\n",
        "    print()\n",
        "    rmses = np.array(rmses)\n",
        "    print(f'{n_components} components | alpha {alpha:.1e} | mean RMSE {rmses.mean():.4f} ({rmses.std():.4f})')\n",
        "  print('-'*40)"
      ],
      "metadata": {
        "colab": {
          "base_uri": "https://localhost:8080/"
        },
        "id": "HJANj_K7jsgs",
        "outputId": "8db45460-0260-4f83-afea-9f3b2be88f79"
      },
      "execution_count": 11,
      "outputs": [
        {
          "output_type": "stream",
          "name": "stdout",
          "text": [
            "\tRMSE: 0.5783, 0.6279, 0.5915, 0.7033, 0.6236, \n",
            "300 components | alpha 1.0e-04 | mean RMSE 0.6249 (0.0435)\n",
            "\tRMSE: 0.5807, 0.6331, 0.5851, 0.7128, 0.6151, \n",
            "300 components | alpha 1.0e-03 | mean RMSE 0.6254 (0.0478)\n",
            "\tRMSE: 0.5991, 0.6813, 0.5683, 0.6472, 0.6028, \n",
            "300 components | alpha 1.0e-02 | mean RMSE 0.6197 (0.0397)\n",
            "\tRMSE: 0.9214, 0.9583, 0.8276, 0.8898, 0.9403, \n",
            "300 components | alpha 1.0e-01 | mean RMSE 0.9075 (0.0459)\n",
            "----------------------------------------\n"
          ]
        }
      ]
    },
    {
      "cell_type": "markdown",
      "source": [
        "* Ridge回帰のほうを、もう少しチューニングしてみる。"
      ],
      "metadata": {
        "id": "j_8-68LAnqdd"
      }
    },
    {
      "cell_type": "code",
      "source": [
        "poly = PolynomialFeatures(2, interaction_only=True, include_bias=False)\n",
        "scaler = StandardScaler()\n",
        "\n",
        "for n_components in [250, 300, 350]:\n",
        "  pca = PCA(n_components=n_components, random_state=123)\n",
        "\n",
        "  for alpha in [5.0, 10.0, 20.0]:\n",
        "    reg = Ridge(alpha=alpha, random_state=42)\n",
        "\n",
        "    rmses = []\n",
        "    print(f'\\tRMSE:', end=' ')\n",
        "    for train_index, valid_index in kf.split(X):\n",
        "      X_train = X.iloc[train_index]\n",
        "      X_valid = X.iloc[valid_index]\n",
        "\n",
        "      X_train_binary = pca.fit_transform(poly.fit_transform(X_train[binary]))\n",
        "      X_train_embedded = scaler.fit_transform(np.concatenate([X_train_binary, X_train[continuous]], 1))\n",
        "      X_valid_binary = pca.transform(poly.transform(X_valid[binary]))\n",
        "      X_valid_embedded = scaler.transform(np.concatenate([X_valid_binary, X_valid[continuous]], 1))\n",
        "\n",
        "      reg.fit(X_train_embedded, y[train_index])\n",
        "      y_valid_pred = reg.predict(X_valid_embedded)\n",
        "      rmse = mean_squared_error(y[valid_index], y_valid_pred, squared=False)\n",
        "      rmses.append(rmse)\n",
        "      print(f'{rmse:.4f}', end=', ')\n",
        "\n",
        "    print()\n",
        "    rmses = np.array(rmses)\n",
        "    print(f'{n_components} components | alpha {alpha:.1e} | mean RMSE {rmses.mean():.4f} ({rmses.std():.4f})')\n",
        "  print('-'*40)"
      ],
      "metadata": {
        "colab": {
          "base_uri": "https://localhost:8080/"
        },
        "id": "VXeIKP6hncwJ",
        "outputId": "10810781-f764-489f-8736-c3026f77dfab"
      },
      "execution_count": 12,
      "outputs": [
        {
          "output_type": "stream",
          "name": "stdout",
          "text": [
            "\tRMSE: 0.5916, 0.6302, 0.5924, 0.6812, 0.6243, \n",
            "250 components | alpha 5.0e+00 | mean RMSE 0.6239 (0.0327)\n",
            "\tRMSE: 0.5929, 0.6312, 0.5920, 0.6726, 0.6217, \n",
            "250 components | alpha 1.0e+01 | mean RMSE 0.6221 (0.0297)\n",
            "\tRMSE: 0.5968, 0.6363, 0.5931, 0.6679, 0.6186, \n",
            "250 components | alpha 2.0e+01 | mean RMSE 0.6225 (0.0275)\n",
            "----------------------------------------\n",
            "\tRMSE: 0.5856, 0.6291, 0.5851, 0.6867, 0.6162, \n",
            "300 components | alpha 5.0e+00 | mean RMSE 0.6205 (0.0373)\n",
            "\tRMSE: 0.5842, 0.6309, 0.5857, 0.6766, 0.6104, \n",
            "300 components | alpha 1.0e+01 | mean RMSE 0.6176 (0.0342)\n",
            "\tRMSE: 0.5867, 0.6384, 0.5881, 0.6716, 0.6053, \n",
            "300 components | alpha 2.0e+01 | mean RMSE 0.6180 (0.0326)\n",
            "----------------------------------------\n",
            "\tRMSE: 0.5915, 0.6541, 0.5986, 0.6726, 0.6322, \n",
            "350 components | alpha 5.0e+00 | mean RMSE 0.6298 (0.0312)\n",
            "\tRMSE: 0.5869, 0.6572, 0.6006, 0.6623, 0.6252, \n",
            "350 components | alpha 1.0e+01 | mean RMSE 0.6264 (0.0299)\n",
            "\tRMSE: 0.5867, 0.6665, 0.6049, 0.6580, 0.6193, \n",
            "350 components | alpha 2.0e+01 | mean RMSE 0.6271 (0.0306)\n",
            "----------------------------------------\n"
          ]
        }
      ]
    },
    {
      "cell_type": "markdown",
      "metadata": {
        "id": "_bu10Uvak8TL"
      },
      "source": [
        "## 最終評価"
      ]
    },
    {
      "cell_type": "code",
      "metadata": {
        "id": "tmqZu7AfJ4Q3",
        "colab": {
          "base_uri": "https://localhost:8080/"
        },
        "outputId": "e0b99f31-aa09-4f76-bf9d-cb17322be20d"
      },
      "source": [
        "n_components = 300\n",
        "alpha = 1.0e+01\n",
        "\n",
        "pca = PCA(n_components=n_components, random_state=123)\n",
        "poly = PolynomialFeatures(2, interaction_only=True, include_bias=False)\n",
        "scaler = StandardScaler()\n",
        "\n",
        "X_binary = pca.fit_transform(poly.fit_transform(X[binary]))\n",
        "X_embedded = scaler.fit_transform(np.concatenate([X_binary, X[continuous]], 1))\n",
        "\n",
        "reg = Ridge(alpha=alpha, random_state=42)\n",
        "reg.fit(X_embedded, y)\n",
        "\n",
        "X_test_binary = pca.transform(poly.transform(X_test[binary]))\n",
        "X_test_embedded = scaler.transform(np.concatenate([X_test_binary, X_test[continuous]], 1))\n",
        "y_test_pred = reg.predict(X_test_embedded)\n",
        "print(f'test RMSE {mean_squared_error(y_test, y_test_pred, squared=False):.4f}')"
      ],
      "execution_count": 13,
      "outputs": [
        {
          "output_type": "stream",
          "name": "stdout",
          "text": [
            "test RMSE 0.6788\n"
          ]
        }
      ]
    },
    {
      "cell_type": "code",
      "metadata": {
        "id": "Qz-Zx5ysfi7T"
      },
      "source": [
        ""
      ],
      "execution_count": 13,
      "outputs": []
    }
  ]
}
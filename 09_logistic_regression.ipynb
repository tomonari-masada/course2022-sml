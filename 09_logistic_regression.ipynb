{
  "nbformat": 4,
  "nbformat_minor": 0,
  "metadata": {
    "colab": {
      "name": "09_logistic_regression.ipynb",
      "provenance": [],
      "collapsed_sections": [],
      "mount_file_id": "1UzJefMTp9kO00UjexZM37kCLESMzKGtV",
      "authorship_tag": "ABX9TyPsD6SO53xKGCVgVRjbCQwO",
      "include_colab_link": true
    },
    "kernelspec": {
      "name": "python3",
      "display_name": "Python 3"
    }
  },
  "cells": [
    {
      "cell_type": "markdown",
      "metadata": {
        "id": "view-in-github",
        "colab_type": "text"
      },
      "source": [
        "<a href=\"https://colab.research.google.com/github/tomonari-masada/course2022-sml/blob/main/09_logistic_regression.ipynb\" target=\"_parent\"><img src=\"https://colab.research.google.com/assets/colab-badge.svg\" alt=\"Open In Colab\"/></a>"
      ]
    },
    {
      "cell_type": "markdown",
      "metadata": {
        "id": "l4aDsUHDiXoN"
      },
      "source": [
        "# 糖尿病をロジスティック回帰で予測してみる\n",
        "\n",
        "* 有名なPima Indians Diabetes Databaseを使う\n",
        "\n",
        " * https://www.kaggle.com/uciml/pima-indians-diabetes-database"
      ]
    },
    {
      "cell_type": "markdown",
      "metadata": {
        "id": "1DAJX8yeO0fc"
      },
      "source": [
        "* ロジスティック回帰、そして、分類の評価については、下記も参照\n",
        " * https://developers.google.com/machine-learning/crash-course/logistic-regression/\n",
        " * https://developers.google.com/machine-learning/crash-course/classification/"
      ]
    },
    {
      "cell_type": "markdown",
      "metadata": {
        "id": "eQ-egZTnizme"
      },
      "source": [
        "## 1) データの読み込み"
      ]
    },
    {
      "cell_type": "code",
      "metadata": {
        "id": "Pd20MbLdBfV5"
      },
      "source": [
        "import numpy as np\n",
        "import pandas as pd\n",
        "import matplotlib.pyplot as plt\n",
        "import seaborn as sns\n",
        "from sklearn.model_selection import train_test_split\n",
        "from sklearn.linear_model import LogisticRegression\n",
        "from sklearn.metrics import roc_auc_score, auc, roc_curve\n",
        "from sklearn.model_selection import StratifiedKFold\n",
        "\n",
        "%config InlineBackend.figure_format = 'retina'"
      ],
      "execution_count": null,
      "outputs": []
    },
    {
      "cell_type": "code",
      "metadata": {
        "id": "h6Qv7hnyCEjh"
      },
      "source": [
        "diabetes = pd.read_csv('/content/drive/MyDrive/2021Courses/SML/diabetes.csv')"
      ],
      "execution_count": null,
      "outputs": []
    },
    {
      "cell_type": "code",
      "metadata": {
        "id": "lGFzAgWbCvXT"
      },
      "source": [
        "diabetes.head()"
      ],
      "execution_count": null,
      "outputs": []
    },
    {
      "cell_type": "code",
      "metadata": {
        "id": "MbybEGH8MIBm"
      },
      "source": [
        "diabetes.info()"
      ],
      "execution_count": null,
      "outputs": []
    },
    {
      "cell_type": "code",
      "metadata": {
        "id": "HgqyPRukDv80"
      },
      "source": [
        "y = diabetes['Outcome']\n",
        "X = diabetes.drop('Outcome', axis=1)"
      ],
      "execution_count": null,
      "outputs": []
    },
    {
      "cell_type": "code",
      "metadata": {
        "id": "oGUfGCWHnSd3"
      },
      "source": [
        "X.shape"
      ],
      "execution_count": null,
      "outputs": []
    },
    {
      "cell_type": "code",
      "metadata": {
        "id": "0r5JItJhD8AE"
      },
      "source": [
        "X.describe()"
      ],
      "execution_count": null,
      "outputs": []
    },
    {
      "cell_type": "markdown",
      "metadata": {
        "id": "E2uJY56bi3Ry"
      },
      "source": [
        "## 2) 訓練データ、テストデータに分割"
      ]
    },
    {
      "cell_type": "markdown",
      "metadata": {
        "id": "J6TDDlZenD3_"
      },
      "source": [
        "* この分割は変えないようにしてください。"
      ]
    },
    {
      "cell_type": "code",
      "metadata": {
        "id": "bLsoxn02B8CR"
      },
      "source": [
        "X_train, X_test, y_train, y_test = train_test_split(X, y, test_size=0.15, random_state=123)"
      ],
      "execution_count": null,
      "outputs": []
    },
    {
      "cell_type": "markdown",
      "metadata": {
        "id": "M_NNgy-Fi839"
      },
      "source": [
        "* 以下、訓練データ部分を使って、交差検証によって良いモデルを探す。\n",
        "\n",
        "---\n",
        "\n"
      ]
    },
    {
      "cell_type": "markdown",
      "metadata": {
        "id": "2BtszzrDdRrj"
      },
      "source": [
        "## 3) デフォルト設定のロジスティック回帰をベースラインとみなしてテストデータでの評価値を得る\n"
      ]
    },
    {
      "cell_type": "code",
      "metadata": {
        "id": "ac5I0ruIoSCY"
      },
      "source": [
        "logreg_baseline = LogisticRegression(random_state=123)\n",
        "logreg_baseline.fit(X_train, y_train)"
      ],
      "execution_count": null,
      "outputs": []
    },
    {
      "cell_type": "markdown",
      "metadata": {
        "id": "oNGfn66joV2t"
      },
      "source": [
        "* `max_iter`が小さいとの警告が出ているので、増やして学習しなおし。"
      ]
    },
    {
      "cell_type": "code",
      "metadata": {
        "id": "ZF1Yyo3NocBr"
      },
      "source": [
        "logreg_baseline = LogisticRegression(max_iter=1000, random_state=123)\n",
        "logreg_baseline.fit(X_train, y_train)"
      ],
      "execution_count": null,
      "outputs": []
    },
    {
      "cell_type": "markdown",
      "metadata": {
        "id": "zfHzwsAxoeiL"
      },
      "source": [
        "* 大丈夫だったので、テストデータでの最終評価値を得る。"
      ]
    },
    {
      "cell_type": "code",
      "metadata": {
        "id": "uEss5itsdJAU"
      },
      "source": [
        "print(f'test score: {logreg_baseline.score(X_test, y_test):.4f}')"
      ],
      "execution_count": null,
      "outputs": []
    },
    {
      "cell_type": "markdown",
      "metadata": {
        "id": "g93ND4YLrRUe"
      },
      "source": [
        "* Area under ROC curveも計算してみる。\n"
      ]
    },
    {
      "cell_type": "code",
      "metadata": {
        "id": "5ufvnV0qrQtI"
      },
      "source": [
        "y_test_pred_proba = logreg_baseline.predict_proba(X_test)\n",
        "print(f'ROC AUC: {roc_auc_score(y_test, y_test_pred_proba[:,1]):.4f}')"
      ],
      "execution_count": null,
      "outputs": []
    },
    {
      "cell_type": "markdown",
      "metadata": {
        "id": "U_r9hAHttZZq"
      },
      "source": [
        "* ROC curveを描いてみる。\n",
        " * https://scikit-learn.org/stable/auto_examples/model_selection/plot_roc.html#sphx-glr-auto-examples-model-selection-plot-roc-py"
      ]
    },
    {
      "cell_type": "code",
      "metadata": {
        "id": "R8y1Fvlyslb9"
      },
      "source": [
        "y_score = logreg_baseline.decision_function(X_test)\n",
        "\n",
        "fpr, tpr, _ = roc_curve(y_test, y_score)\n",
        "roc_auc = auc(fpr, tpr)\n",
        "\n",
        "plt.plot(fpr, tpr, color='darkorange', label=f'ROC curve (area = {roc_auc:.4f})')\n",
        "plt.plot([0, 1], [0, 1], color='navy', linestyle='--')\n",
        "plt.xlim([0.0, 1.0])\n",
        "plt.ylim([0.0, 1.05])\n",
        "plt.xlabel('False Positive Rate')\n",
        "plt.ylabel('True Positive Rate')\n",
        "plt.title('Receiver operating characteristic example')\n",
        "plt.legend(loc=\"lower right\")"
      ],
      "execution_count": null,
      "outputs": []
    },
    {
      "cell_type": "markdown",
      "metadata": {
        "id": "sMirEcP0dbaG"
      },
      "source": [
        "* これがベースラインなので、これより良い結果を得るべく、試行錯誤してください。\n",
        "* 試行錯誤した結果として辿り着いたモデルで、最後に一回、テストデータ上での評価を行ってください。"
      ]
    },
    {
      "cell_type": "markdown",
      "metadata": {
        "id": "NFLJ24NNxi0r"
      },
      "source": [
        "* ロジスティック回帰についてscoreがどのように計算されているかの確認\n",
        " * thresholdが0.5である必要は、実は、ない。\n",
        " * thresholdを、交差検証で決定してもよい。"
      ]
    },
    {
      "cell_type": "markdown",
      "source": [
        "* `threshold = 0.5`とすれば、次のセルで求まる値と、上で求めたtest scoreは、一致する。"
      ],
      "metadata": {
        "id": "L2dZq3u3gz36"
      }
    },
    {
      "cell_type": "code",
      "metadata": {
        "id": "H7Yjaca4xK7C"
      },
      "source": [
        "threshold = 0.5\n",
        "((logreg_baseline.predict_proba(X_test) >= threshold)[:,1] * 1 == y_test).sum() / len(y_test)"
      ],
      "execution_count": null,
      "outputs": []
    },
    {
      "cell_type": "markdown",
      "metadata": {
        "id": "VtaI7G6IpDgG"
      },
      "source": [
        "## 4) 交差検証しつつ試行錯誤する"
      ]
    },
    {
      "cell_type": "markdown",
      "metadata": {
        "id": "0eSIADnNt1OU"
      },
      "source": [
        "* 元のデータを保存しておく。\n",
        " * 後で、訓練データだけから得られる情報を使って、訓練データも、テストデータも、変更するため。"
      ]
    },
    {
      "cell_type": "code",
      "metadata": {
        "id": "Sz0bpDyitz53"
      },
      "source": [
        "X_train_original = X_train.copy()\n",
        "X_test_original = X_test.copy()"
      ],
      "execution_count": null,
      "outputs": []
    },
    {
      "cell_type": "markdown",
      "metadata": {
        "id": "Vx322yZLSkTV"
      },
      "source": [
        "### A) 最初に交差検証の準備をしておく"
      ]
    },
    {
      "cell_type": "code",
      "metadata": {
        "id": "2s3rL94SDW3u"
      },
      "source": [
        "skf = StratifiedKFold(n_splits=10, shuffle=True, random_state=123)"
      ],
      "execution_count": null,
      "outputs": []
    },
    {
      "cell_type": "markdown",
      "metadata": {
        "id": "WK1tqw_yQ0JM"
      },
      "source": [
        "### B) 交差検証による評価のための関数を定義しておく"
      ]
    },
    {
      "cell_type": "code",
      "metadata": {
        "id": "8BdbwVSqDEkH"
      },
      "source": [
        "def cv(skf, X_train, y_train, args={}):\n",
        "  scores = list()\n",
        "  for train_index, valid_index in skf.split(X_train, y_train):\n",
        "\n",
        "    # ロジスティック回帰の学習\n",
        "    if not 'max_iter' in args:\n",
        "      logreg = LogisticRegression(**args, max_iter=1000, random_state=123)\n",
        "    else:\n",
        "      logreg = LogisticRegression(**args, random_state=123)\n",
        "    logreg.fit(X_train.iloc[train_index], y_train.iloc[train_index])\n",
        "\n",
        "    # 検証データでの評価\n",
        "    score = logreg.score(X_train.iloc[valid_index], y_train.iloc[valid_index])\n",
        "    print(f'score: {score:.4f}')\n",
        "    scores.append(score)\n",
        "\n",
        "  print(f'mean score: {np.array(scores).mean():.4f}', end=' ')\n",
        "  if args:\n",
        "    print('{', ' '.join([f'\"{str(k):s}\":{str(args[k]):s}' for k in args]), '}')\n",
        "  else:\n",
        "    print()"
      ],
      "execution_count": null,
      "outputs": []
    },
    {
      "cell_type": "markdown",
      "metadata": {
        "id": "DyJOj1VjRCyb"
      },
      "source": [
        "### C) デフォルト設定のロジスティック回帰の性能を評価する\n",
        "* 交差検証で性能評価するとどうなるかを確認している。"
      ]
    },
    {
      "cell_type": "code",
      "metadata": {
        "id": "Ybu2HlflEcEH"
      },
      "source": [
        "cv(skf, X_train, y_train)"
      ],
      "execution_count": null,
      "outputs": []
    },
    {
      "cell_type": "markdown",
      "metadata": {
        "id": "QzTgn1PzSYl6"
      },
      "source": [
        "### D) BloodPressureへの対応"
      ]
    },
    {
      "cell_type": "markdown",
      "metadata": {
        "id": "4uGFAoBFp9Q9"
      },
      "source": [
        "* まず、属性「BloodPressure」について、ヒストグラムを描いてよくよく眺める。\n"
      ]
    },
    {
      "cell_type": "code",
      "metadata": {
        "id": "5cv90evwFhjJ"
      },
      "source": [
        "sns.histplot(X_train['BloodPressure']);"
      ],
      "execution_count": null,
      "outputs": []
    },
    {
      "cell_type": "markdown",
      "metadata": {
        "id": "RPEAoO9CqB9m"
      },
      "source": [
        "* 0という値がけっこうあるらしい。実は、これは欠測値。そこで、中央値で埋めることにする。\n",
        " * この前処理の仕方で正しいという保証はありません。\n"
      ]
    },
    {
      "cell_type": "code",
      "metadata": {
        "id": "ITc026D4JskX"
      },
      "source": [
        "bp_median = np.median(X_train[X_train.BloodPressure != 0]['BloodPressure'])\n",
        "print(f'blood pressure median: {bp_median}')\n",
        "X_train = X_train.replace({'BloodPressure':0}, bp_median)"
      ],
      "execution_count": null,
      "outputs": []
    },
    {
      "cell_type": "markdown",
      "metadata": {
        "id": "-H0WloZ1qH_y"
      },
      "source": [
        "* もう一度、ヒストグラムを描く。\n"
      ]
    },
    {
      "cell_type": "code",
      "metadata": {
        "id": "coW1dKi0KlJl"
      },
      "source": [
        "sns.histplot(X_train['BloodPressure']);"
      ],
      "execution_count": null,
      "outputs": []
    },
    {
      "cell_type": "markdown",
      "metadata": {
        "id": "C0G06qlLOPaH"
      },
      "source": [
        "* 交差検証で評価する。"
      ]
    },
    {
      "cell_type": "code",
      "metadata": {
        "id": "oOk6Lf19EuXj"
      },
      "source": [
        "cv(skf, X_train, y_train)"
      ],
      "execution_count": null,
      "outputs": []
    },
    {
      "cell_type": "markdown",
      "metadata": {
        "id": "-H_NVFQvqKsb"
      },
      "source": [
        "* test dataの「BloodPressure」の欠測値も、training dataと同じ値で埋める。\n",
        " * この作業は、training dataから得られる情報しか使っていないので、ズルはしていない。\n"
      ]
    },
    {
      "cell_type": "code",
      "metadata": {
        "id": "HaT4Y7MQLTPf"
      },
      "source": [
        "X_test = X_test.replace({'BloodPressure':0}, bp_median)"
      ],
      "execution_count": null,
      "outputs": []
    },
    {
      "cell_type": "markdown",
      "metadata": {
        "id": "ngfAvLFOS23T"
      },
      "source": [
        "### E) BMIへの対応"
      ]
    },
    {
      "cell_type": "markdown",
      "metadata": {
        "id": "GpRXbEREqcrN"
      },
      "source": [
        "* 次に、training dataの「BMI」のヒストグラムを描いてみる\n"
      ]
    },
    {
      "cell_type": "code",
      "metadata": {
        "id": "wC-DcEmwMQDn"
      },
      "source": [
        "sns.histplot(X_train['BMI']);"
      ],
      "execution_count": null,
      "outputs": []
    },
    {
      "cell_type": "markdown",
      "metadata": {
        "id": "xAxC2NJcqfGb"
      },
      "source": [
        "* やはり欠測値の部分が0とされているようなので、先ほどと同様、中央値で埋める。\n"
      ]
    },
    {
      "cell_type": "code",
      "metadata": {
        "id": "LgKJFIc9pz7n"
      },
      "source": [
        "bmi_median = np.median(X_train[X_train.BMI != 0]['BMI'])\n",
        "print(f'BMI median: {bmi_median}')\n",
        "X_train = X_train.replace({'BMI':0}, bmi_median)\n",
        "sns.histplot(X_train['BMI']);"
      ],
      "execution_count": null,
      "outputs": []
    },
    {
      "cell_type": "code",
      "metadata": {
        "id": "nLkcjQooEz0f"
      },
      "source": [
        "cv(skf, X_train, y_train)"
      ],
      "execution_count": null,
      "outputs": []
    },
    {
      "cell_type": "markdown",
      "metadata": {
        "id": "sFQsbhyHqiGQ"
      },
      "source": [
        "* test dataのBMIの欠測値も、同じ値で埋める \n",
        "\n"
      ]
    },
    {
      "cell_type": "code",
      "metadata": {
        "id": "H1htZ8k4KsNW"
      },
      "source": [
        "X_test = X_test.replace({'BMI':0}, bmi_median)"
      ],
      "execution_count": null,
      "outputs": []
    },
    {
      "cell_type": "markdown",
      "metadata": {
        "id": "FRsaNT2iTWXr"
      },
      "source": [
        "### F) Glucoseへの対応"
      ]
    },
    {
      "cell_type": "code",
      "metadata": {
        "id": "XYkYQJSLTKo2"
      },
      "source": [
        "sns.histplot(X_train['Glucose']);"
      ],
      "execution_count": null,
      "outputs": []
    },
    {
      "cell_type": "code",
      "metadata": {
        "id": "NYbXN-p9TZ52"
      },
      "source": [
        "glucose_median = np.median(X_train[X_train.Glucose != 0]['Glucose'])\n",
        "print(f'glucose median: {glucose_median}')\n",
        "X_train = X_train.replace({'Glucose':0}, glucose_median)\n",
        "sns.histplot(X_train['Glucose']);"
      ],
      "execution_count": null,
      "outputs": []
    },
    {
      "cell_type": "code",
      "metadata": {
        "id": "OA7TcLkgTprV"
      },
      "source": [
        "cv(skf, X_train, y_train)"
      ],
      "execution_count": null,
      "outputs": []
    },
    {
      "cell_type": "markdown",
      "metadata": {
        "id": "S1_aWeLoqzU5"
      },
      "source": [
        "* test dataのGlucoseの欠測箇所も、同じ値で埋める \n",
        "\n"
      ]
    },
    {
      "cell_type": "code",
      "metadata": {
        "id": "ro2e96DcVopO"
      },
      "source": [
        "X_test = X_test.replace({'Glucose':0}, glucose_median)"
      ],
      "execution_count": null,
      "outputs": []
    },
    {
      "cell_type": "markdown",
      "metadata": {
        "id": "lu5aGqJZ03Ox"
      },
      "source": [
        "ここまでの交差検証でのベスト・スコアは0.7759。"
      ]
    },
    {
      "cell_type": "markdown",
      "metadata": {
        "id": "q1uy1M8BZTlk"
      },
      "source": [
        "### G) DiabetesPedigreeFunctionへの対応"
      ]
    },
    {
      "cell_type": "code",
      "metadata": {
        "id": "SsfKM8V0ZMpw"
      },
      "source": [
        "sns.histplot(X_train['DiabetesPedigreeFunction'], bins=50);"
      ],
      "execution_count": null,
      "outputs": []
    },
    {
      "cell_type": "code",
      "metadata": {
        "id": "wIctdU3NxZcp"
      },
      "source": [
        "from scipy.stats import boxcox\n",
        "\n",
        "X_train_boxcox = X_train.copy()\n",
        "X_train_boxcox.DiabetesPedigreeFunction, maxlog = boxcox(X_train.DiabetesPedigreeFunction)\n",
        "sns.histplot(X_train_boxcox['DiabetesPedigreeFunction'], bins=50);"
      ],
      "execution_count": null,
      "outputs": []
    },
    {
      "cell_type": "code",
      "metadata": {
        "id": "LQwJgs_TyA0g"
      },
      "source": [
        "cv(skf, X_train_boxcox, y_train)"
      ],
      "execution_count": null,
      "outputs": []
    },
    {
      "cell_type": "markdown",
      "metadata": {
        "id": "Ltp3l8OpyF-o"
      },
      "source": [
        "悪くなったので不採用。"
      ]
    },
    {
      "cell_type": "markdown",
      "metadata": {
        "id": "B7hDDVnNUATp"
      },
      "source": [
        "### H) SkinThicknessとInsulin: 線形回帰で欠測値を埋める"
      ]
    },
    {
      "cell_type": "code",
      "metadata": {
        "id": "kvegwCbRuBIS"
      },
      "source": [
        "sns.histplot(X_train['SkinThickness'], bins=50);"
      ],
      "execution_count": null,
      "outputs": []
    },
    {
      "cell_type": "code",
      "metadata": {
        "id": "L5ffQqerbRMc"
      },
      "source": [
        "sns.histplot(X_train['Insulin'], bins=50);"
      ],
      "execution_count": null,
      "outputs": []
    },
    {
      "cell_type": "code",
      "metadata": {
        "id": "AE7hom2eVWnR"
      },
      "source": [
        "(X_train['SkinThickness'] == 0).sum()"
      ],
      "execution_count": null,
      "outputs": []
    },
    {
      "cell_type": "code",
      "metadata": {
        "id": "7l5ISkugWXmc"
      },
      "source": [
        "(X_train['Insulin'] == 0).sum()"
      ],
      "execution_count": null,
      "outputs": []
    },
    {
      "cell_type": "code",
      "metadata": {
        "id": "Mg87bdcVYCT1"
      },
      "source": [
        "((X_train['SkinThickness'] == 0) & (X_train['Insulin'] == 0)).sum()"
      ],
      "execution_count": null,
      "outputs": []
    },
    {
      "cell_type": "code",
      "metadata": {
        "id": "6Y8vGCUDWeLA"
      },
      "source": [
        "for i in X_train.index[X_train['SkinThickness'] == 0]:\n",
        "  if not i in X_train.index[X_train['Insulin'] == 0]:\n",
        "    print('No')"
      ],
      "execution_count": null,
      "outputs": []
    },
    {
      "cell_type": "markdown",
      "metadata": {
        "id": "ojghc1WgXQ4h"
      },
      "source": [
        "SkinThicknessが0の個体は、必ずInsulinも0になっているらしい。\n",
        "\n",
        "ただし、これは訓練データだけでこうなっているだけかもしれないので、この事実に依存して何かをすることはしない。"
      ]
    },
    {
      "cell_type": "code",
      "metadata": {
        "id": "o1zdunK4YtZM"
      },
      "source": [
        "# LassoでSkinThicknessとInsulinの欠測部分を埋める\n",
        "\n",
        "from sklearn.linear_model import Lasso\n",
        "\n",
        "columns = X_train.columns[(X_train.columns != 'SkinThickness') & (X_train.columns != 'Insulin')]\n",
        "\n",
        "for alpha in np.power(10.0, np.arange(12) - 5):\n",
        "\n",
        "  X_train_copy = X_train.copy()\n",
        "\n",
        "  indices = (X_train['SkinThickness'] != 0)\n",
        "  reg = Lasso(alpha=alpha)\n",
        "  reg.fit(X_train.loc[indices, columns], X_train.loc[indices, 'SkinThickness'])\n",
        "  X_train_copy.loc[~ indices, 'SkinThickness'] = reg.predict(X_train.loc[~ indices, columns])\n",
        "\n",
        "  indices = (X_train['Insulin'] != 0)\n",
        "  reg = Lasso(alpha=alpha)\n",
        "  reg.fit(X_train.loc[indices, columns], X_train.loc[indices, 'Insulin'])\n",
        "  X_train_copy.loc[~ indices, 'Insulin'] = reg.predict(X_train.loc[~ indices, columns])\n",
        "\n",
        "  print('-'*8, alpha, '-'*16)\n",
        "  cv(skf, X_train_copy, y_train)"
      ],
      "execution_count": null,
      "outputs": []
    },
    {
      "cell_type": "code",
      "metadata": {
        "id": "Du0pMC1kYyHQ"
      },
      "source": [
        "# Ridge回帰でSkinThicknessとInsulinの欠測部分を埋める\n",
        "\n",
        "from sklearn.linear_model import Ridge\n",
        "\n",
        "columns = X_train.columns[(X_train.columns != 'SkinThickness') & (X_train.columns != 'Insulin')]\n",
        "\n",
        "for alpha in np.power(10.0, np.arange(12) - 5):\n",
        "\n",
        "  X_train_copy = X_train.copy()\n",
        "\n",
        "  indices = (X_train['SkinThickness'] != 0)\n",
        "  reg = Ridge(alpha=alpha)\n",
        "  reg.fit(X_train.loc[indices, columns], X_train.loc[indices, 'SkinThickness'])\n",
        "  X_train_copy.loc[~ indices, 'SkinThickness'] = reg.predict(X_train.loc[~ indices, columns])\n",
        "\n",
        "  indices = (X_train['Insulin'] != 0)\n",
        "  reg = Ridge(alpha=alpha)\n",
        "  reg.fit(X_train.loc[indices, columns], X_train.loc[indices, 'Insulin'])\n",
        "  X_train_copy.loc[~ indices, 'Insulin'] = reg.predict(X_train.loc[~ indices, columns])\n",
        "\n",
        "  print('-'*8, alpha, '-'*16)\n",
        "  cv(skf, X_train_copy, y_train)"
      ],
      "execution_count": null,
      "outputs": []
    },
    {
      "cell_type": "markdown",
      "metadata": {
        "id": "v2JBRGrbb8-B"
      },
      "source": [
        "悪くなったので不採用。"
      ]
    },
    {
      "cell_type": "markdown",
      "metadata": {
        "id": "CPEvLUJtQRB3"
      },
      "source": [
        "### I) SkinThicknessとInsulin: それぞれk-近傍法で値を埋める"
      ]
    },
    {
      "cell_type": "code",
      "metadata": {
        "id": "ROSCKIUQOzMk"
      },
      "source": [
        "# k-NNでSkinThicknessの欠測部分を埋める\n",
        "\n",
        "from sklearn.neighbors import KNeighborsClassifier\n",
        "\n",
        "columns = X_train.columns[(X_train.columns != 'SkinThickness') & (X_train.columns != 'Insulin')]\n",
        "\n",
        "for k in range(1, 21):\n",
        "\n",
        "  X_train_copy = X_train.copy()\n",
        "\n",
        "  indices = (X_train['SkinThickness'] != 0)\n",
        "  knn = KNeighborsClassifier(n_neighbors=k)\n",
        "  knn.fit(X_train.loc[indices, columns], X_train.loc[indices, 'SkinThickness'])\n",
        "  X_train_copy.loc[~ indices, 'SkinThickness'] = knn.predict(X_train.loc[~ indices, columns])\n",
        "\n",
        "  indices = (X_train['Insulin'] != 0)\n",
        "  knn = KNeighborsClassifier(n_neighbors=k)\n",
        "  knn.fit(X_train.loc[indices, columns], X_train.loc[indices, 'Insulin'])\n",
        "  X_train_copy.loc[~ indices, 'Insulin'] = knn.predict(X_train.loc[~ indices, columns])\n",
        "\n",
        "  print('-'*8, k, '-'*16)\n",
        "  cv(skf, X_train_copy, y_train)"
      ],
      "execution_count": null,
      "outputs": []
    },
    {
      "cell_type": "code",
      "metadata": {
        "id": "Fw0j_0JcUfwZ"
      },
      "source": [
        "# k=10を採用\n",
        "\n",
        "k = 10\n",
        "\n",
        "X_train_copy = X_train.copy()\n",
        "\n",
        "indices = (X_train['SkinThickness'] != 0)\n",
        "knn = KNeighborsClassifier(n_neighbors=k)\n",
        "knn.fit(X_train.loc[indices, columns], X_train.loc[indices, 'SkinThickness'])\n",
        "X_train_copy.loc[~ indices, 'SkinThickness'] = knn.predict(X_train.loc[~ indices, columns])\n",
        "\n",
        "indices = (X_train['Insulin'] != 0)\n",
        "knn = KNeighborsClassifier(n_neighbors=k)\n",
        "knn.fit(X_train.loc[indices, columns], X_train.loc[indices, 'Insulin'])\n",
        "X_train_copy.loc[~ indices, 'Insulin'] = knn.predict(X_train.loc[~ indices, columns])"
      ],
      "execution_count": null,
      "outputs": []
    },
    {
      "cell_type": "code",
      "metadata": {
        "id": "dgJeArAIPYyp"
      },
      "source": [
        "sns.histplot(X_train_copy['SkinThickness'], bins=50);"
      ],
      "execution_count": null,
      "outputs": []
    },
    {
      "cell_type": "code",
      "metadata": {
        "id": "Rr3x6UWQPcoQ"
      },
      "source": [
        "sns.histplot(X_train_copy['Insulin'], bins=50);"
      ],
      "execution_count": null,
      "outputs": []
    },
    {
      "cell_type": "code",
      "metadata": {
        "id": "TVRl23QOPe0d"
      },
      "source": [
        "cv(skf, X_train_copy, y_train)"
      ],
      "execution_count": null,
      "outputs": []
    },
    {
      "cell_type": "code",
      "metadata": {
        "id": "EAx2BtYAR3R7"
      },
      "source": [
        "# k=10を使って、テストデータの欠測箇所も埋めておく\n",
        "\n",
        "X_test_copy = X_test.copy()\n",
        "\n",
        "k = 10\n",
        "\n",
        "indices = (X_train['SkinThickness'] != 0)\n",
        "test_missing = (X_test['SkinThickness'] == 0)\n",
        "knn = KNeighborsClassifier(n_neighbors=k)\n",
        "knn.fit(X_train.loc[indices, columns], X_train.loc[indices, 'SkinThickness'])\n",
        "X_test_copy.loc[test_missing, 'SkinThickness'] = knn.predict(X_test.loc[test_missing, columns])\n",
        "\n",
        "indices = (X_train['Insulin'] != 0)\n",
        "test_missing = (X_test['Insulin'] == 0)\n",
        "knn = KNeighborsClassifier(n_neighbors=k)\n",
        "knn.fit(X_train.loc[indices, columns], X_train.loc[indices, 'Insulin'])\n",
        "X_test_copy.loc[test_missing, 'Insulin'] = knn.predict(X_test.loc[test_missing, columns])"
      ],
      "execution_count": null,
      "outputs": []
    },
    {
      "cell_type": "code",
      "metadata": {
        "id": "ru5oYxqwWL16"
      },
      "source": [
        "print((X_test_copy.SkinThickness == 0).sum())\n",
        "print((X_test_copy.Insulin == 0).sum())"
      ],
      "execution_count": null,
      "outputs": []
    },
    {
      "cell_type": "markdown",
      "metadata": {
        "id": "hRBbY9W-QAoF"
      },
      "source": [
        "* 分類性能が良くなったので、埋めた後のデータセットを採用する。"
      ]
    },
    {
      "cell_type": "code",
      "metadata": {
        "id": "LkvtCrYXWarC"
      },
      "source": [
        "X_train = X_train_copy\n",
        "X_test = X_test_copy"
      ],
      "execution_count": null,
      "outputs": []
    },
    {
      "cell_type": "code",
      "metadata": {
        "id": "C29KswDay_OV"
      },
      "source": [
        "X_train.describe()"
      ],
      "execution_count": null,
      "outputs": []
    },
    {
      "cell_type": "markdown",
      "metadata": {
        "id": "iLd-Rg8RlUtj"
      },
      "source": [
        "### J) スケーラーを使ってみる。"
      ]
    },
    {
      "cell_type": "code",
      "metadata": {
        "id": "fnNi8kaXrDQP"
      },
      "source": [
        "from sklearn.preprocessing import MinMaxScaler\n",
        "\n",
        "scaler = MinMaxScaler()\n",
        "scaler.fit(X_train)\n",
        "X_train_temp = X_train.copy()\n",
        "X_train_temp[X_train.columns] = scaler.transform(X_train)\n",
        "cv(skf, X_train_temp, y_train)"
      ],
      "execution_count": null,
      "outputs": []
    },
    {
      "cell_type": "code",
      "metadata": {
        "id": "CxAI7gORc5td"
      },
      "source": [
        "from sklearn.preprocessing import StandardScaler\n",
        "\n",
        "scaler = StandardScaler()\n",
        "scaler.fit(X_train)\n",
        "X_train_temp = X_train.copy()\n",
        "X_train_temp[X_train.columns] = scaler.transform(X_train)\n",
        "cv(skf, X_train_temp, y_train)"
      ],
      "execution_count": null,
      "outputs": []
    },
    {
      "cell_type": "markdown",
      "metadata": {
        "id": "l3W1GQ_34qhY"
      },
      "source": [
        "いずれも不採用。"
      ]
    },
    {
      "cell_type": "markdown",
      "metadata": {
        "id": "0zFe16YjmHPf"
      },
      "source": [
        "### K) 正則化パラメータCをチューニングする。"
      ]
    },
    {
      "cell_type": "code",
      "metadata": {
        "id": "UhjQGKFaJiGH"
      },
      "source": [
        "for C in np.power(10.0, np.arange(13) - 5):\n",
        "  cv(skf, X_train, y_train, {'C':C})"
      ],
      "execution_count": null,
      "outputs": []
    },
    {
      "cell_type": "code",
      "metadata": {
        "id": "QyhlQ1jy1Zf7"
      },
      "source": [
        "for C in np.power(10.0, np.arange(13) - 5):\n",
        "  cv(skf, X_train, y_train, {'C':C, 'penalty':'l1', 'solver':'liblinear', 'max_iter':5000})"
      ],
      "execution_count": null,
      "outputs": []
    },
    {
      "cell_type": "markdown",
      "metadata": {
        "id": "JRev-b-58NlQ"
      },
      "source": [
        "デフォルトの設定を採用。"
      ]
    },
    {
      "cell_type": "code",
      "metadata": {
        "id": "_b3KW2dXRU9t"
      },
      "source": [
        "cv(skf, X_train, y_train)"
      ],
      "execution_count": null,
      "outputs": []
    },
    {
      "cell_type": "markdown",
      "metadata": {
        "id": "p6-8593ARZSw"
      },
      "source": [
        "### L) 分類のthresholdをチューニングしてみる"
      ]
    },
    {
      "cell_type": "code",
      "metadata": {
        "id": "XDHYptFtRZvG"
      },
      "source": [
        "def cv_threshold(skf, X_train, y_train, threshold=0.5, args={}):\n",
        "  scores = list()\n",
        "  for train_index, valid_index in skf.split(X_train, y_train):\n",
        "\n",
        "    # ロジスティック回帰の学習\n",
        "    if not 'max_iter' in args:\n",
        "      logreg = LogisticRegression(**args, max_iter=1000, random_state=123)\n",
        "    else:\n",
        "      logreg = LogisticRegression(**args, random_state=123)\n",
        "    logreg.fit(X_train.iloc[train_index], y_train.iloc[train_index])\n",
        "\n",
        "    # 検証データでの評価（thresholdの値を利用している）\n",
        "    X_valid = X_train.iloc[valid_index]\n",
        "    y_valid = y_train.iloc[valid_index]\n",
        "    score = ((logreg.predict_proba(X_valid) >= threshold)[:,1] * 1 == y_valid).sum() / len(y_valid)\n",
        "    scores.append(score)\n",
        "\n",
        "  print(f'{threshold:.2f} ; mean score: {np.array(scores).mean():.4f}', end=' ')\n",
        "  if args:\n",
        "    print('{', ' '.join([f'\"{str(k):s}\":{str(args[k]):s}' for k in args]), '}')\n",
        "  else:\n",
        "    print()"
      ],
      "execution_count": null,
      "outputs": []
    },
    {
      "cell_type": "code",
      "metadata": {
        "id": "Y0quLQLoSTt3"
      },
      "source": [
        "for threshold in np.arange(4, 7, 0.5) * 0.1:\n",
        "  cv_threshold(skf, X_train_original, y_train, threshold=threshold)"
      ],
      "execution_count": null,
      "outputs": []
    },
    {
      "cell_type": "code",
      "metadata": {
        "id": "iTsK5zCGTYXU"
      },
      "source": [
        "for threshold in np.arange(4, 7, 0.5) * 0.1:\n",
        "  cv_threshold(skf, X_train, y_train, threshold=threshold)"
      ],
      "execution_count": null,
      "outputs": []
    },
    {
      "cell_type": "markdown",
      "metadata": {
        "id": "72sKbveFZqAV"
      },
      "source": [
        "* 以上をまとめると、モデルはデフォルトのままでよく、データの欠損に対処しただけ。"
      ]
    },
    {
      "cell_type": "markdown",
      "metadata": {
        "id": "UNavOCyN2hZr"
      },
      "source": [
        "### M) テストデータで最終評価"
      ]
    },
    {
      "cell_type": "code",
      "metadata": {
        "id": "H-c0X3gCJwsq"
      },
      "source": [
        "logreg = LogisticRegression(max_iter=1000, random_state=123)\n",
        "logreg.fit(X_train, y_train)\n",
        "print('test score: {:.4f}'.format(logreg.score(X_test, y_test)))"
      ],
      "execution_count": null,
      "outputs": []
    },
    {
      "cell_type": "markdown",
      "metadata": {
        "id": "31G87jcjZ9nU"
      },
      "source": [
        "* 分類精度だけを見ると、欠損に対処しないほうがよかった、という結論になるが・・・"
      ]
    },
    {
      "cell_type": "code",
      "metadata": {
        "id": "KayAjOl5x_On"
      },
      "source": [
        "y_test_pred_proba = logreg.predict_proba(X_test)\n",
        "print('ROC AUC: {:.4f}'.format(roc_auc_score(y_test, y_test_pred_proba[:,1])))"
      ],
      "execution_count": null,
      "outputs": []
    },
    {
      "cell_type": "markdown",
      "metadata": {
        "id": "LNJE3Pe3aEtq"
      },
      "source": [
        "* AUCは改善されている。"
      ]
    },
    {
      "cell_type": "code",
      "metadata": {
        "id": "WopC3aJ02PVO"
      },
      "source": [
        "y_score = logreg_baseline.decision_function(X_test_original) # ベースラインには元のテストデータを使う\n",
        "fpr, tpr, _ = roc_curve(y_test, y_score)\n",
        "roc_auc = auc(fpr, tpr)\n",
        "\n",
        "y_score_ours = logreg.decision_function(X_test)\n",
        "fpr_ours, tpr_ours, _ = roc_curve(y_test, y_score_ours)\n",
        "roc_auc_ours = auc(fpr_ours, tpr_ours)\n",
        "\n",
        "plt.plot(fpr, tpr, color='darkorange', label=f'ROC curve (area = {roc_auc:.4f})')\n",
        "plt.plot(fpr_ours, tpr_ours, color='firebrick', label=f'ROC curve (area = {roc_auc_ours:.4f})')\n",
        "plt.plot([0, 1], [0, 1], color='navy', linestyle='--')\n",
        "plt.xlim([0.0, 1.0])\n",
        "plt.ylim([0.0, 1.05])\n",
        "plt.xlabel('False Positive Rate')\n",
        "plt.ylabel('True Positive Rate')\n",
        "plt.title('Receiver operating characteristic example')\n",
        "plt.legend(loc=\"lower right\");"
      ],
      "execution_count": null,
      "outputs": []
    },
    {
      "cell_type": "markdown",
      "source": [
        "# 課題\n",
        "* 上の結果を改良できるかどうか、試行錯誤してみてください。"
      ],
      "metadata": {
        "id": "sflvsPYqkflX"
      }
    },
    {
      "cell_type": "code",
      "source": [
        ""
      ],
      "metadata": {
        "id": "zWoqZKFlkjsA"
      },
      "execution_count": null,
      "outputs": []
    }
  ]
}
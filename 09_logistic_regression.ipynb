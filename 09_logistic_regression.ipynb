{
  "nbformat": 4,
  "nbformat_minor": 0,
  "metadata": {
    "colab": {
      "name": "09_logistic_regression.ipynb",
      "provenance": [],
      "collapsed_sections": [],
      "mount_file_id": "1UzJefMTp9kO00UjexZM37kCLESMzKGtV",
      "authorship_tag": "ABX9TyOvxyRf/O+iFxO308Iyq1tp",
      "include_colab_link": true
    },
    "kernelspec": {
      "name": "python3",
      "display_name": "Python 3"
    }
  },
  "cells": [
    {
      "cell_type": "markdown",
      "metadata": {
        "id": "view-in-github",
        "colab_type": "text"
      },
      "source": [
        "<a href=\"https://colab.research.google.com/github/tomonari-masada/course2022-sml/blob/main/09_logistic_regression.ipynb\" target=\"_parent\"><img src=\"https://colab.research.google.com/assets/colab-badge.svg\" alt=\"Open In Colab\"/></a>"
      ]
    },
    {
      "cell_type": "markdown",
      "metadata": {
        "id": "l4aDsUHDiXoN"
      },
      "source": [
        "# 糖尿病をロジスティック回帰で予測してみる\n",
        "\n",
        "* 有名なPima Indians Diabetes Databaseを使う（下リンク先）\n",
        "\n",
        " * https://www.kaggle.com/uciml/pima-indians-diabetes-database"
      ]
    },
    {
      "cell_type": "markdown",
      "metadata": {
        "id": "1DAJX8yeO0fc"
      },
      "source": [
        "* ロジスティック回帰、そして、分類の評価については、下記も参照\n",
        " * https://developers.google.com/machine-learning/crash-course/logistic-regression/\n",
        " * https://developers.google.com/machine-learning/crash-course/classification/"
      ]
    },
    {
      "cell_type": "code",
      "metadata": {
        "id": "Pd20MbLdBfV5"
      },
      "source": [
        "import numpy as np\n",
        "import pandas as pd\n",
        "import matplotlib.pyplot as plt\n",
        "import seaborn as sns\n",
        "from sklearn.model_selection import train_test_split\n",
        "from sklearn.impute import SimpleImputer\n",
        "from sklearn.linear_model import LogisticRegression, LinearRegression\n",
        "from sklearn.neighbors import KNeighborsRegressor\n",
        "from sklearn.preprocessing import MinMaxScaler, StandardScaler\n",
        "from sklearn.metrics import roc_auc_score, auc, roc_curve\n",
        "from sklearn.model_selection import StratifiedKFold\n",
        "\n",
        "%config InlineBackend.figure_format = 'retina'"
      ],
      "execution_count": 1,
      "outputs": []
    },
    {
      "cell_type": "markdown",
      "metadata": {
        "id": "eQ-egZTnizme"
      },
      "source": [
        "## 1) データの読み込み"
      ]
    },
    {
      "cell_type": "code",
      "metadata": {
        "id": "h6Qv7hnyCEjh"
      },
      "source": [
        "diabetes = pd.read_csv('/content/drive/MyDrive/data/diabetes.csv')"
      ],
      "execution_count": 2,
      "outputs": []
    },
    {
      "cell_type": "code",
      "metadata": {
        "id": "lGFzAgWbCvXT",
        "colab": {
          "base_uri": "https://localhost:8080/",
          "height": 206
        },
        "outputId": "e79399a9-9f7a-48ad-e51e-cd92156171f8"
      },
      "source": [
        "diabetes.head()"
      ],
      "execution_count": 3,
      "outputs": [
        {
          "output_type": "execute_result",
          "data": {
            "text/plain": [
              "   Pregnancies  Glucose  BloodPressure  SkinThickness  Insulin   BMI  \\\n",
              "0            6      148             72             35        0  33.6   \n",
              "1            1       85             66             29        0  26.6   \n",
              "2            8      183             64              0        0  23.3   \n",
              "3            1       89             66             23       94  28.1   \n",
              "4            0      137             40             35      168  43.1   \n",
              "\n",
              "   DiabetesPedigreeFunction  Age  Outcome  \n",
              "0                     0.627   50        1  \n",
              "1                     0.351   31        0  \n",
              "2                     0.672   32        1  \n",
              "3                     0.167   21        0  \n",
              "4                     2.288   33        1  "
            ],
            "text/html": [
              "\n",
              "  <div id=\"df-dcd57dc1-925c-47e9-aa35-aff4000759c8\">\n",
              "    <div class=\"colab-df-container\">\n",
              "      <div>\n",
              "<style scoped>\n",
              "    .dataframe tbody tr th:only-of-type {\n",
              "        vertical-align: middle;\n",
              "    }\n",
              "\n",
              "    .dataframe tbody tr th {\n",
              "        vertical-align: top;\n",
              "    }\n",
              "\n",
              "    .dataframe thead th {\n",
              "        text-align: right;\n",
              "    }\n",
              "</style>\n",
              "<table border=\"1\" class=\"dataframe\">\n",
              "  <thead>\n",
              "    <tr style=\"text-align: right;\">\n",
              "      <th></th>\n",
              "      <th>Pregnancies</th>\n",
              "      <th>Glucose</th>\n",
              "      <th>BloodPressure</th>\n",
              "      <th>SkinThickness</th>\n",
              "      <th>Insulin</th>\n",
              "      <th>BMI</th>\n",
              "      <th>DiabetesPedigreeFunction</th>\n",
              "      <th>Age</th>\n",
              "      <th>Outcome</th>\n",
              "    </tr>\n",
              "  </thead>\n",
              "  <tbody>\n",
              "    <tr>\n",
              "      <th>0</th>\n",
              "      <td>6</td>\n",
              "      <td>148</td>\n",
              "      <td>72</td>\n",
              "      <td>35</td>\n",
              "      <td>0</td>\n",
              "      <td>33.6</td>\n",
              "      <td>0.627</td>\n",
              "      <td>50</td>\n",
              "      <td>1</td>\n",
              "    </tr>\n",
              "    <tr>\n",
              "      <th>1</th>\n",
              "      <td>1</td>\n",
              "      <td>85</td>\n",
              "      <td>66</td>\n",
              "      <td>29</td>\n",
              "      <td>0</td>\n",
              "      <td>26.6</td>\n",
              "      <td>0.351</td>\n",
              "      <td>31</td>\n",
              "      <td>0</td>\n",
              "    </tr>\n",
              "    <tr>\n",
              "      <th>2</th>\n",
              "      <td>8</td>\n",
              "      <td>183</td>\n",
              "      <td>64</td>\n",
              "      <td>0</td>\n",
              "      <td>0</td>\n",
              "      <td>23.3</td>\n",
              "      <td>0.672</td>\n",
              "      <td>32</td>\n",
              "      <td>1</td>\n",
              "    </tr>\n",
              "    <tr>\n",
              "      <th>3</th>\n",
              "      <td>1</td>\n",
              "      <td>89</td>\n",
              "      <td>66</td>\n",
              "      <td>23</td>\n",
              "      <td>94</td>\n",
              "      <td>28.1</td>\n",
              "      <td>0.167</td>\n",
              "      <td>21</td>\n",
              "      <td>0</td>\n",
              "    </tr>\n",
              "    <tr>\n",
              "      <th>4</th>\n",
              "      <td>0</td>\n",
              "      <td>137</td>\n",
              "      <td>40</td>\n",
              "      <td>35</td>\n",
              "      <td>168</td>\n",
              "      <td>43.1</td>\n",
              "      <td>2.288</td>\n",
              "      <td>33</td>\n",
              "      <td>1</td>\n",
              "    </tr>\n",
              "  </tbody>\n",
              "</table>\n",
              "</div>\n",
              "      <button class=\"colab-df-convert\" onclick=\"convertToInteractive('df-dcd57dc1-925c-47e9-aa35-aff4000759c8')\"\n",
              "              title=\"Convert this dataframe to an interactive table.\"\n",
              "              style=\"display:none;\">\n",
              "        \n",
              "  <svg xmlns=\"http://www.w3.org/2000/svg\" height=\"24px\"viewBox=\"0 0 24 24\"\n",
              "       width=\"24px\">\n",
              "    <path d=\"M0 0h24v24H0V0z\" fill=\"none\"/>\n",
              "    <path d=\"M18.56 5.44l.94 2.06.94-2.06 2.06-.94-2.06-.94-.94-2.06-.94 2.06-2.06.94zm-11 1L8.5 8.5l.94-2.06 2.06-.94-2.06-.94L8.5 2.5l-.94 2.06-2.06.94zm10 10l.94 2.06.94-2.06 2.06-.94-2.06-.94-.94-2.06-.94 2.06-2.06.94z\"/><path d=\"M17.41 7.96l-1.37-1.37c-.4-.4-.92-.59-1.43-.59-.52 0-1.04.2-1.43.59L10.3 9.45l-7.72 7.72c-.78.78-.78 2.05 0 2.83L4 21.41c.39.39.9.59 1.41.59.51 0 1.02-.2 1.41-.59l7.78-7.78 2.81-2.81c.8-.78.8-2.07 0-2.86zM5.41 20L4 18.59l7.72-7.72 1.47 1.35L5.41 20z\"/>\n",
              "  </svg>\n",
              "      </button>\n",
              "      \n",
              "  <style>\n",
              "    .colab-df-container {\n",
              "      display:flex;\n",
              "      flex-wrap:wrap;\n",
              "      gap: 12px;\n",
              "    }\n",
              "\n",
              "    .colab-df-convert {\n",
              "      background-color: #E8F0FE;\n",
              "      border: none;\n",
              "      border-radius: 50%;\n",
              "      cursor: pointer;\n",
              "      display: none;\n",
              "      fill: #1967D2;\n",
              "      height: 32px;\n",
              "      padding: 0 0 0 0;\n",
              "      width: 32px;\n",
              "    }\n",
              "\n",
              "    .colab-df-convert:hover {\n",
              "      background-color: #E2EBFA;\n",
              "      box-shadow: 0px 1px 2px rgba(60, 64, 67, 0.3), 0px 1px 3px 1px rgba(60, 64, 67, 0.15);\n",
              "      fill: #174EA6;\n",
              "    }\n",
              "\n",
              "    [theme=dark] .colab-df-convert {\n",
              "      background-color: #3B4455;\n",
              "      fill: #D2E3FC;\n",
              "    }\n",
              "\n",
              "    [theme=dark] .colab-df-convert:hover {\n",
              "      background-color: #434B5C;\n",
              "      box-shadow: 0px 1px 3px 1px rgba(0, 0, 0, 0.15);\n",
              "      filter: drop-shadow(0px 1px 2px rgba(0, 0, 0, 0.3));\n",
              "      fill: #FFFFFF;\n",
              "    }\n",
              "  </style>\n",
              "\n",
              "      <script>\n",
              "        const buttonEl =\n",
              "          document.querySelector('#df-dcd57dc1-925c-47e9-aa35-aff4000759c8 button.colab-df-convert');\n",
              "        buttonEl.style.display =\n",
              "          google.colab.kernel.accessAllowed ? 'block' : 'none';\n",
              "\n",
              "        async function convertToInteractive(key) {\n",
              "          const element = document.querySelector('#df-dcd57dc1-925c-47e9-aa35-aff4000759c8');\n",
              "          const dataTable =\n",
              "            await google.colab.kernel.invokeFunction('convertToInteractive',\n",
              "                                                     [key], {});\n",
              "          if (!dataTable) return;\n",
              "\n",
              "          const docLinkHtml = 'Like what you see? Visit the ' +\n",
              "            '<a target=\"_blank\" href=https://colab.research.google.com/notebooks/data_table.ipynb>data table notebook</a>'\n",
              "            + ' to learn more about interactive tables.';\n",
              "          element.innerHTML = '';\n",
              "          dataTable['output_type'] = 'display_data';\n",
              "          await google.colab.output.renderOutput(dataTable, element);\n",
              "          const docLink = document.createElement('div');\n",
              "          docLink.innerHTML = docLinkHtml;\n",
              "          element.appendChild(docLink);\n",
              "        }\n",
              "      </script>\n",
              "    </div>\n",
              "  </div>\n",
              "  "
            ]
          },
          "metadata": {},
          "execution_count": 3
        }
      ]
    },
    {
      "cell_type": "code",
      "metadata": {
        "id": "HgqyPRukDv80"
      },
      "source": [
        "y = diabetes['Outcome']\n",
        "X = diabetes.drop('Outcome', axis=1)"
      ],
      "execution_count": 4,
      "outputs": []
    },
    {
      "cell_type": "markdown",
      "metadata": {
        "id": "E2uJY56bi3Ry"
      },
      "source": [
        "## 2) 訓練データ、テストデータに分割"
      ]
    },
    {
      "cell_type": "markdown",
      "metadata": {
        "id": "J6TDDlZenD3_"
      },
      "source": [
        "**この分割は変えないようにしてください。**"
      ]
    },
    {
      "cell_type": "code",
      "metadata": {
        "id": "bLsoxn02B8CR"
      },
      "source": [
        "X_train, X_test, y_train, y_test = train_test_split(X, y, test_size=0.15, random_state=123)"
      ],
      "execution_count": 5,
      "outputs": []
    },
    {
      "cell_type": "code",
      "source": [
        "X_train.describe()"
      ],
      "metadata": {
        "colab": {
          "base_uri": "https://localhost:8080/",
          "height": 300
        },
        "id": "9H67WqpemRIM",
        "outputId": "d375a2c8-a6ef-419c-fa0f-9c2dd73d4868"
      },
      "execution_count": 6,
      "outputs": [
        {
          "output_type": "execute_result",
          "data": {
            "text/plain": [
              "       Pregnancies     Glucose  BloodPressure  SkinThickness     Insulin  \\\n",
              "count   652.000000  652.000000     652.000000     652.000000  652.000000   \n",
              "mean      3.796012  120.973926      69.171779      20.835890   79.903374   \n",
              "std       3.325152   31.248977      19.109787      16.099415  112.705173   \n",
              "min       0.000000    0.000000       0.000000       0.000000    0.000000   \n",
              "25%       1.000000  100.000000      64.000000       0.000000    0.000000   \n",
              "50%       3.000000  117.000000      72.000000      23.000000   37.500000   \n",
              "75%       6.000000  141.000000      80.000000      33.000000  127.250000   \n",
              "max      17.000000  199.000000     122.000000      99.000000  744.000000   \n",
              "\n",
              "              BMI  DiabetesPedigreeFunction         Age  \n",
              "count  652.000000                652.000000  652.000000  \n",
              "mean    32.117638                  0.460816   33.291411  \n",
              "std      7.687094                  0.321493   11.801392  \n",
              "min      0.000000                  0.078000   21.000000  \n",
              "25%     27.300000                  0.238000   24.000000  \n",
              "50%     32.300000                  0.364500   29.000000  \n",
              "75%     36.600000                  0.605000   41.000000  \n",
              "max     59.400000                  2.420000   81.000000  "
            ],
            "text/html": [
              "\n",
              "  <div id=\"df-0efcb595-b405-4718-abd1-1ae77fb65bf9\">\n",
              "    <div class=\"colab-df-container\">\n",
              "      <div>\n",
              "<style scoped>\n",
              "    .dataframe tbody tr th:only-of-type {\n",
              "        vertical-align: middle;\n",
              "    }\n",
              "\n",
              "    .dataframe tbody tr th {\n",
              "        vertical-align: top;\n",
              "    }\n",
              "\n",
              "    .dataframe thead th {\n",
              "        text-align: right;\n",
              "    }\n",
              "</style>\n",
              "<table border=\"1\" class=\"dataframe\">\n",
              "  <thead>\n",
              "    <tr style=\"text-align: right;\">\n",
              "      <th></th>\n",
              "      <th>Pregnancies</th>\n",
              "      <th>Glucose</th>\n",
              "      <th>BloodPressure</th>\n",
              "      <th>SkinThickness</th>\n",
              "      <th>Insulin</th>\n",
              "      <th>BMI</th>\n",
              "      <th>DiabetesPedigreeFunction</th>\n",
              "      <th>Age</th>\n",
              "    </tr>\n",
              "  </thead>\n",
              "  <tbody>\n",
              "    <tr>\n",
              "      <th>count</th>\n",
              "      <td>652.000000</td>\n",
              "      <td>652.000000</td>\n",
              "      <td>652.000000</td>\n",
              "      <td>652.000000</td>\n",
              "      <td>652.000000</td>\n",
              "      <td>652.000000</td>\n",
              "      <td>652.000000</td>\n",
              "      <td>652.000000</td>\n",
              "    </tr>\n",
              "    <tr>\n",
              "      <th>mean</th>\n",
              "      <td>3.796012</td>\n",
              "      <td>120.973926</td>\n",
              "      <td>69.171779</td>\n",
              "      <td>20.835890</td>\n",
              "      <td>79.903374</td>\n",
              "      <td>32.117638</td>\n",
              "      <td>0.460816</td>\n",
              "      <td>33.291411</td>\n",
              "    </tr>\n",
              "    <tr>\n",
              "      <th>std</th>\n",
              "      <td>3.325152</td>\n",
              "      <td>31.248977</td>\n",
              "      <td>19.109787</td>\n",
              "      <td>16.099415</td>\n",
              "      <td>112.705173</td>\n",
              "      <td>7.687094</td>\n",
              "      <td>0.321493</td>\n",
              "      <td>11.801392</td>\n",
              "    </tr>\n",
              "    <tr>\n",
              "      <th>min</th>\n",
              "      <td>0.000000</td>\n",
              "      <td>0.000000</td>\n",
              "      <td>0.000000</td>\n",
              "      <td>0.000000</td>\n",
              "      <td>0.000000</td>\n",
              "      <td>0.000000</td>\n",
              "      <td>0.078000</td>\n",
              "      <td>21.000000</td>\n",
              "    </tr>\n",
              "    <tr>\n",
              "      <th>25%</th>\n",
              "      <td>1.000000</td>\n",
              "      <td>100.000000</td>\n",
              "      <td>64.000000</td>\n",
              "      <td>0.000000</td>\n",
              "      <td>0.000000</td>\n",
              "      <td>27.300000</td>\n",
              "      <td>0.238000</td>\n",
              "      <td>24.000000</td>\n",
              "    </tr>\n",
              "    <tr>\n",
              "      <th>50%</th>\n",
              "      <td>3.000000</td>\n",
              "      <td>117.000000</td>\n",
              "      <td>72.000000</td>\n",
              "      <td>23.000000</td>\n",
              "      <td>37.500000</td>\n",
              "      <td>32.300000</td>\n",
              "      <td>0.364500</td>\n",
              "      <td>29.000000</td>\n",
              "    </tr>\n",
              "    <tr>\n",
              "      <th>75%</th>\n",
              "      <td>6.000000</td>\n",
              "      <td>141.000000</td>\n",
              "      <td>80.000000</td>\n",
              "      <td>33.000000</td>\n",
              "      <td>127.250000</td>\n",
              "      <td>36.600000</td>\n",
              "      <td>0.605000</td>\n",
              "      <td>41.000000</td>\n",
              "    </tr>\n",
              "    <tr>\n",
              "      <th>max</th>\n",
              "      <td>17.000000</td>\n",
              "      <td>199.000000</td>\n",
              "      <td>122.000000</td>\n",
              "      <td>99.000000</td>\n",
              "      <td>744.000000</td>\n",
              "      <td>59.400000</td>\n",
              "      <td>2.420000</td>\n",
              "      <td>81.000000</td>\n",
              "    </tr>\n",
              "  </tbody>\n",
              "</table>\n",
              "</div>\n",
              "      <button class=\"colab-df-convert\" onclick=\"convertToInteractive('df-0efcb595-b405-4718-abd1-1ae77fb65bf9')\"\n",
              "              title=\"Convert this dataframe to an interactive table.\"\n",
              "              style=\"display:none;\">\n",
              "        \n",
              "  <svg xmlns=\"http://www.w3.org/2000/svg\" height=\"24px\"viewBox=\"0 0 24 24\"\n",
              "       width=\"24px\">\n",
              "    <path d=\"M0 0h24v24H0V0z\" fill=\"none\"/>\n",
              "    <path d=\"M18.56 5.44l.94 2.06.94-2.06 2.06-.94-2.06-.94-.94-2.06-.94 2.06-2.06.94zm-11 1L8.5 8.5l.94-2.06 2.06-.94-2.06-.94L8.5 2.5l-.94 2.06-2.06.94zm10 10l.94 2.06.94-2.06 2.06-.94-2.06-.94-.94-2.06-.94 2.06-2.06.94z\"/><path d=\"M17.41 7.96l-1.37-1.37c-.4-.4-.92-.59-1.43-.59-.52 0-1.04.2-1.43.59L10.3 9.45l-7.72 7.72c-.78.78-.78 2.05 0 2.83L4 21.41c.39.39.9.59 1.41.59.51 0 1.02-.2 1.41-.59l7.78-7.78 2.81-2.81c.8-.78.8-2.07 0-2.86zM5.41 20L4 18.59l7.72-7.72 1.47 1.35L5.41 20z\"/>\n",
              "  </svg>\n",
              "      </button>\n",
              "      \n",
              "  <style>\n",
              "    .colab-df-container {\n",
              "      display:flex;\n",
              "      flex-wrap:wrap;\n",
              "      gap: 12px;\n",
              "    }\n",
              "\n",
              "    .colab-df-convert {\n",
              "      background-color: #E8F0FE;\n",
              "      border: none;\n",
              "      border-radius: 50%;\n",
              "      cursor: pointer;\n",
              "      display: none;\n",
              "      fill: #1967D2;\n",
              "      height: 32px;\n",
              "      padding: 0 0 0 0;\n",
              "      width: 32px;\n",
              "    }\n",
              "\n",
              "    .colab-df-convert:hover {\n",
              "      background-color: #E2EBFA;\n",
              "      box-shadow: 0px 1px 2px rgba(60, 64, 67, 0.3), 0px 1px 3px 1px rgba(60, 64, 67, 0.15);\n",
              "      fill: #174EA6;\n",
              "    }\n",
              "\n",
              "    [theme=dark] .colab-df-convert {\n",
              "      background-color: #3B4455;\n",
              "      fill: #D2E3FC;\n",
              "    }\n",
              "\n",
              "    [theme=dark] .colab-df-convert:hover {\n",
              "      background-color: #434B5C;\n",
              "      box-shadow: 0px 1px 3px 1px rgba(0, 0, 0, 0.15);\n",
              "      filter: drop-shadow(0px 1px 2px rgba(0, 0, 0, 0.3));\n",
              "      fill: #FFFFFF;\n",
              "    }\n",
              "  </style>\n",
              "\n",
              "      <script>\n",
              "        const buttonEl =\n",
              "          document.querySelector('#df-0efcb595-b405-4718-abd1-1ae77fb65bf9 button.colab-df-convert');\n",
              "        buttonEl.style.display =\n",
              "          google.colab.kernel.accessAllowed ? 'block' : 'none';\n",
              "\n",
              "        async function convertToInteractive(key) {\n",
              "          const element = document.querySelector('#df-0efcb595-b405-4718-abd1-1ae77fb65bf9');\n",
              "          const dataTable =\n",
              "            await google.colab.kernel.invokeFunction('convertToInteractive',\n",
              "                                                     [key], {});\n",
              "          if (!dataTable) return;\n",
              "\n",
              "          const docLinkHtml = 'Like what you see? Visit the ' +\n",
              "            '<a target=\"_blank\" href=https://colab.research.google.com/notebooks/data_table.ipynb>data table notebook</a>'\n",
              "            + ' to learn more about interactive tables.';\n",
              "          element.innerHTML = '';\n",
              "          dataTable['output_type'] = 'display_data';\n",
              "          await google.colab.output.renderOutput(dataTable, element);\n",
              "          const docLink = document.createElement('div');\n",
              "          docLink.innerHTML = docLinkHtml;\n",
              "          element.appendChild(docLink);\n",
              "        }\n",
              "      </script>\n",
              "    </div>\n",
              "  </div>\n",
              "  "
            ]
          },
          "metadata": {},
          "execution_count": 6
        }
      ]
    },
    {
      "cell_type": "code",
      "source": [
        "X_train.hist(bins=50, figsize=(12,12));"
      ],
      "metadata": {
        "colab": {
          "base_uri": "https://localhost:8080/",
          "height": 715
        },
        "id": "bYWsGyglleZg",
        "outputId": "b19b011d-4915-43cf-8384-31efb1960eb5"
      },
      "execution_count": 7,
      "outputs": [
        {
          "output_type": "display_data",
          "data": {
            "text/plain": [
              "<Figure size 864x864 with 9 Axes>"
            ],
            "image/png": "[encoded data removed]"
          },
          "metadata": {
            "image/png": {
              "width": 715,
              "height": 698
            },
            "needs_background": "light"
          }
        }
      ]
    },
    {
      "cell_type": "markdown",
      "metadata": {
        "id": "M_NNgy-Fi839"
      },
      "source": [
        "* 以下、訓練データ部分を使って、交差検証によって良いモデルを探す。\n",
        "\n",
        "---\n",
        "\n"
      ]
    },
    {
      "cell_type": "markdown",
      "metadata": {
        "id": "2BtszzrDdRrj"
      },
      "source": [
        "## 3) デフォルト設定のロジスティック回帰をベースラインとみなしてテストデータでの評価値を得る\n",
        "* 交差検証も何もせずに、単にテストセット以外の部分で、モデルの学習を実行する。"
      ]
    },
    {
      "cell_type": "code",
      "metadata": {
        "id": "ac5I0ruIoSCY",
        "colab": {
          "base_uri": "https://localhost:8080/"
        },
        "outputId": "3a2a3963-e619-4a49-d0f8-d06b6c9ff963"
      },
      "source": [
        "baseline = LogisticRegression(random_state=123)\n",
        "baseline.fit(X_train, y_train)"
      ],
      "execution_count": 8,
      "outputs": [
        {
          "output_type": "stream",
          "name": "stderr",
          "text": [
            "/usr/local/lib/python3.7/dist-packages/sklearn/linear_model/_logistic.py:818: ConvergenceWarning: lbfgs failed to converge (status=1):\n",
            "STOP: TOTAL NO. of ITERATIONS REACHED LIMIT.\n",
            "\n",
            "Increase the number of iterations (max_iter) or scale the data as shown in:\n",
            "    https://scikit-learn.org/stable/modules/preprocessing.html\n",
            "Please also refer to the documentation for alternative solver options:\n",
            "    https://scikit-learn.org/stable/modules/linear_model.html#logistic-regression\n",
            "  extra_warning_msg=_LOGISTIC_SOLVER_CONVERGENCE_MSG,\n"
          ]
        },
        {
          "output_type": "execute_result",
          "data": {
            "text/plain": [
              "LogisticRegression(random_state=123)"
            ]
          },
          "metadata": {},
          "execution_count": 8
        }
      ]
    },
    {
      "cell_type": "markdown",
      "metadata": {
        "id": "oNGfn66joV2t"
      },
      "source": [
        "* `max_iter`が小さいとの警告が出ているので、増やして学習しなおし。"
      ]
    },
    {
      "cell_type": "code",
      "metadata": {
        "id": "ZF1Yyo3NocBr",
        "colab": {
          "base_uri": "https://localhost:8080/"
        },
        "outputId": "601ae6d9-bc42-4301-8827-b94ce4c563c4"
      },
      "source": [
        "baseline = LogisticRegression(max_iter=1000, random_state=123)\n",
        "baseline.fit(X_train, y_train)"
      ],
      "execution_count": 9,
      "outputs": [
        {
          "output_type": "execute_result",
          "data": {
            "text/plain": [
              "LogisticRegression(max_iter=1000, random_state=123)"
            ]
          },
          "metadata": {},
          "execution_count": 9
        }
      ]
    },
    {
      "cell_type": "markdown",
      "metadata": {
        "id": "zfHzwsAxoeiL"
      },
      "source": [
        "* 大丈夫だったので、テストデータでの最終評価値を得る。"
      ]
    },
    {
      "cell_type": "code",
      "metadata": {
        "id": "uEss5itsdJAU",
        "colab": {
          "base_uri": "https://localhost:8080/"
        },
        "outputId": "8efc93fa-c3d5-42bf-d65b-00090ec4b635"
      },
      "source": [
        "print(f'test score: {baseline.score(X_test, y_test):.4f}')"
      ],
      "execution_count": 10,
      "outputs": [
        {
          "output_type": "stream",
          "name": "stdout",
          "text": [
            "test score: 0.8103\n"
          ]
        }
      ]
    },
    {
      "cell_type": "markdown",
      "metadata": {
        "id": "g93ND4YLrRUe"
      },
      "source": [
        "* Area under ROC curveも計算してみる。\n"
      ]
    },
    {
      "cell_type": "code",
      "metadata": {
        "id": "5ufvnV0qrQtI",
        "colab": {
          "base_uri": "https://localhost:8080/"
        },
        "outputId": "4d714d8d-f029-4cfb-f062-c7f6f1d58f0a"
      },
      "source": [
        "y_test_pred_proba = baseline.predict_proba(X_test)\n",
        "print(f'ROC AUC: {roc_auc_score(y_test, y_test_pred_proba[:,1]):.4f}')"
      ],
      "execution_count": 11,
      "outputs": [
        {
          "output_type": "stream",
          "name": "stdout",
          "text": [
            "ROC AUC: 0.8617\n"
          ]
        }
      ]
    },
    {
      "cell_type": "markdown",
      "metadata": {
        "id": "U_r9hAHttZZq"
      },
      "source": [
        "* ROC curveを描いてみる。\n",
        " * https://scikit-learn.org/stable/auto_examples/model_selection/plot_roc.html#sphx-glr-auto-examples-model-selection-plot-roc-py"
      ]
    },
    {
      "cell_type": "code",
      "metadata": {
        "id": "R8y1Fvlyslb9"
      },
      "source": [
        "def draw_roc_curve(model, X_test, y_test):\n",
        "  y_score = model.decision_function(X_test)\n",
        "\n",
        "  fpr, tpr, _ = roc_curve(y_test, y_score)\n",
        "  roc_auc = auc(fpr, tpr)\n",
        "\n",
        "  plt.plot(fpr, tpr, color='darkorange', label=f'ROC curve (area = {roc_auc:.4f})')\n",
        "  plt.plot([0, 1], [0, 1], color='navy', linestyle='--')\n",
        "  plt.xlim([0.0, 1.0])\n",
        "  plt.ylim([0.0, 1.0])\n",
        "  plt.xlabel('False Positive Rate')\n",
        "  plt.ylabel('True Positive Rate')\n",
        "  plt.title('Receiver operating characteristic example')\n",
        "  plt.legend(loc=\"lower right\")"
      ],
      "execution_count": 12,
      "outputs": []
    },
    {
      "cell_type": "code",
      "source": [
        "draw_roc_curve(baseline, X_test, y_test);"
      ],
      "metadata": {
        "colab": {
          "base_uri": "https://localhost:8080/",
          "height": 294
        },
        "id": "zUgqt7h7m_XW",
        "outputId": "e851dc7f-61db-441b-f7a9-081fd1442d82"
      },
      "execution_count": 13,
      "outputs": [
        {
          "output_type": "display_data",
          "data": {
            "text/plain": [
              "<Figure size 432x288 with 1 Axes>"
            ],
            "image/png": "[encoded data removed]"
          },
          "metadata": {
            "image/png": {
              "width": 393,
              "height": 277
            },
            "needs_background": "light"
          }
        }
      ]
    },
    {
      "cell_type": "markdown",
      "metadata": {
        "id": "sMirEcP0dbaG"
      },
      "source": [
        "* これをベースラインとみなす。\n",
        "* これより良い結果を得るべく、試行錯誤する。\n",
        "* 試行錯誤した結果として辿り着いたモデルで、最後に一回、テストデータ上での評価を行う。"
      ]
    },
    {
      "cell_type": "markdown",
      "metadata": {
        "id": "NFLJ24NNxi0r"
      },
      "source": [
        "* ロジスティック回帰についてscoreがどのように計算されているかの確認\n",
        " * thresholdが0.5である必要は、実は、ない。\n",
        " * thresholdを、交差検証で決定してもよい。"
      ]
    },
    {
      "cell_type": "markdown",
      "source": [
        "* `threshold = 0.5`とすれば、次のセルで求まる値と、上で求めたtest scoreは、一致する。"
      ],
      "metadata": {
        "id": "L2dZq3u3gz36"
      }
    },
    {
      "cell_type": "code",
      "metadata": {
        "id": "H7Yjaca4xK7C",
        "colab": {
          "base_uri": "https://localhost:8080/"
        },
        "outputId": "9c7b62c5-6097-4ff5-afd2-cee3e638e214"
      },
      "source": [
        "threshold = 0.5\n",
        "n_correct_answers = ((baseline.predict_proba(X_test)[:,1] >= threshold) * 1 == y_test).sum()\n",
        "print(f'test score at a threshold {threshold}: {n_correct_answers / len(y_test):.4f}')"
      ],
      "execution_count": 14,
      "outputs": [
        {
          "output_type": "stream",
          "name": "stdout",
          "text": [
            "test score at a threshold 0.5: 0.8103\n"
          ]
        }
      ]
    },
    {
      "cell_type": "markdown",
      "metadata": {
        "id": "VtaI7G6IpDgG"
      },
      "source": [
        "## 4) 交差検証しつつ試行錯誤する"
      ]
    },
    {
      "cell_type": "markdown",
      "source": [
        "* 元々の訓練データのコピーを作っておく。"
      ],
      "metadata": {
        "id": "WPxt9gkh6Ria"
      }
    },
    {
      "cell_type": "code",
      "source": [
        "X_train_original = X_train.copy()\n",
        "X_test_original = X_test.copy()"
      ],
      "metadata": {
        "id": "0ldn3E-o6JVx"
      },
      "execution_count": 15,
      "outputs": []
    },
    {
      "cell_type": "markdown",
      "metadata": {
        "id": "Vx322yZLSkTV"
      },
      "source": [
        "### A) 交差検証の準備"
      ]
    },
    {
      "cell_type": "code",
      "metadata": {
        "id": "2s3rL94SDW3u"
      },
      "source": [
        "skf = StratifiedKFold(n_splits=10, shuffle=True, random_state=123)"
      ],
      "execution_count": 16,
      "outputs": []
    },
    {
      "cell_type": "markdown",
      "metadata": {
        "id": "WK1tqw_yQ0JM"
      },
      "source": [
        "### B) 交差検証による評価のための関数を定義しておく"
      ]
    },
    {
      "cell_type": "code",
      "metadata": {
        "id": "8BdbwVSqDEkH"
      },
      "source": [
        "def cv(skf, X_train, y_train, preprocess=None, **kwargs):\n",
        "\n",
        "  # キーワード引数として、モデルの設定を指定できるようにしてある。\n",
        "  for kwarg in kwargs:\n",
        "    print(f'{kwarg} = {kwargs[kwarg]}')\n",
        "\n",
        "  # 交差検証のループ\n",
        "  scores = list()\n",
        "  for train_index, valid_index in skf.split(X_train, y_train):\n",
        "\n",
        "    cv_X_train = X_train.iloc[train_index]\n",
        "    cv_y_train = y_train.iloc[train_index]\n",
        "    cv_X_valid = X_train.iloc[valid_index]\n",
        "    cv_y_valid = y_train.iloc[valid_index]\n",
        "\n",
        "    # データの前処理\n",
        "    #   その都度、関数preprocessを定義してから、この関数cvを呼び出す。\n",
        "    if preprocess:\n",
        "      cv_X_train, cv_X_valid = preprocess(cv_X_train, cv_X_valid)\n",
        "\n",
        "    # ロジスティック回帰の学習\n",
        "    if not 'max_iter' in kwargs:\n",
        "      model = LogisticRegression(**kwargs, max_iter=1000)\n",
        "    else:\n",
        "      model = LogisticRegression(**kwargs)\n",
        "    model.fit(cv_X_train, cv_y_train)\n",
        "\n",
        "    # 検証データでの評価\n",
        "    score = model.score(cv_X_valid, cv_y_valid)\n",
        "    print(f'score: {score:.4f}')\n",
        "    scores.append(score)\n",
        "\n",
        "  mean_score = np.array(scores).mean()\n",
        "  print(f'mean score: {mean_score:.4f}')\n",
        "  return mean_score"
      ],
      "execution_count": 17,
      "outputs": []
    },
    {
      "cell_type": "markdown",
      "metadata": {
        "id": "DyJOj1VjRCyb"
      },
      "source": [
        "### C) デフォルト設定のロジスティック回帰の性能を評価する\n",
        "* 交差検証で性能評価するとどうなるかを確認している。"
      ]
    },
    {
      "cell_type": "code",
      "metadata": {
        "id": "Ybu2HlflEcEH",
        "colab": {
          "base_uri": "https://localhost:8080/"
        },
        "outputId": "f334c076-18fd-4179-cff2-3a6ddea37362"
      },
      "source": [
        "cv(skf, X_train, y_train);"
      ],
      "execution_count": 18,
      "outputs": [
        {
          "output_type": "stream",
          "name": "stdout",
          "text": [
            "score: 0.8182\n",
            "score: 0.7879\n",
            "score: 0.7385\n",
            "score: 0.7692\n",
            "score: 0.7692\n",
            "score: 0.7538\n",
            "score: 0.7538\n",
            "score: 0.7846\n",
            "score: 0.7231\n",
            "score: 0.7385\n",
            "mean score: 0.7637\n"
          ]
        }
      ]
    },
    {
      "cell_type": "markdown",
      "metadata": {
        "id": "QzTgn1PzSYl6"
      },
      "source": [
        "### D) BloodPressureへの対応"
      ]
    },
    {
      "cell_type": "markdown",
      "metadata": {
        "id": "4uGFAoBFp9Q9"
      },
      "source": [
        "* まず、属性「BloodPressure」について、ヒストグラムを描いてよくよく眺める。\n"
      ]
    },
    {
      "cell_type": "code",
      "metadata": {
        "id": "5cv90evwFhjJ",
        "colab": {
          "base_uri": "https://localhost:8080/",
          "height": 278
        },
        "outputId": "01709e3f-ad79-4a5b-af7c-ad4e92e1deda"
      },
      "source": [
        "sns.histplot(X_train['BloodPressure']);"
      ],
      "execution_count": 19,
      "outputs": [
        {
          "output_type": "display_data",
          "data": {
            "text/plain": [
              "<Figure size 432x288 with 1 Axes>"
            ],
            "image/png": "[encoded data removed]"
          },
          "metadata": {
            "image/png": {
              "width": 382,
              "height": 261
            },
            "needs_background": "light"
          }
        }
      ]
    },
    {
      "cell_type": "markdown",
      "metadata": {
        "id": "RPEAoO9CqB9m"
      },
      "source": [
        "* 0という値がけっこうあるらしい。実は、これは欠測値。そこで、中央値で埋めることにする。"
      ]
    },
    {
      "cell_type": "code",
      "metadata": {
        "id": "ITc026D4JskX",
        "colab": {
          "base_uri": "https://localhost:8080/",
          "height": 296
        },
        "outputId": "a80a8ca0-6dff-4596-e5e9-23971da29ba4"
      },
      "source": [
        "X_train_copy = X_train.copy()\n",
        "\n",
        "feature = 'BloodPressure'\n",
        "imp = SimpleImputer(missing_values=0, strategy='median')\n",
        "X_train_copy[feature] = imp.fit_transform(X_train[[feature]])\n",
        "print(f'imputation fill value for {feature}: {imp.statistics_[0]}')\n",
        "\n",
        "sns.histplot(X_train_copy[feature]);"
      ],
      "execution_count": 20,
      "outputs": [
        {
          "output_type": "stream",
          "name": "stdout",
          "text": [
            "imputation fill value for BloodPressure: 72.0\n"
          ]
        },
        {
          "output_type": "display_data",
          "data": {
            "text/plain": [
              "<Figure size 432x288 with 1 Axes>"
            ],
            "image/png": "[encoded data removed]"
          },
          "metadata": {
            "image/png": {
              "width": 388,
              "height": 261
            },
            "needs_background": "light"
          }
        }
      ]
    },
    {
      "cell_type": "markdown",
      "metadata": {
        "id": "C0G06qlLOPaH"
      },
      "source": [
        "* 交差検証で評価する。"
      ]
    },
    {
      "cell_type": "code",
      "metadata": {
        "id": "oOk6Lf19EuXj"
      },
      "source": [
        "def preprocess(X_train, X_valid):\n",
        "  imp = SimpleImputer(missing_values=0, strategy='median')\n",
        "\n",
        "  X_train_copy = X_train.copy()\n",
        "  X_valid_copy = X_valid.copy()\n",
        "\n",
        "  feature = 'BloodPressure'\n",
        "  X_train_copy[feature] = imp.fit_transform(X_train[[feature]])\n",
        "  X_valid_copy[feature] = imp.transform(X_valid[[feature]])\n",
        "  print(f'imputation fill value for {feature}: {imp.statistics_[0]}')\n",
        "\n",
        "  return X_train_copy, X_valid_copy"
      ],
      "execution_count": 21,
      "outputs": []
    },
    {
      "cell_type": "code",
      "source": [
        "cv(skf, X_train, y_train, preprocess=preprocess);"
      ],
      "metadata": {
        "colab": {
          "base_uri": "https://localhost:8080/"
        },
        "id": "cuNtB5DCuRXZ",
        "outputId": "cc814323-0f10-4b42-ddfd-031fe2180000"
      },
      "execution_count": 22,
      "outputs": [
        {
          "output_type": "stream",
          "name": "stdout",
          "text": [
            "imputation fill value for BloodPressure: 72.0\n",
            "score: 0.8182\n",
            "imputation fill value for BloodPressure: 72.0\n",
            "score: 0.8182\n",
            "imputation fill value for BloodPressure: 72.0\n",
            "score: 0.7538\n",
            "imputation fill value for BloodPressure: 72.0\n",
            "score: 0.7538\n",
            "imputation fill value for BloodPressure: 72.0\n",
            "score: 0.7692\n",
            "imputation fill value for BloodPressure: 72.0\n",
            "score: 0.7846\n",
            "imputation fill value for BloodPressure: 72.0\n",
            "score: 0.7538\n",
            "imputation fill value for BloodPressure: 72.0\n",
            "score: 0.7846\n",
            "imputation fill value for BloodPressure: 72.0\n",
            "score: 0.7077\n",
            "imputation fill value for BloodPressure: 72.0\n",
            "score: 0.7385\n",
            "mean score: 0.7683\n"
          ]
        }
      ]
    },
    {
      "cell_type": "markdown",
      "source": [
        "* 下のようにテストセット以外全体で欠損値を埋めても、結果は変わらない。"
      ],
      "metadata": {
        "id": "7DB65j6sOpCk"
      }
    },
    {
      "cell_type": "code",
      "source": [
        "X_train_copy = X_train.copy()\n",
        "\n",
        "feature = 'BloodPressure'\n",
        "imp = SimpleImputer(missing_values=0, strategy='median')\n",
        "X_train_copy[feature] = imp.fit_transform(X_train[[feature]])\n",
        "print(f'imputation fill value for {feature}: {imp.statistics_[0]}')\n",
        "\n",
        "cv(skf, X_train_copy, y_train);"
      ],
      "metadata": {
        "colab": {
          "base_uri": "https://localhost:8080/"
        },
        "id": "6i327Ah6MAfS",
        "outputId": "3118e51c-07b2-4322-eb35-aab38667fa2d"
      },
      "execution_count": 23,
      "outputs": [
        {
          "output_type": "stream",
          "name": "stdout",
          "text": [
            "imputation fill value for BloodPressure: 72.0\n",
            "score: 0.8182\n",
            "score: 0.8182\n",
            "score: 0.7538\n",
            "score: 0.7538\n",
            "score: 0.7692\n",
            "score: 0.7846\n",
            "score: 0.7538\n",
            "score: 0.7846\n",
            "score: 0.7077\n",
            "score: 0.7385\n",
            "mean score: 0.7683\n"
          ]
        }
      ]
    },
    {
      "cell_type": "markdown",
      "metadata": {
        "id": "ngfAvLFOS23T"
      },
      "source": [
        "### E) BMIへの対応"
      ]
    },
    {
      "cell_type": "markdown",
      "metadata": {
        "id": "GpRXbEREqcrN"
      },
      "source": [
        "* 次に、training dataの「BMI」のヒストグラムを描いてみる\n"
      ]
    },
    {
      "cell_type": "code",
      "metadata": {
        "id": "wC-DcEmwMQDn",
        "colab": {
          "base_uri": "https://localhost:8080/",
          "height": 278
        },
        "outputId": "9396d73f-fa14-4c54-cf0e-abbe876250e9"
      },
      "source": [
        "sns.histplot(X_train['BMI']);"
      ],
      "execution_count": 24,
      "outputs": [
        {
          "output_type": "display_data",
          "data": {
            "text/plain": [
              "<Figure size 432x288 with 1 Axes>"
            ],
            "image/png": "[encoded data removed]"
          },
          "metadata": {
            "image/png": {
              "width": 382,
              "height": 261
            },
            "needs_background": "light"
          }
        }
      ]
    },
    {
      "cell_type": "markdown",
      "metadata": {
        "id": "xAxC2NJcqfGb"
      },
      "source": [
        "* やはり欠測値の部分が0とされているようなので、先ほどと同様、中央値で埋める。\n"
      ]
    },
    {
      "cell_type": "code",
      "metadata": {
        "id": "LgKJFIc9pz7n",
        "colab": {
          "base_uri": "https://localhost:8080/",
          "height": 296
        },
        "outputId": "1992dd24-837a-4b3c-98e7-19d7f777b3a1"
      },
      "source": [
        "X_train_copy = X_train.copy()\n",
        "\n",
        "feature = 'BMI'\n",
        "imp = SimpleImputer(missing_values=0, strategy='median')\n",
        "X_train_copy[feature] = imp.fit_transform(X_train[[feature]])\n",
        "print(f'imputation fill value for {feature}: {imp.statistics_[0]}')\n",
        "\n",
        "sns.histplot(X_train_copy[feature]);"
      ],
      "execution_count": 25,
      "outputs": [
        {
          "output_type": "stream",
          "name": "stdout",
          "text": [
            "imputation fill value for BMI: 32.4\n"
          ]
        },
        {
          "output_type": "display_data",
          "data": {
            "text/plain": [
              "<Figure size 432x288 with 1 Axes>"
            ],
            "image/png": "[encoded data removed]"
          },
          "metadata": {
            "image/png": {
              "width": 382,
              "height": 261
            },
            "needs_background": "light"
          }
        }
      ]
    },
    {
      "cell_type": "markdown",
      "source": [
        "* 交差検証で評価する。"
      ],
      "metadata": {
        "id": "-FZBol9gs-gr"
      }
    },
    {
      "cell_type": "code",
      "metadata": {
        "id": "nLkcjQooEz0f"
      },
      "source": [
        "def preprocess(X_train, X_valid):\n",
        "  imp = SimpleImputer(missing_values=0, strategy='median')\n",
        "\n",
        "  X_train_copy = X_train.copy()\n",
        "  X_valid_copy = X_valid.copy()\n",
        "\n",
        "  for feature in ['BloodPressure', 'BMI']:\n",
        "    X_train_copy[feature] = imp.fit_transform(X_train[[feature]])\n",
        "    X_valid_copy[feature] = imp.transform(X_valid[[feature]])\n",
        "    print(f'imputation fill value for {feature}: {imp.statistics_[0]}')\n",
        "\n",
        "  return X_train_copy, X_valid_copy"
      ],
      "execution_count": 26,
      "outputs": []
    },
    {
      "cell_type": "code",
      "source": [
        "cv(skf, X_train, y_train, preprocess=preprocess);"
      ],
      "metadata": {
        "colab": {
          "base_uri": "https://localhost:8080/"
        },
        "id": "nF69ebaPuhby",
        "outputId": "713a415b-8083-42cf-fc7d-81d61c096a43"
      },
      "execution_count": 27,
      "outputs": [
        {
          "output_type": "stream",
          "name": "stdout",
          "text": [
            "imputation fill value for BloodPressure: 72.0\n",
            "imputation fill value for BMI: 32.4\n",
            "score: 0.8333\n",
            "imputation fill value for BloodPressure: 72.0\n",
            "imputation fill value for BMI: 32.4\n",
            "score: 0.8030\n",
            "imputation fill value for BloodPressure: 72.0\n",
            "imputation fill value for BMI: 32.4\n",
            "score: 0.7846\n",
            "imputation fill value for BloodPressure: 72.0\n",
            "imputation fill value for BMI: 32.1\n",
            "score: 0.7538\n",
            "imputation fill value for BloodPressure: 72.0\n",
            "imputation fill value for BMI: 32.45\n",
            "score: 0.7692\n",
            "imputation fill value for BloodPressure: 72.0\n",
            "imputation fill value for BMI: 32.4\n",
            "score: 0.7846\n",
            "imputation fill value for BloodPressure: 72.0\n",
            "imputation fill value for BMI: 32.4\n",
            "score: 0.7538\n",
            "imputation fill value for BloodPressure: 72.0\n",
            "imputation fill value for BMI: 32.3\n",
            "score: 0.7846\n",
            "imputation fill value for BloodPressure: 72.0\n",
            "imputation fill value for BMI: 32.349999999999994\n",
            "score: 0.7077\n",
            "imputation fill value for BloodPressure: 72.0\n",
            "imputation fill value for BMI: 32.4\n",
            "score: 0.7385\n",
            "mean score: 0.7713\n"
          ]
        }
      ]
    },
    {
      "cell_type": "markdown",
      "source": [
        "* 下のようにテストセット以外全体で欠損値を埋めても、結果は変わらない。"
      ],
      "metadata": {
        "id": "MQ6Tkqj3PMqn"
      }
    },
    {
      "cell_type": "code",
      "source": [
        "X_train_copy = X_train.copy()\n",
        "\n",
        "for feature in ['BloodPressure', 'BMI']:\n",
        "  imp = SimpleImputer(missing_values=0, strategy='median')\n",
        "  X_train_copy[feature] = imp.fit_transform(X_train[[feature]])\n",
        "  print(f'imputation fill value for {feature}: {imp.statistics_[0]}')\n",
        "\n",
        "cv(skf, X_train_copy, y_train);"
      ],
      "metadata": {
        "colab": {
          "base_uri": "https://localhost:8080/"
        },
        "id": "9tZd4vvZM1vA",
        "outputId": "78918030-6309-4a5d-fefb-450b51607bd5"
      },
      "execution_count": 28,
      "outputs": [
        {
          "output_type": "stream",
          "name": "stdout",
          "text": [
            "imputation fill value for BloodPressure: 72.0\n",
            "imputation fill value for BMI: 32.4\n",
            "score: 0.8333\n",
            "score: 0.8030\n",
            "score: 0.7846\n",
            "score: 0.7538\n",
            "score: 0.7692\n",
            "score: 0.7846\n",
            "score: 0.7538\n",
            "score: 0.7846\n",
            "score: 0.7077\n",
            "score: 0.7385\n",
            "mean score: 0.7713\n"
          ]
        }
      ]
    },
    {
      "cell_type": "markdown",
      "metadata": {
        "id": "FRsaNT2iTWXr"
      },
      "source": [
        "### F) Glucoseへの対応"
      ]
    },
    {
      "cell_type": "code",
      "metadata": {
        "id": "XYkYQJSLTKo2",
        "colab": {
          "base_uri": "https://localhost:8080/",
          "height": 278
        },
        "outputId": "2c53d91c-7046-40d1-8dd9-04218ad5140f"
      },
      "source": [
        "sns.histplot(X_train['Glucose']);"
      ],
      "execution_count": 29,
      "outputs": [
        {
          "output_type": "display_data",
          "data": {
            "text/plain": [
              "<Figure size 432x288 with 1 Axes>"
            ],
            "image/png": "[encoded data removed]"
          },
          "metadata": {
            "image/png": {
              "width": 382,
              "height": 261
            },
            "needs_background": "light"
          }
        }
      ]
    },
    {
      "cell_type": "code",
      "metadata": {
        "id": "NYbXN-p9TZ52",
        "colab": {
          "base_uri": "https://localhost:8080/",
          "height": 296
        },
        "outputId": "7e3afe33-4859-40d4-9433-b7f585416c0d"
      },
      "source": [
        "X_train_copy = X_train.copy()\n",
        "\n",
        "feature = 'Glucose'\n",
        "imp = SimpleImputer(missing_values=0, strategy='median')\n",
        "X_train_copy[feature] = imp.fit_transform(X_train[[feature]])\n",
        "print(f'imputation fill value for {feature}: {imp.statistics_[0]}')\n",
        "\n",
        "sns.histplot(X_train_copy[feature]);"
      ],
      "execution_count": 30,
      "outputs": [
        {
          "output_type": "stream",
          "name": "stdout",
          "text": [
            "imputation fill value for Glucose: 117.0\n"
          ]
        },
        {
          "output_type": "display_data",
          "data": {
            "text/plain": [
              "<Figure size 432x288 with 1 Axes>"
            ],
            "image/png": "[encoded data removed]"
          },
          "metadata": {
            "image/png": {
              "width": 382,
              "height": 261
            },
            "needs_background": "light"
          }
        }
      ]
    },
    {
      "cell_type": "code",
      "metadata": {
        "id": "OA7TcLkgTprV"
      },
      "source": [
        "def preprocess(X_train, X_valid):\n",
        "  imp = SimpleImputer(missing_values=0, strategy='median')\n",
        "\n",
        "  X_train_copy = X_train.copy()\n",
        "  X_valid_copy = X_valid.copy()\n",
        "\n",
        "  for feature in ['BloodPressure', 'BMI', 'Glucose']:\n",
        "    X_train_copy[feature] = imp.fit_transform(X_train[[feature]])\n",
        "    X_valid_copy[feature] = imp.transform(X_valid[[feature]])\n",
        "    print(f'imputation fill value for {feature}: {imp.statistics_[0]}')\n",
        "\n",
        "  return X_train_copy, X_valid_copy"
      ],
      "execution_count": 31,
      "outputs": []
    },
    {
      "cell_type": "code",
      "source": [
        "cv(skf, X_train, y_train, preprocess=preprocess);"
      ],
      "metadata": {
        "colab": {
          "base_uri": "https://localhost:8080/"
        },
        "id": "ZmbAIB_pu2P-",
        "outputId": "e44d1a4c-7584-4f21-8356-5fee8a457872"
      },
      "execution_count": 32,
      "outputs": [
        {
          "output_type": "stream",
          "name": "stdout",
          "text": [
            "imputation fill value for BloodPressure: 72.0\n",
            "imputation fill value for BMI: 32.4\n",
            "imputation fill value for Glucose: 117.0\n",
            "score: 0.8333\n",
            "imputation fill value for BloodPressure: 72.0\n",
            "imputation fill value for BMI: 32.4\n",
            "imputation fill value for Glucose: 117.0\n",
            "score: 0.8182\n",
            "imputation fill value for BloodPressure: 72.0\n",
            "imputation fill value for BMI: 32.4\n",
            "imputation fill value for Glucose: 117.5\n",
            "score: 0.7846\n",
            "imputation fill value for BloodPressure: 72.0\n",
            "imputation fill value for BMI: 32.1\n",
            "imputation fill value for Glucose: 117.0\n",
            "score: 0.7538\n",
            "imputation fill value for BloodPressure: 72.0\n",
            "imputation fill value for BMI: 32.45\n",
            "imputation fill value for Glucose: 117.5\n",
            "score: 0.7846\n",
            "imputation fill value for BloodPressure: 72.0\n",
            "imputation fill value for BMI: 32.4\n",
            "imputation fill value for Glucose: 116.0\n",
            "score: 0.7846\n",
            "imputation fill value for BloodPressure: 72.0\n",
            "imputation fill value for BMI: 32.4\n",
            "imputation fill value for Glucose: 117.0\n",
            "score: 0.7538\n",
            "imputation fill value for BloodPressure: 72.0\n",
            "imputation fill value for BMI: 32.3\n",
            "imputation fill value for Glucose: 117.0\n",
            "score: 0.8000\n",
            "imputation fill value for BloodPressure: 72.0\n",
            "imputation fill value for BMI: 32.349999999999994\n",
            "imputation fill value for Glucose: 117.0\n",
            "score: 0.7077\n",
            "imputation fill value for BloodPressure: 72.0\n",
            "imputation fill value for BMI: 32.4\n",
            "imputation fill value for Glucose: 117.0\n",
            "score: 0.7385\n",
            "mean score: 0.7759\n"
          ]
        }
      ]
    },
    {
      "cell_type": "markdown",
      "source": [
        "* 下のようにテストセット以外全体で欠損値を埋めても、結果は変わらない。"
      ],
      "metadata": {
        "id": "CJL8NFJWPmjk"
      }
    },
    {
      "cell_type": "code",
      "source": [
        "X_train_copy = X_train.copy()\n",
        "\n",
        "for feature in ['BloodPressure', 'BMI', 'Glucose']:\n",
        "  imp = SimpleImputer(missing_values=0, strategy='median')\n",
        "  X_train_copy[feature] = imp.fit_transform(X_train[[feature]])\n",
        "  print(f'imputation fill value for {feature}: {imp.statistics_[0]}')\n",
        "\n",
        "cv(skf, X_train_copy, y_train);"
      ],
      "metadata": {
        "colab": {
          "base_uri": "https://localhost:8080/"
        },
        "id": "5DZ3gk68PRbN",
        "outputId": "39e556e4-5f06-47a3-ee04-9895180554f0"
      },
      "execution_count": 33,
      "outputs": [
        {
          "output_type": "stream",
          "name": "stdout",
          "text": [
            "imputation fill value for BloodPressure: 72.0\n",
            "imputation fill value for BMI: 32.4\n",
            "imputation fill value for Glucose: 117.0\n",
            "score: 0.8333\n",
            "score: 0.8182\n",
            "score: 0.7846\n",
            "score: 0.7538\n",
            "score: 0.7846\n",
            "score: 0.7846\n",
            "score: 0.7538\n",
            "score: 0.8000\n",
            "score: 0.7077\n",
            "score: 0.7385\n",
            "mean score: 0.7759\n"
          ]
        }
      ]
    },
    {
      "cell_type": "markdown",
      "metadata": {
        "id": "lu5aGqJZ03Ox"
      },
      "source": [
        "* ここまでの交差検証でのベスト・スコアは0.7759。"
      ]
    },
    {
      "cell_type": "markdown",
      "source": [
        "* 訓練データと検証データを区別して欠損値を埋めても、テストセット以外全体で欠損値を埋めても、結果はあまり変わらなさそう。\n",
        "* 以下、単純に、テストセット以外全体で欠損値を埋めることで、ベストな前処理を探ることにする。"
      ],
      "metadata": {
        "id": "UhNoam6bPZZq"
      }
    },
    {
      "cell_type": "markdown",
      "source": [
        "* X_trainの欠損値を埋めて、元のX_trainを上書きする。"
      ],
      "metadata": {
        "id": "0mK2UHMvQjsF"
      }
    },
    {
      "cell_type": "code",
      "source": [
        "X_train_copy = X_train.copy()\n",
        "\n",
        "for feature in ['BloodPressure', 'BMI', 'Glucose']:\n",
        "  imp = SimpleImputer(missing_values=0, strategy='median')\n",
        "  X_train_copy[feature] = imp.fit_transform(X_train[[feature]])\n",
        "  print(f'imputation fill value for {feature}: {imp.statistics_[0]}')\n",
        "\n",
        "X_train = X_train_copy\n",
        "\n",
        "cv(skf, X_train, y_train);"
      ],
      "metadata": {
        "colab": {
          "base_uri": "https://localhost:8080/"
        },
        "id": "01nzySzfQgky",
        "outputId": "173d017a-c6c6-44d4-d906-b240685e25d1"
      },
      "execution_count": 34,
      "outputs": [
        {
          "output_type": "stream",
          "name": "stdout",
          "text": [
            "imputation fill value for BloodPressure: 72.0\n",
            "imputation fill value for BMI: 32.4\n",
            "imputation fill value for Glucose: 117.0\n",
            "score: 0.8333\n",
            "score: 0.8182\n",
            "score: 0.7846\n",
            "score: 0.7538\n",
            "score: 0.7846\n",
            "score: 0.7846\n",
            "score: 0.7538\n",
            "score: 0.8000\n",
            "score: 0.7077\n",
            "score: 0.7385\n",
            "mean score: 0.7759\n"
          ]
        }
      ]
    },
    {
      "cell_type": "markdown",
      "metadata": {
        "id": "B7hDDVnNUATp"
      },
      "source": [
        "### G) SkinThicknessとInsulinへの対応"
      ]
    },
    {
      "cell_type": "code",
      "metadata": {
        "id": "kvegwCbRuBIS",
        "colab": {
          "base_uri": "https://localhost:8080/",
          "height": 281
        },
        "outputId": "40ee1ca1-26d0-4c84-8245-a2113eec81e4"
      },
      "source": [
        "sns.histplot(X_train['SkinThickness'], bins=50);"
      ],
      "execution_count": 35,
      "outputs": [
        {
          "output_type": "display_data",
          "data": {
            "text/plain": [
              "<Figure size 432x288 with 1 Axes>"
            ],
            "image/png": "[encoded data removed]"
          },
          "metadata": {
            "image/png": {
              "width": 388,
              "height": 264
            },
            "needs_background": "light"
          }
        }
      ]
    },
    {
      "cell_type": "code",
      "metadata": {
        "id": "L5ffQqerbRMc",
        "colab": {
          "base_uri": "https://localhost:8080/",
          "height": 278
        },
        "outputId": "f5bf4696-6753-4ec8-91d4-7eedc194bda9"
      },
      "source": [
        "sns.histplot(X_train['Insulin'], bins=50);"
      ],
      "execution_count": 36,
      "outputs": [
        {
          "output_type": "display_data",
          "data": {
            "text/plain": [
              "<Figure size 432x288 with 1 Axes>"
            ],
            "image/png": "[encoded data removed]"
          },
          "metadata": {
            "image/png": {
              "width": 388,
              "height": 261
            },
            "needs_background": "light"
          }
        }
      ]
    },
    {
      "cell_type": "code",
      "metadata": {
        "id": "AE7hom2eVWnR",
        "colab": {
          "base_uri": "https://localhost:8080/"
        },
        "outputId": "a89aedd1-6209-43e7-880f-e92b7f5f94c7"
      },
      "source": [
        "(X_train['SkinThickness'] == 0).sum()"
      ],
      "execution_count": 37,
      "outputs": [
        {
          "output_type": "execute_result",
          "data": {
            "text/plain": [
              "191"
            ]
          },
          "metadata": {},
          "execution_count": 37
        }
      ]
    },
    {
      "cell_type": "code",
      "metadata": {
        "id": "7l5ISkugWXmc",
        "colab": {
          "base_uri": "https://localhost:8080/"
        },
        "outputId": "ea26010b-5381-4d03-f530-a8ede4495bd1"
      },
      "source": [
        "(X_train['Insulin'] == 0).sum()"
      ],
      "execution_count": 38,
      "outputs": [
        {
          "output_type": "execute_result",
          "data": {
            "text/plain": [
              "314"
            ]
          },
          "metadata": {},
          "execution_count": 38
        }
      ]
    },
    {
      "cell_type": "markdown",
      "source": [
        "* 欠測値が多すぎるので、同じ一つの値で埋めると、問題あり。"
      ],
      "metadata": {
        "id": "3rXzoWZqvMMh"
      }
    },
    {
      "cell_type": "code",
      "metadata": {
        "id": "Mg87bdcVYCT1",
        "colab": {
          "base_uri": "https://localhost:8080/"
        },
        "outputId": "063297fc-3560-4202-a110-c18d07a7f77f"
      },
      "source": [
        "((X_train['SkinThickness'] == 0) & (X_train['Insulin'] == 0)).sum()"
      ],
      "execution_count": 39,
      "outputs": [
        {
          "output_type": "execute_result",
          "data": {
            "text/plain": [
              "191"
            ]
          },
          "metadata": {},
          "execution_count": 39
        }
      ]
    },
    {
      "cell_type": "code",
      "metadata": {
        "id": "6Y8vGCUDWeLA"
      },
      "source": [
        "for i in X_train.index[X_train['SkinThickness'] == 0]:\n",
        "  if not i in X_train.index[X_train['Insulin'] == 0]:\n",
        "    print('No')"
      ],
      "execution_count": 40,
      "outputs": []
    },
    {
      "cell_type": "markdown",
      "metadata": {
        "id": "ojghc1WgXQ4h"
      },
      "source": [
        "* SkinThicknessが0の個体は、必ずInsulinも0になっているらしい。\n",
        "\n",
        " * ただし、これは訓練データだけでこうなっているだけかもしれないので、この事実に依存して何かをすることはしない。"
      ]
    },
    {
      "cell_type": "markdown",
      "source": [
        "* 線形回帰でSkinThicknessとInsulinの欠測部分を埋める。\n",
        " * 欠測部分を同じ値で埋めたくないため。"
      ],
      "metadata": {
        "id": "ZP3qt7OLvtpe"
      }
    },
    {
      "cell_type": "code",
      "source": [
        "# 欠測値を埋めるための回帰で、特徴量として使う列\n",
        "columns = X_train.columns.drop('SkinThickness').drop('Insulin')"
      ],
      "metadata": {
        "id": "5OdXIMAZ3doo"
      },
      "execution_count": 41,
      "outputs": []
    },
    {
      "cell_type": "code",
      "source": [
        "def preprocess(X_train, X_valid):\n",
        "\n",
        "  X_train_copy = X_train.copy()\n",
        "  X_valid_copy = X_valid.copy()\n",
        "\n",
        "  for feature in ['SkinThickness', 'Insulin']:\n",
        "    reg = LinearRegression()\n",
        "    indices = (X_train[feature] != 0)\n",
        "    reg.fit(X_train.loc[indices, columns], X_train.loc[indices, feature])\n",
        "    X_train_copy.loc[~ indices, feature] = reg.predict(X_train.loc[~ indices, columns])\n",
        "\n",
        "    indices = (X_valid[feature] != 0)\n",
        "    X_valid_copy.loc[~ indices, feature] = reg.predict(X_valid.loc[~ indices, columns])\n",
        "\n",
        "  return X_train_copy, X_valid_copy"
      ],
      "metadata": {
        "id": "EwmgkboY1Qdx"
      },
      "execution_count": 42,
      "outputs": []
    },
    {
      "cell_type": "code",
      "metadata": {
        "id": "o1zdunK4YtZM",
        "colab": {
          "base_uri": "https://localhost:8080/"
        },
        "outputId": "1d11ca62-15e8-4321-fe2a-9ed9fb445083"
      },
      "source": [
        "cv(skf, X_train, y_train, preprocess=preprocess);"
      ],
      "execution_count": 43,
      "outputs": [
        {
          "output_type": "stream",
          "name": "stdout",
          "text": [
            "score: 0.8182\n",
            "score: 0.8030\n",
            "score: 0.7538\n",
            "score: 0.7538\n",
            "score: 0.8000\n",
            "score: 0.7692\n",
            "score: 0.7385\n",
            "score: 0.8000\n",
            "score: 0.7231\n",
            "score: 0.7538\n",
            "mean score: 0.7714\n"
          ]
        }
      ]
    },
    {
      "cell_type": "markdown",
      "metadata": {
        "id": "v2JBRGrbb8-B"
      },
      "source": [
        "* 悪くなったので不採用。"
      ]
    },
    {
      "cell_type": "markdown",
      "source": [
        "* 次は、k-NNを使って欠測値を埋める。"
      ],
      "metadata": {
        "id": "KL5yoXsZ3wmg"
      }
    },
    {
      "cell_type": "code",
      "source": [
        "# columnsとkは、関数の外から値を指定する。\n",
        "\n",
        "def preprocess(X_train, X_valid):\n",
        "  print(f'imputation k-NN k={k}')\n",
        "\n",
        "  X_train_copy = X_train.copy()\n",
        "  X_valid_copy = X_valid.copy()\n",
        "\n",
        "  for feature in ['SkinThickness', 'Insulin']:\n",
        "    reg = KNeighborsRegressor(n_neighbors=k)\n",
        "    indices = (X_train[feature] != 0)\n",
        "    reg.fit(X_train.loc[indices, columns], X_train.loc[indices, feature])\n",
        "    X_train_copy.loc[~ indices, feature] = reg.predict(X_train.loc[~ indices, columns])\n",
        "\n",
        "    indices = (X_valid[feature] != 0)\n",
        "    X_valid_copy.loc[~ indices, feature] = reg.predict(X_valid.loc[~ indices, columns])\n",
        "\n",
        "  return X_train_copy, X_valid_copy"
      ],
      "metadata": {
        "id": "_qyMKph133YO"
      },
      "execution_count": 44,
      "outputs": []
    },
    {
      "cell_type": "code",
      "metadata": {
        "id": "ROSCKIUQOzMk",
        "colab": {
          "base_uri": "https://localhost:8080/"
        },
        "outputId": "318f2cbf-90bb-4b8a-bf9d-02500c2d5cad"
      },
      "source": [
        "best_k, best_score = 1, 0.0\n",
        "\n",
        "for k in range(1, 21):\n",
        "  score = cv(skf, X_train, y_train, preprocess=preprocess)\n",
        "  print('-'*64)\n",
        "  if best_score < score:\n",
        "    best_k, best_score = k, score\n",
        "\n",
        "print(f'best score {best_score:.4f} for k = {best_k}')"
      ],
      "execution_count": 45,
      "outputs": [
        {
          "output_type": "stream",
          "name": "stdout",
          "text": [
            "imputation k-NN k=1\n",
            "score: 0.8333\n",
            "imputation k-NN k=1\n",
            "score: 0.8030\n",
            "imputation k-NN k=1\n",
            "score: 0.7692\n",
            "imputation k-NN k=1\n",
            "score: 0.7385\n",
            "imputation k-NN k=1\n",
            "score: 0.8000\n",
            "imputation k-NN k=1\n",
            "score: 0.7692\n",
            "imputation k-NN k=1\n",
            "score: 0.7692\n",
            "imputation k-NN k=1\n",
            "score: 0.7846\n",
            "imputation k-NN k=1\n",
            "score: 0.7077\n",
            "imputation k-NN k=1\n",
            "score: 0.7538\n",
            "mean score: 0.7729\n",
            "----------------------------------------------------------------\n",
            "imputation k-NN k=2\n",
            "score: 0.8333\n",
            "imputation k-NN k=2\n",
            "score: 0.8182\n",
            "imputation k-NN k=2\n",
            "score: 0.7692\n",
            "imputation k-NN k=2\n",
            "score: 0.7385\n",
            "imputation k-NN k=2\n",
            "score: 0.8154\n",
            "imputation k-NN k=2\n",
            "score: 0.7846\n",
            "imputation k-NN k=2\n",
            "score: 0.7385\n",
            "imputation k-NN k=2\n",
            "score: 0.7846\n",
            "imputation k-NN k=2\n",
            "score: 0.7231\n",
            "imputation k-NN k=2\n",
            "score: 0.7538\n",
            "mean score: 0.7759\n",
            "----------------------------------------------------------------\n",
            "imputation k-NN k=3\n",
            "score: 0.8485\n",
            "imputation k-NN k=3\n",
            "score: 0.8182\n",
            "imputation k-NN k=3\n",
            "score: 0.7538\n",
            "imputation k-NN k=3\n",
            "score: 0.7538\n",
            "imputation k-NN k=3\n",
            "score: 0.8000\n",
            "imputation k-NN k=3\n",
            "score: 0.7846\n",
            "imputation k-NN k=3\n",
            "score: 0.7538\n",
            "imputation k-NN k=3\n",
            "score: 0.8000\n",
            "imputation k-NN k=3\n",
            "score: 0.7231\n",
            "imputation k-NN k=3\n",
            "score: 0.7538\n",
            "mean score: 0.7790\n",
            "----------------------------------------------------------------\n",
            "imputation k-NN k=4\n",
            "score: 0.8485\n",
            "imputation k-NN k=4\n",
            "score: 0.8182\n",
            "imputation k-NN k=4\n",
            "score: 0.7538\n",
            "imputation k-NN k=4\n",
            "score: 0.7385\n",
            "imputation k-NN k=4\n",
            "score: 0.8154\n",
            "imputation k-NN k=4\n",
            "score: 0.7692\n",
            "imputation k-NN k=4\n",
            "score: 0.7692\n",
            "imputation k-NN k=4\n",
            "score: 0.8000\n",
            "imputation k-NN k=4\n",
            "score: 0.7231\n",
            "imputation k-NN k=4\n",
            "score: 0.7538\n",
            "mean score: 0.7790\n",
            "----------------------------------------------------------------\n",
            "imputation k-NN k=5\n",
            "score: 0.8182\n",
            "imputation k-NN k=5\n",
            "score: 0.8030\n",
            "imputation k-NN k=5\n",
            "score: 0.7538\n",
            "imputation k-NN k=5\n",
            "score: 0.7231\n",
            "imputation k-NN k=5\n",
            "score: 0.8000\n",
            "imputation k-NN k=5\n",
            "score: 0.7692\n",
            "imputation k-NN k=5\n",
            "score: 0.7385\n",
            "imputation k-NN k=5\n",
            "score: 0.8000\n",
            "imputation k-NN k=5\n",
            "score: 0.7231\n",
            "imputation k-NN k=5\n",
            "score: 0.7538\n",
            "mean score: 0.7683\n",
            "----------------------------------------------------------------\n",
            "imputation k-NN k=6\n",
            "score: 0.8333\n",
            "imputation k-NN k=6\n",
            "score: 0.8030\n",
            "imputation k-NN k=6\n",
            "score: 0.7538\n",
            "imputation k-NN k=6\n",
            "score: 0.7231\n",
            "imputation k-NN k=6\n",
            "score: 0.8154\n",
            "imputation k-NN k=6\n",
            "score: 0.7692\n",
            "imputation k-NN k=6\n",
            "score: 0.7538\n",
            "imputation k-NN k=6\n",
            "score: 0.7846\n",
            "imputation k-NN k=6\n",
            "score: 0.7231\n",
            "imputation k-NN k=6\n",
            "score: 0.7538\n",
            "mean score: 0.7713\n",
            "----------------------------------------------------------------\n",
            "imputation k-NN k=7\n",
            "score: 0.8182\n",
            "imputation k-NN k=7\n",
            "score: 0.8030\n",
            "imputation k-NN k=7\n",
            "score: 0.7538\n",
            "imputation k-NN k=7\n",
            "score: 0.7231\n",
            "imputation k-NN k=7\n",
            "score: 0.8154\n",
            "imputation k-NN k=7\n",
            "score: 0.7692\n",
            "imputation k-NN k=7\n",
            "score: 0.7538\n",
            "imputation k-NN k=7\n",
            "score: 0.8000\n",
            "imputation k-NN k=7\n",
            "score: 0.7231\n",
            "imputation k-NN k=7\n",
            "score: 0.7538\n",
            "mean score: 0.7714\n",
            "----------------------------------------------------------------\n",
            "imputation k-NN k=8\n",
            "score: 0.8182\n",
            "imputation k-NN k=8\n",
            "score: 0.7879\n",
            "imputation k-NN k=8\n",
            "score: 0.7538\n",
            "imputation k-NN k=8\n",
            "score: 0.7231\n",
            "imputation k-NN k=8\n",
            "score: 0.8154\n",
            "imputation k-NN k=8\n",
            "score: 0.7692\n",
            "imputation k-NN k=8\n",
            "score: 0.7538\n",
            "imputation k-NN k=8\n",
            "score: 0.7846\n",
            "imputation k-NN k=8\n",
            "score: 0.7231\n",
            "imputation k-NN k=8\n",
            "score: 0.7538\n",
            "mean score: 0.7683\n",
            "----------------------------------------------------------------\n",
            "imputation k-NN k=9\n",
            "score: 0.8182\n",
            "imputation k-NN k=9\n",
            "score: 0.7879\n",
            "imputation k-NN k=9\n",
            "score: 0.7538\n",
            "imputation k-NN k=9\n",
            "score: 0.7231\n",
            "imputation k-NN k=9\n",
            "score: 0.8154\n",
            "imputation k-NN k=9\n",
            "score: 0.7692\n",
            "imputation k-NN k=9\n",
            "score: 0.7538\n",
            "imputation k-NN k=9\n",
            "score: 0.7846\n",
            "imputation k-NN k=9\n",
            "score: 0.7231\n",
            "imputation k-NN k=9\n",
            "score: 0.7538\n",
            "mean score: 0.7683\n",
            "----------------------------------------------------------------\n",
            "imputation k-NN k=10\n",
            "score: 0.8182\n",
            "imputation k-NN k=10\n",
            "score: 0.7879\n",
            "imputation k-NN k=10\n",
            "score: 0.7538\n",
            "imputation k-NN k=10\n",
            "score: 0.7231\n",
            "imputation k-NN k=10\n",
            "score: 0.8154\n",
            "imputation k-NN k=10\n",
            "score: 0.7692\n",
            "imputation k-NN k=10\n",
            "score: 0.7538\n",
            "imputation k-NN k=10\n",
            "score: 0.7846\n",
            "imputation k-NN k=10\n",
            "score: 0.7231\n",
            "imputation k-NN k=10\n",
            "score: 0.7538\n",
            "mean score: 0.7683\n",
            "----------------------------------------------------------------\n",
            "imputation k-NN k=11\n",
            "score: 0.8333\n",
            "imputation k-NN k=11\n",
            "score: 0.7879\n",
            "imputation k-NN k=11\n",
            "score: 0.7538\n",
            "imputation k-NN k=11\n",
            "score: 0.7231\n",
            "imputation k-NN k=11\n",
            "score: 0.8154\n",
            "imputation k-NN k=11\n",
            "score: 0.7692\n",
            "imputation k-NN k=11\n",
            "score: 0.7538\n",
            "imputation k-NN k=11\n",
            "score: 0.7846\n",
            "imputation k-NN k=11\n",
            "score: 0.7231\n",
            "imputation k-NN k=11\n",
            "score: 0.7538\n",
            "mean score: 0.7698\n",
            "----------------------------------------------------------------\n",
            "imputation k-NN k=12\n",
            "score: 0.8182\n",
            "imputation k-NN k=12\n",
            "score: 0.7879\n",
            "imputation k-NN k=12\n",
            "score: 0.7538\n",
            "imputation k-NN k=12\n",
            "score: 0.7385\n",
            "imputation k-NN k=12\n",
            "score: 0.8000\n",
            "imputation k-NN k=12\n",
            "score: 0.7692\n",
            "imputation k-NN k=12\n",
            "score: 0.7538\n",
            "imputation k-NN k=12\n",
            "score: 0.7846\n",
            "imputation k-NN k=12\n",
            "score: 0.7231\n",
            "imputation k-NN k=12\n",
            "score: 0.7538\n",
            "mean score: 0.7683\n",
            "----------------------------------------------------------------\n",
            "imputation k-NN k=13\n",
            "score: 0.8182\n",
            "imputation k-NN k=13\n",
            "score: 0.7879\n",
            "imputation k-NN k=13\n",
            "score: 0.7538\n",
            "imputation k-NN k=13\n",
            "score: 0.7385\n",
            "imputation k-NN k=13\n",
            "score: 0.8000\n",
            "imputation k-NN k=13\n",
            "score: 0.7692\n",
            "imputation k-NN k=13\n",
            "score: 0.7538\n",
            "imputation k-NN k=13\n",
            "score: 0.7846\n",
            "imputation k-NN k=13\n",
            "score: 0.7231\n",
            "imputation k-NN k=13\n",
            "score: 0.7538\n",
            "mean score: 0.7683\n",
            "----------------------------------------------------------------\n",
            "imputation k-NN k=14\n",
            "score: 0.8182\n",
            "imputation k-NN k=14\n",
            "score: 0.7879\n",
            "imputation k-NN k=14\n",
            "score: 0.7538\n",
            "imputation k-NN k=14\n",
            "score: 0.7385\n",
            "imputation k-NN k=14\n",
            "score: 0.8000\n",
            "imputation k-NN k=14\n",
            "score: 0.7692\n",
            "imputation k-NN k=14\n",
            "score: 0.7538\n",
            "imputation k-NN k=14\n",
            "score: 0.7846\n",
            "imputation k-NN k=14\n",
            "score: 0.7231\n",
            "imputation k-NN k=14\n",
            "score: 0.7538\n",
            "mean score: 0.7683\n",
            "----------------------------------------------------------------\n",
            "imputation k-NN k=15\n",
            "score: 0.8182\n",
            "imputation k-NN k=15\n",
            "score: 0.7879\n",
            "imputation k-NN k=15\n",
            "score: 0.7538\n",
            "imputation k-NN k=15\n",
            "score: 0.7538\n",
            "imputation k-NN k=15\n",
            "score: 0.8000\n",
            "imputation k-NN k=15\n",
            "score: 0.7692\n",
            "imputation k-NN k=15\n",
            "score: 0.7538\n",
            "imputation k-NN k=15\n",
            "score: 0.7846\n",
            "imputation k-NN k=15\n",
            "score: 0.7231\n",
            "imputation k-NN k=15\n",
            "score: 0.7538\n",
            "mean score: 0.7698\n",
            "----------------------------------------------------------------\n",
            "imputation k-NN k=16\n",
            "score: 0.8182\n",
            "imputation k-NN k=16\n",
            "score: 0.7879\n",
            "imputation k-NN k=16\n",
            "score: 0.7538\n",
            "imputation k-NN k=16\n",
            "score: 0.7538\n",
            "imputation k-NN k=16\n",
            "score: 0.8154\n",
            "imputation k-NN k=16\n",
            "score: 0.7692\n",
            "imputation k-NN k=16\n",
            "score: 0.7538\n",
            "imputation k-NN k=16\n",
            "score: 0.7846\n",
            "imputation k-NN k=16\n",
            "score: 0.7231\n",
            "imputation k-NN k=16\n",
            "score: 0.7538\n",
            "mean score: 0.7714\n",
            "----------------------------------------------------------------\n",
            "imputation k-NN k=17\n",
            "score: 0.8333\n",
            "imputation k-NN k=17\n",
            "score: 0.7879\n",
            "imputation k-NN k=17\n",
            "score: 0.7538\n",
            "imputation k-NN k=17\n",
            "score: 0.7538\n",
            "imputation k-NN k=17\n",
            "score: 0.8154\n",
            "imputation k-NN k=17\n",
            "score: 0.7692\n",
            "imputation k-NN k=17\n",
            "score: 0.7538\n",
            "imputation k-NN k=17\n",
            "score: 0.7846\n",
            "imputation k-NN k=17\n",
            "score: 0.7231\n",
            "imputation k-NN k=17\n",
            "score: 0.7538\n",
            "mean score: 0.7729\n",
            "----------------------------------------------------------------\n",
            "imputation k-NN k=18\n",
            "score: 0.8333\n",
            "imputation k-NN k=18\n",
            "score: 0.7879\n",
            "imputation k-NN k=18\n",
            "score: 0.7538\n",
            "imputation k-NN k=18\n",
            "score: 0.7538\n",
            "imputation k-NN k=18\n",
            "score: 0.8154\n",
            "imputation k-NN k=18\n",
            "score: 0.7692\n",
            "imputation k-NN k=18\n",
            "score: 0.7538\n",
            "imputation k-NN k=18\n",
            "score: 0.8000\n",
            "imputation k-NN k=18\n",
            "score: 0.7231\n",
            "imputation k-NN k=18\n",
            "score: 0.7538\n",
            "mean score: 0.7744\n",
            "----------------------------------------------------------------\n",
            "imputation k-NN k=19\n",
            "score: 0.8333\n",
            "imputation k-NN k=19\n",
            "score: 0.7879\n",
            "imputation k-NN k=19\n",
            "score: 0.7538\n",
            "imputation k-NN k=19\n",
            "score: 0.7538\n",
            "imputation k-NN k=19\n",
            "score: 0.8154\n",
            "imputation k-NN k=19\n",
            "score: 0.7692\n",
            "imputation k-NN k=19\n",
            "score: 0.7538\n",
            "imputation k-NN k=19\n",
            "score: 0.8000\n",
            "imputation k-NN k=19\n",
            "score: 0.7231\n",
            "imputation k-NN k=19\n",
            "score: 0.7538\n",
            "mean score: 0.7744\n",
            "----------------------------------------------------------------\n",
            "imputation k-NN k=20\n",
            "score: 0.8333\n",
            "imputation k-NN k=20\n",
            "score: 0.7879\n",
            "imputation k-NN k=20\n",
            "score: 0.7538\n",
            "imputation k-NN k=20\n",
            "score: 0.7538\n",
            "imputation k-NN k=20\n",
            "score: 0.8000\n",
            "imputation k-NN k=20\n",
            "score: 0.7692\n",
            "imputation k-NN k=20\n",
            "score: 0.7538\n",
            "imputation k-NN k=20\n",
            "score: 0.8000\n",
            "imputation k-NN k=20\n",
            "score: 0.7231\n",
            "imputation k-NN k=20\n",
            "score: 0.7538\n",
            "mean score: 0.7729\n",
            "----------------------------------------------------------------\n",
            "best score 0.7790 for k = 3\n"
          ]
        }
      ]
    },
    {
      "cell_type": "markdown",
      "source": [
        "* 選ばれたkの値を使って、訓練データ全体で欠測値を埋める。"
      ],
      "metadata": {
        "id": "ozQh8Aer--V2"
      }
    },
    {
      "cell_type": "code",
      "metadata": {
        "id": "Fw0j_0JcUfwZ"
      },
      "source": [
        "k = best_k\n",
        "\n",
        "X_train_copy = X_train.copy()\n",
        "\n",
        "for feature in ['SkinThickness', 'Insulin']:\n",
        "  reg = KNeighborsRegressor(n_neighbors=k)\n",
        "  indices = (X_train[feature] != 0)\n",
        "  reg.fit(X_train.loc[indices, columns], X_train.loc[indices, feature])\n",
        "  X_train_copy.loc[~ indices, feature] = reg.predict(X_train.loc[~ indices, columns])"
      ],
      "execution_count": 46,
      "outputs": []
    },
    {
      "cell_type": "code",
      "metadata": {
        "id": "dgJeArAIPYyp",
        "colab": {
          "base_uri": "https://localhost:8080/",
          "height": 278
        },
        "outputId": "405e15a0-23c5-41c0-ca25-e4d4c8cdfd31"
      },
      "source": [
        "sns.histplot(X_train_copy['SkinThickness'], bins=50);"
      ],
      "execution_count": 47,
      "outputs": [
        {
          "output_type": "display_data",
          "data": {
            "text/plain": [
              "<Figure size 432x288 with 1 Axes>"
            ],
            "image/png": "[encoded data removed]"
          },
          "metadata": {
            "image/png": {
              "width": 382,
              "height": 261
            },
            "needs_background": "light"
          }
        }
      ]
    },
    {
      "cell_type": "code",
      "metadata": {
        "id": "Rr3x6UWQPcoQ",
        "colab": {
          "base_uri": "https://localhost:8080/",
          "height": 278
        },
        "outputId": "a9d1e901-d7c0-464b-83b0-2b30d70d21ff"
      },
      "source": [
        "sns.histplot(X_train_copy['Insulin'], bins=50);"
      ],
      "execution_count": 48,
      "outputs": [
        {
          "output_type": "display_data",
          "data": {
            "text/plain": [
              "<Figure size 432x288 with 1 Axes>"
            ],
            "image/png": "[encoded data removed]"
          },
          "metadata": {
            "image/png": {
              "width": 382,
              "height": 261
            },
            "needs_background": "light"
          }
        }
      ]
    },
    {
      "cell_type": "code",
      "metadata": {
        "id": "TVRl23QOPe0d",
        "colab": {
          "base_uri": "https://localhost:8080/"
        },
        "outputId": "f9405e60-72dd-41b0-c340-5df7c48a10c1"
      },
      "source": [
        "cv(skf, X_train_copy, y_train);"
      ],
      "execution_count": 49,
      "outputs": [
        {
          "output_type": "stream",
          "name": "stdout",
          "text": [
            "score: 0.8485\n",
            "score: 0.8030\n",
            "score: 0.7692\n",
            "score: 0.7538\n",
            "score: 0.8000\n",
            "score: 0.7692\n",
            "score: 0.7538\n",
            "score: 0.8000\n",
            "score: 0.7231\n",
            "score: 0.7538\n",
            "mean score: 0.7775\n"
          ]
        }
      ]
    },
    {
      "cell_type": "markdown",
      "metadata": {
        "id": "hRBbY9W-QAoF"
      },
      "source": [
        "* 分類性能が良くなったので、埋めた後のデータセットを採用する。"
      ]
    },
    {
      "cell_type": "code",
      "metadata": {
        "id": "LkvtCrYXWarC"
      },
      "source": [
        "X_train = X_train_copy"
      ],
      "execution_count": 50,
      "outputs": []
    },
    {
      "cell_type": "markdown",
      "source": [
        "* Pregnanciesを除いて、値0は無くなっている。"
      ],
      "metadata": {
        "id": "uFMLwcJr9_D8"
      }
    },
    {
      "cell_type": "code",
      "metadata": {
        "id": "C29KswDay_OV",
        "colab": {
          "base_uri": "https://localhost:8080/"
        },
        "outputId": "a3b6d231-7622-4151-ce07-f855bcbd0a58"
      },
      "source": [
        "(X_train == 0).sum()"
      ],
      "execution_count": 51,
      "outputs": [
        {
          "output_type": "execute_result",
          "data": {
            "text/plain": [
              "Pregnancies                 91\n",
              "Glucose                      0\n",
              "BloodPressure                0\n",
              "SkinThickness                0\n",
              "Insulin                      0\n",
              "BMI                          0\n",
              "DiabetesPedigreeFunction     0\n",
              "Age                          0\n",
              "dtype: int64"
            ]
          },
          "metadata": {},
          "execution_count": 51
        }
      ]
    },
    {
      "cell_type": "markdown",
      "metadata": {
        "id": "iLd-Rg8RlUtj"
      },
      "source": [
        "### H) スケーラーを使ってみる。"
      ]
    },
    {
      "cell_type": "code",
      "source": [
        "def preprocess(X_train, X_valid):\n",
        "  scaler = MinMaxScaler()\n",
        "  scaler.fit(X_train)\n",
        "  return scaler.transform(X_train), scaler.transform(X_valid)"
      ],
      "metadata": {
        "id": "Qz8PMENm_J6f"
      },
      "execution_count": 52,
      "outputs": []
    },
    {
      "cell_type": "code",
      "metadata": {
        "id": "fnNi8kaXrDQP",
        "colab": {
          "base_uri": "https://localhost:8080/"
        },
        "outputId": "6f9c8e90-7b85-444a-f8fa-78f4b131cfa4"
      },
      "source": [
        "cv(skf, X_train, y_train, preprocess=preprocess);"
      ],
      "execution_count": 53,
      "outputs": [
        {
          "output_type": "stream",
          "name": "stdout",
          "text": [
            "score: 0.7879\n",
            "score: 0.8030\n",
            "score: 0.7385\n",
            "score: 0.7231\n",
            "score: 0.7846\n",
            "score: 0.7692\n",
            "score: 0.7231\n",
            "score: 0.7846\n",
            "score: 0.7385\n",
            "score: 0.7538\n",
            "mean score: 0.7606\n"
          ]
        }
      ]
    },
    {
      "cell_type": "code",
      "source": [
        "def preprocess(X_train, X_valid):\n",
        "  scaler = StandardScaler()\n",
        "  scaler.fit(X_train)\n",
        "  return scaler.transform(X_train), scaler.transform(X_valid)"
      ],
      "metadata": {
        "id": "2bh_Rhbt_pxC"
      },
      "execution_count": 54,
      "outputs": []
    },
    {
      "cell_type": "code",
      "metadata": {
        "id": "CxAI7gORc5td",
        "colab": {
          "base_uri": "https://localhost:8080/"
        },
        "outputId": "27dd5c6d-e0b9-4e12-a584-9bbdc3bc4efd"
      },
      "source": [
        "cv(skf, X_train, y_train, preprocess=preprocess);"
      ],
      "execution_count": 55,
      "outputs": [
        {
          "output_type": "stream",
          "name": "stdout",
          "text": [
            "score: 0.8485\n",
            "score: 0.8182\n",
            "score: 0.7538\n",
            "score: 0.7385\n",
            "score: 0.7846\n",
            "score: 0.7692\n",
            "score: 0.7538\n",
            "score: 0.7846\n",
            "score: 0.7231\n",
            "score: 0.7538\n",
            "mean score: 0.7728\n"
          ]
        }
      ]
    },
    {
      "cell_type": "markdown",
      "metadata": {
        "id": "l3W1GQ_34qhY"
      },
      "source": [
        "いずれも不採用。"
      ]
    },
    {
      "cell_type": "markdown",
      "metadata": {
        "id": "0zFe16YjmHPf"
      },
      "source": [
        "### I) 正則化パラメータをチューニングする。"
      ]
    },
    {
      "cell_type": "code",
      "metadata": {
        "id": "UhjQGKFaJiGH",
        "colab": {
          "base_uri": "https://localhost:8080/"
        },
        "outputId": "08059de2-af16-4432-9a9b-f5fdab76a688"
      },
      "source": [
        "best_C, best_score = 0, 0\n",
        "\n",
        "for C in np.power(10.0, np.arange(13) - 5):\n",
        "  score = cv(skf, X_train, y_train, C=C)\n",
        "  if best_score < score:\n",
        "    best_C, best_score = C, score\n",
        "  print('-' * 64)\n",
        "\n",
        "print(f'best score {best_score:.4f} for C={C}')"
      ],
      "execution_count": 56,
      "outputs": [
        {
          "output_type": "stream",
          "name": "stdout",
          "text": [
            "C = 1e-05\n",
            "score: 0.6818\n",
            "score: 0.8182\n",
            "score: 0.7231\n",
            "score: 0.6462\n",
            "score: 0.7692\n",
            "score: 0.7692\n",
            "score: 0.7385\n",
            "score: 0.7077\n",
            "score: 0.7538\n",
            "score: 0.7077\n",
            "mean score: 0.7315\n",
            "----------------------------------------------------------------\n",
            "C = 0.0001\n",
            "score: 0.8333\n",
            "score: 0.8333\n",
            "score: 0.7538\n",
            "score: 0.6769\n",
            "score: 0.7692\n",
            "score: 0.7538\n",
            "score: 0.7077\n",
            "score: 0.7692\n",
            "score: 0.7231\n",
            "score: 0.7538\n",
            "mean score: 0.7574\n",
            "----------------------------------------------------------------\n",
            "C = 0.001\n",
            "score: 0.8485\n",
            "score: 0.8030\n",
            "score: 0.7385\n",
            "score: 0.7231\n",
            "score: 0.7846\n",
            "score: 0.7692\n",
            "score: 0.7692\n",
            "score: 0.7846\n",
            "score: 0.7385\n",
            "score: 0.7846\n",
            "mean score: 0.7744\n",
            "----------------------------------------------------------------\n",
            "C = 0.01\n",
            "score: 0.8485\n",
            "score: 0.8030\n",
            "score: 0.7385\n",
            "score: 0.7385\n",
            "score: 0.8154\n",
            "score: 0.7538\n",
            "score: 0.7692\n",
            "score: 0.7846\n",
            "score: 0.7385\n",
            "score: 0.7538\n",
            "mean score: 0.7744\n",
            "----------------------------------------------------------------\n",
            "C = 0.1\n",
            "score: 0.8485\n",
            "score: 0.8182\n",
            "score: 0.7385\n",
            "score: 0.7538\n",
            "score: 0.8308\n",
            "score: 0.7692\n",
            "score: 0.7692\n",
            "score: 0.7846\n",
            "score: 0.7077\n",
            "score: 0.7538\n",
            "mean score: 0.7774\n",
            "----------------------------------------------------------------\n",
            "C = 1.0\n",
            "score: 0.8485\n",
            "score: 0.8030\n",
            "score: 0.7692\n",
            "score: 0.7538\n",
            "score: 0.8000\n",
            "score: 0.7692\n",
            "score: 0.7538\n",
            "score: 0.8000\n",
            "score: 0.7231\n",
            "score: 0.7538\n",
            "mean score: 0.7775\n",
            "----------------------------------------------------------------\n",
            "C = 10.0\n",
            "score: 0.8485\n",
            "score: 0.8182\n",
            "score: 0.7692\n",
            "score: 0.7538\n",
            "score: 0.8000\n",
            "score: 0.7692\n",
            "score: 0.7538\n",
            "score: 0.7846\n",
            "score: 0.7231\n",
            "score: 0.7538\n",
            "mean score: 0.7774\n",
            "----------------------------------------------------------------\n",
            "C = 100.0\n",
            "score: 0.8485\n",
            "score: 0.8182\n",
            "score: 0.7846\n",
            "score: 0.7538\n",
            "score: 0.8000\n",
            "score: 0.7692\n",
            "score: 0.7538\n",
            "score: 0.7846\n",
            "score: 0.7231\n",
            "score: 0.7538\n",
            "mean score: 0.7790\n",
            "----------------------------------------------------------------\n",
            "C = 1000.0\n",
            "score: 0.8485\n",
            "score: 0.8182\n",
            "score: 0.7846\n",
            "score: 0.7538\n",
            "score: 0.8000\n",
            "score: 0.7692\n",
            "score: 0.7538\n",
            "score: 0.7846\n",
            "score: 0.7231\n",
            "score: 0.7538\n",
            "mean score: 0.7790\n",
            "----------------------------------------------------------------\n",
            "C = 10000.0\n",
            "score: 0.8485\n",
            "score: 0.8182\n",
            "score: 0.7846\n",
            "score: 0.7538\n",
            "score: 0.8000\n",
            "score: 0.7692\n",
            "score: 0.7538\n",
            "score: 0.7846\n",
            "score: 0.7231\n",
            "score: 0.7538\n",
            "mean score: 0.7790\n",
            "----------------------------------------------------------------\n",
            "C = 100000.0\n",
            "score: 0.8485\n",
            "score: 0.8182\n",
            "score: 0.7846\n",
            "score: 0.7538\n",
            "score: 0.8000\n",
            "score: 0.7692\n",
            "score: 0.7538\n",
            "score: 0.7846\n",
            "score: 0.7231\n",
            "score: 0.7538\n",
            "mean score: 0.7790\n",
            "----------------------------------------------------------------\n",
            "C = 1000000.0\n",
            "score: 0.8485\n",
            "score: 0.8182\n",
            "score: 0.7846\n",
            "score: 0.7538\n",
            "score: 0.8000\n",
            "score: 0.7692\n",
            "score: 0.7538\n",
            "score: 0.7846\n",
            "score: 0.7231\n",
            "score: 0.7538\n",
            "mean score: 0.7790\n",
            "----------------------------------------------------------------\n",
            "C = 10000000.0\n",
            "score: 0.8485\n",
            "score: 0.8182\n",
            "score: 0.7846\n",
            "score: 0.7538\n",
            "score: 0.8000\n",
            "score: 0.7692\n",
            "score: 0.7538\n",
            "score: 0.7846\n",
            "score: 0.7231\n",
            "score: 0.7538\n",
            "mean score: 0.7790\n",
            "----------------------------------------------------------------\n",
            "best score 0.7790 for C=10000000.0\n"
          ]
        }
      ]
    },
    {
      "cell_type": "markdown",
      "source": [
        "* Cの値が大きいほど良いということは、正則化なしが良いということ。"
      ],
      "metadata": {
        "id": "CW0STZEDBJm_"
      }
    },
    {
      "cell_type": "code",
      "source": [
        "cv(skf, X_train, y_train, penalty='none');"
      ],
      "metadata": {
        "colab": {
          "base_uri": "https://localhost:8080/"
        },
        "id": "kZoSDnB5BSNP",
        "outputId": "33c71c02-5520-4c24-e6fa-711cccc2e30a"
      },
      "execution_count": 57,
      "outputs": [
        {
          "output_type": "stream",
          "name": "stdout",
          "text": [
            "penalty = none\n",
            "score: 0.8485\n",
            "score: 0.8182\n",
            "score: 0.7846\n",
            "score: 0.7538\n",
            "score: 0.8000\n",
            "score: 0.7692\n",
            "score: 0.7538\n",
            "score: 0.7846\n",
            "score: 0.7231\n",
            "score: 0.7538\n",
            "mean score: 0.7790\n"
          ]
        }
      ]
    },
    {
      "cell_type": "markdown",
      "metadata": {
        "id": "72sKbveFZqAV"
      },
      "source": [
        "* 以上をまとめると・・・\n",
        " * 'BloodPressure', 'BMI', 'Glucose'の欠損値は中央値で埋める。\n",
        " * 'SkinThickness', 'Insulin'の欠損値はk-NNで埋める。\n",
        " * ロジスティック回帰は正則化なしで使う。"
      ]
    },
    {
      "cell_type": "markdown",
      "metadata": {
        "id": "UNavOCyN2hZr"
      },
      "source": [
        "## 5) テストデータで最終評価"
      ]
    },
    {
      "cell_type": "markdown",
      "source": [
        "* 訓練データの中央値を使って、テストデータの欠測値を埋める。"
      ],
      "metadata": {
        "id": "GxBvhemBTmv5"
      }
    },
    {
      "cell_type": "code",
      "source": [
        "# 訓練データについては、最初に取っておいたオリジナル X_train_original を使うこと。\n",
        "\n",
        "X_train_copy = X_train_original.copy()\n",
        "X_test_copy = X_test.copy()\n",
        "\n",
        "for feature in ['BloodPressure', 'BMI', 'Glucose']:\n",
        "  imp = SimpleImputer(missing_values=0, strategy='median')\n",
        "  X_train_copy[feature] = imp.fit_transform(X_train_original[[feature]])\n",
        "  X_test_copy[feature] = imp.transform(X_test[[feature]])\n",
        "  print(f'imputation fill value for {feature}: {imp.statistics_[0]}')"
      ],
      "metadata": {
        "colab": {
          "base_uri": "https://localhost:8080/"
        },
        "id": "qXDt-9xMCB7P",
        "outputId": "ee07312b-1990-430e-b239-44503fb1e684"
      },
      "execution_count": 58,
      "outputs": [
        {
          "output_type": "stream",
          "name": "stdout",
          "text": [
            "imputation fill value for BloodPressure: 72.0\n",
            "imputation fill value for BMI: 32.4\n",
            "imputation fill value for Glucose: 117.0\n"
          ]
        }
      ]
    },
    {
      "cell_type": "markdown",
      "source": [
        "* k-NNでは、上で'BloodPressure', 'BMI', 'Glucose'の欠測値を埋めたデータを使う。"
      ],
      "metadata": {
        "id": "Y-w1izrJDBNX"
      }
    },
    {
      "cell_type": "code",
      "source": [
        "X_train = X_train_copy\n",
        "X_test = X_test_copy"
      ],
      "metadata": {
        "id": "39dUE7EBC-_G"
      },
      "execution_count": 59,
      "outputs": []
    },
    {
      "cell_type": "markdown",
      "source": [
        "* 訓練データで近傍を見つけることによって、テストデータの欠測値を埋める。"
      ],
      "metadata": {
        "id": "NSI5XJQ0G1z_"
      }
    },
    {
      "cell_type": "code",
      "source": [
        "k = best_k\n",
        "\n",
        "X_train_copy = X_train.copy()\n",
        "X_test_copy = X_test.copy()\n",
        "\n",
        "for feature in ['SkinThickness', 'Insulin']:\n",
        "  reg = KNeighborsRegressor(n_neighbors=k)\n",
        "  indices = (X_train[feature] != 0)\n",
        "  reg.fit(X_train.loc[indices, columns], X_train.loc[indices, feature])\n",
        "  X_train_copy.loc[~ indices, feature] = reg.predict(X_train.loc[~ indices, columns])\n",
        "  indices = (X_test[feature] != 0)\n",
        "  X_test_copy.loc[~ indices, feature] = reg.predict(X_test.loc[~ indices, columns])"
      ],
      "metadata": {
        "id": "H3_8mSaBT_eS"
      },
      "execution_count": 60,
      "outputs": []
    },
    {
      "cell_type": "code",
      "source": [
        "X_train = X_train_copy\n",
        "X_test = X_test"
      ],
      "metadata": {
        "id": "tt9mZQ2QD0w_"
      },
      "execution_count": 61,
      "outputs": []
    },
    {
      "cell_type": "code",
      "metadata": {
        "id": "H-c0X3gCJwsq",
        "colab": {
          "base_uri": "https://localhost:8080/"
        },
        "outputId": "d37d85f4-4573-4d6f-b803-508dbd383878"
      },
      "source": [
        "model = LogisticRegression(max_iter=1000, penalty='none', random_state=123)\n",
        "model.fit(X_train, y_train)\n",
        "print('test score: {:.4f}'.format(model.score(X_test, y_test)))"
      ],
      "execution_count": 62,
      "outputs": [
        {
          "output_type": "stream",
          "name": "stdout",
          "text": [
            "test score: 0.7759\n"
          ]
        }
      ]
    },
    {
      "cell_type": "code",
      "metadata": {
        "id": "KayAjOl5x_On",
        "colab": {
          "base_uri": "https://localhost:8080/"
        },
        "outputId": "f6eb135a-5a0b-4016-e1d5-5b84bacb1416"
      },
      "source": [
        "y_test_pred_proba = model.predict_proba(X_test)\n",
        "print('ROC AUC: {:.4f}'.format(roc_auc_score(y_test, y_test_pred_proba[:,1])))"
      ],
      "execution_count": 63,
      "outputs": [
        {
          "output_type": "stream",
          "name": "stdout",
          "text": [
            "ROC AUC: 0.8696\n"
          ]
        }
      ]
    },
    {
      "cell_type": "code",
      "metadata": {
        "id": "WopC3aJ02PVO",
        "colab": {
          "base_uri": "https://localhost:8080/",
          "height": 294
        },
        "outputId": "90cfa943-2169-4020-f24c-b67c4caf5bdd"
      },
      "source": [
        "y_score = baseline.decision_function(X_test_original) # ベースラインには元のテストデータを使う\n",
        "fpr, tpr, _ = roc_curve(y_test, y_score)\n",
        "roc_auc = auc(fpr, tpr)\n",
        "\n",
        "y_score_ours = model.decision_function(X_test)\n",
        "fpr_ours, tpr_ours, _ = roc_curve(y_test, y_score_ours)\n",
        "roc_auc_ours = auc(fpr_ours, tpr_ours)\n",
        "\n",
        "plt.plot(fpr, tpr, color='darkorange', label=f'ROC curve (area = {roc_auc:.4f})')\n",
        "plt.plot(fpr_ours, tpr_ours, color='firebrick', label=f'ROC curve (area = {roc_auc_ours:.4f})')\n",
        "plt.plot([0, 1], [0, 1], color='navy', linestyle='--')\n",
        "plt.xlim([0.0, 1.0])\n",
        "plt.ylim([0.0, 1.05])\n",
        "plt.xlabel('False Positive Rate')\n",
        "plt.ylabel('True Positive Rate')\n",
        "plt.title('Receiver operating characteristic example')\n",
        "plt.legend(loc=\"lower right\");"
      ],
      "execution_count": 64,
      "outputs": [
        {
          "output_type": "display_data",
          "data": {
            "text/plain": [
              "<Figure size 432x288 with 1 Axes>"
            ],
            "image/png": "[encoded data removed]"
          },
          "metadata": {
            "image/png": {
              "width": 393,
              "height": 277
            },
            "needs_background": "light"
          }
        }
      ]
    },
    {
      "cell_type": "markdown",
      "source": [
        "# 2022/06/11の課題\n",
        "* 上の結果を改良できるかどうか、試行錯誤してみてください。"
      ],
      "metadata": {
        "id": "sflvsPYqkflX"
      }
    },
    {
      "cell_type": "code",
      "source": [
        ""
      ],
      "metadata": {
        "id": "zWoqZKFlkjsA"
      },
      "execution_count": 64,
      "outputs": []
    }
  ]
}
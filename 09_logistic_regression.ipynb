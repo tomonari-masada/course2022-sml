{
  "nbformat": 4,
  "nbformat_minor": 0,
  "metadata": {
    "colab": {
      "name": "09_logistic_regression.ipynb",
      "provenance": [],
      "collapsed_sections": [],
      "mount_file_id": "1UzJefMTp9kO00UjexZM37kCLESMzKGtV",
      "authorship_tag": "ABX9TyMcBdDv3gRhktQ7VpuTqBSg",
      "include_colab_link": true
    },
    "kernelspec": {
      "name": "python3",
      "display_name": "Python 3"
    }
  },
  "cells": [
    {
      "cell_type": "markdown",
      "metadata": {
        "id": "view-in-github",
        "colab_type": "text"
      },
      "source": [
        "<a href=\"https://colab.research.google.com/github/tomonari-masada/course2022-sml/blob/main/09_logistic_regression.ipynb\" target=\"_parent\"><img src=\"https://colab.research.google.com/assets/colab-badge.svg\" alt=\"Open In Colab\"/></a>"
      ]
    },
    {
      "cell_type": "markdown",
      "metadata": {
        "id": "l4aDsUHDiXoN"
      },
      "source": [
        "# 糖尿病をロジスティック回帰で予測してみる\n",
        "\n",
        "* 有名なPima Indians Diabetes Databaseを使う\n",
        "\n",
        " * https://www.kaggle.com/uciml/pima-indians-diabetes-database"
      ]
    },
    {
      "cell_type": "markdown",
      "metadata": {
        "id": "1DAJX8yeO0fc"
      },
      "source": [
        "* ロジスティック回帰、そして、分類の評価については、下記も参照\n",
        " * https://developers.google.com/machine-learning/crash-course/logistic-regression/\n",
        " * https://developers.google.com/machine-learning/crash-course/classification/"
      ]
    },
    {
      "cell_type": "markdown",
      "metadata": {
        "id": "eQ-egZTnizme"
      },
      "source": [
        "## 1) データの読み込み"
      ]
    },
    {
      "cell_type": "code",
      "metadata": {
        "id": "Pd20MbLdBfV5"
      },
      "source": [
        "import numpy as np\n",
        "import pandas as pd\n",
        "import matplotlib.pyplot as plt\n",
        "import seaborn as sns\n",
        "from sklearn.model_selection import train_test_split\n",
        "from sklearn.linear_model import LogisticRegression\n",
        "from sklearn.metrics import roc_auc_score, auc, roc_curve\n",
        "from sklearn.model_selection import StratifiedKFold\n",
        "\n",
        "%config InlineBackend.figure_format = 'retina'"
      ],
      "execution_count": 1,
      "outputs": []
    },
    {
      "cell_type": "code",
      "metadata": {
        "id": "h6Qv7hnyCEjh"
      },
      "source": [
        "diabetes = pd.read_csv('/content/drive/MyDrive/2021Courses/SML/diabetes.csv')"
      ],
      "execution_count": 2,
      "outputs": []
    },
    {
      "cell_type": "code",
      "metadata": {
        "id": "lGFzAgWbCvXT",
        "colab": {
          "base_uri": "https://localhost:8080/",
          "height": 206
        },
        "outputId": "28e33fa1-f80d-4cba-dd6e-1eafbe7ded39"
      },
      "source": [
        "diabetes.head()"
      ],
      "execution_count": 3,
      "outputs": [
        {
          "output_type": "execute_result",
          "data": {
            "text/plain": [
              "   Pregnancies  Glucose  BloodPressure  SkinThickness  Insulin   BMI  \\\n",
              "0            6      148             72             35        0  33.6   \n",
              "1            1       85             66             29        0  26.6   \n",
              "2            8      183             64              0        0  23.3   \n",
              "3            1       89             66             23       94  28.1   \n",
              "4            0      137             40             35      168  43.1   \n",
              "\n",
              "   DiabetesPedigreeFunction  Age  Outcome  \n",
              "0                     0.627   50        1  \n",
              "1                     0.351   31        0  \n",
              "2                     0.672   32        1  \n",
              "3                     0.167   21        0  \n",
              "4                     2.288   33        1  "
            ],
            "text/html": [
              "\n",
              "  <div id=\"df-656ac27a-cbcf-4588-83be-d357f752ba61\">\n",
              "    <div class=\"colab-df-container\">\n",
              "      <div>\n",
              "<style scoped>\n",
              "    .dataframe tbody tr th:only-of-type {\n",
              "        vertical-align: middle;\n",
              "    }\n",
              "\n",
              "    .dataframe tbody tr th {\n",
              "        vertical-align: top;\n",
              "    }\n",
              "\n",
              "    .dataframe thead th {\n",
              "        text-align: right;\n",
              "    }\n",
              "</style>\n",
              "<table border=\"1\" class=\"dataframe\">\n",
              "  <thead>\n",
              "    <tr style=\"text-align: right;\">\n",
              "      <th></th>\n",
              "      <th>Pregnancies</th>\n",
              "      <th>Glucose</th>\n",
              "      <th>BloodPressure</th>\n",
              "      <th>SkinThickness</th>\n",
              "      <th>Insulin</th>\n",
              "      <th>BMI</th>\n",
              "      <th>DiabetesPedigreeFunction</th>\n",
              "      <th>Age</th>\n",
              "      <th>Outcome</th>\n",
              "    </tr>\n",
              "  </thead>\n",
              "  <tbody>\n",
              "    <tr>\n",
              "      <th>0</th>\n",
              "      <td>6</td>\n",
              "      <td>148</td>\n",
              "      <td>72</td>\n",
              "      <td>35</td>\n",
              "      <td>0</td>\n",
              "      <td>33.6</td>\n",
              "      <td>0.627</td>\n",
              "      <td>50</td>\n",
              "      <td>1</td>\n",
              "    </tr>\n",
              "    <tr>\n",
              "      <th>1</th>\n",
              "      <td>1</td>\n",
              "      <td>85</td>\n",
              "      <td>66</td>\n",
              "      <td>29</td>\n",
              "      <td>0</td>\n",
              "      <td>26.6</td>\n",
              "      <td>0.351</td>\n",
              "      <td>31</td>\n",
              "      <td>0</td>\n",
              "    </tr>\n",
              "    <tr>\n",
              "      <th>2</th>\n",
              "      <td>8</td>\n",
              "      <td>183</td>\n",
              "      <td>64</td>\n",
              "      <td>0</td>\n",
              "      <td>0</td>\n",
              "      <td>23.3</td>\n",
              "      <td>0.672</td>\n",
              "      <td>32</td>\n",
              "      <td>1</td>\n",
              "    </tr>\n",
              "    <tr>\n",
              "      <th>3</th>\n",
              "      <td>1</td>\n",
              "      <td>89</td>\n",
              "      <td>66</td>\n",
              "      <td>23</td>\n",
              "      <td>94</td>\n",
              "      <td>28.1</td>\n",
              "      <td>0.167</td>\n",
              "      <td>21</td>\n",
              "      <td>0</td>\n",
              "    </tr>\n",
              "    <tr>\n",
              "      <th>4</th>\n",
              "      <td>0</td>\n",
              "      <td>137</td>\n",
              "      <td>40</td>\n",
              "      <td>35</td>\n",
              "      <td>168</td>\n",
              "      <td>43.1</td>\n",
              "      <td>2.288</td>\n",
              "      <td>33</td>\n",
              "      <td>1</td>\n",
              "    </tr>\n",
              "  </tbody>\n",
              "</table>\n",
              "</div>\n",
              "      <button class=\"colab-df-convert\" onclick=\"convertToInteractive('df-656ac27a-cbcf-4588-83be-d357f752ba61')\"\n",
              "              title=\"Convert this dataframe to an interactive table.\"\n",
              "              style=\"display:none;\">\n",
              "        \n",
              "  <svg xmlns=\"http://www.w3.org/2000/svg\" height=\"24px\"viewBox=\"0 0 24 24\"\n",
              "       width=\"24px\">\n",
              "    <path d=\"M0 0h24v24H0V0z\" fill=\"none\"/>\n",
              "    <path d=\"M18.56 5.44l.94 2.06.94-2.06 2.06-.94-2.06-.94-.94-2.06-.94 2.06-2.06.94zm-11 1L8.5 8.5l.94-2.06 2.06-.94-2.06-.94L8.5 2.5l-.94 2.06-2.06.94zm10 10l.94 2.06.94-2.06 2.06-.94-2.06-.94-.94-2.06-.94 2.06-2.06.94z\"/><path d=\"M17.41 7.96l-1.37-1.37c-.4-.4-.92-.59-1.43-.59-.52 0-1.04.2-1.43.59L10.3 9.45l-7.72 7.72c-.78.78-.78 2.05 0 2.83L4 21.41c.39.39.9.59 1.41.59.51 0 1.02-.2 1.41-.59l7.78-7.78 2.81-2.81c.8-.78.8-2.07 0-2.86zM5.41 20L4 18.59l7.72-7.72 1.47 1.35L5.41 20z\"/>\n",
              "  </svg>\n",
              "      </button>\n",
              "      \n",
              "  <style>\n",
              "    .colab-df-container {\n",
              "      display:flex;\n",
              "      flex-wrap:wrap;\n",
              "      gap: 12px;\n",
              "    }\n",
              "\n",
              "    .colab-df-convert {\n",
              "      background-color: #E8F0FE;\n",
              "      border: none;\n",
              "      border-radius: 50%;\n",
              "      cursor: pointer;\n",
              "      display: none;\n",
              "      fill: #1967D2;\n",
              "      height: 32px;\n",
              "      padding: 0 0 0 0;\n",
              "      width: 32px;\n",
              "    }\n",
              "\n",
              "    .colab-df-convert:hover {\n",
              "      background-color: #E2EBFA;\n",
              "      box-shadow: 0px 1px 2px rgba(60, 64, 67, 0.3), 0px 1px 3px 1px rgba(60, 64, 67, 0.15);\n",
              "      fill: #174EA6;\n",
              "    }\n",
              "\n",
              "    [theme=dark] .colab-df-convert {\n",
              "      background-color: #3B4455;\n",
              "      fill: #D2E3FC;\n",
              "    }\n",
              "\n",
              "    [theme=dark] .colab-df-convert:hover {\n",
              "      background-color: #434B5C;\n",
              "      box-shadow: 0px 1px 3px 1px rgba(0, 0, 0, 0.15);\n",
              "      filter: drop-shadow(0px 1px 2px rgba(0, 0, 0, 0.3));\n",
              "      fill: #FFFFFF;\n",
              "    }\n",
              "  </style>\n",
              "\n",
              "      <script>\n",
              "        const buttonEl =\n",
              "          document.querySelector('#df-656ac27a-cbcf-4588-83be-d357f752ba61 button.colab-df-convert');\n",
              "        buttonEl.style.display =\n",
              "          google.colab.kernel.accessAllowed ? 'block' : 'none';\n",
              "\n",
              "        async function convertToInteractive(key) {\n",
              "          const element = document.querySelector('#df-656ac27a-cbcf-4588-83be-d357f752ba61');\n",
              "          const dataTable =\n",
              "            await google.colab.kernel.invokeFunction('convertToInteractive',\n",
              "                                                     [key], {});\n",
              "          if (!dataTable) return;\n",
              "\n",
              "          const docLinkHtml = 'Like what you see? Visit the ' +\n",
              "            '<a target=\"_blank\" href=https://colab.research.google.com/notebooks/data_table.ipynb>data table notebook</a>'\n",
              "            + ' to learn more about interactive tables.';\n",
              "          element.innerHTML = '';\n",
              "          dataTable['output_type'] = 'display_data';\n",
              "          await google.colab.output.renderOutput(dataTable, element);\n",
              "          const docLink = document.createElement('div');\n",
              "          docLink.innerHTML = docLinkHtml;\n",
              "          element.appendChild(docLink);\n",
              "        }\n",
              "      </script>\n",
              "    </div>\n",
              "  </div>\n",
              "  "
            ]
          },
          "metadata": {},
          "execution_count": 3
        }
      ]
    },
    {
      "cell_type": "code",
      "metadata": {
        "colab": {
          "base_uri": "https://localhost:8080/"
        },
        "id": "MbybEGH8MIBm",
        "outputId": "603f8e7c-346f-40c0-f9c6-16e483f6b54a"
      },
      "source": [
        "diabetes.info()"
      ],
      "execution_count": 4,
      "outputs": [
        {
          "output_type": "stream",
          "name": "stdout",
          "text": [
            "<class 'pandas.core.frame.DataFrame'>\n",
            "RangeIndex: 768 entries, 0 to 767\n",
            "Data columns (total 9 columns):\n",
            " #   Column                    Non-Null Count  Dtype  \n",
            "---  ------                    --------------  -----  \n",
            " 0   Pregnancies               768 non-null    int64  \n",
            " 1   Glucose                   768 non-null    int64  \n",
            " 2   BloodPressure             768 non-null    int64  \n",
            " 3   SkinThickness             768 non-null    int64  \n",
            " 4   Insulin                   768 non-null    int64  \n",
            " 5   BMI                       768 non-null    float64\n",
            " 6   DiabetesPedigreeFunction  768 non-null    float64\n",
            " 7   Age                       768 non-null    int64  \n",
            " 8   Outcome                   768 non-null    int64  \n",
            "dtypes: float64(2), int64(7)\n",
            "memory usage: 54.1 KB\n"
          ]
        }
      ]
    },
    {
      "cell_type": "code",
      "metadata": {
        "id": "HgqyPRukDv80"
      },
      "source": [
        "y = diabetes['Outcome']\n",
        "X = diabetes.drop('Outcome', axis=1)"
      ],
      "execution_count": 5,
      "outputs": []
    },
    {
      "cell_type": "code",
      "metadata": {
        "colab": {
          "base_uri": "https://localhost:8080/"
        },
        "id": "oGUfGCWHnSd3",
        "outputId": "f40e2ee1-f530-40b7-da86-5cb384ba2329"
      },
      "source": [
        "X.shape"
      ],
      "execution_count": 6,
      "outputs": [
        {
          "output_type": "execute_result",
          "data": {
            "text/plain": [
              "(768, 8)"
            ]
          },
          "metadata": {},
          "execution_count": 6
        }
      ]
    },
    {
      "cell_type": "code",
      "metadata": {
        "id": "0r5JItJhD8AE",
        "colab": {
          "base_uri": "https://localhost:8080/",
          "height": 300
        },
        "outputId": "33ccae4a-eddd-41ff-851a-d83cd1865d6f"
      },
      "source": [
        "X.describe()"
      ],
      "execution_count": 7,
      "outputs": [
        {
          "output_type": "execute_result",
          "data": {
            "text/plain": [
              "       Pregnancies     Glucose  BloodPressure  SkinThickness     Insulin  \\\n",
              "count   768.000000  768.000000     768.000000     768.000000  768.000000   \n",
              "mean      3.845052  120.894531      69.105469      20.536458   79.799479   \n",
              "std       3.369578   31.972618      19.355807      15.952218  115.244002   \n",
              "min       0.000000    0.000000       0.000000       0.000000    0.000000   \n",
              "25%       1.000000   99.000000      62.000000       0.000000    0.000000   \n",
              "50%       3.000000  117.000000      72.000000      23.000000   30.500000   \n",
              "75%       6.000000  140.250000      80.000000      32.000000  127.250000   \n",
              "max      17.000000  199.000000     122.000000      99.000000  846.000000   \n",
              "\n",
              "              BMI  DiabetesPedigreeFunction         Age  \n",
              "count  768.000000                768.000000  768.000000  \n",
              "mean    31.992578                  0.471876   33.240885  \n",
              "std      7.884160                  0.331329   11.760232  \n",
              "min      0.000000                  0.078000   21.000000  \n",
              "25%     27.300000                  0.243750   24.000000  \n",
              "50%     32.000000                  0.372500   29.000000  \n",
              "75%     36.600000                  0.626250   41.000000  \n",
              "max     67.100000                  2.420000   81.000000  "
            ],
            "text/html": [
              "\n",
              "  <div id=\"df-0542ec6c-0a7a-4c5c-b7ed-9c07245735a1\">\n",
              "    <div class=\"colab-df-container\">\n",
              "      <div>\n",
              "<style scoped>\n",
              "    .dataframe tbody tr th:only-of-type {\n",
              "        vertical-align: middle;\n",
              "    }\n",
              "\n",
              "    .dataframe tbody tr th {\n",
              "        vertical-align: top;\n",
              "    }\n",
              "\n",
              "    .dataframe thead th {\n",
              "        text-align: right;\n",
              "    }\n",
              "</style>\n",
              "<table border=\"1\" class=\"dataframe\">\n",
              "  <thead>\n",
              "    <tr style=\"text-align: right;\">\n",
              "      <th></th>\n",
              "      <th>Pregnancies</th>\n",
              "      <th>Glucose</th>\n",
              "      <th>BloodPressure</th>\n",
              "      <th>SkinThickness</th>\n",
              "      <th>Insulin</th>\n",
              "      <th>BMI</th>\n",
              "      <th>DiabetesPedigreeFunction</th>\n",
              "      <th>Age</th>\n",
              "    </tr>\n",
              "  </thead>\n",
              "  <tbody>\n",
              "    <tr>\n",
              "      <th>count</th>\n",
              "      <td>768.000000</td>\n",
              "      <td>768.000000</td>\n",
              "      <td>768.000000</td>\n",
              "      <td>768.000000</td>\n",
              "      <td>768.000000</td>\n",
              "      <td>768.000000</td>\n",
              "      <td>768.000000</td>\n",
              "      <td>768.000000</td>\n",
              "    </tr>\n",
              "    <tr>\n",
              "      <th>mean</th>\n",
              "      <td>3.845052</td>\n",
              "      <td>120.894531</td>\n",
              "      <td>69.105469</td>\n",
              "      <td>20.536458</td>\n",
              "      <td>79.799479</td>\n",
              "      <td>31.992578</td>\n",
              "      <td>0.471876</td>\n",
              "      <td>33.240885</td>\n",
              "    </tr>\n",
              "    <tr>\n",
              "      <th>std</th>\n",
              "      <td>3.369578</td>\n",
              "      <td>31.972618</td>\n",
              "      <td>19.355807</td>\n",
              "      <td>15.952218</td>\n",
              "      <td>115.244002</td>\n",
              "      <td>7.884160</td>\n",
              "      <td>0.331329</td>\n",
              "      <td>11.760232</td>\n",
              "    </tr>\n",
              "    <tr>\n",
              "      <th>min</th>\n",
              "      <td>0.000000</td>\n",
              "      <td>0.000000</td>\n",
              "      <td>0.000000</td>\n",
              "      <td>0.000000</td>\n",
              "      <td>0.000000</td>\n",
              "      <td>0.000000</td>\n",
              "      <td>0.078000</td>\n",
              "      <td>21.000000</td>\n",
              "    </tr>\n",
              "    <tr>\n",
              "      <th>25%</th>\n",
              "      <td>1.000000</td>\n",
              "      <td>99.000000</td>\n",
              "      <td>62.000000</td>\n",
              "      <td>0.000000</td>\n",
              "      <td>0.000000</td>\n",
              "      <td>27.300000</td>\n",
              "      <td>0.243750</td>\n",
              "      <td>24.000000</td>\n",
              "    </tr>\n",
              "    <tr>\n",
              "      <th>50%</th>\n",
              "      <td>3.000000</td>\n",
              "      <td>117.000000</td>\n",
              "      <td>72.000000</td>\n",
              "      <td>23.000000</td>\n",
              "      <td>30.500000</td>\n",
              "      <td>32.000000</td>\n",
              "      <td>0.372500</td>\n",
              "      <td>29.000000</td>\n",
              "    </tr>\n",
              "    <tr>\n",
              "      <th>75%</th>\n",
              "      <td>6.000000</td>\n",
              "      <td>140.250000</td>\n",
              "      <td>80.000000</td>\n",
              "      <td>32.000000</td>\n",
              "      <td>127.250000</td>\n",
              "      <td>36.600000</td>\n",
              "      <td>0.626250</td>\n",
              "      <td>41.000000</td>\n",
              "    </tr>\n",
              "    <tr>\n",
              "      <th>max</th>\n",
              "      <td>17.000000</td>\n",
              "      <td>199.000000</td>\n",
              "      <td>122.000000</td>\n",
              "      <td>99.000000</td>\n",
              "      <td>846.000000</td>\n",
              "      <td>67.100000</td>\n",
              "      <td>2.420000</td>\n",
              "      <td>81.000000</td>\n",
              "    </tr>\n",
              "  </tbody>\n",
              "</table>\n",
              "</div>\n",
              "      <button class=\"colab-df-convert\" onclick=\"convertToInteractive('df-0542ec6c-0a7a-4c5c-b7ed-9c07245735a1')\"\n",
              "              title=\"Convert this dataframe to an interactive table.\"\n",
              "              style=\"display:none;\">\n",
              "        \n",
              "  <svg xmlns=\"http://www.w3.org/2000/svg\" height=\"24px\"viewBox=\"0 0 24 24\"\n",
              "       width=\"24px\">\n",
              "    <path d=\"M0 0h24v24H0V0z\" fill=\"none\"/>\n",
              "    <path d=\"M18.56 5.44l.94 2.06.94-2.06 2.06-.94-2.06-.94-.94-2.06-.94 2.06-2.06.94zm-11 1L8.5 8.5l.94-2.06 2.06-.94-2.06-.94L8.5 2.5l-.94 2.06-2.06.94zm10 10l.94 2.06.94-2.06 2.06-.94-2.06-.94-.94-2.06-.94 2.06-2.06.94z\"/><path d=\"M17.41 7.96l-1.37-1.37c-.4-.4-.92-.59-1.43-.59-.52 0-1.04.2-1.43.59L10.3 9.45l-7.72 7.72c-.78.78-.78 2.05 0 2.83L4 21.41c.39.39.9.59 1.41.59.51 0 1.02-.2 1.41-.59l7.78-7.78 2.81-2.81c.8-.78.8-2.07 0-2.86zM5.41 20L4 18.59l7.72-7.72 1.47 1.35L5.41 20z\"/>\n",
              "  </svg>\n",
              "      </button>\n",
              "      \n",
              "  <style>\n",
              "    .colab-df-container {\n",
              "      display:flex;\n",
              "      flex-wrap:wrap;\n",
              "      gap: 12px;\n",
              "    }\n",
              "\n",
              "    .colab-df-convert {\n",
              "      background-color: #E8F0FE;\n",
              "      border: none;\n",
              "      border-radius: 50%;\n",
              "      cursor: pointer;\n",
              "      display: none;\n",
              "      fill: #1967D2;\n",
              "      height: 32px;\n",
              "      padding: 0 0 0 0;\n",
              "      width: 32px;\n",
              "    }\n",
              "\n",
              "    .colab-df-convert:hover {\n",
              "      background-color: #E2EBFA;\n",
              "      box-shadow: 0px 1px 2px rgba(60, 64, 67, 0.3), 0px 1px 3px 1px rgba(60, 64, 67, 0.15);\n",
              "      fill: #174EA6;\n",
              "    }\n",
              "\n",
              "    [theme=dark] .colab-df-convert {\n",
              "      background-color: #3B4455;\n",
              "      fill: #D2E3FC;\n",
              "    }\n",
              "\n",
              "    [theme=dark] .colab-df-convert:hover {\n",
              "      background-color: #434B5C;\n",
              "      box-shadow: 0px 1px 3px 1px rgba(0, 0, 0, 0.15);\n",
              "      filter: drop-shadow(0px 1px 2px rgba(0, 0, 0, 0.3));\n",
              "      fill: #FFFFFF;\n",
              "    }\n",
              "  </style>\n",
              "\n",
              "      <script>\n",
              "        const buttonEl =\n",
              "          document.querySelector('#df-0542ec6c-0a7a-4c5c-b7ed-9c07245735a1 button.colab-df-convert');\n",
              "        buttonEl.style.display =\n",
              "          google.colab.kernel.accessAllowed ? 'block' : 'none';\n",
              "\n",
              "        async function convertToInteractive(key) {\n",
              "          const element = document.querySelector('#df-0542ec6c-0a7a-4c5c-b7ed-9c07245735a1');\n",
              "          const dataTable =\n",
              "            await google.colab.kernel.invokeFunction('convertToInteractive',\n",
              "                                                     [key], {});\n",
              "          if (!dataTable) return;\n",
              "\n",
              "          const docLinkHtml = 'Like what you see? Visit the ' +\n",
              "            '<a target=\"_blank\" href=https://colab.research.google.com/notebooks/data_table.ipynb>data table notebook</a>'\n",
              "            + ' to learn more about interactive tables.';\n",
              "          element.innerHTML = '';\n",
              "          dataTable['output_type'] = 'display_data';\n",
              "          await google.colab.output.renderOutput(dataTable, element);\n",
              "          const docLink = document.createElement('div');\n",
              "          docLink.innerHTML = docLinkHtml;\n",
              "          element.appendChild(docLink);\n",
              "        }\n",
              "      </script>\n",
              "    </div>\n",
              "  </div>\n",
              "  "
            ]
          },
          "metadata": {},
          "execution_count": 7
        }
      ]
    },
    {
      "cell_type": "markdown",
      "metadata": {
        "id": "E2uJY56bi3Ry"
      },
      "source": [
        "## 2) 訓練データ、テストデータに分割"
      ]
    },
    {
      "cell_type": "markdown",
      "metadata": {
        "id": "J6TDDlZenD3_"
      },
      "source": [
        "* この分割は変えないようにしてください。"
      ]
    },
    {
      "cell_type": "code",
      "metadata": {
        "id": "bLsoxn02B8CR"
      },
      "source": [
        "X_train, X_test, y_train, y_test = train_test_split(X, y, test_size=0.15, random_state=123)"
      ],
      "execution_count": 8,
      "outputs": []
    },
    {
      "cell_type": "markdown",
      "metadata": {
        "id": "M_NNgy-Fi839"
      },
      "source": [
        "* 以下、訓練データ部分を使って、交差検証によって良いモデルを探す。\n",
        "\n",
        "---\n",
        "\n"
      ]
    },
    {
      "cell_type": "markdown",
      "metadata": {
        "id": "2BtszzrDdRrj"
      },
      "source": [
        "## 3) デフォルト設定のロジスティック回帰をベースラインとみなしてテストデータでの評価値を得る\n"
      ]
    },
    {
      "cell_type": "code",
      "metadata": {
        "colab": {
          "base_uri": "https://localhost:8080/"
        },
        "id": "ac5I0ruIoSCY",
        "outputId": "2793d003-f52f-4f04-8cd1-319d2190d4ec"
      },
      "source": [
        "logreg_baseline = LogisticRegression(random_state=123)\n",
        "logreg_baseline.fit(X_train, y_train)"
      ],
      "execution_count": 9,
      "outputs": [
        {
          "output_type": "stream",
          "name": "stderr",
          "text": [
            "/usr/local/lib/python3.7/dist-packages/sklearn/linear_model/_logistic.py:818: ConvergenceWarning: lbfgs failed to converge (status=1):\n",
            "STOP: TOTAL NO. of ITERATIONS REACHED LIMIT.\n",
            "\n",
            "Increase the number of iterations (max_iter) or scale the data as shown in:\n",
            "    https://scikit-learn.org/stable/modules/preprocessing.html\n",
            "Please also refer to the documentation for alternative solver options:\n",
            "    https://scikit-learn.org/stable/modules/linear_model.html#logistic-regression\n",
            "  extra_warning_msg=_LOGISTIC_SOLVER_CONVERGENCE_MSG,\n"
          ]
        },
        {
          "output_type": "execute_result",
          "data": {
            "text/plain": [
              "LogisticRegression(random_state=123)"
            ]
          },
          "metadata": {},
          "execution_count": 9
        }
      ]
    },
    {
      "cell_type": "markdown",
      "metadata": {
        "id": "oNGfn66joV2t"
      },
      "source": [
        "* `max_iter`が小さいとの警告が出ているので、増やして学習しなおし。"
      ]
    },
    {
      "cell_type": "code",
      "metadata": {
        "colab": {
          "base_uri": "https://localhost:8080/"
        },
        "id": "ZF1Yyo3NocBr",
        "outputId": "5a510194-feba-4e3a-b371-daf99e24b476"
      },
      "source": [
        "logreg_baseline = LogisticRegression(max_iter=1000, random_state=123)\n",
        "logreg_baseline.fit(X_train, y_train)"
      ],
      "execution_count": 10,
      "outputs": [
        {
          "output_type": "execute_result",
          "data": {
            "text/plain": [
              "LogisticRegression(max_iter=1000, random_state=123)"
            ]
          },
          "metadata": {},
          "execution_count": 10
        }
      ]
    },
    {
      "cell_type": "markdown",
      "metadata": {
        "id": "zfHzwsAxoeiL"
      },
      "source": [
        "* 大丈夫だったので、テストデータでの最終評価値を得る。"
      ]
    },
    {
      "cell_type": "code",
      "metadata": {
        "id": "uEss5itsdJAU",
        "colab": {
          "base_uri": "https://localhost:8080/"
        },
        "outputId": "204e990e-3347-4907-953a-d4507b047838"
      },
      "source": [
        "print(f'test score: {logreg_baseline.score(X_test, y_test):.4f}')"
      ],
      "execution_count": 11,
      "outputs": [
        {
          "output_type": "stream",
          "name": "stdout",
          "text": [
            "test score: 0.8103\n"
          ]
        }
      ]
    },
    {
      "cell_type": "markdown",
      "metadata": {
        "id": "g93ND4YLrRUe"
      },
      "source": [
        "* Area under ROC curveも計算してみる。\n"
      ]
    },
    {
      "cell_type": "code",
      "metadata": {
        "colab": {
          "base_uri": "https://localhost:8080/"
        },
        "id": "5ufvnV0qrQtI",
        "outputId": "4fec1ce2-ab27-4ce4-ad14-e4e29dfa42c8"
      },
      "source": [
        "y_test_pred_proba = logreg_baseline.predict_proba(X_test)\n",
        "print(f'ROC AUC: {roc_auc_score(y_test, y_test_pred_proba[:,1]):.4f}')"
      ],
      "execution_count": 12,
      "outputs": [
        {
          "output_type": "stream",
          "name": "stdout",
          "text": [
            "ROC AUC: 0.8617\n"
          ]
        }
      ]
    },
    {
      "cell_type": "markdown",
      "metadata": {
        "id": "U_r9hAHttZZq"
      },
      "source": [
        "* ROC curveを描いてみる。\n",
        " * https://scikit-learn.org/stable/auto_examples/model_selection/plot_roc.html#sphx-glr-auto-examples-model-selection-plot-roc-py"
      ]
    },
    {
      "cell_type": "code",
      "metadata": {
        "colab": {
          "base_uri": "https://localhost:8080/",
          "height": 312
        },
        "id": "R8y1Fvlyslb9",
        "outputId": "d0edb128-4b82-4c62-a281-fdf26a2ac86d"
      },
      "source": [
        "y_score = logreg_baseline.decision_function(X_test)\n",
        "\n",
        "fpr, tpr, _ = roc_curve(y_test, y_score)\n",
        "roc_auc = auc(fpr, tpr)\n",
        "\n",
        "plt.plot(fpr, tpr, color='darkorange', label=f'ROC curve (area = {roc_auc:.4f})')\n",
        "plt.plot([0, 1], [0, 1], color='navy', linestyle='--')\n",
        "plt.xlim([0.0, 1.0])\n",
        "plt.ylim([0.0, 1.05])\n",
        "plt.xlabel('False Positive Rate')\n",
        "plt.ylabel('True Positive Rate')\n",
        "plt.title('Receiver operating characteristic example')\n",
        "plt.legend(loc=\"lower right\")"
      ],
      "execution_count": 13,
      "outputs": [
        {
          "output_type": "execute_result",
          "data": {
            "text/plain": [
              "<matplotlib.legend.Legend at 0x7faceff0f490>"
            ]
          },
          "metadata": {},
          "execution_count": 13
        },
        {
          "output_type": "display_data",
          "data": {
            "text/plain": [
              "<Figure size 432x288 with 1 Axes>"
            ],
            "image/png": "[encoded data removed]"
          },
          "metadata": {
            "image/png": {
              "width": 393,
              "height": 277
            },
            "needs_background": "light"
          }
        }
      ]
    },
    {
      "cell_type": "markdown",
      "metadata": {
        "id": "sMirEcP0dbaG"
      },
      "source": [
        "* これがベースラインなので、これより良い結果を得るべく、試行錯誤してください。\n",
        "* 試行錯誤した結果として辿り着いたモデルで、最後に一回、テストデータ上での評価を行ってください。"
      ]
    },
    {
      "cell_type": "markdown",
      "metadata": {
        "id": "NFLJ24NNxi0r"
      },
      "source": [
        "* ロジスティック回帰についてscoreがどのように計算されているかの確認\n",
        " * thresholdが0.5である必要は、実は、ない。\n",
        " * thresholdを、交差検証で決定してもよい。"
      ]
    },
    {
      "cell_type": "markdown",
      "source": [
        "* `threshold = 0.5`とすれば、次のセルで求まる値と、上で求めたtest scoreは、一致する。"
      ],
      "metadata": {
        "id": "L2dZq3u3gz36"
      }
    },
    {
      "cell_type": "code",
      "metadata": {
        "colab": {
          "base_uri": "https://localhost:8080/"
        },
        "id": "H7Yjaca4xK7C",
        "outputId": "f0f5d65d-7fe2-495d-ff1f-30905700cc3f"
      },
      "source": [
        "threshold = 0.5\n",
        "((logreg_baseline.predict_proba(X_test) >= threshold)[:,1] * 1 == y_test).sum() / len(y_test)"
      ],
      "execution_count": 14,
      "outputs": [
        {
          "output_type": "execute_result",
          "data": {
            "text/plain": [
              "0.8103448275862069"
            ]
          },
          "metadata": {},
          "execution_count": 14
        }
      ]
    },
    {
      "cell_type": "markdown",
      "metadata": {
        "id": "VtaI7G6IpDgG"
      },
      "source": [
        "## 4) 交差検証しつつ試行錯誤する"
      ]
    },
    {
      "cell_type": "markdown",
      "metadata": {
        "id": "0eSIADnNt1OU"
      },
      "source": [
        "* 元のデータを保存しておく。\n",
        " * 後で、訓練データだけから得られる情報を使って、訓練データも、テストデータも、変更するため。"
      ]
    },
    {
      "cell_type": "code",
      "metadata": {
        "id": "Sz0bpDyitz53"
      },
      "source": [
        "X_train_original = X_train.copy()\n",
        "X_test_original = X_test.copy()"
      ],
      "execution_count": 15,
      "outputs": []
    },
    {
      "cell_type": "markdown",
      "metadata": {
        "id": "Vx322yZLSkTV"
      },
      "source": [
        "### A) 最初に交差検証の準備をしておく"
      ]
    },
    {
      "cell_type": "code",
      "metadata": {
        "id": "2s3rL94SDW3u"
      },
      "source": [
        "skf = StratifiedKFold(n_splits=10, shuffle=True, random_state=123)"
      ],
      "execution_count": 16,
      "outputs": []
    },
    {
      "cell_type": "markdown",
      "metadata": {
        "id": "WK1tqw_yQ0JM"
      },
      "source": [
        "### B) 交差検証による評価のための関数を定義しておく"
      ]
    },
    {
      "cell_type": "code",
      "metadata": {
        "id": "8BdbwVSqDEkH"
      },
      "source": [
        "def cv(skf, X_train, y_train, args={}):\n",
        "  scores = list()\n",
        "  for train_index, valid_index in skf.split(X_train, y_train):\n",
        "\n",
        "    # ロジスティック回帰の学習\n",
        "    if not 'max_iter' in args:\n",
        "      logreg = LogisticRegression(**args, max_iter=1000, random_state=123)\n",
        "    else:\n",
        "      logreg = LogisticRegression(**args, random_state=123)\n",
        "    logreg.fit(X_train.iloc[train_index], y_train.iloc[train_index])\n",
        "\n",
        "    # 検証データでの評価\n",
        "    score = logreg.score(X_train.iloc[valid_index], y_train.iloc[valid_index])\n",
        "    print(f'score: {score:.4f}')\n",
        "    scores.append(score)\n",
        "\n",
        "  print(f'mean score: {np.array(scores).mean():.4f}', end=' ')\n",
        "  if args:\n",
        "    print('{', ' '.join([f'\"{str(k):s}\":{str(args[k]):s}' for k in args]), '}')\n",
        "  else:\n",
        "    print()"
      ],
      "execution_count": 17,
      "outputs": []
    },
    {
      "cell_type": "markdown",
      "metadata": {
        "id": "DyJOj1VjRCyb"
      },
      "source": [
        "### C) デフォルト設定のロジスティック回帰の性能を評価する\n",
        "* 交差検証で性能評価するとどうなるかを確認している。"
      ]
    },
    {
      "cell_type": "code",
      "metadata": {
        "id": "Ybu2HlflEcEH",
        "colab": {
          "base_uri": "https://localhost:8080/"
        },
        "outputId": "93460db4-e9e7-4148-b6c8-c5bf529f6fca"
      },
      "source": [
        "cv(skf, X_train, y_train)"
      ],
      "execution_count": 18,
      "outputs": [
        {
          "output_type": "stream",
          "name": "stdout",
          "text": [
            "score: 0.8182\n",
            "score: 0.7879\n",
            "score: 0.7385\n",
            "score: 0.7692\n",
            "score: 0.7692\n",
            "score: 0.7538\n",
            "score: 0.7538\n",
            "score: 0.7846\n",
            "score: 0.7231\n",
            "score: 0.7385\n",
            "mean score: 0.7637 \n"
          ]
        }
      ]
    },
    {
      "cell_type": "markdown",
      "metadata": {
        "id": "QzTgn1PzSYl6"
      },
      "source": [
        "### D) BloodPressureへの対応"
      ]
    },
    {
      "cell_type": "markdown",
      "metadata": {
        "id": "4uGFAoBFp9Q9"
      },
      "source": [
        "* まず、属性「BloodPressure」について、ヒストグラムを描いてよくよく眺める。\n"
      ]
    },
    {
      "cell_type": "code",
      "metadata": {
        "id": "5cv90evwFhjJ",
        "colab": {
          "base_uri": "https://localhost:8080/",
          "height": 278
        },
        "outputId": "b11344f8-d80b-43df-8132-be728c38f815"
      },
      "source": [
        "sns.histplot(X_train['BloodPressure']);"
      ],
      "execution_count": 19,
      "outputs": [
        {
          "output_type": "display_data",
          "data": {
            "text/plain": [
              "<Figure size 432x288 with 1 Axes>"
            ],
            "image/png": "[encoded data removed]"
          },
          "metadata": {
            "image/png": {
              "width": 382,
              "height": 261
            },
            "needs_background": "light"
          }
        }
      ]
    },
    {
      "cell_type": "markdown",
      "metadata": {
        "id": "RPEAoO9CqB9m"
      },
      "source": [
        "* 0という値がけっこうあるらしい。実は、これは欠測値。そこで、中央値で埋めることにする。\n",
        " * この前処理の仕方で正しいという保証はありません。\n"
      ]
    },
    {
      "cell_type": "code",
      "metadata": {
        "id": "ITc026D4JskX",
        "colab": {
          "base_uri": "https://localhost:8080/"
        },
        "outputId": "528f2b5d-e3ce-4b6c-e32d-982da94e39af"
      },
      "source": [
        "bp_median = np.median(X_train[X_train.BloodPressure != 0]['BloodPressure'])\n",
        "print(f'blood pressure median: {bp_median}')\n",
        "X_train = X_train.replace({'BloodPressure':0}, bp_median)"
      ],
      "execution_count": 20,
      "outputs": [
        {
          "output_type": "stream",
          "name": "stdout",
          "text": [
            "blood pressure median: 72.0\n"
          ]
        }
      ]
    },
    {
      "cell_type": "markdown",
      "metadata": {
        "id": "-H0WloZ1qH_y"
      },
      "source": [
        "* もう一度、ヒストグラムを描く。\n"
      ]
    },
    {
      "cell_type": "code",
      "metadata": {
        "id": "coW1dKi0KlJl",
        "colab": {
          "base_uri": "https://localhost:8080/",
          "height": 278
        },
        "outputId": "7531b733-8acd-4227-ad9a-fd963bceb548"
      },
      "source": [
        "sns.histplot(X_train['BloodPressure']);"
      ],
      "execution_count": 21,
      "outputs": [
        {
          "output_type": "display_data",
          "data": {
            "text/plain": [
              "<Figure size 432x288 with 1 Axes>"
            ],
            "image/png": "[encoded data removed]"
          },
          "metadata": {
            "image/png": {
              "width": 388,
              "height": 261
            },
            "needs_background": "light"
          }
        }
      ]
    },
    {
      "cell_type": "markdown",
      "metadata": {
        "id": "C0G06qlLOPaH"
      },
      "source": [
        "* 交差検証で評価する。"
      ]
    },
    {
      "cell_type": "code",
      "metadata": {
        "id": "oOk6Lf19EuXj",
        "colab": {
          "base_uri": "https://localhost:8080/"
        },
        "outputId": "d6cf727c-ded7-4af7-dfa8-64b0ebfd14e8"
      },
      "source": [
        "cv(skf, X_train, y_train)"
      ],
      "execution_count": 22,
      "outputs": [
        {
          "output_type": "stream",
          "name": "stdout",
          "text": [
            "score: 0.8182\n",
            "score: 0.8182\n",
            "score: 0.7538\n",
            "score: 0.7538\n",
            "score: 0.7692\n",
            "score: 0.7846\n",
            "score: 0.7538\n",
            "score: 0.7846\n",
            "score: 0.7077\n",
            "score: 0.7385\n",
            "mean score: 0.7683 \n"
          ]
        }
      ]
    },
    {
      "cell_type": "markdown",
      "metadata": {
        "id": "-H_NVFQvqKsb"
      },
      "source": [
        "* test dataの「BloodPressure」の欠測値も、training dataと同じ値で埋める。\n",
        " * この作業は、training dataから得られる情報しか使っていないので、ズルはしていない。\n"
      ]
    },
    {
      "cell_type": "code",
      "metadata": {
        "id": "HaT4Y7MQLTPf"
      },
      "source": [
        "X_test = X_test.replace({'BloodPressure':0}, bp_median)"
      ],
      "execution_count": 23,
      "outputs": []
    },
    {
      "cell_type": "markdown",
      "metadata": {
        "id": "ngfAvLFOS23T"
      },
      "source": [
        "### E) BMIへの対応"
      ]
    },
    {
      "cell_type": "markdown",
      "metadata": {
        "id": "GpRXbEREqcrN"
      },
      "source": [
        "* 次に、training dataの「BMI」のヒストグラムを描いてみる\n"
      ]
    },
    {
      "cell_type": "code",
      "metadata": {
        "id": "wC-DcEmwMQDn",
        "colab": {
          "base_uri": "https://localhost:8080/",
          "height": 278
        },
        "outputId": "fd9c18a1-ae7a-4328-b6fc-c00cd8effed9"
      },
      "source": [
        "sns.histplot(X_train['BMI']);"
      ],
      "execution_count": 24,
      "outputs": [
        {
          "output_type": "display_data",
          "data": {
            "text/plain": [
              "<Figure size 432x288 with 1 Axes>"
            ],
            "image/png": "[encoded data removed]"
          },
          "metadata": {
            "image/png": {
              "width": 382,
              "height": 261
            },
            "needs_background": "light"
          }
        }
      ]
    },
    {
      "cell_type": "markdown",
      "metadata": {
        "id": "xAxC2NJcqfGb"
      },
      "source": [
        "* やはり欠測値の部分が0とされているようなので、先ほどと同様、中央値で埋める。\n"
      ]
    },
    {
      "cell_type": "code",
      "metadata": {
        "id": "LgKJFIc9pz7n",
        "colab": {
          "base_uri": "https://localhost:8080/",
          "height": 296
        },
        "outputId": "438a36fb-f70e-437b-e6a6-deb529698f5a"
      },
      "source": [
        "bmi_median = np.median(X_train[X_train.BMI != 0]['BMI'])\n",
        "print(f'BMI median: {bmi_median}')\n",
        "X_train = X_train.replace({'BMI':0}, bmi_median)\n",
        "sns.histplot(X_train['BMI']);"
      ],
      "execution_count": 25,
      "outputs": [
        {
          "output_type": "stream",
          "name": "stdout",
          "text": [
            "BMI median: 32.4\n"
          ]
        },
        {
          "output_type": "display_data",
          "data": {
            "text/plain": [
              "<Figure size 432x288 with 1 Axes>"
            ],
            "image/png": "[encoded data removed]"
          },
          "metadata": {
            "image/png": {
              "width": 382,
              "height": 261
            },
            "needs_background": "light"
          }
        }
      ]
    },
    {
      "cell_type": "code",
      "metadata": {
        "id": "nLkcjQooEz0f",
        "colab": {
          "base_uri": "https://localhost:8080/"
        },
        "outputId": "3c2c4c3a-16b1-4982-e6c5-41c423043ba4"
      },
      "source": [
        "cv(skf, X_train, y_train)"
      ],
      "execution_count": 26,
      "outputs": [
        {
          "output_type": "stream",
          "name": "stdout",
          "text": [
            "score: 0.8333\n",
            "score: 0.8030\n",
            "score: 0.7846\n",
            "score: 0.7538\n",
            "score: 0.7692\n",
            "score: 0.7846\n",
            "score: 0.7538\n",
            "score: 0.7846\n",
            "score: 0.7077\n",
            "score: 0.7385\n",
            "mean score: 0.7713 \n"
          ]
        }
      ]
    },
    {
      "cell_type": "markdown",
      "metadata": {
        "id": "sFQsbhyHqiGQ"
      },
      "source": [
        "* test dataのBMIの欠測値も、同じ値で埋める \n",
        "\n"
      ]
    },
    {
      "cell_type": "code",
      "metadata": {
        "id": "H1htZ8k4KsNW"
      },
      "source": [
        "X_test = X_test.replace({'BMI':0}, bmi_median)"
      ],
      "execution_count": 27,
      "outputs": []
    },
    {
      "cell_type": "markdown",
      "metadata": {
        "id": "FRsaNT2iTWXr"
      },
      "source": [
        "### F) Glucoseへの対応"
      ]
    },
    {
      "cell_type": "code",
      "metadata": {
        "id": "XYkYQJSLTKo2",
        "colab": {
          "base_uri": "https://localhost:8080/",
          "height": 278
        },
        "outputId": "9268f53c-3f65-482d-cd88-9d7ea530283e"
      },
      "source": [
        "sns.histplot(X_train['Glucose']);"
      ],
      "execution_count": 28,
      "outputs": [
        {
          "output_type": "display_data",
          "data": {
            "text/plain": [
              "<Figure size 432x288 with 1 Axes>"
            ],
            "image/png": "[encoded data removed]"
          },
          "metadata": {
            "image/png": {
              "width": 382,
              "height": 261
            },
            "needs_background": "light"
          }
        }
      ]
    },
    {
      "cell_type": "code",
      "metadata": {
        "id": "NYbXN-p9TZ52",
        "colab": {
          "base_uri": "https://localhost:8080/",
          "height": 296
        },
        "outputId": "8ebedb90-5f0f-44aa-835a-e4f904c89149"
      },
      "source": [
        "glucose_median = np.median(X_train[X_train.Glucose != 0]['Glucose'])\n",
        "print(f'glucose median: {glucose_median}')\n",
        "X_train = X_train.replace({'Glucose':0}, glucose_median)\n",
        "sns.histplot(X_train['Glucose']);"
      ],
      "execution_count": 29,
      "outputs": [
        {
          "output_type": "stream",
          "name": "stdout",
          "text": [
            "glucose median: 117.0\n"
          ]
        },
        {
          "output_type": "display_data",
          "data": {
            "text/plain": [
              "<Figure size 432x288 with 1 Axes>"
            ],
            "image/png": "[encoded data removed]"
          },
          "metadata": {
            "image/png": {
              "width": 382,
              "height": 261
            },
            "needs_background": "light"
          }
        }
      ]
    },
    {
      "cell_type": "code",
      "metadata": {
        "id": "OA7TcLkgTprV",
        "colab": {
          "base_uri": "https://localhost:8080/"
        },
        "outputId": "47757d30-d0b3-49a8-8620-2f6a4930b8da"
      },
      "source": [
        "cv(skf, X_train, y_train)"
      ],
      "execution_count": 30,
      "outputs": [
        {
          "output_type": "stream",
          "name": "stdout",
          "text": [
            "score: 0.8333\n",
            "score: 0.8182\n",
            "score: 0.7846\n",
            "score: 0.7538\n",
            "score: 0.7846\n",
            "score: 0.7846\n",
            "score: 0.7538\n",
            "score: 0.8000\n",
            "score: 0.7077\n",
            "score: 0.7385\n",
            "mean score: 0.7759 \n"
          ]
        }
      ]
    },
    {
      "cell_type": "markdown",
      "metadata": {
        "id": "S1_aWeLoqzU5"
      },
      "source": [
        "* test dataのGlucoseの欠測箇所も、同じ値で埋める \n",
        "\n"
      ]
    },
    {
      "cell_type": "code",
      "metadata": {
        "id": "ro2e96DcVopO"
      },
      "source": [
        "X_test = X_test.replace({'Glucose':0}, glucose_median)"
      ],
      "execution_count": 31,
      "outputs": []
    },
    {
      "cell_type": "markdown",
      "metadata": {
        "id": "lu5aGqJZ03Ox"
      },
      "source": [
        "ここまでの交差検証でのベスト・スコアは0.7759。"
      ]
    },
    {
      "cell_type": "markdown",
      "metadata": {
        "id": "q1uy1M8BZTlk"
      },
      "source": [
        "### G) DiabetesPedigreeFunctionへの対応"
      ]
    },
    {
      "cell_type": "code",
      "metadata": {
        "id": "SsfKM8V0ZMpw",
        "colab": {
          "base_uri": "https://localhost:8080/",
          "height": 278
        },
        "outputId": "1c6f3f96-8011-46e2-8eda-05ee754dd8d9"
      },
      "source": [
        "sns.histplot(X_train['DiabetesPedigreeFunction'], bins=50);"
      ],
      "execution_count": 32,
      "outputs": [
        {
          "output_type": "display_data",
          "data": {
            "text/plain": [
              "<Figure size 432x288 with 1 Axes>"
            ],
            "image/png": "[encoded data removed]"
          },
          "metadata": {
            "image/png": {
              "width": 385,
              "height": 261
            },
            "needs_background": "light"
          }
        }
      ]
    },
    {
      "cell_type": "code",
      "metadata": {
        "id": "wIctdU3NxZcp",
        "colab": {
          "base_uri": "https://localhost:8080/",
          "height": 278
        },
        "outputId": "59a5532c-d55d-4e52-f9f3-924ee789655a"
      },
      "source": [
        "from scipy.stats import boxcox\n",
        "\n",
        "X_train_boxcox = X_train.copy()\n",
        "X_train_boxcox.DiabetesPedigreeFunction, maxlog = boxcox(X_train.DiabetesPedigreeFunction)\n",
        "sns.histplot(X_train_boxcox['DiabetesPedigreeFunction'], bins=50);"
      ],
      "execution_count": 33,
      "outputs": [
        {
          "output_type": "display_data",
          "data": {
            "text/plain": [
              "<Figure size 432x288 with 1 Axes>"
            ],
            "image/png": "[encoded data removed]"
          },
          "metadata": {
            "image/png": {
              "width": 387,
              "height": 261
            },
            "needs_background": "light"
          }
        }
      ]
    },
    {
      "cell_type": "code",
      "metadata": {
        "id": "LQwJgs_TyA0g",
        "colab": {
          "base_uri": "https://localhost:8080/"
        },
        "outputId": "ab2d031c-7a79-458a-ab30-398dd1b0b4f4"
      },
      "source": [
        "cv(skf, X_train_boxcox, y_train)"
      ],
      "execution_count": 34,
      "outputs": [
        {
          "output_type": "stream",
          "name": "stdout",
          "text": [
            "score: 0.8182\n",
            "score: 0.8333\n",
            "score: 0.7692\n",
            "score: 0.7692\n",
            "score: 0.7538\n",
            "score: 0.7846\n",
            "score: 0.7692\n",
            "score: 0.8000\n",
            "score: 0.7077\n",
            "score: 0.7385\n",
            "mean score: 0.7744 \n"
          ]
        }
      ]
    },
    {
      "cell_type": "markdown",
      "metadata": {
        "id": "Ltp3l8OpyF-o"
      },
      "source": [
        "悪くなったので不採用。"
      ]
    },
    {
      "cell_type": "markdown",
      "metadata": {
        "id": "B7hDDVnNUATp"
      },
      "source": [
        "### H) SkinThicknessとInsulin: 線形回帰で欠測値を埋める"
      ]
    },
    {
      "cell_type": "code",
      "metadata": {
        "id": "kvegwCbRuBIS",
        "colab": {
          "base_uri": "https://localhost:8080/",
          "height": 281
        },
        "outputId": "f67b6a63-53a7-4a45-f6de-4eed81cb6305"
      },
      "source": [
        "sns.histplot(X_train['SkinThickness'], bins=50);"
      ],
      "execution_count": 35,
      "outputs": [
        {
          "output_type": "display_data",
          "data": {
            "text/plain": [
              "<Figure size 432x288 with 1 Axes>"
            ],
            "image/png": "[encoded data removed]"
          },
          "metadata": {
            "image/png": {
              "width": 388,
              "height": 264
            },
            "needs_background": "light"
          }
        }
      ]
    },
    {
      "cell_type": "code",
      "metadata": {
        "id": "L5ffQqerbRMc",
        "colab": {
          "base_uri": "https://localhost:8080/",
          "height": 278
        },
        "outputId": "5fd4432a-eb3c-4409-cb56-1cd862701f7c"
      },
      "source": [
        "sns.histplot(X_train['Insulin'], bins=50);"
      ],
      "execution_count": 36,
      "outputs": [
        {
          "output_type": "display_data",
          "data": {
            "text/plain": [
              "<Figure size 432x288 with 1 Axes>"
            ],
            "image/png": "[encoded data removed]"
          },
          "metadata": {
            "image/png": {
              "width": 388,
              "height": 261
            },
            "needs_background": "light"
          }
        }
      ]
    },
    {
      "cell_type": "code",
      "metadata": {
        "id": "AE7hom2eVWnR",
        "colab": {
          "base_uri": "https://localhost:8080/"
        },
        "outputId": "7912ba64-7aed-4d3b-e138-1b2da13ab34d"
      },
      "source": [
        "(X_train['SkinThickness'] == 0).sum()"
      ],
      "execution_count": 37,
      "outputs": [
        {
          "output_type": "execute_result",
          "data": {
            "text/plain": [
              "191"
            ]
          },
          "metadata": {},
          "execution_count": 37
        }
      ]
    },
    {
      "cell_type": "code",
      "metadata": {
        "id": "7l5ISkugWXmc",
        "colab": {
          "base_uri": "https://localhost:8080/"
        },
        "outputId": "08b7d292-8a8c-4e6a-9f7b-b46367997ee8"
      },
      "source": [
        "(X_train['Insulin'] == 0).sum()"
      ],
      "execution_count": 38,
      "outputs": [
        {
          "output_type": "execute_result",
          "data": {
            "text/plain": [
              "314"
            ]
          },
          "metadata": {},
          "execution_count": 38
        }
      ]
    },
    {
      "cell_type": "code",
      "metadata": {
        "id": "Mg87bdcVYCT1",
        "colab": {
          "base_uri": "https://localhost:8080/"
        },
        "outputId": "1fc1ac85-128c-4bc6-fd24-4157d3a26a36"
      },
      "source": [
        "((X_train['SkinThickness'] == 0) & (X_train['Insulin'] == 0)).sum()"
      ],
      "execution_count": 39,
      "outputs": [
        {
          "output_type": "execute_result",
          "data": {
            "text/plain": [
              "191"
            ]
          },
          "metadata": {},
          "execution_count": 39
        }
      ]
    },
    {
      "cell_type": "code",
      "metadata": {
        "id": "6Y8vGCUDWeLA"
      },
      "source": [
        "for i in X_train.index[X_train['SkinThickness'] == 0]:\n",
        "  if not i in X_train.index[X_train['Insulin'] == 0]:\n",
        "    print('No')"
      ],
      "execution_count": 40,
      "outputs": []
    },
    {
      "cell_type": "markdown",
      "metadata": {
        "id": "ojghc1WgXQ4h"
      },
      "source": [
        "SkinThicknessが0の個体は、必ずInsulinも0になっているらしい。\n",
        "\n",
        "ただし、これは訓練データだけでこうなっているだけかもしれないので、この事実に依存して何かをすることはしない。"
      ]
    },
    {
      "cell_type": "code",
      "metadata": {
        "id": "o1zdunK4YtZM",
        "colab": {
          "base_uri": "https://localhost:8080/"
        },
        "outputId": "77ec4636-b83c-4b13-beae-caac0174c6fa"
      },
      "source": [
        "# LassoでSkinThicknessとInsulinの欠測部分を埋める\n",
        "\n",
        "from sklearn.linear_model import Lasso\n",
        "\n",
        "columns = X_train.columns[(X_train.columns != 'SkinThickness') & (X_train.columns != 'Insulin')]\n",
        "\n",
        "for alpha in np.power(10.0, np.arange(12) - 5):\n",
        "\n",
        "  X_train_copy = X_train.copy()\n",
        "\n",
        "  indices = (X_train['SkinThickness'] != 0)\n",
        "  reg = Lasso(alpha=alpha)\n",
        "  reg.fit(X_train.loc[indices, columns], X_train.loc[indices, 'SkinThickness'])\n",
        "  X_train_copy.loc[~ indices, 'SkinThickness'] = reg.predict(X_train.loc[~ indices, columns])\n",
        "\n",
        "  indices = (X_train['Insulin'] != 0)\n",
        "  reg = Lasso(alpha=alpha)\n",
        "  reg.fit(X_train.loc[indices, columns], X_train.loc[indices, 'Insulin'])\n",
        "  X_train_copy.loc[~ indices, 'Insulin'] = reg.predict(X_train.loc[~ indices, columns])\n",
        "\n",
        "  print('-'*8, alpha, '-'*16)\n",
        "  cv(skf, X_train_copy, y_train)"
      ],
      "execution_count": 41,
      "outputs": [
        {
          "output_type": "stream",
          "name": "stdout",
          "text": [
            "-------- 1e-05 ----------------\n",
            "score: 0.8182\n",
            "score: 0.8030\n",
            "score: 0.7538\n",
            "score: 0.7538\n",
            "score: 0.8000\n",
            "score: 0.7692\n",
            "score: 0.7538\n",
            "score: 0.8000\n",
            "score: 0.7231\n",
            "score: 0.7538\n",
            "mean score: 0.7729 \n",
            "-------- 0.0001 ----------------\n",
            "score: 0.8182\n",
            "score: 0.8030\n",
            "score: 0.7538\n",
            "score: 0.7538\n",
            "score: 0.8000\n",
            "score: 0.7692\n",
            "score: 0.7538\n",
            "score: 0.8000\n",
            "score: 0.7231\n",
            "score: 0.7538\n",
            "mean score: 0.7729 \n",
            "-------- 0.001 ----------------\n",
            "score: 0.8182\n",
            "score: 0.8030\n",
            "score: 0.7538\n",
            "score: 0.7538\n",
            "score: 0.8000\n",
            "score: 0.7692\n",
            "score: 0.7538\n",
            "score: 0.8000\n",
            "score: 0.7231\n",
            "score: 0.7538\n",
            "mean score: 0.7729 \n",
            "-------- 0.01 ----------------\n",
            "score: 0.8182\n",
            "score: 0.8030\n",
            "score: 0.7538\n",
            "score: 0.7538\n",
            "score: 0.8000\n",
            "score: 0.7692\n",
            "score: 0.7538\n",
            "score: 0.8000\n",
            "score: 0.7231\n",
            "score: 0.7538\n",
            "mean score: 0.7729 \n",
            "-------- 0.1 ----------------\n",
            "score: 0.8182\n",
            "score: 0.8030\n",
            "score: 0.7538\n",
            "score: 0.7538\n",
            "score: 0.8000\n",
            "score: 0.7692\n",
            "score: 0.7538\n",
            "score: 0.8000\n",
            "score: 0.7231\n",
            "score: 0.7538\n",
            "mean score: 0.7729 \n",
            "-------- 1.0 ----------------\n",
            "score: 0.8182\n",
            "score: 0.8030\n",
            "score: 0.7538\n",
            "score: 0.7538\n",
            "score: 0.8000\n",
            "score: 0.7692\n",
            "score: 0.7538\n",
            "score: 0.8000\n",
            "score: 0.7231\n",
            "score: 0.7538\n",
            "mean score: 0.7729 \n",
            "-------- 10.0 ----------------\n",
            "score: 0.8182\n",
            "score: 0.7879\n",
            "score: 0.7538\n",
            "score: 0.7538\n",
            "score: 0.8000\n",
            "score: 0.7692\n",
            "score: 0.7538\n",
            "score: 0.8000\n",
            "score: 0.7231\n",
            "score: 0.7538\n",
            "mean score: 0.7714 \n",
            "-------- 100.0 ----------------\n",
            "score: 0.8182\n",
            "score: 0.7879\n",
            "score: 0.7538\n",
            "score: 0.7538\n",
            "score: 0.8000\n",
            "score: 0.7692\n",
            "score: 0.7538\n",
            "score: 0.7846\n",
            "score: 0.7231\n",
            "score: 0.7538\n",
            "mean score: 0.7698 \n",
            "-------- 1000.0 ----------------\n",
            "score: 0.8182\n",
            "score: 0.7879\n",
            "score: 0.7538\n",
            "score: 0.7538\n",
            "score: 0.8000\n",
            "score: 0.7692\n",
            "score: 0.7538\n",
            "score: 0.7846\n",
            "score: 0.7231\n",
            "score: 0.7538\n",
            "mean score: 0.7698 \n",
            "-------- 10000.0 ----------------\n",
            "score: 0.8333\n",
            "score: 0.8030\n",
            "score: 0.7538\n",
            "score: 0.7538\n",
            "score: 0.7846\n",
            "score: 0.7692\n",
            "score: 0.7538\n",
            "score: 0.8000\n",
            "score: 0.7231\n",
            "score: 0.7538\n",
            "mean score: 0.7729 \n",
            "-------- 100000.0 ----------------\n",
            "score: 0.8333\n",
            "score: 0.8030\n",
            "score: 0.7538\n",
            "score: 0.7538\n",
            "score: 0.7846\n",
            "score: 0.7692\n",
            "score: 0.7538\n",
            "score: 0.8000\n",
            "score: 0.7231\n",
            "score: 0.7538\n",
            "mean score: 0.7729 \n",
            "-------- 1000000.0 ----------------\n",
            "score: 0.8333\n",
            "score: 0.8030\n",
            "score: 0.7538\n",
            "score: 0.7538\n",
            "score: 0.7846\n",
            "score: 0.7692\n",
            "score: 0.7538\n",
            "score: 0.8000\n",
            "score: 0.7231\n",
            "score: 0.7538\n",
            "mean score: 0.7729 \n"
          ]
        }
      ]
    },
    {
      "cell_type": "code",
      "metadata": {
        "id": "Du0pMC1kYyHQ",
        "colab": {
          "base_uri": "https://localhost:8080/"
        },
        "outputId": "29ce118d-6069-4018-fed7-ebfc6170f273"
      },
      "source": [
        "# Ridge回帰でSkinThicknessとInsulinの欠測部分を埋める\n",
        "\n",
        "from sklearn.linear_model import Ridge\n",
        "\n",
        "columns = X_train.columns[(X_train.columns != 'SkinThickness') & (X_train.columns != 'Insulin')]\n",
        "\n",
        "for alpha in np.power(10.0, np.arange(12) - 5):\n",
        "\n",
        "  X_train_copy = X_train.copy()\n",
        "\n",
        "  indices = (X_train['SkinThickness'] != 0)\n",
        "  reg = Ridge(alpha=alpha)\n",
        "  reg.fit(X_train.loc[indices, columns], X_train.loc[indices, 'SkinThickness'])\n",
        "  X_train_copy.loc[~ indices, 'SkinThickness'] = reg.predict(X_train.loc[~ indices, columns])\n",
        "\n",
        "  indices = (X_train['Insulin'] != 0)\n",
        "  reg = Ridge(alpha=alpha)\n",
        "  reg.fit(X_train.loc[indices, columns], X_train.loc[indices, 'Insulin'])\n",
        "  X_train_copy.loc[~ indices, 'Insulin'] = reg.predict(X_train.loc[~ indices, columns])\n",
        "\n",
        "  print('-'*8, alpha, '-'*16)\n",
        "  cv(skf, X_train_copy, y_train)"
      ],
      "execution_count": 42,
      "outputs": [
        {
          "output_type": "stream",
          "name": "stdout",
          "text": [
            "-------- 1e-05 ----------------\n",
            "score: 0.8182\n",
            "score: 0.8030\n",
            "score: 0.7538\n",
            "score: 0.7538\n",
            "score: 0.8000\n",
            "score: 0.7692\n",
            "score: 0.7538\n",
            "score: 0.8000\n",
            "score: 0.7231\n",
            "score: 0.7538\n",
            "mean score: 0.7729 \n",
            "-------- 0.0001 ----------------\n",
            "score: 0.8182\n",
            "score: 0.8030\n",
            "score: 0.7538\n",
            "score: 0.7538\n",
            "score: 0.8000\n",
            "score: 0.7692\n",
            "score: 0.7538\n",
            "score: 0.8000\n",
            "score: 0.7231\n",
            "score: 0.7538\n",
            "mean score: 0.7729 \n",
            "-------- 0.001 ----------------\n",
            "score: 0.8182\n",
            "score: 0.8030\n",
            "score: 0.7538\n",
            "score: 0.7538\n",
            "score: 0.8000\n",
            "score: 0.7692\n",
            "score: 0.7538\n",
            "score: 0.8000\n",
            "score: 0.7231\n",
            "score: 0.7538\n",
            "mean score: 0.7729 \n",
            "-------- 0.01 ----------------\n",
            "score: 0.8182\n",
            "score: 0.8030\n",
            "score: 0.7538\n",
            "score: 0.7538\n",
            "score: 0.8000\n",
            "score: 0.7692\n",
            "score: 0.7538\n",
            "score: 0.8000\n",
            "score: 0.7231\n",
            "score: 0.7538\n",
            "mean score: 0.7729 \n",
            "-------- 0.1 ----------------\n",
            "score: 0.8182\n",
            "score: 0.8030\n",
            "score: 0.7538\n",
            "score: 0.7538\n",
            "score: 0.8000\n",
            "score: 0.7692\n",
            "score: 0.7538\n",
            "score: 0.8000\n",
            "score: 0.7231\n",
            "score: 0.7538\n",
            "mean score: 0.7729 \n",
            "-------- 1.0 ----------------\n",
            "score: 0.8182\n",
            "score: 0.8030\n",
            "score: 0.7538\n",
            "score: 0.7538\n",
            "score: 0.8000\n",
            "score: 0.7692\n",
            "score: 0.7538\n",
            "score: 0.8000\n",
            "score: 0.7231\n",
            "score: 0.7538\n",
            "mean score: 0.7729 \n",
            "-------- 10.0 ----------------\n",
            "score: 0.8182\n",
            "score: 0.8030\n",
            "score: 0.7538\n",
            "score: 0.7538\n",
            "score: 0.8000\n",
            "score: 0.7692\n",
            "score: 0.7538\n",
            "score: 0.8000\n",
            "score: 0.7231\n",
            "score: 0.7538\n",
            "mean score: 0.7729 \n",
            "-------- 100.0 ----------------\n",
            "score: 0.8182\n",
            "score: 0.8030\n",
            "score: 0.7538\n",
            "score: 0.7538\n",
            "score: 0.8000\n",
            "score: 0.7692\n",
            "score: 0.7538\n",
            "score: 0.8000\n",
            "score: 0.7231\n",
            "score: 0.7538\n",
            "mean score: 0.7729 \n",
            "-------- 1000.0 ----------------\n",
            "score: 0.8182\n",
            "score: 0.8030\n",
            "score: 0.7538\n",
            "score: 0.7538\n",
            "score: 0.8000\n",
            "score: 0.7692\n",
            "score: 0.7538\n",
            "score: 0.8000\n",
            "score: 0.7231\n",
            "score: 0.7538\n",
            "mean score: 0.7729 \n",
            "-------- 10000.0 ----------------\n",
            "score: 0.8182\n",
            "score: 0.7879\n",
            "score: 0.7538\n",
            "score: 0.7538\n",
            "score: 0.8000\n",
            "score: 0.7692\n",
            "score: 0.7538\n",
            "score: 0.7846\n",
            "score: 0.7231\n",
            "score: 0.7538\n",
            "mean score: 0.7698 \n",
            "-------- 100000.0 ----------------\n",
            "score: 0.8182\n",
            "score: 0.7879\n",
            "score: 0.7538\n",
            "score: 0.7538\n",
            "score: 0.8154\n",
            "score: 0.7692\n",
            "score: 0.7538\n",
            "score: 0.7846\n",
            "score: 0.7231\n",
            "score: 0.7538\n",
            "mean score: 0.7714 \n",
            "-------- 1000000.0 ----------------\n",
            "score: 0.8182\n",
            "score: 0.7879\n",
            "score: 0.7538\n",
            "score: 0.7538\n",
            "score: 0.8000\n",
            "score: 0.7692\n",
            "score: 0.7538\n",
            "score: 0.8000\n",
            "score: 0.7231\n",
            "score: 0.7538\n",
            "mean score: 0.7714 \n"
          ]
        }
      ]
    },
    {
      "cell_type": "markdown",
      "metadata": {
        "id": "v2JBRGrbb8-B"
      },
      "source": [
        "悪くなったので不採用。"
      ]
    },
    {
      "cell_type": "markdown",
      "metadata": {
        "id": "CPEvLUJtQRB3"
      },
      "source": [
        "### I) SkinThicknessとInsulin: それぞれk-近傍法で値を埋める"
      ]
    },
    {
      "cell_type": "code",
      "metadata": {
        "id": "ROSCKIUQOzMk",
        "colab": {
          "base_uri": "https://localhost:8080/"
        },
        "outputId": "e46ecfe6-29e1-4f9c-e3bf-f9da85731ca0"
      },
      "source": [
        "# k-NNでSkinThicknessの欠測部分を埋める\n",
        "\n",
        "from sklearn.neighbors import KNeighborsClassifier\n",
        "\n",
        "columns = X_train.columns[(X_train.columns != 'SkinThickness') & (X_train.columns != 'Insulin')]\n",
        "\n",
        "for k in range(1, 21):\n",
        "\n",
        "  X_train_copy = X_train.copy()\n",
        "\n",
        "  indices = (X_train['SkinThickness'] != 0)\n",
        "  knn = KNeighborsClassifier(n_neighbors=k)\n",
        "  knn.fit(X_train.loc[indices, columns], X_train.loc[indices, 'SkinThickness'])\n",
        "  X_train_copy.loc[~ indices, 'SkinThickness'] = knn.predict(X_train.loc[~ indices, columns])\n",
        "\n",
        "  indices = (X_train['Insulin'] != 0)\n",
        "  knn = KNeighborsClassifier(n_neighbors=k)\n",
        "  knn.fit(X_train.loc[indices, columns], X_train.loc[indices, 'Insulin'])\n",
        "  X_train_copy.loc[~ indices, 'Insulin'] = knn.predict(X_train.loc[~ indices, columns])\n",
        "\n",
        "  print('-'*8, k, '-'*16)\n",
        "  cv(skf, X_train_copy, y_train)"
      ],
      "execution_count": 43,
      "outputs": [
        {
          "output_type": "stream",
          "name": "stdout",
          "text": [
            "-------- 1 ----------------\n",
            "score: 0.8333\n",
            "score: 0.7727\n",
            "score: 0.7692\n",
            "score: 0.7538\n",
            "score: 0.7846\n",
            "score: 0.7538\n",
            "score: 0.7692\n",
            "score: 0.8154\n",
            "score: 0.7077\n",
            "score: 0.7385\n",
            "mean score: 0.7698 \n",
            "-------- 2 ----------------\n",
            "score: 0.8333\n",
            "score: 0.7879\n",
            "score: 0.7846\n",
            "score: 0.7385\n",
            "score: 0.8000\n",
            "score: 0.7692\n",
            "score: 0.7538\n",
            "score: 0.8000\n",
            "score: 0.7231\n",
            "score: 0.7538\n",
            "mean score: 0.7744 \n",
            "-------- 3 ----------------\n",
            "score: 0.8333\n",
            "score: 0.7879\n",
            "score: 0.7692\n",
            "score: 0.7538\n",
            "score: 0.7846\n",
            "score: 0.7692\n",
            "score: 0.7692\n",
            "score: 0.8000\n",
            "score: 0.7231\n",
            "score: 0.7385\n",
            "mean score: 0.7729 \n",
            "-------- 4 ----------------\n",
            "score: 0.8333\n",
            "score: 0.7879\n",
            "score: 0.7692\n",
            "score: 0.7538\n",
            "score: 0.7846\n",
            "score: 0.7692\n",
            "score: 0.7692\n",
            "score: 0.7846\n",
            "score: 0.7231\n",
            "score: 0.7385\n",
            "mean score: 0.7714 \n",
            "-------- 5 ----------------\n",
            "score: 0.8333\n",
            "score: 0.7879\n",
            "score: 0.7846\n",
            "score: 0.7385\n",
            "score: 0.7846\n",
            "score: 0.7692\n",
            "score: 0.7692\n",
            "score: 0.8154\n",
            "score: 0.7077\n",
            "score: 0.7385\n",
            "mean score: 0.7729 \n",
            "-------- 6 ----------------\n",
            "score: 0.8333\n",
            "score: 0.8030\n",
            "score: 0.7846\n",
            "score: 0.7538\n",
            "score: 0.7846\n",
            "score: 0.7692\n",
            "score: 0.7692\n",
            "score: 0.8154\n",
            "score: 0.7077\n",
            "score: 0.7385\n",
            "mean score: 0.7759 \n",
            "-------- 7 ----------------\n",
            "score: 0.8333\n",
            "score: 0.7879\n",
            "score: 0.7846\n",
            "score: 0.7538\n",
            "score: 0.7846\n",
            "score: 0.7692\n",
            "score: 0.7692\n",
            "score: 0.8000\n",
            "score: 0.7077\n",
            "score: 0.7385\n",
            "mean score: 0.7729 \n",
            "-------- 8 ----------------\n",
            "score: 0.8182\n",
            "score: 0.8182\n",
            "score: 0.7846\n",
            "score: 0.7538\n",
            "score: 0.7846\n",
            "score: 0.7692\n",
            "score: 0.7692\n",
            "score: 0.8154\n",
            "score: 0.7077\n",
            "score: 0.7385\n",
            "mean score: 0.7759 \n",
            "-------- 9 ----------------\n",
            "score: 0.8333\n",
            "score: 0.8182\n",
            "score: 0.7846\n",
            "score: 0.7538\n",
            "score: 0.7846\n",
            "score: 0.7846\n",
            "score: 0.7692\n",
            "score: 0.8154\n",
            "score: 0.7077\n",
            "score: 0.7385\n",
            "mean score: 0.7790 \n",
            "-------- 10 ----------------\n",
            "score: 0.8333\n",
            "score: 0.8182\n",
            "score: 0.7846\n",
            "score: 0.7538\n",
            "score: 0.7692\n",
            "score: 0.7846\n",
            "score: 0.7692\n",
            "score: 0.8000\n",
            "score: 0.7077\n",
            "score: 0.7385\n",
            "mean score: 0.7759 \n",
            "-------- 11 ----------------\n",
            "score: 0.8333\n",
            "score: 0.8030\n",
            "score: 0.7692\n",
            "score: 0.7538\n",
            "score: 0.7692\n",
            "score: 0.7692\n",
            "score: 0.7692\n",
            "score: 0.7846\n",
            "score: 0.7231\n",
            "score: 0.7385\n",
            "mean score: 0.7713 \n",
            "-------- 12 ----------------\n",
            "score: 0.8182\n",
            "score: 0.8030\n",
            "score: 0.7692\n",
            "score: 0.7538\n",
            "score: 0.7846\n",
            "score: 0.7692\n",
            "score: 0.7385\n",
            "score: 0.7846\n",
            "score: 0.7231\n",
            "score: 0.7385\n",
            "mean score: 0.7683 \n",
            "-------- 13 ----------------\n",
            "score: 0.8182\n",
            "score: 0.8030\n",
            "score: 0.7538\n",
            "score: 0.7538\n",
            "score: 0.8000\n",
            "score: 0.7692\n",
            "score: 0.7385\n",
            "score: 0.8000\n",
            "score: 0.7231\n",
            "score: 0.7538\n",
            "mean score: 0.7714 \n",
            "-------- 14 ----------------\n",
            "score: 0.8333\n",
            "score: 0.8182\n",
            "score: 0.7846\n",
            "score: 0.7538\n",
            "score: 0.8000\n",
            "score: 0.7846\n",
            "score: 0.7692\n",
            "score: 0.8000\n",
            "score: 0.7077\n",
            "score: 0.7385\n",
            "mean score: 0.7790 \n",
            "-------- 15 ----------------\n",
            "score: 0.8333\n",
            "score: 0.8030\n",
            "score: 0.7846\n",
            "score: 0.7385\n",
            "score: 0.7846\n",
            "score: 0.7846\n",
            "score: 0.7692\n",
            "score: 0.8000\n",
            "score: 0.7231\n",
            "score: 0.7385\n",
            "mean score: 0.7759 \n",
            "-------- 16 ----------------\n",
            "score: 0.8333\n",
            "score: 0.8030\n",
            "score: 0.7846\n",
            "score: 0.7385\n",
            "score: 0.7846\n",
            "score: 0.7846\n",
            "score: 0.7692\n",
            "score: 0.8000\n",
            "score: 0.7231\n",
            "score: 0.7538\n",
            "mean score: 0.7775 \n",
            "-------- 17 ----------------\n",
            "score: 0.8333\n",
            "score: 0.8030\n",
            "score: 0.7538\n",
            "score: 0.7385\n",
            "score: 0.7846\n",
            "score: 0.7846\n",
            "score: 0.7538\n",
            "score: 0.8154\n",
            "score: 0.7231\n",
            "score: 0.7538\n",
            "mean score: 0.7744 \n",
            "-------- 18 ----------------\n",
            "score: 0.8333\n",
            "score: 0.8030\n",
            "score: 0.7692\n",
            "score: 0.7385\n",
            "score: 0.8000\n",
            "score: 0.7846\n",
            "score: 0.7538\n",
            "score: 0.7846\n",
            "score: 0.7231\n",
            "score: 0.7538\n",
            "mean score: 0.7744 \n",
            "-------- 19 ----------------\n",
            "score: 0.8182\n",
            "score: 0.8030\n",
            "score: 0.7692\n",
            "score: 0.7385\n",
            "score: 0.8000\n",
            "score: 0.7846\n",
            "score: 0.7538\n",
            "score: 0.8000\n",
            "score: 0.7231\n",
            "score: 0.7538\n",
            "mean score: 0.7744 \n",
            "-------- 20 ----------------\n",
            "score: 0.8182\n",
            "score: 0.8030\n",
            "score: 0.7692\n",
            "score: 0.7385\n",
            "score: 0.8000\n",
            "score: 0.7846\n",
            "score: 0.7692\n",
            "score: 0.7846\n",
            "score: 0.7231\n",
            "score: 0.7538\n",
            "mean score: 0.7744 \n"
          ]
        }
      ]
    },
    {
      "cell_type": "code",
      "metadata": {
        "id": "Fw0j_0JcUfwZ"
      },
      "source": [
        "# k=10を採用\n",
        "\n",
        "k = 10\n",
        "\n",
        "X_train_copy = X_train.copy()\n",
        "\n",
        "indices = (X_train['SkinThickness'] != 0)\n",
        "knn = KNeighborsClassifier(n_neighbors=k)\n",
        "knn.fit(X_train.loc[indices, columns], X_train.loc[indices, 'SkinThickness'])\n",
        "X_train_copy.loc[~ indices, 'SkinThickness'] = knn.predict(X_train.loc[~ indices, columns])\n",
        "\n",
        "indices = (X_train['Insulin'] != 0)\n",
        "knn = KNeighborsClassifier(n_neighbors=k)\n",
        "knn.fit(X_train.loc[indices, columns], X_train.loc[indices, 'Insulin'])\n",
        "X_train_copy.loc[~ indices, 'Insulin'] = knn.predict(X_train.loc[~ indices, columns])"
      ],
      "execution_count": 44,
      "outputs": []
    },
    {
      "cell_type": "code",
      "metadata": {
        "id": "dgJeArAIPYyp",
        "colab": {
          "base_uri": "https://localhost:8080/",
          "height": 278
        },
        "outputId": "5c8b31aa-8b68-4f9a-eb38-f5067d6f0bfc"
      },
      "source": [
        "sns.histplot(X_train_copy['SkinThickness'], bins=50);"
      ],
      "execution_count": 45,
      "outputs": [
        {
          "output_type": "display_data",
          "data": {
            "text/plain": [
              "<Figure size 432x288 with 1 Axes>"
            ],
            "image/png": "[encoded data removed]"
          },
          "metadata": {
            "image/png": {
              "width": 382,
              "height": 261
            },
            "needs_background": "light"
          }
        }
      ]
    },
    {
      "cell_type": "code",
      "metadata": {
        "id": "Rr3x6UWQPcoQ",
        "colab": {
          "base_uri": "https://localhost:8080/",
          "height": 278
        },
        "outputId": "9fda237f-b988-475c-9f69-85963e862044"
      },
      "source": [
        "sns.histplot(X_train_copy['Insulin'], bins=50);"
      ],
      "execution_count": 46,
      "outputs": [
        {
          "output_type": "display_data",
          "data": {
            "text/plain": [
              "<Figure size 432x288 with 1 Axes>"
            ],
            "image/png": "[encoded data removed]"
          },
          "metadata": {
            "image/png": {
              "width": 382,
              "height": 261
            },
            "needs_background": "light"
          }
        }
      ]
    },
    {
      "cell_type": "code",
      "metadata": {
        "id": "TVRl23QOPe0d",
        "colab": {
          "base_uri": "https://localhost:8080/"
        },
        "outputId": "b6587d12-06fc-4ecc-b9a5-beeaa349ff4e"
      },
      "source": [
        "cv(skf, X_train_copy, y_train)"
      ],
      "execution_count": 47,
      "outputs": [
        {
          "output_type": "stream",
          "name": "stdout",
          "text": [
            "score: 0.8333\n",
            "score: 0.8182\n",
            "score: 0.7846\n",
            "score: 0.7538\n",
            "score: 0.7692\n",
            "score: 0.7846\n",
            "score: 0.7692\n",
            "score: 0.8000\n",
            "score: 0.7077\n",
            "score: 0.7385\n",
            "mean score: 0.7759 \n"
          ]
        }
      ]
    },
    {
      "cell_type": "code",
      "metadata": {
        "id": "EAx2BtYAR3R7"
      },
      "source": [
        "# k=10を使って、テストデータの欠測箇所も埋めておく\n",
        "\n",
        "X_test_copy = X_test.copy()\n",
        "\n",
        "k = 10\n",
        "\n",
        "indices = (X_train['SkinThickness'] != 0)\n",
        "test_missing = (X_test['SkinThickness'] == 0)\n",
        "knn = KNeighborsClassifier(n_neighbors=k)\n",
        "knn.fit(X_train.loc[indices, columns], X_train.loc[indices, 'SkinThickness'])\n",
        "X_test_copy.loc[test_missing, 'SkinThickness'] = knn.predict(X_test.loc[test_missing, columns])\n",
        "\n",
        "indices = (X_train['Insulin'] != 0)\n",
        "test_missing = (X_test['Insulin'] == 0)\n",
        "knn = KNeighborsClassifier(n_neighbors=k)\n",
        "knn.fit(X_train.loc[indices, columns], X_train.loc[indices, 'Insulin'])\n",
        "X_test_copy.loc[test_missing, 'Insulin'] = knn.predict(X_test.loc[test_missing, columns])"
      ],
      "execution_count": 48,
      "outputs": []
    },
    {
      "cell_type": "code",
      "metadata": {
        "id": "ru5oYxqwWL16",
        "colab": {
          "base_uri": "https://localhost:8080/"
        },
        "outputId": "82c20e36-e1d1-4de9-ea80-2b52403e0d53"
      },
      "source": [
        "print((X_test_copy.SkinThickness == 0).sum())\n",
        "print((X_test_copy.Insulin == 0).sum())"
      ],
      "execution_count": 49,
      "outputs": [
        {
          "output_type": "stream",
          "name": "stdout",
          "text": [
            "0\n",
            "0\n"
          ]
        }
      ]
    },
    {
      "cell_type": "markdown",
      "metadata": {
        "id": "hRBbY9W-QAoF"
      },
      "source": [
        "* 分類性能が良くなったので、埋めた後のデータセットを採用する。"
      ]
    },
    {
      "cell_type": "code",
      "metadata": {
        "id": "LkvtCrYXWarC"
      },
      "source": [
        "X_train = X_train_copy\n",
        "X_test = X_test_copy"
      ],
      "execution_count": 50,
      "outputs": []
    },
    {
      "cell_type": "code",
      "metadata": {
        "id": "C29KswDay_OV",
        "colab": {
          "base_uri": "https://localhost:8080/",
          "height": 300
        },
        "outputId": "19e6c6db-dea5-49ad-d76e-433ba026be98"
      },
      "source": [
        "X_train.describe()"
      ],
      "execution_count": 51,
      "outputs": [
        {
          "output_type": "execute_result",
          "data": {
            "text/plain": [
              "       Pregnancies     Glucose  BloodPressure  SkinThickness     Insulin  \\\n",
              "count   652.000000  652.000000     652.000000     652.000000  652.000000   \n",
              "mean      3.796012  121.512270      72.374233      28.118098  118.078221   \n",
              "std       3.325152   30.146975      11.921575      10.334788   94.467958   \n",
              "min       0.000000   44.000000      24.000000       7.000000   14.000000   \n",
              "25%       1.000000  100.000000      64.000000      20.000000   61.000000   \n",
              "50%       3.000000  117.000000      72.000000      29.000000  100.000000   \n",
              "75%       6.000000  141.000000      80.000000      35.000000  140.000000   \n",
              "max      17.000000  199.000000     122.000000      99.000000  744.000000   \n",
              "\n",
              "              BMI  DiabetesPedigreeFunction         Age  \n",
              "count  652.000000                652.000000  652.000000  \n",
              "mean    32.515184                  0.460816   33.291411  \n",
              "std      6.801301                  0.321493   11.801392  \n",
              "min     18.200000                  0.078000   21.000000  \n",
              "25%     27.500000                  0.238000   24.000000  \n",
              "50%     32.400000                  0.364500   29.000000  \n",
              "75%     36.600000                  0.605000   41.000000  \n",
              "max     59.400000                  2.420000   81.000000  "
            ],
            "text/html": [
              "\n",
              "  <div id=\"df-203e5622-7341-45c4-bb52-6619646f5fcd\">\n",
              "    <div class=\"colab-df-container\">\n",
              "      <div>\n",
              "<style scoped>\n",
              "    .dataframe tbody tr th:only-of-type {\n",
              "        vertical-align: middle;\n",
              "    }\n",
              "\n",
              "    .dataframe tbody tr th {\n",
              "        vertical-align: top;\n",
              "    }\n",
              "\n",
              "    .dataframe thead th {\n",
              "        text-align: right;\n",
              "    }\n",
              "</style>\n",
              "<table border=\"1\" class=\"dataframe\">\n",
              "  <thead>\n",
              "    <tr style=\"text-align: right;\">\n",
              "      <th></th>\n",
              "      <th>Pregnancies</th>\n",
              "      <th>Glucose</th>\n",
              "      <th>BloodPressure</th>\n",
              "      <th>SkinThickness</th>\n",
              "      <th>Insulin</th>\n",
              "      <th>BMI</th>\n",
              "      <th>DiabetesPedigreeFunction</th>\n",
              "      <th>Age</th>\n",
              "    </tr>\n",
              "  </thead>\n",
              "  <tbody>\n",
              "    <tr>\n",
              "      <th>count</th>\n",
              "      <td>652.000000</td>\n",
              "      <td>652.000000</td>\n",
              "      <td>652.000000</td>\n",
              "      <td>652.000000</td>\n",
              "      <td>652.000000</td>\n",
              "      <td>652.000000</td>\n",
              "      <td>652.000000</td>\n",
              "      <td>652.000000</td>\n",
              "    </tr>\n",
              "    <tr>\n",
              "      <th>mean</th>\n",
              "      <td>3.796012</td>\n",
              "      <td>121.512270</td>\n",
              "      <td>72.374233</td>\n",
              "      <td>28.118098</td>\n",
              "      <td>118.078221</td>\n",
              "      <td>32.515184</td>\n",
              "      <td>0.460816</td>\n",
              "      <td>33.291411</td>\n",
              "    </tr>\n",
              "    <tr>\n",
              "      <th>std</th>\n",
              "      <td>3.325152</td>\n",
              "      <td>30.146975</td>\n",
              "      <td>11.921575</td>\n",
              "      <td>10.334788</td>\n",
              "      <td>94.467958</td>\n",
              "      <td>6.801301</td>\n",
              "      <td>0.321493</td>\n",
              "      <td>11.801392</td>\n",
              "    </tr>\n",
              "    <tr>\n",
              "      <th>min</th>\n",
              "      <td>0.000000</td>\n",
              "      <td>44.000000</td>\n",
              "      <td>24.000000</td>\n",
              "      <td>7.000000</td>\n",
              "      <td>14.000000</td>\n",
              "      <td>18.200000</td>\n",
              "      <td>0.078000</td>\n",
              "      <td>21.000000</td>\n",
              "    </tr>\n",
              "    <tr>\n",
              "      <th>25%</th>\n",
              "      <td>1.000000</td>\n",
              "      <td>100.000000</td>\n",
              "      <td>64.000000</td>\n",
              "      <td>20.000000</td>\n",
              "      <td>61.000000</td>\n",
              "      <td>27.500000</td>\n",
              "      <td>0.238000</td>\n",
              "      <td>24.000000</td>\n",
              "    </tr>\n",
              "    <tr>\n",
              "      <th>50%</th>\n",
              "      <td>3.000000</td>\n",
              "      <td>117.000000</td>\n",
              "      <td>72.000000</td>\n",
              "      <td>29.000000</td>\n",
              "      <td>100.000000</td>\n",
              "      <td>32.400000</td>\n",
              "      <td>0.364500</td>\n",
              "      <td>29.000000</td>\n",
              "    </tr>\n",
              "    <tr>\n",
              "      <th>75%</th>\n",
              "      <td>6.000000</td>\n",
              "      <td>141.000000</td>\n",
              "      <td>80.000000</td>\n",
              "      <td>35.000000</td>\n",
              "      <td>140.000000</td>\n",
              "      <td>36.600000</td>\n",
              "      <td>0.605000</td>\n",
              "      <td>41.000000</td>\n",
              "    </tr>\n",
              "    <tr>\n",
              "      <th>max</th>\n",
              "      <td>17.000000</td>\n",
              "      <td>199.000000</td>\n",
              "      <td>122.000000</td>\n",
              "      <td>99.000000</td>\n",
              "      <td>744.000000</td>\n",
              "      <td>59.400000</td>\n",
              "      <td>2.420000</td>\n",
              "      <td>81.000000</td>\n",
              "    </tr>\n",
              "  </tbody>\n",
              "</table>\n",
              "</div>\n",
              "      <button class=\"colab-df-convert\" onclick=\"convertToInteractive('df-203e5622-7341-45c4-bb52-6619646f5fcd')\"\n",
              "              title=\"Convert this dataframe to an interactive table.\"\n",
              "              style=\"display:none;\">\n",
              "        \n",
              "  <svg xmlns=\"http://www.w3.org/2000/svg\" height=\"24px\"viewBox=\"0 0 24 24\"\n",
              "       width=\"24px\">\n",
              "    <path d=\"M0 0h24v24H0V0z\" fill=\"none\"/>\n",
              "    <path d=\"M18.56 5.44l.94 2.06.94-2.06 2.06-.94-2.06-.94-.94-2.06-.94 2.06-2.06.94zm-11 1L8.5 8.5l.94-2.06 2.06-.94-2.06-.94L8.5 2.5l-.94 2.06-2.06.94zm10 10l.94 2.06.94-2.06 2.06-.94-2.06-.94-.94-2.06-.94 2.06-2.06.94z\"/><path d=\"M17.41 7.96l-1.37-1.37c-.4-.4-.92-.59-1.43-.59-.52 0-1.04.2-1.43.59L10.3 9.45l-7.72 7.72c-.78.78-.78 2.05 0 2.83L4 21.41c.39.39.9.59 1.41.59.51 0 1.02-.2 1.41-.59l7.78-7.78 2.81-2.81c.8-.78.8-2.07 0-2.86zM5.41 20L4 18.59l7.72-7.72 1.47 1.35L5.41 20z\"/>\n",
              "  </svg>\n",
              "      </button>\n",
              "      \n",
              "  <style>\n",
              "    .colab-df-container {\n",
              "      display:flex;\n",
              "      flex-wrap:wrap;\n",
              "      gap: 12px;\n",
              "    }\n",
              "\n",
              "    .colab-df-convert {\n",
              "      background-color: #E8F0FE;\n",
              "      border: none;\n",
              "      border-radius: 50%;\n",
              "      cursor: pointer;\n",
              "      display: none;\n",
              "      fill: #1967D2;\n",
              "      height: 32px;\n",
              "      padding: 0 0 0 0;\n",
              "      width: 32px;\n",
              "    }\n",
              "\n",
              "    .colab-df-convert:hover {\n",
              "      background-color: #E2EBFA;\n",
              "      box-shadow: 0px 1px 2px rgba(60, 64, 67, 0.3), 0px 1px 3px 1px rgba(60, 64, 67, 0.15);\n",
              "      fill: #174EA6;\n",
              "    }\n",
              "\n",
              "    [theme=dark] .colab-df-convert {\n",
              "      background-color: #3B4455;\n",
              "      fill: #D2E3FC;\n",
              "    }\n",
              "\n",
              "    [theme=dark] .colab-df-convert:hover {\n",
              "      background-color: #434B5C;\n",
              "      box-shadow: 0px 1px 3px 1px rgba(0, 0, 0, 0.15);\n",
              "      filter: drop-shadow(0px 1px 2px rgba(0, 0, 0, 0.3));\n",
              "      fill: #FFFFFF;\n",
              "    }\n",
              "  </style>\n",
              "\n",
              "      <script>\n",
              "        const buttonEl =\n",
              "          document.querySelector('#df-203e5622-7341-45c4-bb52-6619646f5fcd button.colab-df-convert');\n",
              "        buttonEl.style.display =\n",
              "          google.colab.kernel.accessAllowed ? 'block' : 'none';\n",
              "\n",
              "        async function convertToInteractive(key) {\n",
              "          const element = document.querySelector('#df-203e5622-7341-45c4-bb52-6619646f5fcd');\n",
              "          const dataTable =\n",
              "            await google.colab.kernel.invokeFunction('convertToInteractive',\n",
              "                                                     [key], {});\n",
              "          if (!dataTable) return;\n",
              "\n",
              "          const docLinkHtml = 'Like what you see? Visit the ' +\n",
              "            '<a target=\"_blank\" href=https://colab.research.google.com/notebooks/data_table.ipynb>data table notebook</a>'\n",
              "            + ' to learn more about interactive tables.';\n",
              "          element.innerHTML = '';\n",
              "          dataTable['output_type'] = 'display_data';\n",
              "          await google.colab.output.renderOutput(dataTable, element);\n",
              "          const docLink = document.createElement('div');\n",
              "          docLink.innerHTML = docLinkHtml;\n",
              "          element.appendChild(docLink);\n",
              "        }\n",
              "      </script>\n",
              "    </div>\n",
              "  </div>\n",
              "  "
            ]
          },
          "metadata": {},
          "execution_count": 51
        }
      ]
    },
    {
      "cell_type": "markdown",
      "metadata": {
        "id": "iLd-Rg8RlUtj"
      },
      "source": [
        "### J) スケーラーを使ってみる。"
      ]
    },
    {
      "cell_type": "code",
      "metadata": {
        "id": "fnNi8kaXrDQP",
        "colab": {
          "base_uri": "https://localhost:8080/"
        },
        "outputId": "dd6fd032-1772-4639-8da4-2e0e35f152ad"
      },
      "source": [
        "from sklearn.preprocessing import MinMaxScaler\n",
        "\n",
        "scaler = MinMaxScaler()\n",
        "scaler.fit(X_train)\n",
        "X_train_temp = X_train.copy()\n",
        "X_train_temp[X_train.columns] = scaler.transform(X_train)\n",
        "cv(skf, X_train_temp, y_train)"
      ],
      "execution_count": 52,
      "outputs": [
        {
          "output_type": "stream",
          "name": "stdout",
          "text": [
            "score: 0.8030\n",
            "score: 0.8030\n",
            "score: 0.7538\n",
            "score: 0.7385\n",
            "score: 0.7846\n",
            "score: 0.7692\n",
            "score: 0.7231\n",
            "score: 0.8000\n",
            "score: 0.7231\n",
            "score: 0.7385\n",
            "mean score: 0.7637 \n"
          ]
        }
      ]
    },
    {
      "cell_type": "code",
      "metadata": {
        "id": "CxAI7gORc5td",
        "colab": {
          "base_uri": "https://localhost:8080/"
        },
        "outputId": "c51baa4e-69ad-4453-9914-a8a21978a704"
      },
      "source": [
        "from sklearn.preprocessing import StandardScaler\n",
        "\n",
        "scaler = StandardScaler()\n",
        "scaler.fit(X_train)\n",
        "X_train_temp = X_train.copy()\n",
        "X_train_temp[X_train.columns] = scaler.transform(X_train)\n",
        "cv(skf, X_train_temp, y_train)"
      ],
      "execution_count": 53,
      "outputs": [
        {
          "output_type": "stream",
          "name": "stdout",
          "text": [
            "score: 0.8182\n",
            "score: 0.8182\n",
            "score: 0.7846\n",
            "score: 0.7538\n",
            "score: 0.7692\n",
            "score: 0.7692\n",
            "score: 0.7692\n",
            "score: 0.8000\n",
            "score: 0.7077\n",
            "score: 0.7385\n",
            "mean score: 0.7729 \n"
          ]
        }
      ]
    },
    {
      "cell_type": "markdown",
      "metadata": {
        "id": "l3W1GQ_34qhY"
      },
      "source": [
        "いずれも不採用。"
      ]
    },
    {
      "cell_type": "markdown",
      "metadata": {
        "id": "0zFe16YjmHPf"
      },
      "source": [
        "### K) 正則化パラメータCをチューニングする。"
      ]
    },
    {
      "cell_type": "code",
      "metadata": {
        "id": "UhjQGKFaJiGH",
        "colab": {
          "base_uri": "https://localhost:8080/"
        },
        "outputId": "d9398b81-762b-4d2b-c391-351e03a3438a"
      },
      "source": [
        "for C in np.power(10.0, np.arange(13) - 5):\n",
        "  cv(skf, X_train, y_train, {'C':C})"
      ],
      "execution_count": 54,
      "outputs": [
        {
          "output_type": "stream",
          "name": "stdout",
          "text": [
            "score: 0.7273\n",
            "score: 0.7879\n",
            "score: 0.7385\n",
            "score: 0.6923\n",
            "score: 0.7692\n",
            "score: 0.7692\n",
            "score: 0.6769\n",
            "score: 0.7385\n",
            "score: 0.7231\n",
            "score: 0.7385\n",
            "mean score: 0.7361 { \"C\":1e-05 }\n",
            "score: 0.8333\n",
            "score: 0.8182\n",
            "score: 0.7692\n",
            "score: 0.6923\n",
            "score: 0.7538\n",
            "score: 0.7538\n",
            "score: 0.6923\n",
            "score: 0.7538\n",
            "score: 0.7231\n",
            "score: 0.7538\n",
            "mean score: 0.7544 { \"C\":0.0001 }\n",
            "score: 0.8182\n",
            "score: 0.8182\n",
            "score: 0.7692\n",
            "score: 0.7231\n",
            "score: 0.7692\n",
            "score: 0.7846\n",
            "score: 0.7231\n",
            "score: 0.8000\n",
            "score: 0.7385\n",
            "score: 0.7692\n",
            "mean score: 0.7713 { \"C\":0.001 }\n",
            "score: 0.8333\n",
            "score: 0.7727\n",
            "score: 0.7692\n",
            "score: 0.7538\n",
            "score: 0.7692\n",
            "score: 0.7692\n",
            "score: 0.7538\n",
            "score: 0.8154\n",
            "score: 0.7077\n",
            "score: 0.7538\n",
            "mean score: 0.7698 { \"C\":0.01 }\n",
            "score: 0.8333\n",
            "score: 0.7879\n",
            "score: 0.7692\n",
            "score: 0.7538\n",
            "score: 0.7846\n",
            "score: 0.7692\n",
            "score: 0.7692\n",
            "score: 0.8154\n",
            "score: 0.7077\n",
            "score: 0.7538\n",
            "mean score: 0.7744 { \"C\":0.1 }\n",
            "score: 0.8333\n",
            "score: 0.8182\n",
            "score: 0.7846\n",
            "score: 0.7538\n",
            "score: 0.7692\n",
            "score: 0.7846\n",
            "score: 0.7692\n",
            "score: 0.8000\n",
            "score: 0.7077\n",
            "score: 0.7385\n",
            "mean score: 0.7759 { \"C\":1.0 }\n",
            "score: 0.8182\n",
            "score: 0.8182\n",
            "score: 0.7846\n",
            "score: 0.7538\n",
            "score: 0.7692\n",
            "score: 0.7846\n",
            "score: 0.7692\n",
            "score: 0.8000\n",
            "score: 0.7077\n",
            "score: 0.7385\n",
            "mean score: 0.7744 { \"C\":10.0 }\n",
            "score: 0.8182\n",
            "score: 0.8182\n",
            "score: 0.7846\n",
            "score: 0.7538\n",
            "score: 0.7692\n",
            "score: 0.7846\n",
            "score: 0.7692\n",
            "score: 0.8000\n",
            "score: 0.7077\n",
            "score: 0.7538\n",
            "mean score: 0.7759 { \"C\":100.0 }\n",
            "score: 0.8182\n",
            "score: 0.8182\n",
            "score: 0.7846\n",
            "score: 0.7538\n",
            "score: 0.7692\n",
            "score: 0.7846\n",
            "score: 0.7692\n",
            "score: 0.8000\n",
            "score: 0.7077\n",
            "score: 0.7538\n",
            "mean score: 0.7759 { \"C\":1000.0 }\n",
            "score: 0.8182\n",
            "score: 0.8182\n",
            "score: 0.7846\n",
            "score: 0.7538\n",
            "score: 0.7692\n",
            "score: 0.7846\n",
            "score: 0.7692\n",
            "score: 0.8000\n",
            "score: 0.7077\n",
            "score: 0.7538\n",
            "mean score: 0.7759 { \"C\":10000.0 }\n",
            "score: 0.8182\n",
            "score: 0.8182\n",
            "score: 0.7846\n",
            "score: 0.7538\n",
            "score: 0.7692\n",
            "score: 0.7846\n",
            "score: 0.7692\n",
            "score: 0.8000\n",
            "score: 0.7077\n",
            "score: 0.7538\n",
            "mean score: 0.7759 { \"C\":100000.0 }\n",
            "score: 0.8182\n",
            "score: 0.8182\n",
            "score: 0.7846\n",
            "score: 0.7538\n",
            "score: 0.7692\n",
            "score: 0.7846\n",
            "score: 0.7692\n",
            "score: 0.8000\n",
            "score: 0.7077\n",
            "score: 0.7538\n",
            "mean score: 0.7759 { \"C\":1000000.0 }\n",
            "score: 0.8182\n",
            "score: 0.8182\n",
            "score: 0.7846\n",
            "score: 0.7538\n",
            "score: 0.7692\n",
            "score: 0.7846\n",
            "score: 0.7692\n",
            "score: 0.8000\n",
            "score: 0.7077\n",
            "score: 0.7538\n",
            "mean score: 0.7759 { \"C\":10000000.0 }\n"
          ]
        }
      ]
    },
    {
      "cell_type": "code",
      "metadata": {
        "id": "QyhlQ1jy1Zf7",
        "colab": {
          "base_uri": "https://localhost:8080/"
        },
        "outputId": "bab3e1f9-30a1-4ed2-b3c3-883d398e055b"
      },
      "source": [
        "for C in np.power(10.0, np.arange(13) - 5):\n",
        "  cv(skf, X_train, y_train, {'C':C, 'penalty':'l1', 'solver':'liblinear', 'max_iter':5000})"
      ],
      "execution_count": 55,
      "outputs": [
        {
          "output_type": "stream",
          "name": "stdout",
          "text": [
            "score: 0.6515\n",
            "score: 0.6515\n",
            "score: 0.6615\n",
            "score: 0.6615\n",
            "score: 0.6615\n",
            "score: 0.6615\n",
            "score: 0.6615\n",
            "score: 0.6615\n",
            "score: 0.6462\n",
            "score: 0.6462\n",
            "mean score: 0.6565 { \"C\":1e-05 \"penalty\":l1 \"solver\":liblinear \"max_iter\":5000 }\n",
            "score: 0.6515\n",
            "score: 0.6515\n",
            "score: 0.6615\n",
            "score: 0.6615\n",
            "score: 0.6615\n",
            "score: 0.6615\n",
            "score: 0.6615\n",
            "score: 0.6615\n",
            "score: 0.6462\n",
            "score: 0.6462\n",
            "mean score: 0.6565 { \"C\":0.0001 \"penalty\":l1 \"solver\":liblinear \"max_iter\":5000 }\n",
            "score: 0.6364\n",
            "score: 0.6515\n",
            "score: 0.6615\n",
            "score: 0.6308\n",
            "score: 0.6769\n",
            "score: 0.6769\n",
            "score: 0.6308\n",
            "score: 0.6615\n",
            "score: 0.6615\n",
            "score: 0.6615\n",
            "mean score: 0.6549 { \"C\":0.001 \"penalty\":l1 \"solver\":liblinear \"max_iter\":5000 }\n",
            "score: 0.7424\n",
            "score: 0.7273\n",
            "score: 0.7077\n",
            "score: 0.6615\n",
            "score: 0.6462\n",
            "score: 0.6769\n",
            "score: 0.6000\n",
            "score: 0.6769\n",
            "score: 0.6923\n",
            "score: 0.7231\n",
            "mean score: 0.6854 { \"C\":0.01 \"penalty\":l1 \"solver\":liblinear \"max_iter\":5000 }\n",
            "score: 0.7576\n",
            "score: 0.7424\n",
            "score: 0.7077\n",
            "score: 0.7231\n",
            "score: 0.6923\n",
            "score: 0.7231\n",
            "score: 0.6462\n",
            "score: 0.7077\n",
            "score: 0.7231\n",
            "score: 0.7538\n",
            "mean score: 0.7177 { \"C\":0.1 \"penalty\":l1 \"solver\":liblinear \"max_iter\":5000 }\n",
            "score: 0.8182\n",
            "score: 0.8030\n",
            "score: 0.7692\n",
            "score: 0.7538\n",
            "score: 0.7692\n",
            "score: 0.7692\n",
            "score: 0.7692\n",
            "score: 0.8000\n",
            "score: 0.7077\n",
            "score: 0.7385\n",
            "mean score: 0.7698 { \"C\":1.0 \"penalty\":l1 \"solver\":liblinear \"max_iter\":5000 }\n",
            "score: 0.8182\n",
            "score: 0.8182\n",
            "score: 0.7846\n",
            "score: 0.7538\n",
            "score: 0.7692\n",
            "score: 0.7846\n",
            "score: 0.7692\n",
            "score: 0.8000\n",
            "score: 0.7077\n",
            "score: 0.7385\n",
            "mean score: 0.7744 { \"C\":10.0 \"penalty\":l1 \"solver\":liblinear \"max_iter\":5000 }\n",
            "score: 0.8182\n",
            "score: 0.8182\n",
            "score: 0.7846\n",
            "score: 0.7538\n",
            "score: 0.7692\n",
            "score: 0.7846\n",
            "score: 0.7692\n",
            "score: 0.8000\n",
            "score: 0.7077\n",
            "score: 0.7538\n",
            "mean score: 0.7759 { \"C\":100.0 \"penalty\":l1 \"solver\":liblinear \"max_iter\":5000 }\n",
            "score: 0.8182\n",
            "score: 0.8182\n",
            "score: 0.7846\n",
            "score: 0.7538\n",
            "score: 0.7692\n",
            "score: 0.7846\n",
            "score: 0.7692\n",
            "score: 0.8000\n",
            "score: 0.7077\n",
            "score: 0.7538\n",
            "mean score: 0.7759 { \"C\":1000.0 \"penalty\":l1 \"solver\":liblinear \"max_iter\":5000 }\n",
            "score: 0.8182\n",
            "score: 0.8182\n",
            "score: 0.7846\n",
            "score: 0.7538\n",
            "score: 0.7692\n",
            "score: 0.7846\n",
            "score: 0.7692\n",
            "score: 0.8000\n",
            "score: 0.7077\n",
            "score: 0.7538\n",
            "mean score: 0.7759 { \"C\":10000.0 \"penalty\":l1 \"solver\":liblinear \"max_iter\":5000 }\n",
            "score: 0.8182\n",
            "score: 0.8182\n",
            "score: 0.7846\n",
            "score: 0.7538\n",
            "score: 0.7692\n",
            "score: 0.7846\n",
            "score: 0.7692\n",
            "score: 0.8000\n",
            "score: 0.7077\n",
            "score: 0.7538\n",
            "mean score: 0.7759 { \"C\":100000.0 \"penalty\":l1 \"solver\":liblinear \"max_iter\":5000 }\n",
            "score: 0.8182\n",
            "score: 0.8182\n",
            "score: 0.7846\n",
            "score: 0.7538\n",
            "score: 0.7692\n",
            "score: 0.7846\n",
            "score: 0.7692\n",
            "score: 0.8000\n",
            "score: 0.7077\n",
            "score: 0.7538\n",
            "mean score: 0.7759 { \"C\":1000000.0 \"penalty\":l1 \"solver\":liblinear \"max_iter\":5000 }\n",
            "score: 0.8182\n",
            "score: 0.8182\n",
            "score: 0.7846\n",
            "score: 0.7538\n",
            "score: 0.7692\n",
            "score: 0.7846\n",
            "score: 0.7692\n",
            "score: 0.8000\n",
            "score: 0.7077\n",
            "score: 0.7538\n",
            "mean score: 0.7759 { \"C\":10000000.0 \"penalty\":l1 \"solver\":liblinear \"max_iter\":5000 }\n"
          ]
        }
      ]
    },
    {
      "cell_type": "markdown",
      "metadata": {
        "id": "JRev-b-58NlQ"
      },
      "source": [
        "デフォルトの設定を採用。"
      ]
    },
    {
      "cell_type": "code",
      "metadata": {
        "id": "_b3KW2dXRU9t",
        "colab": {
          "base_uri": "https://localhost:8080/"
        },
        "outputId": "30b9c398-81a4-4f24-90e7-1a90009c33e9"
      },
      "source": [
        "cv(skf, X_train, y_train)"
      ],
      "execution_count": 56,
      "outputs": [
        {
          "output_type": "stream",
          "name": "stdout",
          "text": [
            "score: 0.8333\n",
            "score: 0.8182\n",
            "score: 0.7846\n",
            "score: 0.7538\n",
            "score: 0.7692\n",
            "score: 0.7846\n",
            "score: 0.7692\n",
            "score: 0.8000\n",
            "score: 0.7077\n",
            "score: 0.7385\n",
            "mean score: 0.7759 \n"
          ]
        }
      ]
    },
    {
      "cell_type": "markdown",
      "metadata": {
        "id": "p6-8593ARZSw"
      },
      "source": [
        "### L) 分類のthresholdをチューニングしてみる"
      ]
    },
    {
      "cell_type": "code",
      "metadata": {
        "id": "XDHYptFtRZvG"
      },
      "source": [
        "def cv_threshold(skf, X_train, y_train, threshold=0.5, args={}):\n",
        "  scores = list()\n",
        "  for train_index, valid_index in skf.split(X_train, y_train):\n",
        "\n",
        "    # ロジスティック回帰の学習\n",
        "    if not 'max_iter' in args:\n",
        "      logreg = LogisticRegression(**args, max_iter=1000, random_state=123)\n",
        "    else:\n",
        "      logreg = LogisticRegression(**args, random_state=123)\n",
        "    logreg.fit(X_train.iloc[train_index], y_train.iloc[train_index])\n",
        "\n",
        "    # 検証データでの評価（thresholdの値を利用している）\n",
        "    X_valid = X_train.iloc[valid_index]\n",
        "    y_valid = y_train.iloc[valid_index]\n",
        "    score = ((logreg.predict_proba(X_valid) >= threshold)[:,1] * 1 == y_valid).sum() / len(y_valid)\n",
        "    scores.append(score)\n",
        "\n",
        "  print(f'{threshold:.2f} ; mean score: {np.array(scores).mean():.4f}', end=' ')\n",
        "  if args:\n",
        "    print('{', ' '.join([f'\"{str(k):s}\":{str(args[k]):s}' for k in args]), '}')\n",
        "  else:\n",
        "    print()"
      ],
      "execution_count": 57,
      "outputs": []
    },
    {
      "cell_type": "code",
      "metadata": {
        "colab": {
          "base_uri": "https://localhost:8080/"
        },
        "id": "Y0quLQLoSTt3",
        "outputId": "3960e522-c577-4df9-8e4d-5de79acfe598"
      },
      "source": [
        "for threshold in np.arange(4, 7, 0.5) * 0.1:\n",
        "  cv_threshold(skf, X_train_original, y_train, threshold=threshold)"
      ],
      "execution_count": 58,
      "outputs": [
        {
          "output_type": "stream",
          "name": "stdout",
          "text": [
            "0.40 ; mean score: 0.7560 \n",
            "0.45 ; mean score: 0.7652 \n",
            "0.50 ; mean score: 0.7637 \n",
            "0.55 ; mean score: 0.7636 \n",
            "0.60 ; mean score: 0.7590 \n",
            "0.65 ; mean score: 0.7606 \n"
          ]
        }
      ]
    },
    {
      "cell_type": "code",
      "metadata": {
        "colab": {
          "base_uri": "https://localhost:8080/"
        },
        "id": "iTsK5zCGTYXU",
        "outputId": "2a6d01c0-bc7f-4d84-c5c0-79389aede23c"
      },
      "source": [
        "for threshold in np.arange(4, 7, 0.5) * 0.1:\n",
        "  cv_threshold(skf, X_train, y_train, threshold=threshold)"
      ],
      "execution_count": 59,
      "outputs": [
        {
          "output_type": "stream",
          "name": "stdout",
          "text": [
            "0.40 ; mean score: 0.7652 \n",
            "0.45 ; mean score: 0.7759 \n",
            "0.50 ; mean score: 0.7759 \n",
            "0.55 ; mean score: 0.7683 \n",
            "0.60 ; mean score: 0.7606 \n",
            "0.65 ; mean score: 0.7637 \n"
          ]
        }
      ]
    },
    {
      "cell_type": "markdown",
      "metadata": {
        "id": "72sKbveFZqAV"
      },
      "source": [
        "* 以上をまとめると、モデルはデフォルトのままでよく、データの欠損に対処しただけ。"
      ]
    },
    {
      "cell_type": "markdown",
      "metadata": {
        "id": "UNavOCyN2hZr"
      },
      "source": [
        "### M) テストデータで最終評価"
      ]
    },
    {
      "cell_type": "code",
      "metadata": {
        "id": "H-c0X3gCJwsq",
        "colab": {
          "base_uri": "https://localhost:8080/"
        },
        "outputId": "1dd7346d-2305-4c0d-c85c-14cb3cc7ddea"
      },
      "source": [
        "logreg = LogisticRegression(max_iter=1000, random_state=123)\n",
        "logreg.fit(X_train, y_train)\n",
        "print('test score: {:.4f}'.format(logreg.score(X_test, y_test)))"
      ],
      "execution_count": 60,
      "outputs": [
        {
          "output_type": "stream",
          "name": "stdout",
          "text": [
            "test score: 0.7759\n"
          ]
        }
      ]
    },
    {
      "cell_type": "markdown",
      "metadata": {
        "id": "31G87jcjZ9nU"
      },
      "source": [
        "* 分類精度だけを見ると、欠損に対処しないほうがよかった、という結論になるが・・・"
      ]
    },
    {
      "cell_type": "code",
      "metadata": {
        "id": "KayAjOl5x_On",
        "colab": {
          "base_uri": "https://localhost:8080/"
        },
        "outputId": "4446103d-c694-445d-9e84-dbae0e08c321"
      },
      "source": [
        "y_test_pred_proba = logreg.predict_proba(X_test)\n",
        "print('ROC AUC: {:.4f}'.format(roc_auc_score(y_test, y_test_pred_proba[:,1])))"
      ],
      "execution_count": 61,
      "outputs": [
        {
          "output_type": "stream",
          "name": "stdout",
          "text": [
            "ROC AUC: 0.8794\n"
          ]
        }
      ]
    },
    {
      "cell_type": "markdown",
      "metadata": {
        "id": "LNJE3Pe3aEtq"
      },
      "source": [
        "* AUCは改善されている。"
      ]
    },
    {
      "cell_type": "code",
      "metadata": {
        "id": "WopC3aJ02PVO",
        "colab": {
          "base_uri": "https://localhost:8080/",
          "height": 294
        },
        "outputId": "ea999c8b-78c0-46d0-ef9d-a1febc61c1e0"
      },
      "source": [
        "y_score = logreg_baseline.decision_function(X_test_original) # ベースラインには元のテストデータを使う\n",
        "fpr, tpr, _ = roc_curve(y_test, y_score)\n",
        "roc_auc = auc(fpr, tpr)\n",
        "\n",
        "y_score_ours = logreg.decision_function(X_test)\n",
        "fpr_ours, tpr_ours, _ = roc_curve(y_test, y_score_ours)\n",
        "roc_auc_ours = auc(fpr_ours, tpr_ours)\n",
        "\n",
        "plt.plot(fpr, tpr, color='darkorange', label=f'ROC curve (area = {roc_auc:.4f})')\n",
        "plt.plot(fpr_ours, tpr_ours, color='firebrick', label=f'ROC curve (area = {roc_auc_ours:.4f})')\n",
        "plt.plot([0, 1], [0, 1], color='navy', linestyle='--')\n",
        "plt.xlim([0.0, 1.0])\n",
        "plt.ylim([0.0, 1.05])\n",
        "plt.xlabel('False Positive Rate')\n",
        "plt.ylabel('True Positive Rate')\n",
        "plt.title('Receiver operating characteristic example')\n",
        "plt.legend(loc=\"lower right\");"
      ],
      "execution_count": 62,
      "outputs": [
        {
          "output_type": "display_data",
          "data": {
            "text/plain": [
              "<Figure size 432x288 with 1 Axes>"
            ],
            "image/png": "[encoded data removed]"
          },
          "metadata": {
            "image/png": {
              "width": 393,
              "height": 277
            },
            "needs_background": "light"
          }
        }
      ]
    },
    {
      "cell_type": "code",
      "metadata": {
        "id": "IE1-wlw7QNYV"
      },
      "source": [
        ""
      ],
      "execution_count": 62,
      "outputs": []
    },
    {
      "cell_type": "markdown",
      "source": [
        "# 課題\n",
        "* 上の結果を改良できるかどうか、試行錯誤してみてください。"
      ],
      "metadata": {
        "id": "sflvsPYqkflX"
      }
    },
    {
      "cell_type": "code",
      "source": [
        ""
      ],
      "metadata": {
        "id": "zWoqZKFlkjsA"
      },
      "execution_count": null,
      "outputs": []
    }
  ]
}
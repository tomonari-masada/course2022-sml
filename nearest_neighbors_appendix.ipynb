{
  "nbformat": 4,
  "nbformat_minor": 0,
  "metadata": {
    "colab": {
      "name": "nearest_neighbors_appendix.ipynb",
      "provenance": [],
      "collapsed_sections": [],
      "include_colab_link": true
    },
    "kernelspec": {
      "name": "python3",
      "display_name": "Python 3"
    },
    "accelerator": "GPU"
  },
  "cells": [
    {
      "cell_type": "markdown",
      "metadata": {
        "id": "view-in-github",
        "colab_type": "text"
      },
      "source": [
        "<a href=\"https://colab.research.google.com/github/tomonari-masada/course2022-sml/blob/main/nearest_neighbors_appendix.ipynb\" target=\"_parent\"><img src=\"https://colab.research.google.com/assets/colab-badge.svg\" alt=\"Open In Colab\"/></a>"
      ]
    },
    {
      "cell_type": "markdown",
      "metadata": {
        "id": "XjBWCxMKQWQQ"
      },
      "source": [
        "# k近傍法のAppendix"
      ]
    },
    {
      "cell_type": "code",
      "metadata": {
        "id": "kKt4G60aQG5a"
      },
      "source": [
        "import numpy as np\n",
        "import pandas as pd\n",
        "import matplotlib.pyplot as plt\n",
        "\n",
        "%config InlineBackend.figure_format = 'retina'"
      ],
      "execution_count": 1,
      "outputs": []
    },
    {
      "cell_type": "markdown",
      "metadata": {
        "id": "0HIgiloQc9xb"
      },
      "source": [
        "* lifesat_extended.csvをアップロードする。"
      ]
    },
    {
      "cell_type": "code",
      "metadata": {
        "id": "jk0oEyN9lwzh",
        "colab": {
          "resources": {
            "http://localhost:8080/nbextensions/google.colab/files.js": {
              "data": "Ly8gQ29weXJpZ2h0IDIwMTcgR29vZ2xlIExMQwovLwovLyBMaWNlbnNlZCB1bmRlciB0aGUgQXBhY2hlIExpY2Vuc2UsIFZlcnNpb24gMi4wICh0aGUgIkxpY2Vuc2UiKTsKLy8geW91IG1heSBub3QgdXNlIHRoaXMgZmlsZSBleGNlcHQgaW4gY29tcGxpYW5jZSB3aXRoIHRoZSBMaWNlbnNlLgovLyBZb3UgbWF5IG9idGFpbiBhIGNvcHkgb2YgdGhlIExpY2Vuc2UgYXQKLy8KLy8gICAgICBodHRwOi8vd3d3LmFwYWNoZS5vcmcvbGljZW5zZXMvTElDRU5TRS0yLjAKLy8KLy8gVW5sZXNzIHJlcXVpcmVkIGJ5IGFwcGxpY2FibGUgbGF3IG9yIGFncmVlZCB0byBpbiB3cml0aW5nLCBzb2Z0d2FyZQovLyBkaXN0cmlidXRlZCB1bmRlciB0aGUgTGljZW5zZSBpcyBkaXN0cmlidXRlZCBvbiBhbiAiQVMgSVMiIEJBU0lTLAovLyBXSVRIT1VUIFdBUlJBTlRJRVMgT1IgQ09ORElUSU9OUyBPRiBBTlkgS0lORCwgZWl0aGVyIGV4cHJlc3Mgb3IgaW1wbGllZC4KLy8gU2VlIHRoZSBMaWNlbnNlIGZvciB0aGUgc3BlY2lmaWMgbGFuZ3VhZ2UgZ292ZXJuaW5nIHBlcm1pc3Npb25zIGFuZAovLyBsaW1pdGF0aW9ucyB1bmRlciB0aGUgTGljZW5zZS4KCi8qKgogKiBAZmlsZW92ZXJ2aWV3IEhlbHBlcnMgZm9yIGdvb2dsZS5jb2xhYiBQeXRob24gbW9kdWxlLgogKi8KKGZ1bmN0aW9uKHNjb3BlKSB7CmZ1bmN0aW9uIHNwYW4odGV4dCwgc3R5bGVBdHRyaWJ1dGVzID0ge30pIHsKICBjb25zdCBlbGVtZW50ID0gZG9jdW1lbnQuY3JlYXRlRWxlbWVudCgnc3BhbicpOwogIGVsZW1lbnQudGV4dENvbnRlbnQgPSB0ZXh0OwogIGZvciAoY29uc3Qga2V5IG9mIE9iamVjdC5rZXlzKHN0eWxlQXR0cmlidXRlcykpIHsKICAgIGVsZW1lbnQuc3R5bGVba2V5XSA9IHN0eWxlQXR0cmlidXRlc1trZXldOwogIH0KICByZXR1cm4gZWxlbWVudDsKfQoKLy8gTWF4IG51bWJlciBvZiBieXRlcyB3aGljaCB3aWxsIGJlIHVwbG9hZGVkIGF0IGEgdGltZS4KY29uc3QgTUFYX1BBWUxPQURfU0laRSA9IDEwMCAqIDEwMjQ7CgpmdW5jdGlvbiBfdXBsb2FkRmlsZXMoaW5wdXRJZCwgb3V0cHV0SWQpIHsKICBjb25zdCBzdGVwcyA9IHVwbG9hZEZpbGVzU3RlcChpbnB1dElkLCBvdXRwdXRJZCk7CiAgY29uc3Qgb3V0cHV0RWxlbWVudCA9IGRvY3VtZW50LmdldEVsZW1lbnRCeUlkKG91dHB1dElkKTsKICAvLyBDYWNoZSBzdGVwcyBvbiB0aGUgb3V0cHV0RWxlbWVudCB0byBtYWtlIGl0IGF2YWlsYWJsZSBmb3IgdGhlIG5leHQgY2FsbAogIC8vIHRvIHVwbG9hZEZpbGVzQ29udGludWUgZnJvbSBQeXRob24uCiAgb3V0cHV0RWxlbWVudC5zdGVwcyA9IHN0ZXBzOwoKICByZXR1cm4gX3VwbG9hZEZpbGVzQ29udGludWUob3V0cHV0SWQpOwp9CgovLyBUaGlzIGlzIHJvdWdobHkgYW4gYXN5bmMgZ2VuZXJhdG9yIChub3Qgc3VwcG9ydGVkIGluIHRoZSBicm93c2VyIHlldCksCi8vIHdoZXJlIHRoZXJlIGFyZSBtdWx0aXBsZSBhc3luY2hyb25vdXMgc3RlcHMgYW5kIHRoZSBQeXRob24gc2lkZSBpcyBnb2luZwovLyB0byBwb2xsIGZvciBjb21wbGV0aW9uIG9mIGVhY2ggc3RlcC4KLy8gVGhpcyB1c2VzIGEgUHJvbWlzZSB0byBibG9jayB0aGUgcHl0aG9uIHNpZGUgb24gY29tcGxldGlvbiBvZiBlYWNoIHN0ZXAsCi8vIHRoZW4gcGFzc2VzIHRoZSByZXN1bHQgb2YgdGhlIHByZXZpb3VzIHN0ZXAgYXMgdGhlIGlucHV0IHRvIHRoZSBuZXh0IHN0ZXAuCmZ1bmN0aW9uIF91cGxvYWRGaWxlc0NvbnRpbnVlKG91dHB1dElkKSB7CiAgY29uc3Qgb3V0cHV0RWxlbWVudCA9IGRvY3VtZW50LmdldEVsZW1lbnRCeUlkKG91dHB1dElkKTsKICBjb25zdCBzdGVwcyA9IG91dHB1dEVsZW1lbnQuc3RlcHM7CgogIGNvbnN0IG5leHQgPSBzdGVwcy5uZXh0KG91dHB1dEVsZW1lbnQubGFzdFByb21pc2VWYWx1ZSk7CiAgcmV0dXJuIFByb21pc2UucmVzb2x2ZShuZXh0LnZhbHVlLnByb21pc2UpLnRoZW4oKHZhbHVlKSA9PiB7CiAgICAvLyBDYWNoZSB0aGUgbGFzdCBwcm9taXNlIHZhbHVlIHRvIG1ha2UgaXQgYXZhaWxhYmxlIHRvIHRoZSBuZXh0CiAgICAvLyBzdGVwIG9mIHRoZSBnZW5lcmF0b3IuCiAgICBvdXRwdXRFbGVtZW50Lmxhc3RQcm9taXNlVmFsdWUgPSB2YWx1ZTsKICAgIHJldHVybiBuZXh0LnZhbHVlLnJlc3BvbnNlOwogIH0pOwp9CgovKioKICogR2VuZXJhdG9yIGZ1bmN0aW9uIHdoaWNoIGlzIGNhbGxlZCBiZXR3ZWVuIGVhY2ggYXN5bmMgc3RlcCBvZiB0aGUgdXBsb2FkCiAqIHByb2Nlc3MuCiAqIEBwYXJhbSB7c3RyaW5nfSBpbnB1dElkIEVsZW1lbnQgSUQgb2YgdGhlIGlucHV0IGZpbGUgcGlja2VyIGVsZW1lbnQuCiAqIEBwYXJhbSB7c3RyaW5nfSBvdXRwdXRJZCBFbGVtZW50IElEIG9mIHRoZSBvdXRwdXQgZGlzcGxheS4KICogQHJldHVybiB7IUl0ZXJhYmxlPCFPYmplY3Q+fSBJdGVyYWJsZSBvZiBuZXh0IHN0ZXBzLgogKi8KZnVuY3Rpb24qIHVwbG9hZEZpbGVzU3RlcChpbnB1dElkLCBvdXRwdXRJZCkgewogIGNvbnN0IGlucHV0RWxlbWVudCA9IGRvY3VtZW50LmdldEVsZW1lbnRCeUlkKGlucHV0SWQpOwogIGlucHV0RWxlbWVudC5kaXNhYmxlZCA9IGZhbHNlOwoKICBjb25zdCBvdXRwdXRFbGVtZW50ID0gZG9jdW1lbnQuZ2V0RWxlbWVudEJ5SWQob3V0cHV0SWQpOwogIG91dHB1dEVsZW1lbnQuaW5uZXJIVE1MID0gJyc7CgogIGNvbnN0IHBpY2tlZFByb21pc2UgPSBuZXcgUHJvbWlzZSgocmVzb2x2ZSkgPT4gewogICAgaW5wdXRFbGVtZW50LmFkZEV2ZW50TGlzdGVuZXIoJ2NoYW5nZScsIChlKSA9PiB7CiAgICAgIHJlc29sdmUoZS50YXJnZXQuZmlsZXMpOwogICAgfSk7CiAgfSk7CgogIGNvbnN0IGNhbmNlbCA9IGRvY3VtZW50LmNyZWF0ZUVsZW1lbnQoJ2J1dHRvbicpOwogIGlucHV0RWxlbWVudC5wYXJlbnRFbGVtZW50LmFwcGVuZENoaWxkKGNhbmNlbCk7CiAgY2FuY2VsLnRleHRDb250ZW50ID0gJ0NhbmNlbCB1cGxvYWQnOwogIGNvbnN0IGNhbmNlbFByb21pc2UgPSBuZXcgUHJvbWlzZSgocmVzb2x2ZSkgPT4gewogICAgY2FuY2VsLm9uY2xpY2sgPSAoKSA9PiB7CiAgICAgIHJlc29sdmUobnVsbCk7CiAgICB9OwogIH0pOwoKICAvLyBXYWl0IGZvciB0aGUgdXNlciB0byBwaWNrIHRoZSBmaWxlcy4KICBjb25zdCBmaWxlcyA9IHlpZWxkIHsKICAgIHByb21pc2U6IFByb21pc2UucmFjZShbcGlja2VkUHJvbWlzZSwgY2FuY2VsUHJvbWlzZV0pLAogICAgcmVzcG9uc2U6IHsKICAgICAgYWN0aW9uOiAnc3RhcnRpbmcnLAogICAgfQogIH07CgogIGNhbmNlbC5yZW1vdmUoKTsKCiAgLy8gRGlzYWJsZSB0aGUgaW5wdXQgZWxlbWVudCBzaW5jZSBmdXJ0aGVyIHBpY2tzIGFyZSBub3QgYWxsb3dlZC4KICBpbnB1dEVsZW1lbnQuZGlzYWJsZWQgPSB0cnVlOwoKICBpZiAoIWZpbGVzKSB7CiAgICByZXR1cm4gewogICAgICByZXNwb25zZTogewogICAgICAgIGFjdGlvbjogJ2NvbXBsZXRlJywKICAgICAgfQogICAgfTsKICB9CgogIGZvciAoY29uc3QgZmlsZSBvZiBmaWxlcykgewogICAgY29uc3QgbGkgPSBkb2N1bWVudC5jcmVhdGVFbGVtZW50KCdsaScpOwogICAgbGkuYXBwZW5kKHNwYW4oZmlsZS5uYW1lLCB7Zm9udFdlaWdodDogJ2JvbGQnfSkpOwogICAgbGkuYXBwZW5kKHNwYW4oCiAgICAgICAgYCgke2ZpbGUudHlwZSB8fCAnbi9hJ30pIC0gJHtmaWxlLnNpemV9IGJ5dGVzLCBgICsKICAgICAgICBgbGFzdCBtb2RpZmllZDogJHsKICAgICAgICAgICAgZmlsZS5sYXN0TW9kaWZpZWREYXRlID8gZmlsZS5sYXN0TW9kaWZpZWREYXRlLnRvTG9jYWxlRGF0ZVN0cmluZygpIDoKICAgICAgICAgICAgICAgICAgICAgICAgICAgICAgICAgICAgJ24vYSd9IC0gYCkpOwogICAgY29uc3QgcGVyY2VudCA9IHNwYW4oJzAlIGRvbmUnKTsKICAgIGxpLmFwcGVuZENoaWxkKHBlcmNlbnQpOwoKICAgIG91dHB1dEVsZW1lbnQuYXBwZW5kQ2hpbGQobGkpOwoKICAgIGNvbnN0IGZpbGVEYXRhUHJvbWlzZSA9IG5ldyBQcm9taXNlKChyZXNvbHZlKSA9PiB7CiAgICAgIGNvbnN0IHJlYWRlciA9IG5ldyBGaWxlUmVhZGVyKCk7CiAgICAgIHJlYWRlci5vbmxvYWQgPSAoZSkgPT4gewogICAgICAgIHJlc29sdmUoZS50YXJnZXQucmVzdWx0KTsKICAgICAgfTsKICAgICAgcmVhZGVyLnJlYWRBc0FycmF5QnVmZmVyKGZpbGUpOwogICAgfSk7CiAgICAvLyBXYWl0IGZvciB0aGUgZGF0YSB0byBiZSByZWFkeS4KICAgIGxldCBmaWxlRGF0YSA9IHlpZWxkIHsKICAgICAgcHJvbWlzZTogZmlsZURhdGFQcm9taXNlLAogICAgICByZXNwb25zZTogewogICAgICAgIGFjdGlvbjogJ2NvbnRpbnVlJywKICAgICAgfQogICAgfTsKCiAgICAvLyBVc2UgYSBjaHVua2VkIHNlbmRpbmcgdG8gYXZvaWQgbWVzc2FnZSBzaXplIGxpbWl0cy4gU2VlIGIvNjIxMTU2NjAuCiAgICBsZXQgcG9zaXRpb24gPSAwOwogICAgZG8gewogICAgICBjb25zdCBsZW5ndGggPSBNYXRoLm1pbihmaWxlRGF0YS5ieXRlTGVuZ3RoIC0gcG9zaXRpb24sIE1BWF9QQVlMT0FEX1NJWkUpOwogICAgICBjb25zdCBjaHVuayA9IG5ldyBVaW50OEFycmF5KGZpbGVEYXRhLCBwb3NpdGlvbiwgbGVuZ3RoKTsKICAgICAgcG9zaXRpb24gKz0gbGVuZ3RoOwoKICAgICAgY29uc3QgYmFzZTY0ID0gYnRvYShTdHJpbmcuZnJvbUNoYXJDb2RlLmFwcGx5KG51bGwsIGNodW5rKSk7CiAgICAgIHlpZWxkIHsKICAgICAgICByZXNwb25zZTogewogICAgICAgICAgYWN0aW9uOiAnYXBwZW5kJywKICAgICAgICAgIGZpbGU6IGZpbGUubmFtZSwKICAgICAgICAgIGRhdGE6IGJhc2U2NCwKICAgICAgICB9LAogICAgICB9OwoKICAgICAgbGV0IHBlcmNlbnREb25lID0gZmlsZURhdGEuYnl0ZUxlbmd0aCA9PT0gMCA/CiAgICAgICAgICAxMDAgOgogICAgICAgICAgTWF0aC5yb3VuZCgocG9zaXRpb24gLyBmaWxlRGF0YS5ieXRlTGVuZ3RoKSAqIDEwMCk7CiAgICAgIHBlcmNlbnQudGV4dENvbnRlbnQgPSBgJHtwZXJjZW50RG9uZX0lIGRvbmVgOwoKICAgIH0gd2hpbGUgKHBvc2l0aW9uIDwgZmlsZURhdGEuYnl0ZUxlbmd0aCk7CiAgfQoKICAvLyBBbGwgZG9uZS4KICB5aWVsZCB7CiAgICByZXNwb25zZTogewogICAgICBhY3Rpb246ICdjb21wbGV0ZScsCiAgICB9CiAgfTsKfQoKc2NvcGUuZ29vZ2xlID0gc2NvcGUuZ29vZ2xlIHx8IHt9OwpzY29wZS5nb29nbGUuY29sYWIgPSBzY29wZS5nb29nbGUuY29sYWIgfHwge307CnNjb3BlLmdvb2dsZS5jb2xhYi5fZmlsZXMgPSB7CiAgX3VwbG9hZEZpbGVzLAogIF91cGxvYWRGaWxlc0NvbnRpbnVlLAp9Owp9KShzZWxmKTsK",
              "ok": true,
              "headers": [
                [
                  "content-type",
                  "application/javascript"
                ]
              ],
              "status": 200,
              "status_text": ""
            }
          },
          "base_uri": "https://localhost:8080/",
          "height": 116
        },
        "outputId": "d8a6e123-49a7-4c3c-f9ea-e0648967087d"
      },
      "source": [
        "from google.colab import files\n",
        "files.upload()"
      ],
      "execution_count": 2,
      "outputs": [
        {
          "output_type": "display_data",
          "data": {
            "text/plain": [
              "<IPython.core.display.HTML object>"
            ],
            "text/html": [
              "\n",
              "     <input type=\"file\" id=\"files-b3cddcf6-9fba-490b-b991-bd3f07cd26d8\" name=\"files[]\" multiple disabled\n",
              "        style=\"border:none\" />\n",
              "     <output id=\"result-b3cddcf6-9fba-490b-b991-bd3f07cd26d8\">\n",
              "      Upload widget is only available when the cell has been executed in the\n",
              "      current browser session. Please rerun this cell to enable.\n",
              "      </output>\n",
              "      <script src=\"/nbextensions/google.colab/files.js\"></script> "
            ]
          },
          "metadata": {}
        },
        {
          "output_type": "stream",
          "name": "stdout",
          "text": [
            "Saving lifesat_extended.csv to lifesat_extended (1).csv\n"
          ]
        },
        {
          "output_type": "execute_result",
          "data": {
            "text/plain": [
              "{'lifesat_extended.csv': b'Country,Air pollution,Assault rate,Consultation on rule-making,Dwellings without basic facilities,Educational attainment,Employees working very long hours,Employment rate,Homicide rate,Household net adjusted disposable income,Household net financial wealth,Housing expenditure,Job security,Life expectancy,Life satisfaction,Long-term unemployment rate,Personal earnings,Quality of support network,Rooms per person,Self-reported health,Student skills,Time devoted to leisure and personal care,Voter turnout,Water quality,Years in education,GDP per capita\\nRussia,15.0,3.8,2.5,15.1,94.0,0.16,69.0,12.8,19292.0,3412.0,11.0,4.0,70.2,6.0,1.7,20885.0,90.0,0.9,37.0,481.0,14.97,65.0,56.0,16.0,9054.914\\nTurkey,35.0,5.0,5.5,12.7,34.0,40.86,50.0,1.2,14095.0,3251.0,21.0,8.1,74.6,5.6,2.37,16919.0,86.0,1.1,68.0,462.0,13.42,88.0,62.0,16.4,9437.372\\nHungary,15.0,3.6,7.9,4.8,82.0,3.19,58.0,1.3,15442.0,13277.0,20.0,5.7,75.2,4.9,5.1,20948.0,87.0,1.1,57.0,487.0,15.04,62.0,77.0,17.6,12239.893999999998\\nPoland,33.0,1.4,10.8,3.2,90.0,7.41,60.0,0.9,17852.0,10919.0,21.0,7.3,76.9,5.8,3.77,22655.0,91.0,1.1,58.0,521.0,14.2,55.0,79.0,18.4,12495.333999999999\\nSlovak Republic,13.0,3.0,6.6,0.6,92.0,7.02,60.0,1.2,17503.0,8663.0,26.0,5.5,76.2,6.1,9.46,20307.0,90.0,1.1,66.0,472.0,14.99,59.0,81.0,16.3,15991.736\\nEstonia,9.0,5.5,3.3,8.1,90.0,3.3,68.0,4.8,15167.0,7680.0,19.0,5.2,76.5,5.6,3.82,18944.0,89.0,1.5,54.0,526.0,14.9,64.0,79.0,17.5,17288.083\\nGreece,27.0,3.7,6.5,0.7,68.0,6.16,49.0,1.6,18575.0,14579.0,25.0,12.2,80.7,4.8,18.39,25503.0,83.0,1.2,74.0,466.0,14.91,64.0,69.0,18.6,18064.288\\nPortugal,18.0,5.7,6.5,0.9,38.0,9.62,61.0,1.1,20086.0,31245.0,19.0,8.6,80.5,5.1,9.11,23688.0,86.0,1.6,46.0,488.0,14.95,58.0,86.0,17.6,19121.592\\nSlovenia,26.0,3.9,10.3,0.5,85.0,5.63,63.0,0.4,19326.0,18465.0,20.0,5.5,80.2,5.7,5.15,32037.0,90.0,1.5,65.0,499.0,14.62,52.0,88.0,18.4,20732.482\\nSpain,24.0,4.2,7.3,0.1,55.0,5.89,56.0,0.6,22477.0,24774.0,22.0,17.8,82.5,6.5,12.96,34824.0,95.0,1.9,72.0,490.0,16.06,69.0,71.0,17.6,25864.721\\nKorea,30.0,2.1,10.4,4.2,82.0,18.72,64.0,1.1,19510.0,29091.0,16.0,3.2,81.3,5.8,0.01,36354.0,72.0,1.4,35.0,542.0,14.63,76.0,78.0,17.5,27195.197\\nItaly,21.0,4.7,5.0,1.1,57.0,3.66,56.0,0.7,25166.0,54987.0,24.0,5.9,82.3,6.0,6.94,34561.0,90.0,1.4,66.0,490.0,14.98,75.0,71.0,16.8,29866.581000000002\\nJapan,24.0,1.4,7.3,6.4,94.0,22.26,72.0,0.3,26111.0,86764.0,22.0,2.4,83.2,5.9,1.67,35405.0,89.0,1.8,30.0,540.0,14.93,53.0,85.0,16.3,32485.545\\nIsrael,21.0,6.4,2.5,3.7,85.0,16.03,67.0,2.3,22104.0,52933.0,21.0,5.0,81.8,7.4,0.79,28817.0,87.0,1.2,80.0,474.0,14.48,68.0,68.0,15.8,35343.336\\nNew Zealand,11.0,2.2,10.3,0.2,74.0,13.87,73.0,1.2,23815.0,28290.0,23.0,5.1,81.5,7.3,0.75,35609.0,94.0,2.4,90.0,509.0,14.87,77.0,89.0,18.1,37044.891\\nFrance,12.0,5.0,3.5,0.5,73.0,8.15,64.0,0.6,28799.0,48741.0,21.0,6.5,82.1,6.5,3.99,40242.0,87.0,1.8,67.0,500.0,15.33,80.0,82.0,16.4,37675.006\\nBelgium,21.0,6.6,4.5,2.0,72.0,4.57,62.0,1.1,28307.0,83876.0,21.0,5.0,80.5,6.9,3.88,48082.0,94.0,2.2,74.0,509.0,15.71,89.0,87.0,18.9,40106.632000000005\\nGermany,16.0,3.6,4.5,0.1,86.0,5.25,73.0,0.5,31252.0,50394.0,21.0,3.1,81.0,7.0,2.37,43682.0,94.0,1.8,65.0,515.0,15.31,72.0,95.0,18.2,40996.511\\nFinland,15.0,2.4,9.0,0.6,85.0,3.58,69.0,1.4,27927.0,18761.0,22.0,6.9,80.7,7.4,1.73,40060.0,95.0,1.9,65.0,529.0,14.89,69.0,94.0,19.7,41973.988\\nCanada,15.0,1.3,10.5,0.2,89.0,3.94,72.0,1.5,29365.0,67913.0,21.0,6.4,81.5,7.3,0.9,46911.0,92.0,2.5,89.0,522.0,14.25,61.0,91.0,17.2,43331.960999999996\\nNetherlands,30.0,4.9,6.1,0.0,73.0,0.45,74.0,0.9,27888.0,77961.0,19.0,4.5,81.2,7.3,2.4,47590.0,90.0,2.0,76.0,519.0,15.44,75.0,92.0,18.7,43603.115\\nAustria,27.0,3.4,7.1,1.0,83.0,7.61,72.0,0.4,31173.0,49887.0,21.0,3.9,81.0,6.9,1.19,45199.0,89.0,1.6,69.0,500.0,14.46,75.0,94.0,17.0,43724.030999999995\\nUnited Kingdom,13.0,1.9,11.5,0.2,78.0,12.7,71.0,0.3,27029.0,60778.0,23.0,5.2,81.0,6.8,2.77,41192.0,91.0,1.9,74.0,502.0,14.83,66.0,88.0,16.4,43770.687999999995\\nSweden,10.0,5.1,10.9,0.0,88.0,1.13,74.0,0.7,29185.0,60328.0,20.0,6.5,81.8,7.2,1.37,40818.0,92.0,1.7,81.0,482.0,15.11,86.0,95.0,19.3,49866.265999999996\\nIceland,18.0,2.7,5.1,0.4,71.0,12.25,82.0,0.3,23965.0,43045.0,24.0,4.1,83.0,7.5,1.18,55716.0,96.0,1.5,77.0,484.0,14.61,81.0,97.0,19.8,50854.583\\nAustralia,13.0,2.1,10.5,1.1,76.0,14.02,72.0,0.8,31588.0,47657.0,20.0,4.8,82.1,7.3,1.08,50449.0,92.0,2.3,85.0,512.0,14.41,93.0,91.0,19.4,50961.865\\nIreland,13.0,2.6,9.0,0.2,75.0,4.2,60.0,0.8,23917.0,31580.0,19.0,5.9,81.0,7.0,8.39,49506.0,96.0,2.1,82.0,516.0,15.19,70.0,80.0,17.6,51350.744000000006\\nDenmark,15.0,3.9,7.0,0.9,78.0,2.03,73.0,0.3,26491.0,44488.0,24.0,5.6,80.1,7.5,1.78,48347.0,95.0,1.9,72.0,498.0,16.06,88.0,94.0,19.4,52114.165\\nUnited States,18.0,1.5,8.3,0.1,89.0,11.3,67.0,5.2,41355.0,145769.0,18.0,5.9,78.7,7.2,1.91,56340.0,90.0,2.4,88.0,492.0,14.27,68.0,85.0,17.2,55805.204000000005\\n'}"
            ]
          },
          "metadata": {},
          "execution_count": 2
        }
      ]
    },
    {
      "cell_type": "code",
      "metadata": {
        "id": "ZeFRSbhadE_P"
      },
      "source": [
        "df = pd.read_csv('lifesat_extended.csv', index_col=0)"
      ],
      "execution_count": 3,
      "outputs": []
    },
    {
      "cell_type": "markdown",
      "source": [
        "* 日本をtest setとして除外し、残りのデータ集合を使う。\n",
        " * 日本の生活満足度を予測することを、最終的な目標としたのだった。"
      ],
      "metadata": {
        "id": "c7BaROGebmkq"
      }
    },
    {
      "cell_type": "code",
      "source": [
        "df_test = df.loc[['Japan']]\n",
        "df = df.drop(['Japan'])"
      ],
      "metadata": {
        "id": "JYDgIGy6bmHK"
      },
      "execution_count": 4,
      "outputs": []
    },
    {
      "cell_type": "code",
      "source": [
        "X = df[['GDP per capita', 'Employment rate']]\n",
        "y = df['Life satisfaction']"
      ],
      "metadata": {
        "id": "KLqO7PZIkgBM"
      },
      "execution_count": 5,
      "outputs": []
    },
    {
      "cell_type": "markdown",
      "metadata": {
        "id": "XWYuFav7X_OD"
      },
      "source": [
        "* 演習問題5-3: 韓国の生活満足度を予測し、最も良い予測値を与えるkを調べよう。"
      ]
    },
    {
      "cell_type": "code",
      "metadata": {
        "id": "PN7pHCUDYHmU"
      },
      "source": [
        "from sklearn.preprocessing import MinMaxScaler\n",
        "scaler = MinMaxScaler()\n",
        "X_scaled = X.copy()\n",
        "X_scaled[X.columns] = scaler.fit_transform(X)"
      ],
      "execution_count": 6,
      "outputs": []
    },
    {
      "cell_type": "markdown",
      "source": [
        "* 国どうしの距離を保存しておくためのデータフレーム`X_dist`を、`X`をコピーして作っておく。"
      ],
      "metadata": {
        "id": "Nx7xy_77bGje"
      }
    },
    {
      "cell_type": "code",
      "source": [
        "X_dist = X.copy()"
      ],
      "metadata": {
        "id": "MJLa0SoTbD_t"
      },
      "execution_count": 7,
      "outputs": []
    },
    {
      "cell_type": "markdown",
      "source": [
        "* 韓国と、他の国一つ一つとの距離を求めて、`X_dist`の`dist Korea`という列に保存する。"
      ],
      "metadata": {
        "id": "jg0f8XWzbT2J"
      }
    },
    {
      "cell_type": "code",
      "source": [
        "country = 'Korea'\n",
        "X_dist['dist ' + country] = np.linalg.norm(X_scaled - X_scaled.loc[country], axis=1)"
      ],
      "metadata": {
        "id": "OS4APEWqUPQJ"
      },
      "execution_count": 8,
      "outputs": []
    },
    {
      "cell_type": "code",
      "source": [
        "X_dist"
      ],
      "metadata": {
        "colab": {
          "base_uri": "https://localhost:8080/",
          "height": 959
        },
        "id": "LULsNCSuUXiQ",
        "outputId": "cf5757d9-3f76-43c0-c5dc-ebd9a855748c"
      },
      "execution_count": 9,
      "outputs": [
        {
          "output_type": "execute_result",
          "data": {
            "text/plain": [
              "                 GDP per capita  Employment rate  dist Korea\n",
              "Country                                                     \n",
              "Russia                 9054.914             69.0    0.416558\n",
              "Turkey                 9437.372             50.0    0.569441\n",
              "Hungary               12239.894             58.0    0.367957\n",
              "Poland                12495.334             60.0    0.336988\n",
              "Slovak Republic       15991.736             60.0    0.268555\n",
              "Estonia               17288.083             68.0    0.244132\n",
              "Greece                18064.288             49.0    0.494731\n",
              "Portugal              19121.592             61.0    0.195163\n",
              "Slovenia              20732.482             63.0    0.141521\n",
              "Spain                 25864.721             56.0    0.244089\n",
              "Korea                 27195.197             64.0    0.000000\n",
              "Italy                 29866.581             56.0    0.249068\n",
              "Israel                35343.336             67.0    0.196575\n",
              "New Zealand           37044.891             73.0    0.344629\n",
              "France                37675.006             64.0    0.224166\n",
              "Belgium               40106.632             62.0    0.282750\n",
              "Germany               40996.511             73.0    0.401909\n",
              "Finland               41973.988             69.0    0.350557\n",
              "Canada                43331.961             72.0    0.421795\n",
              "Netherlands           43603.115             74.0    0.463688\n",
              "Austria               43724.031             72.0    0.428685\n",
              "United Kingdom        43770.688             71.0    0.413163\n",
              "Sweden                49866.266             74.0    0.571834\n",
              "Iceland               50854.583             82.0    0.744068\n",
              "Australia             50961.865             72.0    0.563218\n",
              "Ireland               51350.744             60.0    0.530720\n",
              "Denmark               52114.165             73.0    0.598743\n",
              "United States         55805.204             67.0    0.618690"
            ],
            "text/html": [
              "\n",
              "  <div id=\"df-392c5ef1-e517-4212-b866-ec745f7b4386\">\n",
              "    <div class=\"colab-df-container\">\n",
              "      <div>\n",
              "<style scoped>\n",
              "    .dataframe tbody tr th:only-of-type {\n",
              "        vertical-align: middle;\n",
              "    }\n",
              "\n",
              "    .dataframe tbody tr th {\n",
              "        vertical-align: top;\n",
              "    }\n",
              "\n",
              "    .dataframe thead th {\n",
              "        text-align: right;\n",
              "    }\n",
              "</style>\n",
              "<table border=\"1\" class=\"dataframe\">\n",
              "  <thead>\n",
              "    <tr style=\"text-align: right;\">\n",
              "      <th></th>\n",
              "      <th>GDP per capita</th>\n",
              "      <th>Employment rate</th>\n",
              "      <th>dist Korea</th>\n",
              "    </tr>\n",
              "    <tr>\n",
              "      <th>Country</th>\n",
              "      <th></th>\n",
              "      <th></th>\n",
              "      <th></th>\n",
              "    </tr>\n",
              "  </thead>\n",
              "  <tbody>\n",
              "    <tr>\n",
              "      <th>Russia</th>\n",
              "      <td>9054.914</td>\n",
              "      <td>69.0</td>\n",
              "      <td>0.416558</td>\n",
              "    </tr>\n",
              "    <tr>\n",
              "      <th>Turkey</th>\n",
              "      <td>9437.372</td>\n",
              "      <td>50.0</td>\n",
              "      <td>0.569441</td>\n",
              "    </tr>\n",
              "    <tr>\n",
              "      <th>Hungary</th>\n",
              "      <td>12239.894</td>\n",
              "      <td>58.0</td>\n",
              "      <td>0.367957</td>\n",
              "    </tr>\n",
              "    <tr>\n",
              "      <th>Poland</th>\n",
              "      <td>12495.334</td>\n",
              "      <td>60.0</td>\n",
              "      <td>0.336988</td>\n",
              "    </tr>\n",
              "    <tr>\n",
              "      <th>Slovak Republic</th>\n",
              "      <td>15991.736</td>\n",
              "      <td>60.0</td>\n",
              "      <td>0.268555</td>\n",
              "    </tr>\n",
              "    <tr>\n",
              "      <th>Estonia</th>\n",
              "      <td>17288.083</td>\n",
              "      <td>68.0</td>\n",
              "      <td>0.244132</td>\n",
              "    </tr>\n",
              "    <tr>\n",
              "      <th>Greece</th>\n",
              "      <td>18064.288</td>\n",
              "      <td>49.0</td>\n",
              "      <td>0.494731</td>\n",
              "    </tr>\n",
              "    <tr>\n",
              "      <th>Portugal</th>\n",
              "      <td>19121.592</td>\n",
              "      <td>61.0</td>\n",
              "      <td>0.195163</td>\n",
              "    </tr>\n",
              "    <tr>\n",
              "      <th>Slovenia</th>\n",
              "      <td>20732.482</td>\n",
              "      <td>63.0</td>\n",
              "      <td>0.141521</td>\n",
              "    </tr>\n",
              "    <tr>\n",
              "      <th>Spain</th>\n",
              "      <td>25864.721</td>\n",
              "      <td>56.0</td>\n",
              "      <td>0.244089</td>\n",
              "    </tr>\n",
              "    <tr>\n",
              "      <th>Korea</th>\n",
              "      <td>27195.197</td>\n",
              "      <td>64.0</td>\n",
              "      <td>0.000000</td>\n",
              "    </tr>\n",
              "    <tr>\n",
              "      <th>Italy</th>\n",
              "      <td>29866.581</td>\n",
              "      <td>56.0</td>\n",
              "      <td>0.249068</td>\n",
              "    </tr>\n",
              "    <tr>\n",
              "      <th>Israel</th>\n",
              "      <td>35343.336</td>\n",
              "      <td>67.0</td>\n",
              "      <td>0.196575</td>\n",
              "    </tr>\n",
              "    <tr>\n",
              "      <th>New Zealand</th>\n",
              "      <td>37044.891</td>\n",
              "      <td>73.0</td>\n",
              "      <td>0.344629</td>\n",
              "    </tr>\n",
              "    <tr>\n",
              "      <th>France</th>\n",
              "      <td>37675.006</td>\n",
              "      <td>64.0</td>\n",
              "      <td>0.224166</td>\n",
              "    </tr>\n",
              "    <tr>\n",
              "      <th>Belgium</th>\n",
              "      <td>40106.632</td>\n",
              "      <td>62.0</td>\n",
              "      <td>0.282750</td>\n",
              "    </tr>\n",
              "    <tr>\n",
              "      <th>Germany</th>\n",
              "      <td>40996.511</td>\n",
              "      <td>73.0</td>\n",
              "      <td>0.401909</td>\n",
              "    </tr>\n",
              "    <tr>\n",
              "      <th>Finland</th>\n",
              "      <td>41973.988</td>\n",
              "      <td>69.0</td>\n",
              "      <td>0.350557</td>\n",
              "    </tr>\n",
              "    <tr>\n",
              "      <th>Canada</th>\n",
              "      <td>43331.961</td>\n",
              "      <td>72.0</td>\n",
              "      <td>0.421795</td>\n",
              "    </tr>\n",
              "    <tr>\n",
              "      <th>Netherlands</th>\n",
              "      <td>43603.115</td>\n",
              "      <td>74.0</td>\n",
              "      <td>0.463688</td>\n",
              "    </tr>\n",
              "    <tr>\n",
              "      <th>Austria</th>\n",
              "      <td>43724.031</td>\n",
              "      <td>72.0</td>\n",
              "      <td>0.428685</td>\n",
              "    </tr>\n",
              "    <tr>\n",
              "      <th>United Kingdom</th>\n",
              "      <td>43770.688</td>\n",
              "      <td>71.0</td>\n",
              "      <td>0.413163</td>\n",
              "    </tr>\n",
              "    <tr>\n",
              "      <th>Sweden</th>\n",
              "      <td>49866.266</td>\n",
              "      <td>74.0</td>\n",
              "      <td>0.571834</td>\n",
              "    </tr>\n",
              "    <tr>\n",
              "      <th>Iceland</th>\n",
              "      <td>50854.583</td>\n",
              "      <td>82.0</td>\n",
              "      <td>0.744068</td>\n",
              "    </tr>\n",
              "    <tr>\n",
              "      <th>Australia</th>\n",
              "      <td>50961.865</td>\n",
              "      <td>72.0</td>\n",
              "      <td>0.563218</td>\n",
              "    </tr>\n",
              "    <tr>\n",
              "      <th>Ireland</th>\n",
              "      <td>51350.744</td>\n",
              "      <td>60.0</td>\n",
              "      <td>0.530720</td>\n",
              "    </tr>\n",
              "    <tr>\n",
              "      <th>Denmark</th>\n",
              "      <td>52114.165</td>\n",
              "      <td>73.0</td>\n",
              "      <td>0.598743</td>\n",
              "    </tr>\n",
              "    <tr>\n",
              "      <th>United States</th>\n",
              "      <td>55805.204</td>\n",
              "      <td>67.0</td>\n",
              "      <td>0.618690</td>\n",
              "    </tr>\n",
              "  </tbody>\n",
              "</table>\n",
              "</div>\n",
              "      <button class=\"colab-df-convert\" onclick=\"convertToInteractive('df-392c5ef1-e517-4212-b866-ec745f7b4386')\"\n",
              "              title=\"Convert this dataframe to an interactive table.\"\n",
              "              style=\"display:none;\">\n",
              "        \n",
              "  <svg xmlns=\"http://www.w3.org/2000/svg\" height=\"24px\"viewBox=\"0 0 24 24\"\n",
              "       width=\"24px\">\n",
              "    <path d=\"M0 0h24v24H0V0z\" fill=\"none\"/>\n",
              "    <path d=\"M18.56 5.44l.94 2.06.94-2.06 2.06-.94-2.06-.94-.94-2.06-.94 2.06-2.06.94zm-11 1L8.5 8.5l.94-2.06 2.06-.94-2.06-.94L8.5 2.5l-.94 2.06-2.06.94zm10 10l.94 2.06.94-2.06 2.06-.94-2.06-.94-.94-2.06-.94 2.06-2.06.94z\"/><path d=\"M17.41 7.96l-1.37-1.37c-.4-.4-.92-.59-1.43-.59-.52 0-1.04.2-1.43.59L10.3 9.45l-7.72 7.72c-.78.78-.78 2.05 0 2.83L4 21.41c.39.39.9.59 1.41.59.51 0 1.02-.2 1.41-.59l7.78-7.78 2.81-2.81c.8-.78.8-2.07 0-2.86zM5.41 20L4 18.59l7.72-7.72 1.47 1.35L5.41 20z\"/>\n",
              "  </svg>\n",
              "      </button>\n",
              "      \n",
              "  <style>\n",
              "    .colab-df-container {\n",
              "      display:flex;\n",
              "      flex-wrap:wrap;\n",
              "      gap: 12px;\n",
              "    }\n",
              "\n",
              "    .colab-df-convert {\n",
              "      background-color: #E8F0FE;\n",
              "      border: none;\n",
              "      border-radius: 50%;\n",
              "      cursor: pointer;\n",
              "      display: none;\n",
              "      fill: #1967D2;\n",
              "      height: 32px;\n",
              "      padding: 0 0 0 0;\n",
              "      width: 32px;\n",
              "    }\n",
              "\n",
              "    .colab-df-convert:hover {\n",
              "      background-color: #E2EBFA;\n",
              "      box-shadow: 0px 1px 2px rgba(60, 64, 67, 0.3), 0px 1px 3px 1px rgba(60, 64, 67, 0.15);\n",
              "      fill: #174EA6;\n",
              "    }\n",
              "\n",
              "    [theme=dark] .colab-df-convert {\n",
              "      background-color: #3B4455;\n",
              "      fill: #D2E3FC;\n",
              "    }\n",
              "\n",
              "    [theme=dark] .colab-df-convert:hover {\n",
              "      background-color: #434B5C;\n",
              "      box-shadow: 0px 1px 3px 1px rgba(0, 0, 0, 0.15);\n",
              "      filter: drop-shadow(0px 1px 2px rgba(0, 0, 0, 0.3));\n",
              "      fill: #FFFFFF;\n",
              "    }\n",
              "  </style>\n",
              "\n",
              "      <script>\n",
              "        const buttonEl =\n",
              "          document.querySelector('#df-392c5ef1-e517-4212-b866-ec745f7b4386 button.colab-df-convert');\n",
              "        buttonEl.style.display =\n",
              "          google.colab.kernel.accessAllowed ? 'block' : 'none';\n",
              "\n",
              "        async function convertToInteractive(key) {\n",
              "          const element = document.querySelector('#df-392c5ef1-e517-4212-b866-ec745f7b4386');\n",
              "          const dataTable =\n",
              "            await google.colab.kernel.invokeFunction('convertToInteractive',\n",
              "                                                     [key], {});\n",
              "          if (!dataTable) return;\n",
              "\n",
              "          const docLinkHtml = 'Like what you see? Visit the ' +\n",
              "            '<a target=\"_blank\" href=https://colab.research.google.com/notebooks/data_table.ipynb>data table notebook</a>'\n",
              "            + ' to learn more about interactive tables.';\n",
              "          element.innerHTML = '';\n",
              "          dataTable['output_type'] = 'display_data';\n",
              "          await google.colab.output.renderOutput(dataTable, element);\n",
              "          const docLink = document.createElement('div');\n",
              "          docLink.innerHTML = docLinkHtml;\n",
              "          element.appendChild(docLink);\n",
              "        }\n",
              "      </script>\n",
              "    </div>\n",
              "  </div>\n",
              "  "
            ]
          },
          "metadata": {},
          "execution_count": 9
        }
      ]
    },
    {
      "cell_type": "markdown",
      "source": [
        "* 韓国に近い順に、国をソートする。"
      ],
      "metadata": {
        "id": "VzckSAwvbYa9"
      }
    },
    {
      "cell_type": "code",
      "source": [
        "sorted_indices = X_dist.sort_values('dist ' + country).drop(country).index\n",
        "print(sorted_indices)"
      ],
      "metadata": {
        "colab": {
          "base_uri": "https://localhost:8080/"
        },
        "id": "IQhyte7aUama",
        "outputId": "bd054a76-5cc7-436c-8af5-350c4baf1029"
      },
      "execution_count": 10,
      "outputs": [
        {
          "output_type": "stream",
          "name": "stdout",
          "text": [
            "Index(['Slovenia', 'Portugal', 'Israel', 'France', 'Spain', 'Estonia', 'Italy',\n",
            "       'Slovak Republic', 'Belgium', 'Poland', 'New Zealand', 'Finland',\n",
            "       'Hungary', 'Germany', 'United Kingdom', 'Russia', 'Canada', 'Austria',\n",
            "       'Netherlands', 'Greece', 'Ireland', 'Australia', 'Turkey', 'Sweden',\n",
            "       'Denmark', 'United States', 'Iceland'],\n",
            "      dtype='object', name='Country')\n"
          ]
        }
      ]
    },
    {
      "cell_type": "markdown",
      "source": [
        "* 近傍の個数`k`を動かしながら、予測誤差を求める。"
      ],
      "metadata": {
        "id": "JnYIQbHvbdY3"
      }
    },
    {
      "cell_type": "code",
      "source": [
        "errors = []\n",
        "for k in range(1, len(X_scaled)):\n",
        "  error = abs(y[country] - y[sorted_indices[:k]].mean())\n",
        "  errors.append(error)\n",
        "  print(f'\\tk={k} error={error:.3f}')"
      ],
      "metadata": {
        "colab": {
          "base_uri": "https://localhost:8080/"
        },
        "id": "XkNQPAPfU2yV",
        "outputId": "db31086b-fd8d-45ed-9e18-5bf8e9c872d3"
      },
      "execution_count": 11,
      "outputs": [
        {
          "output_type": "stream",
          "name": "stdout",
          "text": [
            "\tk=1 error=0.100\n",
            "\tk=2 error=0.400\n",
            "\tk=3 error=0.267\n",
            "\tk=4 error=0.375\n",
            "\tk=5 error=0.440\n",
            "\tk=6 error=0.333\n",
            "\tk=7 error=0.314\n",
            "\tk=8 error=0.313\n",
            "\tk=9 error=0.400\n",
            "\tk=10 error=0.360\n",
            "\tk=11 error=0.464\n",
            "\tk=12 error=0.558\n",
            "\tk=13 error=0.446\n",
            "\tk=14 error=0.500\n",
            "\tk=15 error=0.533\n",
            "\tk=16 error=0.513\n",
            "\tk=17 error=0.571\n",
            "\tk=18 error=0.600\n",
            "\tk=19 error=0.647\n",
            "\tk=20 error=0.565\n",
            "\tk=21 error=0.595\n",
            "\tk=22 error=0.636\n",
            "\tk=23 error=0.600\n",
            "\tk=24 error=0.633\n",
            "\tk=25 error=0.676\n",
            "\tk=26 error=0.704\n",
            "\tk=27 error=0.741\n"
          ]
        }
      ]
    },
    {
      "cell_type": "markdown",
      "source": [
        "* 韓国の生活満足度予測について、最も小さい予測誤差を与えるkを求める。"
      ],
      "metadata": {
        "id": "0I8h-k3Wc10Z"
      }
    },
    {
      "cell_type": "code",
      "source": [
        "k = np.array(errors).argmin() + 1\n",
        "print(f'When k={k}, we obtain the smallest prediction error for {country}.')"
      ],
      "metadata": {
        "colab": {
          "base_uri": "https://localhost:8080/"
        },
        "id": "XUDcEe1rbrbL",
        "outputId": "7124dae6-dca8-45ff-fc17-0e39500cb11a"
      },
      "execution_count": 12,
      "outputs": [
        {
          "output_type": "stream",
          "name": "stdout",
          "text": [
            "When k=1, we obtain the smallest prediction error for Korea.\n"
          ]
        }
      ]
    },
    {
      "cell_type": "markdown",
      "source": [
        "* ドイツについて同じことをしてみる。"
      ],
      "metadata": {
        "id": "UuMYXQbsdUJm"
      }
    },
    {
      "cell_type": "code",
      "source": [
        "country = 'Germany'\n",
        "X_dist['dist ' + country] = np.linalg.norm(X_scaled - X_scaled.loc[country], axis=1)\n",
        "sorted_indices = X_dist.sort_values('dist ' + country).drop(country).index\n",
        "errors = []\n",
        "for k in range(1, len(X_scaled)):\n",
        "  error = abs(y[country] - y[sorted_indices[:k]].mean())\n",
        "  errors.append(error)\n",
        "k = np.array(errors).argmin() + 1\n",
        "print(f'When k={k}, we obtain the smallest prediction error for {country}.')"
      ],
      "metadata": {
        "colab": {
          "base_uri": "https://localhost:8080/"
        },
        "id": "cmm5cTe-cEbU",
        "outputId": "4815b807-be75-4b24-a41b-e2a7b209a699"
      },
      "execution_count": 13,
      "outputs": [
        {
          "output_type": "stream",
          "name": "stdout",
          "text": [
            "When k=17, we obtain the smallest prediction error for Germany.\n"
          ]
        }
      ]
    },
    {
      "cell_type": "code",
      "source": [
        ""
      ],
      "metadata": {
        "id": "h2G_g6SWdleZ"
      },
      "execution_count": null,
      "outputs": []
    }
  ]
}
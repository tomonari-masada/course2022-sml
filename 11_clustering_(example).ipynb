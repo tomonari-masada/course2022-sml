{
  "nbformat": 4,
  "nbformat_minor": 0,
  "metadata": {
    "colab": {
      "name": "11_clustering_(example).ipynb",
      "provenance": [],
      "collapsed_sections": [],
      "mount_file_id": "1jww3mEsWrp4VjVCe94LdcScRw4oqKdkn",
      "authorship_tag": "ABX9TyODyLuKULLaFhJv7U2TgHTJ",
      "include_colab_link": true
    },
    "kernelspec": {
      "name": "python3",
      "display_name": "Python 3"
    }
  },
  "cells": [
    {
      "cell_type": "markdown",
      "metadata": {
        "id": "view-in-github",
        "colab_type": "text"
      },
      "source": [
        "<a href=\"https://colab.research.google.com/github/tomonari-masada/course2022-sml/blob/main/11_clustering_(example).ipynb\" target=\"_parent\"><img src=\"https://colab.research.google.com/assets/colab-badge.svg\" alt=\"Open In Colab\"/></a>"
      ]
    },
    {
      "cell_type": "markdown",
      "metadata": {
        "id": "dhzrBYzaPTv1"
      },
      "source": [
        "# 日本語の単語ベクトルをクラスタリング\n",
        "\n",
        "* 使用するデータは下記の場所にあるもの\n",
        "\n",
        " * https://github.com/shiroyagicorp/japanese-word2vec-model-builder\n",
        "\n",
        "* word2vecの技術を使って、日本語の単語が50次元のベクトルで表現されている。\n",
        " * word2vecそのものについては、ここでは説明しません。\n",
        "* 今回はこの単語ベクトルをクラスタリングして、意味の近い単語が同じクラスタに属しているかをチェックする。"
      ]
    },
    {
      "cell_type": "markdown",
      "metadata": {
        "id": "QXcnxM2sPzZB"
      },
      "source": [
        "## 1) wgetコマンドでダウンロードし、unzipで解凍する"
      ]
    },
    {
      "cell_type": "code",
      "metadata": {
        "id": "C9PMQrmsKEi7",
        "colab": {
          "base_uri": "https://localhost:8080/"
        },
        "outputId": "62da14f8-533d-4fbb-e31a-0f25ce807f78"
      },
      "source": [
        "!if [ ! -e latest-ja-word2vec-gensim-model.zip ]; then wget http://public.shiroyagi.s3.amazonaws.com/latest-ja-word2vec-gensim-model.zip ; fi"
      ],
      "execution_count": 1,
      "outputs": [
        {
          "output_type": "stream",
          "name": "stdout",
          "text": [
            "--2022-07-15 03:27:05--  http://public.shiroyagi.s3.amazonaws.com/latest-ja-word2vec-gensim-model.zip\n",
            "Resolving public.shiroyagi.s3.amazonaws.com (public.shiroyagi.s3.amazonaws.com)... 52.219.0.173\n",
            "Connecting to public.shiroyagi.s3.amazonaws.com (public.shiroyagi.s3.amazonaws.com)|52.219.0.173|:80... connected.\n",
            "HTTP request sent, awaiting response... 200 OK\n",
            "Length: 132936751 (127M) [application/zip]\n",
            "Saving to: ‘latest-ja-word2vec-gensim-model.zip’\n",
            "\n",
            "latest-ja-word2vec- 100%[===================>] 126.78M  60.2MB/s    in 2.1s    \n",
            "\n",
            "2022-07-15 03:27:07 (60.2 MB/s) - ‘latest-ja-word2vec-gensim-model.zip’ saved [132936751/132936751]\n",
            "\n"
          ]
        }
      ]
    },
    {
      "cell_type": "code",
      "metadata": {
        "id": "TdWbOwZ0KLwQ",
        "colab": {
          "base_uri": "https://localhost:8080/"
        },
        "outputId": "fcd82cb3-293f-4390-da17-ce76824452f8"
      },
      "source": [
        "!unzip -u latest-ja-word2vec-gensim-model.zip\n",
        "#!unzip -u /content/drive/MyDrive/data/latest-ja-word2vec-gensim-model.zip"
      ],
      "execution_count": 2,
      "outputs": [
        {
          "output_type": "stream",
          "name": "stdout",
          "text": [
            "Archive:  latest-ja-word2vec-gensim-model.zip\n",
            "  inflating: word2vec.gensim.model   \n",
            "  inflating: word2vec.gensim.model.syn1neg.npy  \n",
            "  inflating: word2vec.gensim.model.wv.syn0.npy  \n"
          ]
        }
      ]
    },
    {
      "cell_type": "markdown",
      "metadata": {
        "id": "i7DmmXlGP62K"
      },
      "source": [
        "## 2) ライブラリgensimを使ってデータを読み込む"
      ]
    },
    {
      "cell_type": "code",
      "metadata": {
        "id": "SBkJJtuHKXib"
      },
      "source": [
        "from gensim.models.word2vec import Word2Vec\n",
        "\n",
        "model_path = 'word2vec.gensim.model'\n",
        "model = Word2Vec.load(model_path)"
      ],
      "execution_count": 3,
      "outputs": []
    },
    {
      "cell_type": "markdown",
      "metadata": {
        "id": "PO-68J5bL0ca"
      },
      "source": [
        "* 単語ベクトルの次元を確認する\n",
        "\n"
      ]
    },
    {
      "cell_type": "code",
      "metadata": {
        "id": "uPXj_9TBKi25",
        "colab": {
          "base_uri": "https://localhost:8080/"
        },
        "outputId": "29362653-573d-4c83-9f1e-80a43df2998b"
      },
      "source": [
        "print(model.vector_size)"
      ],
      "execution_count": 4,
      "outputs": [
        {
          "output_type": "stream",
          "name": "stdout",
          "text": [
            "50\n"
          ]
        }
      ]
    },
    {
      "cell_type": "markdown",
      "metadata": {
        "id": "OQczIIMnL4Lg"
      },
      "source": [
        "* 単語ベクトルデータを変数名wvで参照することにする\n"
      ]
    },
    {
      "cell_type": "code",
      "metadata": {
        "id": "k-QWGhKlKkfO"
      },
      "source": [
        "wv = model.wv"
      ],
      "execution_count": 5,
      "outputs": []
    },
    {
      "cell_type": "markdown",
      "metadata": {
        "id": "P4ZIFUddL7CR"
      },
      "source": [
        "* 単語リストと、対応する単語ベクトルのリストを、作成する"
      ]
    },
    {
      "cell_type": "code",
      "metadata": {
        "id": "xkWjpO5BKyBC"
      },
      "source": [
        "words = list()\n",
        "vectors = list()\n",
        "for word in wv.vocab:\n",
        "  words.append(word)\n",
        "  vectors.append(wv.word_vec(word))"
      ],
      "execution_count": 6,
      "outputs": []
    },
    {
      "cell_type": "markdown",
      "metadata": {
        "id": "V0EltW72L9Zj"
      },
      "source": [
        "* 単語数を確認する\n",
        "\n"
      ]
    },
    {
      "cell_type": "code",
      "metadata": {
        "id": "AqlIpxN8LiV8",
        "colab": {
          "base_uri": "https://localhost:8080/"
        },
        "outputId": "019e8e07-6547-4e3a-f2d6-433c9612beac"
      },
      "source": [
        "print(len(words))"
      ],
      "execution_count": 7,
      "outputs": [
        {
          "output_type": "stream",
          "name": "stdout",
          "text": [
            "335476\n"
          ]
        }
      ]
    },
    {
      "cell_type": "markdown",
      "metadata": {
        "id": "_i36eLo_L_YL"
      },
      "source": [
        "* 最初の単語とその単語ベクトルを確認する\n",
        "\n"
      ]
    },
    {
      "cell_type": "code",
      "metadata": {
        "id": "wv_ccTtLOBQW",
        "colab": {
          "base_uri": "https://localhost:8080/"
        },
        "outputId": "4a81452f-87a5-4c92-818e-708bb307752a"
      },
      "source": [
        "print(words[0])\n",
        "print(vectors[0])"
      ],
      "execution_count": 8,
      "outputs": [
        {
          "output_type": "stream",
          "name": "stdout",
          "text": [
            "『\n",
            "[-0.16400108 -0.17862815  0.0580783  -0.24007608  0.17230852 -0.07751795\n",
            " -0.11018773 -0.08525417 -0.01558867 -0.14766072 -0.00633486 -0.01630188\n",
            "  0.00647159 -0.17860252 -0.01816674 -0.05038163  0.08417128  0.04350499\n",
            " -0.19731551 -0.09599385  0.2745512  -0.22891845  0.142788   -0.08023094\n",
            " -0.23000377  0.00842183  0.15071994  0.25936294  0.10318379  0.17875645\n",
            " -0.31201744 -0.03366571 -0.08143289  0.02155716 -0.02921231  0.0362477\n",
            " -0.18767731 -0.10514667 -0.012625   -0.03388035  0.10886643 -0.1074557\n",
            " -0.03668041 -0.03183161 -0.14188181 -0.27481845 -0.12782158 -0.02111848\n",
            " -0.14041357  0.23952545]\n"
          ]
        }
      ]
    },
    {
      "cell_type": "markdown",
      "metadata": {
        "id": "XbEQDE39QC7E"
      },
      "source": [
        "## 3) NumPyの配列に変換する"
      ]
    },
    {
      "cell_type": "code",
      "metadata": {
        "id": "Hp313-J_LuQy"
      },
      "source": [
        "import numpy as np\n",
        "\n",
        "words = np.array(words)\n",
        "vectors = np.array(vectors)"
      ],
      "execution_count": 9,
      "outputs": []
    },
    {
      "cell_type": "code",
      "metadata": {
        "id": "fS19pj1UM5_V",
        "colab": {
          "base_uri": "https://localhost:8080/"
        },
        "outputId": "4f078c89-2518-456b-c75b-cd9ebdb21071"
      },
      "source": [
        "print(words)"
      ],
      "execution_count": 10,
      "outputs": [
        {
          "output_type": "stream",
          "name": "stdout",
          "text": [
            "['『' 'GO' '!' ... 'スケクシス' 'ｼﾞﾑ' 'パヴリチェンコ']\n"
          ]
        }
      ]
    },
    {
      "cell_type": "code",
      "metadata": {
        "id": "msZAgGJPOQLb",
        "colab": {
          "base_uri": "https://localhost:8080/"
        },
        "outputId": "77ec9f91-f92b-4bc7-979f-1b096dae7310"
      },
      "source": [
        "print(vectors)"
      ],
      "execution_count": 11,
      "outputs": [
        {
          "output_type": "stream",
          "name": "stdout",
          "text": [
            "[[-0.16400108 -0.17862815  0.0580783  ... -0.02111848 -0.14041357\n",
            "   0.23952545]\n",
            " [ 0.01737987 -0.32058007 -0.23378702 ...  0.13550399  0.0736375\n",
            "  -0.14032933]\n",
            " [ 0.08531253 -0.31538385 -0.09230007 ...  0.17875628  0.11313058\n",
            "  -0.24140361]\n",
            " ...\n",
            " [ 0.00092179 -0.07699777  0.14290373 ...  0.09500334 -0.06761228\n",
            "   0.24790283]\n",
            " [ 0.04340099 -0.0260367   0.09188872 ...  0.16940522  0.00322533\n",
            "  -0.20196445]\n",
            " [ 0.07351335  0.15455413  0.08450193 ... -0.26947773  0.04289696\n",
            "  -0.09446784]]\n"
          ]
        }
      ]
    },
    {
      "cell_type": "markdown",
      "metadata": {
        "id": "8qM5D1WiMWdD"
      },
      "source": [
        "* 「日本」という単語に最も近い10個の単語を表示させてみる。\n"
      ]
    },
    {
      "cell_type": "code",
      "metadata": {
        "id": "eYp7lItAM7b5",
        "colab": {
          "base_uri": "https://localhost:8080/"
        },
        "outputId": "88cb40e7-37a9-4179-dfcb-c0452db6401c"
      },
      "source": [
        "vec_jpn = np.array(wv.word_vec('日本'))\n",
        "print(vec_jpn)\n",
        "indices = np.argsort(np.linalg.norm(vectors - vec_jpn, axis=1))\n",
        "print(words[indices[1:11]])"
      ],
      "execution_count": 12,
      "outputs": [
        {
          "output_type": "stream",
          "name": "stdout",
          "text": [
            "[-0.08019581 -0.10632093  0.14115061  0.08310905 -0.00913872  0.04414612\n",
            " -0.11600631 -0.35167393  0.04924094  0.07659911  0.07906264  0.02693196\n",
            "  0.03977293  0.19168071 -0.16376053 -0.01040754 -0.13442372  0.20567688\n",
            " -0.04850557 -0.22208223  0.03354846 -0.18884456 -0.00623878 -0.12064678\n",
            " -0.01325125  0.02779626  0.02936541  0.06843039  0.11489733  0.07094222\n",
            "  0.14459857 -0.12487161  0.03558656  0.41905314 -0.15021588 -0.12890314\n",
            "  0.04594489 -0.28921965  0.15588439 -0.01789199 -0.2866291  -0.1415011\n",
            "  0.057166   -0.19496612  0.09121747  0.01317389 -0.0359673   0.16124834\n",
            " -0.03846167 -0.06273678]\n",
            "['韓国' '台湾' '日本国内' '欧米' '日本国外' '台湾出身' '中華圏' '日本の経済' '日本の歴史' '韓国国内']\n"
          ]
        }
      ]
    },
    {
      "cell_type": "markdown",
      "metadata": {
        "id": "-o2yZ06-QQN4"
      },
      "source": [
        "## 4) k-meansで単語ベクトルをクラスタリングする\n",
        "\n",
        "* かなり時間がかかるので、待つ。\n",
        "* 得られたクラスタの重心はCSVファイルとして保存しておく。\n",
        "* クラスタ数は変更してよい。"
      ]
    },
    {
      "cell_type": "markdown",
      "metadata": {
        "id": "jDzUNmnaMaUv"
      },
      "source": [
        "* クラスタ数の設定\n",
        "\n"
      ]
    },
    {
      "cell_type": "code",
      "metadata": {
        "id": "xIgi9fxSaGMq"
      },
      "source": [
        "n_clusters = 100"
      ],
      "execution_count": 13,
      "outputs": []
    },
    {
      "cell_type": "markdown",
      "metadata": {
        "id": "WO9p70lpNjQ_"
      },
      "source": [
        "* k-平均法によるクラスタリングを実行。\n",
        " * かなり時間がかかるので、待つ。"
      ]
    },
    {
      "cell_type": "code",
      "metadata": {
        "id": "zyXb2eRFOo3i"
      },
      "source": [
        "from sklearn.cluster import KMeans\n",
        "\n",
        "#kmeans = KMeans(n_clusters=n_clusters, random_state=123)\n",
        "#kmeans.fit(vectors)"
      ],
      "execution_count": null,
      "outputs": []
    },
    {
      "cell_type": "markdown",
      "metadata": {
        "id": "sFLiNhQjNpO2"
      },
      "source": [
        "* クラスタリングの結果をcsvファイルとして保存。"
      ]
    },
    {
      "cell_type": "code",
      "metadata": {
        "id": "9AzNSATqPBIz"
      },
      "source": [
        "#np.savetxt('cluster_centers_{:d}.csv'.format(n_clusters), kmeans.cluster_centers_, delimiter=',')\n",
        "#centers = kmeans.cluster_centers_"
      ],
      "execution_count": null,
      "outputs": []
    },
    {
      "cell_type": "markdown",
      "metadata": {
        "id": "3Htfxa9sNeML"
      },
      "source": [
        "* k-平均法を実行するのではなく、クラスタの重心をファイルから読み込むときは、下のセルを実行。\n",
        " * パスは適当に書き換える。\n"
      ]
    },
    {
      "cell_type": "code",
      "metadata": {
        "id": "FKZu_PGxVHeW"
      },
      "source": [
        "centers = np.loadtxt('/content/drive/MyDrive/2022Courses/sml/cluster_centers_100.csv', delimiter=',')"
      ],
      "execution_count": null,
      "outputs": []
    },
    {
      "cell_type": "code",
      "metadata": {
        "id": "819Ne08pUk5C"
      },
      "source": [
        "center = centers[10]\n",
        "indices = np.argsort(np.linalg.norm(vectors - center, axis=1))\n",
        "print(words[indices[:20]])"
      ],
      "execution_count": null,
      "outputs": []
    },
    {
      "cell_type": "markdown",
      "metadata": {
        "id": "XoZMOTBGWQP2"
      },
      "source": [
        "# 課題11\n",
        "\n",
        "* k-平均法で単語ベクトルをクラスタリングする。\n",
        "* いくつかのクラスタについて、クラスタの重心に近い単語どうしの意味が似ているかどうか、チェックする。\n",
        "* いくつかのクラスタについて、クラスタの重心から遠い単語がどのような単語になっているかをチェックする。\n",
        "* 極端にサイズの大きなクラスタや、逆に、極端にサイズの小さなクラスタができていないか、チェックする。\n",
        " * そして、そういった極端なサイズのクラスタに属する単語がどのようになっているかを調べる。\n",
        "* k-平均法以外のクラスタリング手法でも、同じような調査をおこなってみる。\n"
      ]
    },
    {
      "cell_type": "markdown",
      "metadata": {
        "id": "41Ox3qWUfcy5"
      },
      "source": [
        "\n",
        "\n",
        "---\n",
        "\n"
      ]
    },
    {
      "cell_type": "markdown",
      "metadata": {
        "id": "qV47LfeaQ63o"
      },
      "source": [
        "## A) 階層的クラスタリングの計算量\n",
        "* Wikipediaのエントリにあるとおり、階層的クラスタリングは計算量が大きく、規模の大きなデータには向かない。\n",
        " * https://en.wikipedia.org/wiki/Hierarchical_clustering\n",
        "* データ数を$n$とすると、何の工夫もしなければ時間計算量$O(n^3)$。\n",
        "* なので、階層的クラスタリングは使わなくてよい。"
      ]
    },
    {
      "cell_type": "markdown",
      "metadata": {
        "id": "MFXgPUPxfeWS"
      },
      "source": [
        "\n",
        "\n",
        "---\n",
        "\n"
      ]
    },
    {
      "cell_type": "markdown",
      "metadata": {
        "id": "0CPp-N5pNrMq"
      },
      "source": [
        "## B) `MiniBatchKMeans`を試してみる\n",
        "\n",
        "* 大規模データを扱うためには、ミニバッチ方式で動くアルゴリズムがあれば、それを使うのが良いだろう。\n",
        "* 幸い、k-平均法には、ミニバッチ版がある。\n",
        "* これにより、データをミニバッチとして少しずつ与えて、クラスタリングをすこしずつ進めることができる。\n",
        "* そこで、ミニバッチ式のクラスタリングのについて、途中経過を調べてみる。"
      ]
    },
    {
      "cell_type": "markdown",
      "metadata": {
        "id": "U6usNcldPFiM"
      },
      "source": [
        "### `partial_fit`の実行を反復してみる"
      ]
    },
    {
      "cell_type": "markdown",
      "metadata": {
        "id": "WdIfNHtURvBi"
      },
      "source": [
        "* バッチサイズは1000にしてみる。"
      ]
    },
    {
      "cell_type": "code",
      "metadata": {
        "id": "TsKi4iARIq_K"
      },
      "source": [
        "from sklearn.cluster import MiniBatchKMeans\n",
        "\n",
        "n_clusters = 100\n",
        "kmeans = MiniBatchKMeans(n_clusters=n_clusters, random_state=123, batch_size=1000, max_iter=1)"
      ],
      "execution_count": null,
      "outputs": []
    },
    {
      "cell_type": "markdown",
      "metadata": {
        "id": "AV1xuHs6Rsgf"
      },
      "source": [
        "* まずは1回、partial_fitを実行。"
      ]
    },
    {
      "cell_type": "code",
      "metadata": {
        "id": "ivZ4Pf_qJTer"
      },
      "source": [
        "kmeans.partial_fit(vectors)"
      ],
      "execution_count": null,
      "outputs": []
    },
    {
      "cell_type": "markdown",
      "metadata": {
        "id": "G5U12IsHR-NV"
      },
      "source": [
        "* 適当なクラスタ（ここではインデックスが30のクラスタ）の、重心に近い順に上位20語を表示させてみる。"
      ]
    },
    {
      "cell_type": "code",
      "metadata": {
        "id": "oYbr1gsUMRkP"
      },
      "source": [
        "center = kmeans.cluster_centers_[30]\n",
        "indices = np.argsort(np.linalg.norm(vectors - center, axis=1))\n",
        "print(' '.join(words[indices[:20]]))"
      ],
      "execution_count": null,
      "outputs": []
    },
    {
      "cell_type": "markdown",
      "metadata": {
        "id": "tJ0ilFYYSGqI"
      },
      "source": [
        "* もう1回、partial_fitを実行。"
      ]
    },
    {
      "cell_type": "code",
      "metadata": {
        "id": "Y4GSDkuZMuKf"
      },
      "source": [
        "kmeans.partial_fit(vectors)\n",
        "center = kmeans.cluster_centers_[30]\n",
        "indices = np.argsort(np.linalg.norm(vectors - center, axis=1))\n",
        "print(' '.join(words[indices[:20]]))"
      ],
      "execution_count": null,
      "outputs": []
    },
    {
      "cell_type": "markdown",
      "metadata": {
        "id": "959SZygSSL62"
      },
      "source": [
        "* 少しクラスタの様子が変わっている。さらにもう1回、partial_fitを実行。"
      ]
    },
    {
      "cell_type": "code",
      "metadata": {
        "id": "uFTDN47IPIam"
      },
      "source": [
        "kmeans.partial_fit(vectors)\n",
        "center = kmeans.cluster_centers_[30]\n",
        "indices = np.argsort(np.linalg.norm(vectors - center, axis=1))\n",
        "print(' '.join(words[indices[:20]]))"
      ],
      "execution_count": null,
      "outputs": []
    },
    {
      "cell_type": "markdown",
      "metadata": {
        "id": "Teo_9kXZSRpY"
      },
      "source": [
        "* やはり変化している。10回ループを回してみる。"
      ]
    },
    {
      "cell_type": "code",
      "metadata": {
        "id": "ZlSaP9vtPM1F"
      },
      "source": [
        "for i in range(10):\n",
        "  kmeans.partial_fit(vectors)\n",
        "  center = kmeans.cluster_centers_[30]\n",
        "  indices = np.argsort(np.linalg.norm(vectors - center, axis=1))\n",
        "  print(' '.join(words[indices[:20]].tolist()))"
      ],
      "execution_count": null,
      "outputs": []
    },
    {
      "cell_type": "markdown",
      "metadata": {
        "id": "qTOLbql0Sbsg"
      },
      "source": [
        "* さらに10回、ループを回す。\n",
        " * ループを回すついでに、所属するクラスタが変化した単語がいくつあったかを、毎回表示させてみる。\n"
      ]
    },
    {
      "cell_type": "code",
      "metadata": {
        "id": "kM-6wqHSPg88"
      },
      "source": [
        "for i in range(10):\n",
        "  prev_labels = kmeans.labels_\n",
        "  kmeans.partial_fit(vectors)\n",
        "  center = kmeans.cluster_centers_[30]\n",
        "  indices = np.argsort(np.linalg.norm(vectors - center, axis=1))\n",
        "  print(' '.join(words[indices[:20]].tolist()))\n",
        "  print(f'{(kmeans.labels_ != prev_labels).sum()}個の単語が別のクラスタへ移った。')"
      ],
      "execution_count": null,
      "outputs": []
    },
    {
      "cell_type": "markdown",
      "metadata": {
        "id": "JXmytZK0SqSh"
      },
      "source": [
        "* このあたりで、クラスタの重心を保存しておく。\n",
        " * ちなみに、保存したクラスタの重心は、再度同じデータセット上でk-平均法を実行するときに、クラスタリングの初期値として使える。"
      ]
    },
    {
      "cell_type": "code",
      "metadata": {
        "id": "PtkYIlZyMiRN"
      },
      "source": [
        "np.savetxt('MiniBatchKMeans_cluster_centers_{:d}.csv'.format(n_clusters), kmeans.cluster_centers_, delimiter=',')"
      ],
      "execution_count": null,
      "outputs": []
    },
    {
      "cell_type": "markdown",
      "metadata": {
        "id": "isGLVucTTL94"
      },
      "source": [
        "* さらに30回ほど回してみる。"
      ]
    },
    {
      "cell_type": "code",
      "metadata": {
        "id": "qpkdH2TLM5jC"
      },
      "source": [
        "for i in range(30):\n",
        "  prev_labels = kmeans.labels_\n",
        "  kmeans.partial_fit(vectors)\n",
        "  center = kmeans.cluster_centers_[30]\n",
        "  indices = np.argsort(np.linalg.norm(vectors - center, axis=1))\n",
        "  print(' '.join(words[indices[:20]].tolist()))\n",
        "  print(f'{(kmeans.labels_ != prev_labels).sum()}個の単語が別のクラスタへ移った。')"
      ],
      "execution_count": null,
      "outputs": []
    },
    {
      "cell_type": "markdown",
      "metadata": {
        "id": "81wYmuGHlE-2"
      },
      "source": [
        "* 本当は、すべての単語がクラスタリングの対象になるまで、ループを回す必要あり。\n",
        "\n",
        "* おそらく、最低、（単語数）÷（ミニバッチサイズ）回は、回す必要があると思われる。\n",
        "\n",
        " * partial_fitメソッドの仕様を、みなさん調べておいてください。"
      ]
    },
    {
      "cell_type": "markdown",
      "metadata": {
        "id": "SgtCM75KYSjZ"
      },
      "source": [
        "### クラスタのサイズを調べる"
      ]
    },
    {
      "cell_type": "markdown",
      "metadata": {
        "id": "AbVxvTJbf9lJ"
      },
      "source": [
        "* NumPyの配列に、いろいろな値が何回ずつ出てくるかを知るには、unique関数を使うと良い。"
      ]
    },
    {
      "cell_type": "code",
      "metadata": {
        "id": "SEtINadMTpW_"
      },
      "source": [
        "unique, counts = np.unique(kmeans.labels_, return_counts=True)"
      ],
      "execution_count": null,
      "outputs": []
    },
    {
      "cell_type": "code",
      "metadata": {
        "id": "A_yVY0pfYjH0"
      },
      "source": [
        "unique"
      ],
      "execution_count": null,
      "outputs": []
    },
    {
      "cell_type": "code",
      "metadata": {
        "id": "y4oQ0XjCZG8U"
      },
      "source": [
        "counts"
      ],
      "execution_count": null,
      "outputs": []
    },
    {
      "cell_type": "markdown",
      "metadata": {
        "id": "7GC267ESgFqk"
      },
      "source": [
        "* クラスタのインデックスをキーとし、そのサイズを値とする辞書を作る。"
      ]
    },
    {
      "cell_type": "code",
      "metadata": {
        "id": "HdKvO0RWYkO7"
      },
      "source": [
        "size_dict = dict(zip(unique, counts))"
      ],
      "execution_count": null,
      "outputs": []
    },
    {
      "cell_type": "markdown",
      "metadata": {
        "id": "ROivZugMgOds"
      },
      "source": [
        "* 辞書のエントリを、キーではなく値でソートする。"
      ]
    },
    {
      "cell_type": "code",
      "metadata": {
        "id": "41h3OeM9ZF5d"
      },
      "source": [
        "sorted_clusters = [k for k, v in sorted(size_dict.items(), key=lambda item: item[1], reverse=True)]"
      ],
      "execution_count": null,
      "outputs": []
    },
    {
      "cell_type": "code",
      "metadata": {
        "id": "5xZ3Fu1pZc-f"
      },
      "source": [
        "counts[sorted_clusters]"
      ],
      "execution_count": null,
      "outputs": []
    },
    {
      "cell_type": "markdown",
      "metadata": {
        "id": "rla5hIZXZtSK"
      },
      "source": [
        "### サイズが最大のクラスタを調べる"
      ]
    },
    {
      "cell_type": "code",
      "metadata": {
        "id": "HP9fzGWJZfql"
      },
      "source": [
        "center = kmeans.cluster_centers_[sorted_clusters[0]]\n",
        "indices = np.argsort(np.linalg.norm(vectors - center, axis=1))\n",
        "' '.join(words[indices[:100]].tolist())"
      ],
      "execution_count": null,
      "outputs": []
    },
    {
      "cell_type": "markdown",
      "metadata": {
        "id": "TFnG3bSEgZWW"
      },
      "source": [
        "* あまり統一感がない。クラスタ数100個が少なかった可能性もある。"
      ]
    },
    {
      "cell_type": "markdown",
      "metadata": {
        "id": "SQRqx7ChZwYj"
      },
      "source": [
        "### サイズが最小のクラスタを調べる"
      ]
    },
    {
      "cell_type": "code",
      "metadata": {
        "id": "HxFa4sGkZqKq"
      },
      "source": [
        "center = kmeans.cluster_centers_[sorted_clusters[99]]\n",
        "indices = np.argsort(np.linalg.norm(vectors - center, axis=1))\n",
        "' '.join(words[indices[:100]].tolist())"
      ],
      "execution_count": null,
      "outputs": []
    },
    {
      "cell_type": "markdown",
      "metadata": {
        "id": "CK5Nk9WSZ9Zt"
      },
      "source": [
        "* 命令的な表現が多いようだ。"
      ]
    },
    {
      "cell_type": "markdown",
      "metadata": {
        "id": "irSbDJwegd-s"
      },
      "source": [
        "### サイズが中間的なクラスタを調べる"
      ]
    },
    {
      "cell_type": "code",
      "metadata": {
        "id": "ohQrQEUXZ5Et"
      },
      "source": [
        "center = kmeans.cluster_centers_[sorted_clusters[49]]\n",
        "indices = np.argsort(np.linalg.norm(vectors - center, axis=1))\n",
        "' '.join(words[indices[:100]].tolist())"
      ],
      "execution_count": null,
      "outputs": []
    },
    {
      "cell_type": "markdown",
      "metadata": {
        "id": "F9K7GB9SglM0"
      },
      "source": [
        "* かなり統一感がある。"
      ]
    },
    {
      "cell_type": "markdown",
      "metadata": {
        "id": "t4GDMNItaPgu"
      },
      "source": [
        "### 適当なクラスターを調べてみる"
      ]
    },
    {
      "cell_type": "code",
      "metadata": {
        "id": "LBtCOiw1aNvz"
      },
      "source": [
        "center = kmeans.cluster_centers_[sorted_clusters[39]]\n",
        "indices = np.argsort(np.linalg.norm(vectors - center, axis=1))\n",
        "' '.join(words[indices[:100]].tolist())"
      ],
      "execution_count": null,
      "outputs": []
    },
    {
      "cell_type": "markdown",
      "metadata": {
        "id": "m2NNjH4laVi5"
      },
      "source": [
        "* スポーツ関係っぽい。"
      ]
    },
    {
      "cell_type": "markdown",
      "metadata": {
        "id": "sDyetTpLZpij"
      },
      "source": [
        "## C) Dask-MLのspectral clusteringを試してみる\n",
        "\n",
        "* Dask-MLについてはWebサイトを参照（私も詳しくは知りません・・・）。\n",
        " * https://ml.dask.org/\n",
        "\n",
        "* scalableなspectral clustering（ただし近似が入る）が実装されているので、使ってみる。\n",
        " * https://ml.dask.org/clustering.html"
      ]
    },
    {
      "cell_type": "markdown",
      "metadata": {
        "id": "kIezPNLoZ69P"
      },
      "source": [
        "### Daskをインストール"
      ]
    },
    {
      "cell_type": "code",
      "metadata": {
        "id": "IurEBdx_EsEo",
        "colab": {
          "base_uri": "https://localhost:8080/",
          "height": 1000
        },
        "outputId": "c065f6d0-0d46-4952-837e-2ed40cf2d85e"
      },
      "source": [
        "! pip install -U tornado\n",
        "! pip install dask distributed --upgrade\n",
        "! pip install dask_ml"
      ],
      "execution_count": 14,
      "outputs": [
        {
          "output_type": "stream",
          "name": "stdout",
          "text": [
            "Looking in indexes: https://pypi.org/simple, https://us-python.pkg.dev/colab-wheels/public/simple/\n",
            "Requirement already satisfied: tornado in /usr/local/lib/python3.7/dist-packages (5.1.1)\n",
            "Collecting tornado\n",
            "  Downloading tornado-6.2-cp37-abi3-manylinux_2_5_x86_64.manylinux1_x86_64.manylinux_2_17_x86_64.manylinux2014_x86_64.whl (423 kB)\n",
            "\u001b[K     |████████████████████████████████| 423 kB 4.3 MB/s \n",
            "\u001b[?25hInstalling collected packages: tornado\n",
            "  Attempting uninstall: tornado\n",
            "    Found existing installation: tornado 5.1.1\n",
            "    Uninstalling tornado-5.1.1:\n",
            "      Successfully uninstalled tornado-5.1.1\n",
            "\u001b[31mERROR: pip's dependency resolver does not currently take into account all the packages that are installed. This behaviour is the source of the following dependency conflicts.\n",
            "google-colab 1.0.0 requires tornado~=5.1.0; python_version >= \"3.0\", but you have tornado 6.2 which is incompatible.\u001b[0m\n",
            "Successfully installed tornado-6.2\n"
          ]
        },
        {
          "output_type": "display_data",
          "data": {
            "application/vnd.colab-display-data+json": {
              "pip_warning": {
                "packages": [
                  "tornado"
                ]
              }
            }
          },
          "metadata": {}
        },
        {
          "output_type": "stream",
          "name": "stdout",
          "text": [
            "Looking in indexes: https://pypi.org/simple, https://us-python.pkg.dev/colab-wheels/public/simple/\n",
            "Requirement already satisfied: dask in /usr/local/lib/python3.7/dist-packages (2.12.0)\n",
            "Collecting dask\n",
            "  Downloading dask-2022.2.0-py3-none-any.whl (1.1 MB)\n",
            "\u001b[K     |████████████████████████████████| 1.1 MB 4.2 MB/s \n",
            "\u001b[?25hRequirement already satisfied: distributed in /usr/local/lib/python3.7/dist-packages (1.25.3)\n",
            "Collecting distributed\n",
            "  Downloading distributed-2022.2.0-py3-none-any.whl (837 kB)\n",
            "\u001b[K     |████████████████████████████████| 837 kB 31.1 MB/s \n",
            "\u001b[?25hCollecting partd>=0.3.10\n",
            "  Downloading partd-1.2.0-py3-none-any.whl (19 kB)\n",
            "Collecting pyyaml>=5.3.1\n",
            "  Downloading PyYAML-6.0-cp37-cp37m-manylinux_2_5_x86_64.manylinux1_x86_64.manylinux_2_12_x86_64.manylinux2010_x86_64.whl (596 kB)\n",
            "\u001b[K     |████████████████████████████████| 596 kB 54.8 MB/s \n",
            "\u001b[?25hRequirement already satisfied: toolz>=0.8.2 in /usr/local/lib/python3.7/dist-packages (from dask) (0.12.0)\n",
            "Collecting fsspec>=0.6.0\n",
            "  Downloading fsspec-2022.5.0-py3-none-any.whl (140 kB)\n",
            "\u001b[K     |████████████████████████████████| 140 kB 55.0 MB/s \n",
            "\u001b[?25hRequirement already satisfied: packaging>=20.0 in /usr/local/lib/python3.7/dist-packages (from dask) (21.3)\n",
            "Requirement already satisfied: cloudpickle>=1.1.1 in /usr/local/lib/python3.7/dist-packages (from dask) (1.3.0)\n",
            "Requirement already satisfied: pyparsing!=3.0.5,>=2.0.2 in /usr/local/lib/python3.7/dist-packages (from packaging>=20.0->dask) (3.0.9)\n",
            "Collecting locket\n",
            "  Downloading locket-1.0.0-py2.py3-none-any.whl (4.4 kB)\n",
            "Requirement already satisfied: sortedcontainers!=2.0.0,!=2.0.1 in /usr/local/lib/python3.7/dist-packages (from distributed) (2.4.0)\n",
            "Requirement already satisfied: tblib>=1.6.0 in /usr/local/lib/python3.7/dist-packages (from distributed) (1.7.0)\n",
            "Requirement already satisfied: zict>=0.1.3 in /usr/local/lib/python3.7/dist-packages (from distributed) (2.2.0)\n",
            "Requirement already satisfied: psutil>=5.0 in /usr/local/lib/python3.7/dist-packages (from distributed) (5.4.8)\n",
            "Requirement already satisfied: msgpack>=0.6.0 in /usr/local/lib/python3.7/dist-packages (from distributed) (1.0.4)\n",
            "Requirement already satisfied: click>=6.6 in /usr/local/lib/python3.7/dist-packages (from distributed) (7.1.2)\n",
            "Collecting cloudpickle>=1.1.1\n",
            "  Downloading cloudpickle-2.1.0-py3-none-any.whl (25 kB)\n",
            "Requirement already satisfied: jinja2 in /usr/local/lib/python3.7/dist-packages (from distributed) (2.11.3)\n",
            "Requirement already satisfied: tornado>=5 in /usr/local/lib/python3.7/dist-packages (from distributed) (6.2)\n",
            "Requirement already satisfied: setuptools in /usr/local/lib/python3.7/dist-packages (from distributed) (57.4.0)\n",
            "Requirement already satisfied: heapdict in /usr/local/lib/python3.7/dist-packages (from zict>=0.1.3->distributed) (1.0.1)\n",
            "Requirement already satisfied: MarkupSafe>=0.23 in /usr/local/lib/python3.7/dist-packages (from jinja2->distributed) (2.0.1)\n",
            "Installing collected packages: locket, pyyaml, partd, fsspec, cloudpickle, dask, distributed\n",
            "  Attempting uninstall: pyyaml\n",
            "    Found existing installation: PyYAML 3.13\n",
            "    Uninstalling PyYAML-3.13:\n",
            "      Successfully uninstalled PyYAML-3.13\n",
            "  Attempting uninstall: cloudpickle\n",
            "    Found existing installation: cloudpickle 1.3.0\n",
            "    Uninstalling cloudpickle-1.3.0:\n",
            "      Successfully uninstalled cloudpickle-1.3.0\n",
            "  Attempting uninstall: dask\n",
            "    Found existing installation: dask 2.12.0\n",
            "    Uninstalling dask-2.12.0:\n",
            "      Successfully uninstalled dask-2.12.0\n",
            "  Attempting uninstall: distributed\n",
            "    Found existing installation: distributed 1.25.3\n",
            "    Uninstalling distributed-1.25.3:\n",
            "      Successfully uninstalled distributed-1.25.3\n",
            "\u001b[31mERROR: pip's dependency resolver does not currently take into account all the packages that are installed. This behaviour is the source of the following dependency conflicts.\n",
            "gym 0.17.3 requires cloudpickle<1.7.0,>=1.2.0, but you have cloudpickle 2.1.0 which is incompatible.\u001b[0m\n",
            "Successfully installed cloudpickle-2.1.0 dask-2022.2.0 distributed-2022.2.0 fsspec-2022.5.0 locket-1.0.0 partd-1.2.0 pyyaml-6.0\n",
            "Looking in indexes: https://pypi.org/simple, https://us-python.pkg.dev/colab-wheels/public/simple/\n",
            "Collecting dask_ml\n",
            "  Downloading dask_ml-2022.5.27-py3-none-any.whl (148 kB)\n",
            "\u001b[K     |████████████████████████████████| 148 kB 4.2 MB/s \n",
            "\u001b[?25hRequirement already satisfied: pandas>=0.24.2 in /usr/local/lib/python3.7/dist-packages (from dask_ml) (1.3.5)\n",
            "Requirement already satisfied: packaging in /usr/local/lib/python3.7/dist-packages (from dask_ml) (21.3)\n",
            "Requirement already satisfied: dask[array,dataframe]>=2.4.0 in /usr/local/lib/python3.7/dist-packages (from dask_ml) (2022.2.0)\n",
            "Requirement already satisfied: numpy>=1.20.0 in /usr/local/lib/python3.7/dist-packages (from dask_ml) (1.21.6)\n",
            "Requirement already satisfied: scipy in /usr/local/lib/python3.7/dist-packages (from dask_ml) (1.7.3)\n",
            "Collecting multipledispatch>=0.4.9\n",
            "  Downloading multipledispatch-0.6.0-py3-none-any.whl (11 kB)\n",
            "Collecting dask-glm>=0.2.0\n",
            "  Downloading dask_glm-0.2.0-py2.py3-none-any.whl (12 kB)\n",
            "Requirement already satisfied: scikit-learn>=1.0.0 in /usr/local/lib/python3.7/dist-packages (from dask_ml) (1.0.2)\n",
            "Requirement already satisfied: numba>=0.51.0 in /usr/local/lib/python3.7/dist-packages (from dask_ml) (0.51.2)\n",
            "Requirement already satisfied: distributed>=2.4.0 in /usr/local/lib/python3.7/dist-packages (from dask_ml) (2022.2.0)\n",
            "Requirement already satisfied: cloudpickle>=0.2.2 in /usr/local/lib/python3.7/dist-packages (from dask-glm>=0.2.0->dask_ml) (2.1.0)\n",
            "Requirement already satisfied: pyyaml>=5.3.1 in /usr/local/lib/python3.7/dist-packages (from dask[array,dataframe]>=2.4.0->dask_ml) (6.0)\n",
            "Requirement already satisfied: fsspec>=0.6.0 in /usr/local/lib/python3.7/dist-packages (from dask[array,dataframe]>=2.4.0->dask_ml) (2022.5.0)\n",
            "Requirement already satisfied: toolz>=0.8.2 in /usr/local/lib/python3.7/dist-packages (from dask[array,dataframe]>=2.4.0->dask_ml) (0.12.0)\n",
            "Requirement already satisfied: partd>=0.3.10 in /usr/local/lib/python3.7/dist-packages (from dask[array,dataframe]>=2.4.0->dask_ml) (1.2.0)\n",
            "Requirement already satisfied: psutil>=5.0 in /usr/local/lib/python3.7/dist-packages (from distributed>=2.4.0->dask_ml) (5.4.8)\n",
            "Requirement already satisfied: click>=6.6 in /usr/local/lib/python3.7/dist-packages (from distributed>=2.4.0->dask_ml) (7.1.2)\n",
            "Requirement already satisfied: tblib>=1.6.0 in /usr/local/lib/python3.7/dist-packages (from distributed>=2.4.0->dask_ml) (1.7.0)\n",
            "Requirement already satisfied: zict>=0.1.3 in /usr/local/lib/python3.7/dist-packages (from distributed>=2.4.0->dask_ml) (2.2.0)\n",
            "Requirement already satisfied: jinja2 in /usr/local/lib/python3.7/dist-packages (from distributed>=2.4.0->dask_ml) (2.11.3)\n",
            "Requirement already satisfied: sortedcontainers!=2.0.0,!=2.0.1 in /usr/local/lib/python3.7/dist-packages (from distributed>=2.4.0->dask_ml) (2.4.0)\n",
            "Requirement already satisfied: tornado>=5 in /usr/local/lib/python3.7/dist-packages (from distributed>=2.4.0->dask_ml) (6.2)\n",
            "Requirement already satisfied: msgpack>=0.6.0 in /usr/local/lib/python3.7/dist-packages (from distributed>=2.4.0->dask_ml) (1.0.4)\n",
            "Requirement already satisfied: setuptools in /usr/local/lib/python3.7/dist-packages (from distributed>=2.4.0->dask_ml) (57.4.0)\n",
            "Requirement already satisfied: six in /usr/local/lib/python3.7/dist-packages (from multipledispatch>=0.4.9->dask_ml) (1.15.0)\n",
            "Requirement already satisfied: llvmlite<0.35,>=0.34.0.dev0 in /usr/local/lib/python3.7/dist-packages (from numba>=0.51.0->dask_ml) (0.34.0)\n",
            "Requirement already satisfied: pyparsing!=3.0.5,>=2.0.2 in /usr/local/lib/python3.7/dist-packages (from packaging->dask_ml) (3.0.9)\n",
            "Requirement already satisfied: pytz>=2017.3 in /usr/local/lib/python3.7/dist-packages (from pandas>=0.24.2->dask_ml) (2022.1)\n",
            "Requirement already satisfied: python-dateutil>=2.7.3 in /usr/local/lib/python3.7/dist-packages (from pandas>=0.24.2->dask_ml) (2.8.2)\n",
            "Requirement already satisfied: locket in /usr/local/lib/python3.7/dist-packages (from partd>=0.3.10->dask[array,dataframe]>=2.4.0->dask_ml) (1.0.0)\n",
            "Requirement already satisfied: threadpoolctl>=2.0.0 in /usr/local/lib/python3.7/dist-packages (from scikit-learn>=1.0.0->dask_ml) (3.1.0)\n",
            "Requirement already satisfied: joblib>=0.11 in /usr/local/lib/python3.7/dist-packages (from scikit-learn>=1.0.0->dask_ml) (1.1.0)\n",
            "Requirement already satisfied: heapdict in /usr/local/lib/python3.7/dist-packages (from zict>=0.1.3->distributed>=2.4.0->dask_ml) (1.0.1)\n",
            "Requirement already satisfied: MarkupSafe>=0.23 in /usr/local/lib/python3.7/dist-packages (from jinja2->distributed>=2.4.0->dask_ml) (2.0.1)\n",
            "Installing collected packages: multipledispatch, dask-glm, dask-ml\n",
            "Successfully installed dask-glm-0.2.0 dask-ml-2022.5.27 multipledispatch-0.6.0\n"
          ]
        }
      ]
    },
    {
      "cell_type": "markdown",
      "metadata": {
        "id": "4NASKHU_QSaE"
      },
      "source": [
        "* 単語ベクトルのデータを取得し直す\n",
        "\n"
      ]
    },
    {
      "cell_type": "code",
      "metadata": {
        "id": "yZnU8x7sP9F7"
      },
      "source": [
        "import numpy as np\n",
        "from gensim.models.word2vec import Word2Vec\n",
        "\n",
        "model_path = 'word2vec.gensim.model'\n",
        "model = Word2Vec.load(model_path)\n",
        "wv = model.wv\n",
        "words = list()\n",
        "vectors = list()\n",
        "for word in wv.vocab:\n",
        "  words.append(word)\n",
        "  vectors.append(wv.word_vec(word))\n",
        "words = np.array(words)\n",
        "vectors = np.array(vectors)"
      ],
      "execution_count": 1,
      "outputs": []
    },
    {
      "cell_type": "markdown",
      "metadata": {
        "id": "HUJF76J2ePP_"
      },
      "source": [
        "### spectral clusteringを実行する"
      ]
    },
    {
      "cell_type": "code",
      "metadata": {
        "id": "j5yY7cJtQV29"
      },
      "source": [
        "import dask_ml.cluster\n",
        "\n",
        "n_clusters = 100\n",
        "clusterer = dask_ml.cluster.SpectralClustering(n_clusters=n_clusters, random_state=123,\n",
        "                                               n_jobs=-1, n_components=100)"
      ],
      "execution_count": 2,
      "outputs": []
    },
    {
      "cell_type": "markdown",
      "metadata": {
        "id": "LjfhuKs3eVnn"
      },
      "source": [
        "* クラスタリングの実行。\n",
        " * しばらく待つ。10分弱ぐらい。"
      ]
    },
    {
      "cell_type": "code",
      "metadata": {
        "id": "brNB0mO2QjJw",
        "colab": {
          "base_uri": "https://localhost:8080/"
        },
        "outputId": "73095afc-a53b-4498-ca57-60c9a2b18d6f"
      },
      "source": [
        "clusterer.fit(vectors)"
      ],
      "execution_count": 3,
      "outputs": [
        {
          "output_type": "stream",
          "name": "stderr",
          "text": [
            "Found fewer than 100 clusters in init (found 24).\n"
          ]
        },
        {
          "output_type": "execute_result",
          "data": {
            "text/plain": [
              "SpectralClustering(n_clusters=100, n_jobs=-1, random_state=123)"
            ]
          },
          "metadata": {},
          "execution_count": 3
        }
      ]
    },
    {
      "cell_type": "markdown",
      "metadata": {
        "id": "ruxTnbc9eY4D"
      },
      "source": [
        "* ラベル（各データ点がどのクラスタに属するか）の情報のデータ型を調べる。"
      ]
    },
    {
      "cell_type": "code",
      "metadata": {
        "id": "TiWwKabHQnOl",
        "colab": {
          "base_uri": "https://localhost:8080/"
        },
        "outputId": "ad0d3b19-bf44-4d43-b0af-93a08940d44a"
      },
      "source": [
        "labels = clusterer.labels_\n",
        "type(labels)"
      ],
      "execution_count": 4,
      "outputs": [
        {
          "output_type": "execute_result",
          "data": {
            "text/plain": [
              "dask.array.core.Array"
            ]
          },
          "metadata": {},
          "execution_count": 4
        }
      ]
    },
    {
      "cell_type": "markdown",
      "metadata": {
        "id": "9FR1VJlSenFY"
      },
      "source": [
        "* Dask固有のデータ型のようなのでNumpyの配列に変換する。"
      ]
    },
    {
      "cell_type": "code",
      "metadata": {
        "id": "Dq7CEyl-XOA_",
        "colab": {
          "base_uri": "https://localhost:8080/"
        },
        "outputId": "46f2fdb9-8ec8-420a-bda5-dd88a9b4c4bf"
      },
      "source": [
        "labels = labels.compute()\n",
        "type(labels)"
      ],
      "execution_count": 5,
      "outputs": [
        {
          "output_type": "execute_result",
          "data": {
            "text/plain": [
              "numpy.ndarray"
            ]
          },
          "metadata": {},
          "execution_count": 5
        }
      ]
    },
    {
      "cell_type": "markdown",
      "metadata": {
        "id": "_zzBWAl6euG4"
      },
      "source": [
        "* ラベルをファイルに保存しておく。"
      ]
    },
    {
      "cell_type": "code",
      "metadata": {
        "id": "NFFFxW51YM2y"
      },
      "source": [
        "np.save('dask_sc_labels', labels)"
      ],
      "execution_count": 6,
      "outputs": []
    },
    {
      "cell_type": "code",
      "source": [
        "labels"
      ],
      "metadata": {
        "id": "nKKq8a8p1PxO",
        "outputId": "94c69f0d-4cc6-4294-db4f-23bdea1c5505",
        "colab": {
          "base_uri": "https://localhost:8080/"
        }
      },
      "execution_count": 7,
      "outputs": [
        {
          "output_type": "execute_result",
          "data": {
            "text/plain": [
              "array([ 0,  9, 12, ..., 71,  2, 90], dtype=int32)"
            ]
          },
          "metadata": {},
          "execution_count": 7
        }
      ]
    },
    {
      "cell_type": "markdown",
      "metadata": {
        "id": "24rEqAg_e2qD"
      },
      "source": [
        "* クラスタのサイズ順にクラスタのインデックス（0~99）をソートする。"
      ]
    },
    {
      "cell_type": "code",
      "metadata": {
        "id": "0jq2PNGYYTgg"
      },
      "source": [
        "unique, counts = np.unique(labels, return_counts=True)\n",
        "size_dict = dict(zip(unique, counts))\n",
        "sorted_clusters = [k for k, v in sorted(size_dict.items(), key=lambda item: item[1], reverse=True)]"
      ],
      "execution_count": 8,
      "outputs": []
    },
    {
      "cell_type": "markdown",
      "metadata": {
        "id": "aKckFt-se_0n"
      },
      "source": [
        "### クラスタのサイズを調べる"
      ]
    },
    {
      "cell_type": "code",
      "metadata": {
        "id": "htNYMfbqYsOy",
        "colab": {
          "base_uri": "https://localhost:8080/"
        },
        "outputId": "f214f537-5a23-4b73-e5b1-bc8bd31c46e3"
      },
      "source": [
        "counts[sorted_clusters]"
      ],
      "execution_count": 9,
      "outputs": [
        {
          "output_type": "execute_result",
          "data": {
            "text/plain": [
              "array([8282, 5764, 4985, 4824, 4809, 4777, 4769, 4704, 4552, 4535, 4491,\n",
              "       4468, 4435, 4387, 4369, 4261, 4221, 4215, 4200, 4083, 4082, 4002,\n",
              "       3990, 3916, 3847, 3841, 3822, 3790, 3769, 3726, 3712, 3708, 3656,\n",
              "       3642, 3587, 3577, 3537, 3530, 3528, 3511, 3488, 3462, 3451, 3425,\n",
              "       3419, 3376, 3360, 3342, 3324, 3321, 3235, 3233, 3187, 3177, 3166,\n",
              "       3160, 3136, 3125, 3122, 3088, 3087, 3086, 3086, 3065, 3056, 3045,\n",
              "       3031, 2945, 2944, 2914, 2883, 2864, 2852, 2812, 2791, 2755, 2740,\n",
              "       2728, 2703, 2702, 2649, 2633, 2530, 2445, 2383, 2371, 2310, 2284,\n",
              "       2283, 2221, 2170, 2115, 2111, 2079, 2073, 1979, 1936, 1349, 1298,\n",
              "        667])"
            ]
          },
          "metadata": {},
          "execution_count": 9
        }
      ]
    },
    {
      "cell_type": "markdown",
      "metadata": {
        "id": "VZ6M1kwGfRJp"
      },
      "source": [
        "### サイズが最大のクラスタを調べる"
      ]
    },
    {
      "cell_type": "code",
      "metadata": {
        "id": "SWEzOCjxZU2I",
        "colab": {
          "base_uri": "https://localhost:8080/",
          "height": 177
        },
        "outputId": "0bdeb851-b2a2-4966-8cb8-b485e6743b13"
      },
      "source": [
        "' '.join(words[labels == sorted_clusters[0]])"
      ],
      "execution_count": 10,
      "outputs": [
        {
          "output_type": "execute_result",
          "data": {
            "text/plain": [
              "'松平正容 カイム Martina bx +∞ ユニットコム まどか☆マギカ マインド・ゲーム ポルデノーネ無声映画祭 六神合体ゴッドマーズ サンダーマスク ワンサくん プラレス3四郎 機甲猟兵メロウリンク 15.2m 忍者戦隊カクレンジャー 超獣戦隊ライブマン 魔界村 宇宙空母ギャラクティカ especially フランケンシュタインの逆襲 日本国憲法の改正手続に関する法律 6120 シークレット・ドクトリン ~、 ヤッピー LESSON ガンパウダー プリンスオブウェールズ 宮城県警察部 マエストラーレ 東海艦隊 シレ 昭洋 おりおん ゴーディ・ハウ 世界フィギュアスケート国別対抗戦 33打点 熊姫 ザ・イロモネア 丹青 世界の果てまで セブン・アークス ネレウス Tatiana ラジオどっとあい ヒューマ コミックフラッパー 小高駅 新地駅 鬼武者 バイオハザード2 RSIP ACD 公証人法 種田仁 片岡我童 初代歌川豊国 黒部の太陽 餝 Outrage のろう 引きおこし ゴー・アヘッド・イーグルス パワプロクンポケット ハンゲ 王立宇宙軍 オネアミスの翼 フリクリ 福岡県立小倉高等学校 滋賀県立彦根東高等学校 エンガノ Sumner 超時空世紀オーガス 超時空騎団サザンクロス 機甲創世記モスピーダ 大鉄人17 超時空要塞マクロスII -LOVERS AGAIN- ルイジ・コメンチーニ 一興 少年チャンピオン わしズム 予防外交 梶岡定道 ジム・コマンド ガンダムウォー 機動戦士ガンダム 戦場の絆 ドラゴンバスター サラマンドラ パトリック・ラフター アルノー・クレマン Cochran EC2 Florent ハチミツとクローバー ベルヌ 若きウェルテルの悩み 3720 朝夜 センター南 松本電鉄バス 定州市 月刊電撃コミックガオ! 別冊ヤングマガジン 特警ウインスペクター 特捜エクシードラフト 4コマまんが王国 スーパードンキーコング {(\" Grosso 五星戦隊ダイレンジャー 宇宙をかける少女 子鹿物語 デュアルヘッド hydroxide gsi 母をたずねて三千里 1583 フレデリック・ミストラル ベール湖 メトロポール・ド・リヨン 0020 府中藩 徳川宗翰 晴れの海 アトランテFC エクゼター Mandarin 松平頼純 ゆでん 大阪ゴールドビリケーンズ 大島こうすけ ヴィオリスト コミックZERO-SUM マルチリンク式サスペンション グアラニ 井戸田潤 キングオブコメディ ＭＳ ポグソン 沖縄セルラースタジアム那覇 巨獣特捜ジャスピオン 超電子バイオマン daemon 45.7cm G線上のアリア 1700万人 VET JNNニュースバード トロイラスとクレシダ 8103 Pilgrim カッペリーニ カニオ 12.8m Euphoria Power Rangers ファンデ OKWave supreme アニメ版ポケットモンスターの登場人物 クローチェ ジェンティーレ leo Vito Ugo Marcello Massimo 坂東國男 した前 Aki YEN TOWN BAND スワロウテイル ソクラテス式問答法 真昼の暗黒 新しき土 民衆の敵 住井 橋のない川 ウチくる!? クッキングパパ パワーシフト ニーエアバッグ バヤルド あやや ビッグモーニング MICE ハラル Isola シュート! 永井尚政 2184 アイシールド21 村田雄介 海底二万哩 イタリア共和国功労勲章 小説すばる 脱工業化社会 愛の嵐 69話 夏の嵐 941人 レク ロシアより愛をこめて ザ・フラッシュ 夫神 羊をめぐる冒険 好色五人女 美内すずえ ガラスの仮面 時無 まんがタイムラブリー パスト・マスターズ 41センチ ヨークシャーオークス 昆虫物語 みなしごハッチ 六甲道 うかみ うっとうしい ブレッソン スウィーニー・トッド シガツェ市 フレーベル館 群馬2区 コロコロアニキ 武経七書 まるき Fairmont Quentin liberté Lazare Beatriz BOOMER ザ・ハリケーン 筑後宇都宮氏 3570 10ユーロ チャパティ Saito 電撃姫 電撃G\\'sコミック スタニスワフ・ジュウキェフスキ 26打点 琉球神道記 沖縄県立博物館・美術館 sounds レコード・コレクターズ 住友金属工業蹴球団 ジェリー・ブラックウェル ランザ 黄金の日日 中薬 モーニングジャンボ奥さま8時半です フラワーズ・イン・ザ・ダート ジェフリー・アーチャー あかずきん 大連湾 ニューロフィラメント チキン・リトル ミート・ザ・ビートルズ Smokey 10.7m 豊後竹田 肥後大津駅 ヘンリー・アーノルド スローターハウス5 Hydra Curl クスダマカビ ニッポン無責任時代 スプーンおばさん おはよう!グッデイ チング 赤城乳業 ツインビーPARADISE メガゾーン23 プリンセスメーカー Valerio 石田衣良 Shaun 1094 荒手車庫 高崎映画祭 陸軍野戦砲兵学校 エルメス・フランカ 小林聡 國奥麒樹真 J.Z.カルバン 石田光洋 石田ヒロユキ ロー・ファンタジー WIZARD 注文書 Siesta Midnight Sun 債権者代位権 Zdeněk 天使のたまご ジョゼと虎と魚たち 絶対無敵ライジンオー 木次駅 軽ボンネットバン LPR 尾上松也 Николай スワースモア スティーブ・ライト エデンの東 TOKAI >(</ 古壮字 台湾メディア 101回目のプロポーズ 北川みゆき アルシュ スキマ MEN\\'S CLUB 55センチ Families フルメタル・パニック! persons 打たれ弱い 洞戸 ウィガン・アスレティック Atlantis 日本冒険小説協会大賞 MellowHead Tara Marvelous 1997年製 かわみなみ 和風総本家 NHK東日本大震災プロジェクト アタック! comic B\\'s-LOG 宮廷女官チャングムの誓い 10020 3013 5130 キットソン rankings 大野まりな 長谷川良夫 1635 ちゅうえい flame 本町六丁目 南大塚 妖しのセレス IAUC オイディプス王 オタリア 開成中学校・高等学校 徳源院 イノブタ 1172 1749 同和利権 バロー＝イン＝ファーネス ケルス 60式装甲車 1712 宇宙戦士バルディオス 愛しく ありがとう浜村淳です 立ち戻り スーパーマリオブラザーズ2 スーパーマリオコレクション スーパーマリオRPG 亜空の使者 ミューロケット 愛媛2区 生方幸夫 吉川元 小川敏夫 高岡寿成 プーナ 日本バドミントン協会 日本科学者会議 マリオパーティ5 New スーパーマリオブラザーズ マリオカート7 彼氏彼女の事情 ティミシュ ロックマンエグゼシリーズ 肉体の門 必殺仕掛人 野獣死すべし 佐野洋 ドラゴンクエストVIII 空と海と大地と呪われし姫君 しらべる 36.3% ドラゴンクエストIII そして伝説へ… 1419 Sellers 自動火災報知設備 松平康重 Role&Roll 33.7% LOGOUT Adobe Reader 成城学園初等学校 パルスレーザー砲 89式装甲戦闘車 家の光 鳥人間 だぁ!だぁ!だぁ! グリーングリーン キャスリン・ビグロー あさって 赤池町 年金局 大阪デザイナー専門学校 のび太の結婚前夜 えいさ 創世日記 ヴォルフラム・フォン・エッシェンバッハ ジャラールッディーン・メングベルディー 海上無線通信士 二重関節 寺内貫太郎一家 太陽を盗んだ男 310km ダンサー・イン・ザ・ダーク パース・ヒート 中労委 国旗及び国歌に関する法律 緋村剣心 フランス共和国憲法 パブロ・デ・サラサーテ ケイダッシュグループ 毎日かあさん 367人 ウエルシア関東 2226 2260 165k おおさかシネマフェスティバル Kamil 南淵 高田裕三 赤い光弾ジリオン MM9 ホーリーピーク 茨城県選挙区 さがり 岐阜県選挙区 キャンプ千歳 ショートソード とんねるずのオールナイトニッポン 裸名 ゆりかごから墓場まで 政府刊行物 1767 信邦 LASER FORWARD あずきちゃん 東京慈恵会医科大学附属病院 鹿島アントラーズユース \"...,\" 月刊Asuka 神戸まつり ニコル・バイディソバ スウォンジー・シティAFC レッツ・ダンス ベイウォッチ WLS 1331 95センチ ：\"\"、 homme イワサザイ カザリドリ マイコドリ 2073 倍する ドンキーコング たるジェットレース ドンキーコングJR. スーパーマリオカート ディディーコングレーシング スーパードンキーコング3 ドンキーコンガ シリー・シンフォニー 3016 インハウスローヤー 気狂いピエロ 古森義久 電撃大王 日本マンガ学会 マグネッサーシステム 新・週刊フジテレビ批評 小島奈津子 MXテレビ マリオパーティシリーズ スーパーマリオギャラクシー エリス郡 Bodies アンサンブル・モデルン 聖剣伝説2 Royal Navy ストー 今昔文字鏡 ボルボオープンカップ ニッパツ三ツ沢球技場 ゾイドインフィニティ 物価庁 Martyn ノーザンブリア フーズム コラン colours 葉山たけし 富山テレビ放送 2129 ミヒャエル・ハイドン browser イワウメ 10.6m 日刊スポーツ映画大賞 プリンス・チャーミング AAB ヒドゥン 6102 Cookbook Genève 牡牛座 電磁シールド 優先順位の逆転 プロレスアワー 世界のプロレス Adélaïde ペロンヌ 1243 CAPCOM VS. SNK 2 MILLIONAIRE FIGHTING 2001 CvS CAPCOM VS. SNK マルタイ カルメン故郷に帰る 純邦楽 2306 美王 非公式帝国 2180 ここがヘンだよ日本人 53センチ 1561 新・旭日の艦隊 113km ソジ 5350 1705 1259 カラオケの鉄人 宇迦 塩草 タリホー ホーム・アローン 32.1% 986人 395m 90秒間 近藤亨 中原悌二郎 ニルスのふしぎな旅 破裏拳ポリマー 紀光 ホーカー・ビーチクラフト パイロットエラー TABプロダクション エーツー 刀語 アトロミトス 大木伸夫 グラール デューン/砂の惑星 ジョルジェ・エネスク 光戦隊マスクマン 仮面ライダーゴースト 108kg シボネイ ラ・カンパネッラ はみだし刑事情熱系 ホイラー・グレイシー 電撃戦隊チェンジマン はぐれ刑事純情派 ブルースワット 未来戦隊タイムレンジャー マルセル・デュプレ Messe 首都圏ネットワーク 小沢村 2.4倍 PlayStation 2 the Best 差戻 大阪府立春日丘高等学校 徳川治紀 魔法の絨毯 1332 ひかりごけ ドラえもんカラー作品集 くつした ネルソン級戦艦 6.2m つや出し 抗ガン剤 三晋 ビルング アムンゼン ダンビー 590km 一般者 アパッシュ Flute ビエッラ ニョッキ D.Gray-man 道路特定財源制度 午後は○○おもいッきりテレビ ディエゴ・サンチェス 源顕房 あばよ パッチギ! 海底二万里 Giancarlo ワールシュタット 高橋和枝 ナナコ タイコ 沢木郁也 春の夢 雪室俊一 の・ようなもの 星界の紋章 エスパー魔美 M83 FOX出版 愛知県尾張旭市 人民文庫 776人 Pooh! セーズ ホイッパー・ビリー・ワトソン レネ・グレイ セールスマンの死 戦争と人間 カール・ケレーニイ ジールアソシエイツ 愛という名のもとに 笑ってる場合ですよ! おとなの漫画 君こそスターだ! Clone ギテガ 金曜劇場 秋刀魚の味 ラモラック NHKニュース10 ディミトリ・ミトロプーロス チビッコ 第35戦 中部航空方面隊 ベロイト シティ・スリッカーズ 給食委員会 vinyl 麦の穂 サプフィール 毎度おさわがせします ターナ エイ出版社 ゲルハルト・リヒター 小説宝石 38.2% student 戦略空軍 Impress アルバセテ 319人 ダイヤモンドは永遠に ラ・マンチャの男 comte 月刊コミックコンプ コミックコンプ コミックガム 若い季節 ゴジラvsビオランテ プラスアルファ アクトレインクラブ 松平定直 小公女セーラ ヴェステルイェートランド ガメラ3 邪神覚醒 ガメラ2 レギオン襲来 コクヌストモドキ 千葉県袖ケ浦市 ラウ・ル・クルーゼ もくば 女の都 戦闘民族 常盤新平 風の歌を聴け 海辺のカフカ 6300人 内藤忠政 ノルマル おもしろブック ちかいの魔球 サインはV でっかい青春 はじめの一歩 リングにかけろ 3時にあいましょう ホロン 號第 ルイージマンション キングテレサ 大丸梅田店 パケ死 プチセブン Emilie ティアリングサーガ ラインホルト・メスナー 1256 902人 市谷田町 ベイビー・ブルー 121m ノスフェラトゥ 尾高賞 リアルバウト餓狼伝説スペシャル リアルバウト 餓狼伝説スペシャル 細井雄二 パティ・シュナイダー 為隆 デジモンワールド 中国法制史 沢松和子 サニア・ミルザ テイルズ オブ ファンタジア ブライアン・オールディス PEA ミザリー WCO ガエル・モンフィス ザ・ポーグス アースクエイク ヘンリー・キャンベル＝バナマン CAバンフィエルド Adriano コパ・アメリカ2004 明日の記憶 Garnet Nilsson ほす 燃え立つ 1161 危険な関係 ニュースプラザ 99話 グリーン・デスティニー ダイ・アナザー・デイ \\u3000\"\" わが青春のアルカディア タクティクスオウガ アルティマニア 光線過敏症 あてはまり エフエムナックファイブ 埼玉県営大宮公園野球場 和歌山県警 シカゴ商品取引所 8003 冀南 発行済株式数 edited アカシヤ ウルトラマンギンガS ダーク・フューネラル 矢沢あい 杭打ち機 テリー・ザ・キッド きまぐれオレンジ☆ロード まつもと泉 ついでにとんちんかん ミトロプーロス Riccardo PMF ロンドン・シンフォニエッタ イドメネオ カレンベルク 966人 無症候性キャリア 苛性カリ ²)。 トリナクリア O嬢の物語 ハイカラさん 都市経済学 狭衣物語 讒謗律 岩峅寺駅 ガンダム開発計画 ナガノ ゼータガンダム リゼル 0105 0104 機動戦士ガンダムSEED C.E.73 STARGAZER ギガンティス ヒートホーク FM山形 FM岩手 デビルマンレディー 山形県立山形東高等学校 11センチ 63打点 83打点 3300人 qualified フェリーボート 風紋 ラブアタック! イヴの総て いま、会いにゆきます 月刊サンデージェネックス シャロレー Ewing 仮面ライダー THE FIRST ベヒーモス バビロニア神話 コラン・ド・プランシー フランクフルター・アルゲマイネ・ツァイトゥング アリステア・マクリーン ゼンダマン 造作材 5.1m 44k 66k エディスン RSB TAISHITA 広島高速1号線 ブレンタ この人を見よ ネメシス/S.T.X 不食 GUM FAW Jour 中体西用 国際競馬統括機関連盟 IFHA 世界の中心で、愛をさけぶ ドラゴンクエストII 悪霊の神々 イチオシ!モーニング 過酢酸 Sympetrum ノシメトンボ 特殊記号 ランガー lucky １０月 フォルトゥナ・シッタート 人文社会科学研究科 ラ・ムー н スーパーロボット大戦Z アメデオ ドルマバフチェ アルファボクシングジム GBU まんがライフ 角田城 デンジャークルー・レコード DEAN AVM 私の何がイケないの? オーエスジー 三沢村 清酒酵母 ブーク 全米ゴルフ協会 ドラゴンエイジピュア Dominik 1353 がんばっていきまっしょい トルトラ 青塚 ジロラモ・サヴォナローラ ヴィーナスの誕生 自動プログラミング Morrow 快傑ズバット 小説吉田学校 弟切草 街 〜運命の交差点〜 L.A.コンフィデンシャル Playback 977人 26.9% メシュエン みずほ総合研究所 車両長 24打点 United States of America ボルスタレス MTV Video Music Awards Japan 凍結防止剤 合憲限定解釈 大阪府大阪市旭区 Papilio マガジンGREAT FSI ロバート・キング・マートン 両丹 有隣会 チェンジリング Vogel ウェインズ・ワールド Megan ステーシー Barron 夏への扉 3159 メタルギアソリッド2 エメリッヒ ショーシャンクの空に 軍事ジャーナリスト KIMURA SOLEIL 長上郡 2222 2211 2225 2209 2217 13000系 いちご白書 グッバイガール キンパラ Majestic アッシュールナツィルパル メモリバリア なめくじ 趣味の園芸 BDZ 3032 「+」 112km ゲートタワー 真珠夫人 ボルケーノ ウィルシャー Rasmussen Mr.BOO! ルー・ホード ラタン Zara ツレス 特設警備隊 baroque シベルネティコ 牝馬東京タイムズ杯 スーパーテレビ情報最前線 NHKラジオ第2 プティ・パレ 泰清 Doherty キャプテンストライダム 少年カミカゼ ONE☆DRAFT ウォーラステイン 1168 再生可能資源 かみゆ Cody 京都サンガ Team H ルイベ ダックワース Young Love 75話 消されたライセンス トイ・ストーリー2 )/( 唯子 チンプイ のび太と奇跡の島 高橋渉 俺は用心棒 ペルソナシリーズ 真・女神転生II 侍ジャイアンツ ガンバの冒険 レナト ウィンディ 日本誕生 有年 ソルベー シャーロット・ブロンテ 生田町 メイザー 土鈴 庶系 直知 伊藤計劃 死ぬのは奴らだ ジョリー・ロジャー 濱マイク 税務局 ヘルゴランド 7450 ダンピール 東山村 辿れる ヒンドゥー哲学 ぷよぷよフィーバー 72打点 あすなろ白書 J9シリーズ 銀河旋風ブライガー 37打点 がんばれ!!ロボコン 旅立ちの日に ブラザー・ディーボン 空中発射弾道ミサイル hospital ジョアッキーノ フランチェスカ・ダ・リミニ 猫の恩返し ヴィンチェンツォ・ベッリーニ いかよう イェスゲイ・バアトル ウルトラマンメビウス&ウルトラ兄弟 スーパーヒーロー作戦 兵庫県選挙区 スーパーロボット大戦α外伝 カセグレン 別冊花とゆめ 三陸沖地震 平光 キャプテン・スカーレット 保教 龍の子太郎 世界名作童話 森は生きている オイロパ 星のカービィシリーズ 星のカービィ スーパーデラックス 星のカービィ64 星のカービィ3 月刊ドラゴンジュニア 2480 ビーボ スタジオ・ファンタジア 1174 サピア フェリックス・ガタリ おもいッきりイイ!!テレビ ブルードラゴン 美少女戦士セーラームーンS 栄冠賞 村上もとか 第72話 MCT 詩と詩論 美術文化協会 聊斎志異 キハ5000 キクハ 盛岡大学 并流 ジュール・ミシュレ キハ82 キハE200 吹替洋画劇場 近代英語 月刊コミックラッシュ ハッピーデイズ ″、 天空の城 花ざかりの君たちへ 変身忍者 嵐 CIT 長野県飯田高等学校 嘘つき解散 こゆき ロロナ Getting Better ハイチ語 クラング バガボンド ハーメルンのバイオリン弾き 増刊ヤングガンガン 南国少年パプワくん 6550 25.3% 27.3% 大阪府立住吉高等学校 fear ソーサリアン チョソングル ミスターマガジン ヤングマガジンアッパーズ 九十九里鉄道 ファイナルファンタジーIX FFXII FFVIII まんがタイムきららキャラット ジョゼ・アルド ゴールデンジュビリーキャンペーン Pasteurella 月刊IKKI IKKI シャマシュ・シュム・ウキン 夏恋 3048 訴えの利益 違憲審査基準 ご近所物語 赤ずきんチャチャ 京都橘大学 Ki/oon Sony Records 星の王子様 アイレックス 愛知産業大学 名古屋造形大学 常葉学園大学 ナイキ・フープサミット 46センチ 1263 Tunny クリスタル・ガラス 755m Albion ザ・サンデー 秀丸エディタ 878人 ロマンシア アレルギー物質 5060 メインキャストプロダクション 10-300R形 とんがり帽子のメモル Flanagan 2451 ロジャー・メイウェザー ぶん殴っ ショーン・シャーク ツィミスケス 池中玄太80キロ 中邨雄二 ダーマ&グレッグ ダーマ スピン・シティ 東リ ヴォーラ 華麗なるギャツビー ティースプーン 杉本哲太 ニコラス・マスー AG-promotion ウッチャンナンチャンのやるならやらねば! カロネード ホーンブロワーシリーズ イラン進駐 野口茂樹 回し者 マル追計画 833人 142回 愛の奇跡 トミー・ハース ドラえもん海底列車 ガイズ&ドールズ 岡山武道館 テープレコーダ テアトル・ド・ポッシュ つぐない SHOP99 ハイ!土曜日です Kazimierz 二十四時間の情事 ピカドン 西鶴一代女 春琴抄 情報文化学部 ピリカ マルル ハケンの品格 フラッシュマン プファルツ＝ツヴァイブリュッケン＝ビルケンフェルト 池田理代子 挟まり 下水道法 ポコニャン 梨木 ドッキリ!ハッキリ!三代澤康司です ポートブレア ゼロメートル地帯 北神急行 半裁 マルチブート 平池 失われた世代 ミロス・フォアマン Restless トムクリエイト 32.6% ビクトリアクラウン サム・グレコ ケイン・ヴェラスケス ケラケラ Keane 有言実行三姉妹シュシュトリアン 鹿児島県西之表市 ハリー・ポッターと賢者の石 61打点 58打点 弘山晴美 ニコニコドー 復活の日 おじゃまんが山田くん 2730 Cruising リューゲン ||-||-|| サーモバリック 延原謙 有山 ï ウィニペグ・ジェッツ メリー・クリスマス 極上!!めちゃモテ委員長 篠塚ひろむ 玄光社 オーシャンズ ノッティングヒルの恋人 火吹山の魔法使い 直江津港 アンダーカバー 女王陛下の007 0011ナポレオン・ソロ ヒッチコック劇場 YEN 魔神英雄伝ワタル クイズ!年の差なんて Hillman 3610 4180 ルパン三世 ルパンVS複製人間 ロボタン ULTRASEVEN X さよならジュピター 池田長幸 吉永町 99日 雪の朝 累次 ココロコネクト ヴヴェイ 38kg サウダージ 5200人 グラデュエーション LIVE CORE AKATSUKI MSIP 大阪天王寺 エマ・ワトソン せいばん Ning 武蔵江戸氏 古市検車区 坊屋三郎 サルムソン 笑府 翔んだカップル まことちゃん 野性の証明 ねらわれた学園 カンポバッソ 月曜ドラマ・イン スターログ ロボット刑事 宇宙鉄人キョーダイン おみやさん 谷内六郎 ソック とうがく 米式 損切り 泉藩 外交関係に関するウィーン条約 宇部商業 41日 38日 新世紀GPXサイバーフォーミュラ アップデート機能 Germain 北茂安 825人 THE夜もヒッパレ 148kg 鈴木悟 5331 5507 85日 射鵰英雄伝 うっちゃん RED WARRIORS カラベル 1リットルの涙 Tinosa BEAT UK アルジャーノンに花束を 厨房設備 汎アフリカ色 KIYOSHI 探偵学園Q ザ・リッピントンズ ワンマンバンド Yakovlevich クレイ数学研究所 中央労働学園 伝説のオウガバトル Forensic リング0 プチフラワー 対地接近警報装置 32件 2年B組仙八先生 エントリーポイント ウェルド 長井満也 ヨセフ・スク ハービー・マン Guru ディンガン・トベラ デジモンアドベンチャー02 ぼくらのウォーゲーム! デジモンフロンティア イカル EXPERIENCE 横田一則 女の平和 愛の言霊 22.3% ずっとあなたが好きだった 捨蔵 藤本ひとみ ADAWS セベ・バレステロス 0064 風魔の小次郎 Cory 勇者エクスカイザー 子供の情景 シックス・センス 56話 書簡体小説 マリー・ローランサン ジョルジョ・デ・キリコ キングヘイロー 鳩子の海 大道典嘉 4040 8085 小板 ゼルダの伝説 時のオカリナ 1639 暗黒街の顔役 アペリティフ ホオジロザメ ザメ 907人 }, ヴィジュネル暗号 サゴス さすらい刑事旅情編 21.9% イノ 951人 フェザード ドスペ2 岐阜県立岐阜高等学校 モハ205 リンコサウルス 私立バカレア高校 スーパーマリオサンシャイン メアリー・ステュアート 7008 7013 ヘレー 1329 岡部長盛 島大介 オーカー クマのプーさん Winnie レジナ スパルティヴェント 埼玉県立浦和西高等学校 ブルースチール JOINT 予期せぬ出来事 恋多き女 1998年製 育夫 Gli Dorsey テイザー ワーリー 171年 ニハーヴァンドの戦い レイヤード 硝酸鉛 心の旅路 島の女 大正九年 映画用語 ファンタシースターユニバース バータ アウエ 浦舟 padding Adonis トム・セレック シャーロック・ホームズの冒険 ユア・アイズ・オンリー ウォーレン・ベイティ 2005年製 ドーソンズ・クリーク サード・ウォッチ クピードー みごろ!たべごろ!笑いごろ! ムーブ! ローザンヌ大学 1990年生まれ 広島県選挙区 ムーレ・オ・ロムスダール ジジ・フェルナンデス 教育行政学 教育方法学 雷型駆逐艦 ゴラ トラベルトレイン マドー 宇宙刑事シャリバン 夜歩く MiChao! 津島直人 オリヴァー・ゴールドスミス 毎日デザイン賞 静岡県立富士高等学校 マイク・リー 1994年製 ストリートファイターIV デニス・カーン ビクトー・ベウフォート ジェイク・シールズ プロ・フィット 龍門石窟 ヨーゼフ・マルクス ASLA 環境デザイナー 矢来町 佐世保海軍航空隊 勇者ライディーン 超電磁ロボ コン・バトラーV 闘将ダイモス コン・バトラーV 1479 2Q 蛯原 ウェークアップ! Bento 7800人 下田崇 Performer 長澤奈央 単純労働者 めろん 横浜高等商業学校 テグザー バンジョーとカズーイの大冒険 ワリオランド かまいたちの夜 メタルスラッグ 方南町支線 2062 風信帖 リベルタ ジーザス・クライスト＝スーパースター 蜘蛛女のキス Heidi 純情きらり べいし 大和本草 日本国際連合協会 九六式艦上攻撃機 サマール 三原町 スナフキン スター・ツアーズ ほしのゆめ iu tcsh 小さな世界 パイレーツ・オブ・カリビアン/デッドマンズ・チェスト うたわれるもの 日本大学豊山高等学校 和歌山2区 隠秘学 411人 蒼天の拳 不当廉売 ティアゴ・モッタ Thiago 外国人登録法 ガーシア 山之口町 章名 東京都立江北高等学校 由る 148度 デ・ジ・キャラットにょ 海皇 Ivo McCarthy マンデースペシャル ヨーハン・ヴァイヤー 笛吹童子 チャタレイ夫人の恋人 象印マホービン レーガノミックス 27打点 ヨギ きんぎょ注意報! エドフ キユ チェリニョーラ たいさ トヨタ・センチュリー 解せる 6750 ポム ヘレン・ウィルス・ムーディ 20.2% 桐の花 親子ゲーム おれは男だ! Sexuality SAINT たけこ 安田火災 羨ましい シモーニ まほろまてぃっく GGENERATION 島香裕 氷の微笑 チャイニーズ・ゴースト・ストーリー 試し切り スヘキ NewTek 倉科遼 青の時代 麻美ゆま テルマ&ルイーズ Qb スペースコブラ 血と骨 小説推理 日本電産サンキョー ウォー・ゲーム cinq 2415 古代湖 キウィタス empire バーンズリーFC ドンカスター・ローヴァーズFC ハダースフィールド・タウンFC 静岡FC 428 〜封鎖された渋谷で〜 ディズニー・オン・アイス 関西大学第一高等学校 工業意匠 千葉県八街市 ダーゴル 衷心 柴田亜美 顕真 ガルル スターバト・マーテル 近代麻雀オリジナル ぎゅわんぶらあ自己中心派 スーパーヅガン ディーカラー オフィス野沢 弦楽四重奏曲第4番 ベニー・ゴルソン 53万人 ウルトラマンネオス 大恩寺 ローダーデイル 奥州後三年記 ちょうかく 罌粟 別冊文藝春秋 鉄コン筋クリート 松本大洋 アニマトリックス 武器よさらば 白泉社アテナ新人大賞 美容師法 Baptista 丸の内警察署 花関索伝 Summer Days 生島治郎 三原地域鉄道部 ディジット スカスカ Horner Sawfish コラード 共同の部隊 モンポウ 서울 Narrative Óscar Domínguez あいぼ どですかでん 月華の剣士 とんび 22打点 スーパー・デラックス ラザール・レヴィ Petri Evgeny 住信SBIネット銀行 Dmitri \"」、「 黒死館殺人事件 チャールズ・ヴィリアーズ・スタンフォード フランク・ブリッジ 585人 ジョン・ティンダル 赤十字救急法救急員 キノボリウオ Addicted コミックゲーメスト ウィントン・マルサリス ヘッズ・アップ エドワード・ウィッテン 富岡東 鹿児島3区 TIGER & BUNNY Oceania オーティズ Piranha ARCADIA ミステリチャンネル ライモンド・モンテクッコリ Ⅶ マイノーター グスコーブドリの伝記 WORKING!! 荒井チェリー ヴィヴィッド 自転車泥棒 ジョヴァンニ・ボッカッチョ 595人 クイアバ スコットランド中部 夏物語 ザーンダム 容疑者Xの献身 Elżbieta オリエント急行殺人事件 クサール ジヒドロキシ 岡山自動車道 35.3% 烈火の剣 ファイアーエムブレム 暗黒竜と光の剣 華の乱 1900年代前半 Brigadier スターオーシャンシリーズ クィーンズアベニューアルファ 151cm 本城村 アニー・レノックス ロード・オブ・ザ・リング/王の帰還 牡丹と薔薇 ヴェシュニッツ 菱マンガン鉱 修正動議 2215 磨りガラス 2231 ダイアン・レイン ツカツクリ ウェイン・ファリス 律書 入野義朗 Amore 本陣殺人事件 ソア橋 A・A・ミルン 結果の平等 45.3kg Mayflower 広島県立広島皆実高等学校 党紀 大分1区 判断力批判 reine 田川建三 加トちゃんケンちゃんごきげんテレビ 泥田 おもいッきりテレビ 澪つくし トップ・ハット おもいッきりDON! 飛揚 マルサの女 ルージュの伝言 十角形 クリスチャン・ダナー 中平正彦 さくらがんばる! ストリートファイターZERO2 濃い茶 ポケットファイター SNK VS. CAPCOM SVC CHAOS 925m ミッジ・ユーロ 恋の骨折り損 MODO 120g ゆらい 直5 プリンシプル ɔː ザ・ネプチューンズ SUITE ラストマン・スタンディング 滝川氏 富山県立富山高等学校 ハルモニウム Ives スピンオン 1184 青銅時代 HAN-KUN 弥栄神社 omnibus モーリス・ブランショ 1456 少年アシベ 愛のメモリー メロディーズ はぎ取り 電脳コイル 瞬間物質移送器 三段空母 宇宙戦艦ヤマト2199 星巡る方舟 時空戦士スピルバン 特救指令ソルブレイン 伊藤潤二 ブレア・ウィッチ・プロジェクト 27年後 カメルーン共和国 報ずる 隨郡 スター千一夜 金口 週刊ビッグコミックスピリッツ 月刊ビッグガンガン 愛媛県立八幡浜高等学校 学園天国 ブレイクアウェイ チメロサール レインマン 岡野剛 735m Dempsey シライ エルネスト・ブロッホ 北中央 マータラ 9899 一斉授業 誉田哲也 ロゲ トム・クリステンセン ハハコグサ 児山 CAPCOM FIGHTING Jam RSKイブニングニュース ゴジラ対メガロ ゴジラ×モスラ×メカゴジラ 東京SOS ホテル・ルワンダ 138kg Ausf SOLID VOX Purple software 真空包装 超星神グランセイザー シュレージシェ・オーバーラウジッツ コベントリー ゴジラvsモスラ 怪獣総進撃 赤眼 クモンガ かいぶつ ページレイアウト 流板 市川猿翁 怪物王女 ディレクトリサービス 中院通茂 エクストリーム・クートゥア Mundi アンディ・オロゴン 西戸崎駅 Crocodile \"|-|||| スペランツァFC大阪高槻 マメヅタラン チェインメイル Biotechnology 超時空要塞マクロス 愛・おぼえていますか ゃかいしゅぎ 若者のすべて 鍵のかかった部屋 テックウィン ジャーム ラマー郡 ネムキ 公安庁 エコエコアザラク 電人ザボーガー 情報セキュリティマネジメントシステム 千葉県千葉市花見川区 オオカミ少年 不確定性の音楽 千葉市美術館 アフターバーナーII O.S.T. スーパーホーネット ターミネーター2 CCI さすがの猿飛 Packard 1322 新豊橋 機甲軍 機甲軍団 ヴァルター・フォン・デア・フォーゲルヴァイデ 月刊COMICリュウ コミック怪 月刊少年シリウス 白人奴隷 86期 新陽 1759 thunbergii 日本陸上選手権 大阪府大阪市東成区 平成国際大学 5280 第31戦 内上 lucifer ダイポール のしお ソニックアドベンチャー2 メカゴジラの逆襲 ガンガンWING ラフテレーンクレーン 相原コージ お富さん ヒュウ 後十字靭帯 ブリストル・シティFC AFCボーンマス 風吹ジュン スティッチ! 山梨県立韮崎高等学校 メイショウボーラー ZZZ ザ・ニュース PRK ドンチャン 線形合同法 ナバール 時効警察 釣りバカ THA BLUE HERB rubber Mr.ビッグ グッジョブ! ウルティモ・ゲレーロ Montréal 青山学院初等部 1163 アルゼンチンのサッカー オフィスCHK 756人 2042年 59話 無敵鋼人ダイターン3 めぞん一刻 1787 アマランス 豊永利行 栖本 ロード・ウォリアー・ホーク 猟奇的な彼女 百想芸術大賞 土曜プライム 湘南白百合学園 虚無への供物 デカメロン 1348 ｌ ドラベース きいろい そくし Éric BLACK CAT 遥かなる星 213人 宮川藩 雨上がり決死隊のトーク番組アメトーーク! シルシルミシルさんデー 小公女 フェルディナント・シェルナー Grampus 3.2mm 5.5mm アンリ・ルコント シュツットガルト コンヤスポル 安田女子大学 いっこく オースーパージャンプ ヤングチャンピオン烈 キャララジオ 3604 ピューリッツアー 過ぎ去りし日々 けいゆう 大脱出 アンジェリークシリーズ 蒼穹のファフナー カリオペー 龍山村 Booty KUDO Adriana ネットマーブル ラ・カージュ・オ・フォール BANDAI フレッド・ゲティングズ 三丁目の夕日 ウィニペグ・ゴールドアイズ 石の花 超人機メタルダー エースアサルト toy 3B LAB.☆S せんねんき アルヴェーン the power 不毛地帯 レインズインターナショナル セレーネ マトリックス リローデッド 壊 厚真 Vedi ヘルパ 文化科学研究科 creating selected articles 魔界戦記ディスガイア GN Software スパルタンX 146cm SiM 青春パンク クロックタワー ジローラモ・フレスコバルディ アランダ フェルディナント・カール タイム・アフター・タイム グーニーズ Navarre 陽のあたる坂道 ISCF フォレスト・グリフィン キース・ジャーディン Nori 兵隊やくざ イイジマルーム ロコモコ 急性脳症 高慢と偏見 プライドと偏見 しゅんどう ビーストウォーズ 超生命体トランスフォーマー ビーストウォーズメタルス 小笠山 ブルーベルベット 焦茶 Y2K 岩手2区 鷹司房輔 ゲッタウェイ ガンスモーク 人間の條件 銃剣格闘 シャイターン 新井田豊 17kg ギュルハネ 地球最後の男 麗しのサブリナ 北北西に進路を取れ スーパーマン リターンズ 遊星からの物体X 122打点 ザ・フライ Christiane 無声軟口蓋摩擦音 フォ 狼男アメリカン オージ ゼロの焦点 私は貝になりたい 5511 7018 9008 Cork CSIRO 井上良雄 則満 66打点 少年キャプテン 静かなるドン 284人 王欣太 プロゴルファー猿 ビーツ Nathalie 73年ぶり 大石駅 films Charley Kita 満州文字 佐賀県小城市 NONFIX スポーツLIFE HERO\\'S ホンマでっか!?TV クイズ!ヘキサゴン 人志松本の○○な話 桑田佳祐の音楽寅さん チャギントン ディック・トレイシー 地球の静止する日 カールじいさんの空飛ぶ家 裏窓 3599 大和高田クラブ 上の前 シシウド 秋田1区 七月鏡一 たかしげ宙 アメリカ合衆国国防総省 聖剣伝説3 ガルガンチュワとパンタグリュエル ガルガンチュア FCトゥーン 雄川 森見登美彦 コミック乱ツインズ 劇団いろは 認諾 倭奴 マノ Bragança 共同運動 湘南国際村 モーレア島 ブラウン・ベス フレズノ・グリズリーズ 後元 福津 能なし フルリメイク ファミ通ブロス 655人 信貴山縁起絵巻 アテンションプリーズ フランケンシュタイン対地底怪獣 キングコング対ゴジラ フォントネー＝オー＝ローズ ジャック・タチ パンダコパンダ き城 大怪獣決闘 ガメラ対バルゴン 大怪獣空中戦 ガメラ対ギャオス 童友社 白い船 Hellenic Camilla ゴジラvsデストロイア 4コマnanoエース ニュータイプエース キャッシュコヒーレンシ 忍者じゃじゃ丸くん 76期生 リトル・ニモ ガイ・ピアース ウエスタンアームズ 週刊少年サンデー超 かってに改蔵 Windows Phone 8 39.9% ボディガード牙 福岡アジア文化賞 サヤン ASエルフェン狭山FC アニマル・ハウス 大阪教育大学附属高等学校天王寺校舎 大阪府立四條畷高等学校 水10 フラジャイル モハ485 ソロウ ロー対ウェイド事件 ダルタニャン物語 ナンキン 魏続 男女7人夏物語 パパはニュースキャスター 池袋ウエストゲートパーク 3115 60打点 パルマAC イスラエル・プレミアリーグ 戦争童話 グローディア オンランプ 門倉聡 過換気症候群 打吹 ギルモア・ガールズ Carla 首里駅 オジブウェー Lucie 直接照明 ムワイ・キバキ 688人 1527 青影 変身忍者嵐 よしながふみ 水色時代 こどものおもちゃ 機動戦士ガンダム 閃光のハサウェイ ガンダム Gのレコンギスタ コッチ アントレプレナーシップ チャイナート 備後落合 パネルクイズ アタック25 辻川 127kg 勝谷 八郎潟駅 コーエー25周年記念パック 454人 グリンゴ 36.9% 中広 シーラーチャー 209m Accord 筑波大学附属駒場中学校・高等学校 クリスチャン・サイエンス・モニター ざきけんりつ 49万人 風使い SBCニュースワイド トム・ソーヤーの冒険 市成 Gábor VANILLA ケイゾク ヴァルター・ツィンマーマン やくざいし かみまち 埼玉県立春日部高等学校 57打点 ナターシャ・ズベレワ スウィートホーム ランディ・クートゥア ホナウド・ジャカレイ ゲガール・ムサシ ラストサマー スクービー・ドゥー 海事補佐人 ダレスト 国連薬物犯罪事務所 UNODC インダイレクトマウント DZ アフタヌーンKC エピカ テレビ新潟放送網 トレインスポッティング 22.5cm バルバトス 創美社 アルバニア共和国 鶴間駅 MNF 第32回スーパーボウル マンディンゴ Keiko problems ドミートリイ Connell サムソンとデリラ 523人 McCall Franks 匂う ジャン・ド・ラ・フォンテーヌ Stuttgart セラノーバ サスペリアミステリー ダッジ・バイパー 白夜行 1247 ティヒ ボルツ トチカガミ レーモン・ベランジェ Lourdes タンデムローター 吉田秋生 櫻の園 由々しき ヒトラー 〜最期の12日間〜 Believer フロッガー コギ 栃木県茂木町 寺前駅 Q熱 はれときどきぶた トローラー PQ17船団 コミックZERO-SUM増刊WARD Revival 電子コンパス リオデジャネイロ連邦大学 工学研究院 キンブリ・テウトニ テウトネス Asahikawa 座頭市物語 ロッキー・ホラー・ショー pu アブドゥッラーフ 神風怪盗ジャンヌ モンタナ州立大学 \")/ 白鸚 飯塚昌明 リベルテ Glitter 1414 ニヴフ語 ボンドカー ドクトル・ジバゴ ボーン・アルティメイタム ボストン・リーガル DXアンテナ カムイ外伝 3250 164m 八月の濡れた砂 ビートニクス おにごっこ ソニーマガジンズ 000091073 ジヒドロキシフェニル オキソフラン -[( トリメチル ソクラテスの弁明 レイジング・ブル 三浦貴大 松平義行 976人 EARLY WING 山口県立徳山高等学校 NEEDLESS 41打点 3360 フウロソウ科 palustris 423人 ザ!情報ツウ 熱っぽく ニュースプラスワン 1267 オフィスジュニア ヨジテレビ! 5570 坂井村 Devil May Cry 千野志麻 奥浩哉 チェルシーホテル 残照 エミリー・ブロンテ フリードリヒ・ラッツェル ELUGA 福岡女学院 レベルファイブスタジアム ジャパンボウル 入佐 国立大学協会 ウナラスカ 山崎保代 アンカレジ ベイカーズフィールド YOSHI-HASHI ディーディー 下妻物語 高い城の男 ゴジラ×メカゴジラ 642m 石目 マロネフ TRY AGAIN 1319 ロシア国境軍 888人 9500人 183年 小鳥の巣 アーティストハウス・ピラミッド ファイアーエムブレム 紋章の謎 8061 東京都立松沢病院 Doubleday シェイクスピア・シアター 座・高円寺 グラップル 570円 特別公務員 陵虐 ミステリーズ! ソロモンの鍵 WASABI デイリーイン ATプロダクション Imai 環状ペプチド LIBERTY CLICK フレキシビリティ ざんまい bang 新巨人の星 ピッチングフォーム McCormick ズバリ言うわよ! エクスペンダブルズ2 アイソーポス コモド 130センチ 偏する 守田勘彌 リコ・ロドリゲス 798人 スーパーストリートファイターII その男、凶暴につき 無能の人 日本映画プロフェッショナル大賞 ウィークエンドネットワーク うきうき 演歌の花道 :\"\"、 下関要塞 39週 オーストリー 752人 largest 山田悠介 スーパーマリオランド 男一匹ガキ大将 ステイ・ウィズ・ミー 141km 虚栄の市 ジョージ・オズボーン 栄実 値踏み 須藤あきら 香川銀行 メガギラス チタノザウルス Yorktown 百年目 Reinhold 24センチ 鉄道模型専門店 シス・カンパニー ステロペー ダントルカストー 博通 2460 中原電車区 Natalia 南條範夫 米国慣用単位 バズ・オルドリン 42日 女王の教室 ベリーベリープロダクション 24倍 花の子ルンルン Maui 140センチ ダメージプラン ボッテガ・ヴェネタ まことしやかに メンカウラー王 岷山 伊地知季安 プラネテス 105位 三年式機関銃 侵略!イカ娘 家保 神奈川1区 ヒルデガルト・フォン・ビンゲン Radiant ミアズマ プラセボ効果 大阪桐蔭高等学校 ビアマネー・インク 株洲市 エンピツ 昭和歌謡大全集 日本私法学会 新條まゆ リインカーネーション 糖尿病性腎症 ボーイハント シャッコー 138度 噂の刑事トミーとマツ 草燃える 139度 地霊 満月の夕 ハーメルンの笛吹き男 755人 サニーサイドアップ オニクス 0930 オーケープロダクション ゴイアスEC スパニッシュ・ハーレム クイーンズボロ 123度 新城県 ダイヤルイン 無言歌 春の歌 ロールオン・ロールオフ 愛知県みよし市 prism たっきゅう ヤングユー 内全 Rez 613人 野ブタ。をプロデュース マニュアル・オブ・エラーズ・アーティスツ 141m マーガレット・スミス Ilex 13.3cm アオダモ ニュー・シネマ・パラダイス 新竹取物語 1000年女王 ビッグゴールド フィルムコミック 谷川流 愛のエプロン 能ヶ谷 第59戦 ボリス・パステルナーク Ave Maria 浄化槽法 リック・オケイセック 大正通り ダマーヴァンド ステファン・グラッペリ ブラック・ムーン ヘンリク・シェリング エンゲルベルト・ドルフース オフィスPSC はるしお ZQQ 943人 30.6% 52件 社会的法益 VGS Tia ブギーナイツ 恋におちたシェイクスピア まにまに サニングデール サランドラ Barney meg rock 医道審議会 Thoughts Torinese 点と線 ナポリターノ 64打点 49打点 上田文雄 最強ジャンプ ゼクセル ねじまき鳥クロニクル サンダークロス 687人 ポタワトミー QCサークル チルドレス ザッツ・エンターテインメント ザ・ギフト マツダアンフィニ ゴエモンインパクト ワールド・イズ・ノット・イナフ Zelda サムライスピリッツ 天下一剣客伝 サムライスピリッツ零 ドリアン・グレイの肖像 I LOVE mama 松本洋子 prop あらいぐまラスカル サーベラス・キャピタル・マネジメント コリンシアン 熱い空気 ポリオミノ 月岡温泉 \")(\" ロングヴィル 神戸小学校 白魔道士 コーナードラマ 日出女子学園 MELODIES 名古屋ドラゴンズ シヴィライゼーション エンド・オブ・ザ・ワールド ミステリーボニータ のこぎり屋根 ポリーシャ 西平彰 クリムゾン・キングの宮殿 魔夜峰央 Sangyo 日本食研 ローラ・インガルス・ワイルダー 第59話 屋根の上のヴァイオリン弾き スイート・ライフ LNA 信厚 エリック・ディッカーソン ハチワンダイバー 日本馬術連盟 区間快速急行 天王寺動物園 弦楽四重奏曲第14番 ノルウェイの森 ユナイテッド・フットボールリーグ もとぶ 三国演義 クハ201 4430 野ばら 銀と金 数学パズル 東京都杉並区永福 voyage 日陰者 狂った果実 A-Studio 第54戦 小林雄次 ワンダフルワールド 47打点 84打点 サハ語 2チェ 金沢泉丘 はてしない物語 216m 草生津 アイトーロス たにし 50打点 5490 5566 宇宙戦艦ヤマト 復活篇 Guardfish 伊崎俊二 Saratoga Dace 2084 土屋政直 神奈川師範学校 Flare ベーリング島 13.5cm IOM ダイレクトマウント Triad 全力投球!!妹尾和夫です サラリーマンNEO 醫王 石橋守 crimes passed proud acts Karim Motto japanese タイ王室 angelo 夢のまた夢 黒部進 悲しみよこんにちは HANA-BI 汲沢 愛の狩人 FAIRY TALE 5018 8708 ライプチヒ Bunker 特攻野郎Aチーム 花ざかり ラブ★コン 集英社スーパーダッシュ文庫 矢立肇 ワイルドアームズ Onion ネバーエンディング・ストーリー 甲下 壬生義士伝 サラマウア ハイキングウォーキング BADBOYS ねこぱんち 富士通レッドウェーブ ルスラン・カラエフ 600万ドルの男 刑事ナッシュ・ブリッジス スーパーストリートファイターIIX ジャガーノート >**</ 吸器 ADサンカエターノ スポルチ・レシフェ アル・ガラファ 鷹ノ巣山 ヴォルフガング・リーム ヨハン・ネポムク・フンメル THE IDOLM@STER 2 悪魔の辞典 日本のフォークシンガー 帝塚山短期大学 丸の内パークビルディング 男組 アプトプロ Ingeborg Petr プルーデンス あずまんが大王 魔の山 ギガンテス Brun 大井発電所 444人 江〜姫たちの戦国〜 ゴジラvsスペースゴジラ 297人 ロボコップ2 118km ふんし 五番町夕霧楼 ウル・ナンム 阿波池田駅 柳原良平 ユハ サテュリコン ブロードソード ベルプロダクション Psyche 富士駐屯地 イシュア ニケア ファン・フィクション 鈴木義尾 ASSP Stanislav 江崎プロダクション 豊玉北 RENT 奥居香 ムンテニア 5.8m トリプルエー GBR 二枚目半 McDonnell MGS4 三菱電機ダイヤモンドドルフィンズ 低酸素脳症 まんき ロドスのアポローニオス フォアゴー ティムタム がんぐ 尖閣列島 範馬刃牙 真田太平記 コロラドスプリングス・スカイソックス オクラホマシティ・レッドホークス こどものうた ジャンゴ 繋がれざる者 315m 平凡社ライブラリー 柳営補任 愛の渇き カッテ jours Gage まんがタウンオリジナル まんがタウン Hilary NHK松江放送局 ルイ・アガシー アリシューザ ビオラキサンチン ガス溶接 964人 3.6倍 地盤調査 つよきす Raleigh おこがましい ブロント 1556 オレム ムラタ 多胎児 アンデルセン物語 元国 1626 Balthasar 柳楽優弥 ゲームセンターあらし 阿部正外 アルビレオ 公信 鴛鴦歌合戦 十三人の刺客 トライガン 732人 WEB制作 Bis キンカーディン 日曜討論 草野正宗 ジョンズホプキンス大学 神奈川県立厚木高等学校 グラディウスIII 23時40分 勇者王ガオガイガー さかまち 宴のあと 3Q Reichenbach 男どアホウ甲子園 レオポルト・フォン・ランケ ガスストーブ 城米 全国こども電話相談室 さまつ EXILE魂 あくせく 猿渡哲也 悪魔の手毬唄 nitrite ヤマグルマ 藤原工業大学 1287 1988年アメリカ合衆国大統領選挙 燃える!お兄さん ティー・ワイ・オー 長崎県議会 Ursus 東鷹栖 SMEレコーズ ジヒドロ 森信雄 コミックブレイドMASAMUNE 831人 プリンセスGOLD マブラヴ 久貝 Glad リップルウッド・ホールディングス 第91話 きよしとこの夜 那加 casTY ラーシュ・ラーゲルベック ピアチェンツァ・カルチョ ASリヴォルノ・カルチョ サンクチュアリ・レコード Tis マシーン・ヘッド タワー・オブ・パワー ガオー HEY!HEY!HEY! MUSIC CHAMP 山中秀樹 大塚範一 芋たこなんきん ながらみ書房 114kg バス通り裏 八木治郎ショー 54打点 世界大学野球選手権大会 サン・クレメンテ 53回目 fellow ディパーテッド ウーラ アルピタン語 118位 月刊少年ギャグ王 ーア 84話 百獣王ゴライオン Gambit banner ヤング・スーパーマン Mummy エロイカより愛をこめて アドヴァンス アーマード・コアシリーズ 4600人 LAMA Bejean 桃太郎映像出版 シュヴァルツァハ ジャポニズム ギレンの野望 屋良有作 機動戦士ガンダム外伝 THE BLUE DESTINY 1年戦争 YCC Markham 埼玉8区 アジアインフラ投資銀行 親日反民族行為者 5006 単一民族国家 安貞桓 カカオトーク Brigitte 94打点 みんなのケイバ 4440 ナムル 茅部 Zephyr 碍 伊藤真澄 TULIP 大いなる幻影 高西 甲状腺炎 周期性四肢麻痺 プロプラノロール リーズン メタルギアソリッド4 範疇論 PIPA Syrup 16g D.C.S.S. ピエ ソニー・ミュージックパブリッシング ミカエル・ロドラ ファブリス・サントロ ジョナサン・エルリック ろうそ アーリントンハイツ 和歌山県御坊市 X-MEN2 マコーン ALBA 負の世界遺産 弐瓶勉 アカリ ロミュラン人 美男ですね 小渕健太郎 川村亮 前下 Colbert 或る夜の出来事 カッコーの巣の上で ジーン・アーサー ジェームズ・スチュワート アート・スチューデンツ・リーグ・オブ・ニューヨーク 53.3% wp 月刊フラワーズ ファイナルファンタジーIII 宝飾デザイナー ソフィー・マルソー ヤザ・パパ Mitch 蘄州 Paradise Kiss 有賀幸作 404m その時歴史が動いた 赤羽西 1239 愛知6区 64日間 スグレ 葛西臨海水族園 てんこもり 春と修羅 Marek ブリキの太鼓 池田長吉 ニコマコス バイオレンスジャック ディープ・インパクト To LOVEる -とらぶる- 夕方いちばん ゲマインシャフト 蒼き流星SPTレイズナー 立教新座高等学校 Anemone 横浜文化賞 1344 タナイス ビューティフルライフ ウォーキング・デッド 電撃「マ）王 イザーク・ジュール 842人 巻駅 中野小屋 チャンネル銀河 ぎこちない 天下三分の計 中信兄弟 ひぐらしのなく頃に解 ホベルト Expressions 脳動静脈奇形 ワイワイワイ JUICY OSU Derived ワーキング・タイトル・フィルムズ 腎臓癌 徳川綱誠 浅野綱長 ローズヒップ sachalinensis 3515 サイドウェイ レイノサ・ブロンコス 共同温泉 株式会社タカラ 3905 普通機 北欧メタル 釣りキチ三平 コガネ 角張り nacional ルネ・クレマン はなればなれに バーバ apr 土井美加 多功氏 IELTS 中央信託銀行 歯科医師法 ほう助 Sets ジーリ 小池真理子 ヴィボ・ヴァレンツィア デモンベイン ブラウニーブラウン 訴因変更 3076 pleasure achievement Talkin 古屋兎丸 上熊本線 1286 少女クラブ 73万人 米国小児科学会 AAP 乳幼児突然死症候群 ランパート 314m 35g 料理天国 マスターガンダム Kylie 769人 ヴィルヘルムス ニチブンコミックス ウインドサーフィン 41.6% マイケル・フィニスィー フロックス ナポ 神戸空港駅 隠し砦の三悪人 花いちもんめ リパン・アパッチ 青山学院大 フィッツアラン 1425 疑い深く Tex 龍三郎 gcd ザ マーガレット マイケル・エルガン 埼玉県道56号さいたまふじみ野所沢線 嫌われ松子の一生 クロノアイズ 31000 \"）」「 ボクらの時代 TXNニュースアイ ニュースアイ Monaghan なやみ フラットファイヴ うたまる 東京・国立 ベラミ ACW サハラ以南アフリカ ザビーネ・リシキ Scoop つかしん Ö ペタンク ギャング・オブ・ニューヨーク オークランド・アラメダ・カウンティ・コロシアム HOLDINGS 南州 知っとこ! 生島ヒロシのおはよう一直線 神の山 \"\\u2009\" アンナ・クリスティ アンソニー・パーキンス 大野湊神社 バーニーズ・ニューヨーク 諏訪道彦 tb ガイヤー 千代田区立麹町中学校 トーンキュンストラー 和歌山県立桐蔭高等学校 ジェシカおばさんの事件簿 他人の顔 29.9% ひとこ コンピュータサイエンス学部 プロポ セガラリー NATSUMEN 429人 Baum Swords 夏元雅人 57万人 カルボ 水上攻撃機 科学革命の構造 2323 バタフライ・エフェクト 忠精 天野明 レイオニックバースト 超人ロック アジア・フィルム・アワード SKYACTIV TECHNOLOGY 青池保子 三陽 南部の唄 月刊コミックドラゴン ドラゴンエイジ リムーバブルディスク Newsletter ヘンリー・キャヴェンディッシュ ツバサ・クロニクル 3303 中等学校令 茨城1区 しゅんぞう スクライド ビーロボカブタック 上高井 ドラゴンボールZ 神と神 ドラゴンボールZ 復活の「F」 ビンガムトン・メッツ 430万人 平和的核爆発 VGM イロカノ語 EF210 ドグラ・マグラ ファラガット級駆逐艦 真夜中まで Terme タコマ・レイニアーズ 絞め殺す ō ファイナルファンタジーX-2 ニコライ・マルコ スタージョン級原子力潜水艦 ほたて 915人 アルベルト・ラットゥアーダ ポートピア連続殺人事件 ウィンタース かしわ台駅 流通経済大学付属柏 ホルムズ島 デスモドロミック だんしょう 大美 625人 おはようクジラ とどのつまり ヤマグチ リスト・フェレンツ音楽大学 出来損ない 高翼機 Microsoft Office Specialist 高橋一 B作 NHKニュースワイド 乱杭 32年後 ロジャー・クレイグ タイトロープ クパ ヴルバス 削れる 理解不能 日本テレビ音楽祭 特命係長 只野仁 日本文理 839人 アパートの鍵貸します Aegis 1447 サブマリン707 大阪市立自然史博物館 ヴァルキリープロファイル 大阪府大阪市鶴見区 水夏希 東北師範大学 トランスヒューマニズム 魔法つかい ウェルかめ アブハズ語 referred AAL イル・ハン国 パルワーン 最高裁判所調査官 メギ オーストラリア連邦科学産業研究機構 スターオーシャン セカンドストーリー イングリッシュ・ペイシェント トム・ストッパード インタビュー・ウィズ・ヴァンパイア 風雲ライオン丸 志村正彦 6400人 UEFA Champions League コドモノクニ チャーリーとチョコレート工場 パイレーツ・オブ・カリビアン/呪われた海賊たち 天花 反義語 サンデン 汐文社 押し付け憲法論 山ねずみロッキーチャック アンドレア・フラバーチコバ ルーシー・ハラデツカ ブルーノ・ソアレス ジャック・ブレイズ チャクリー 許されざる者 蔿賈 7550 チーグラー・ナッタ コミック乱 BugBug リトルバスターズ! 太王四神記 テイルズ オブ イノセンス テイルズ オブ デスティニー2 大学設置・学校法人審議会 玉代 まじかる☆タルるートくん 怪盗セイント・テール 276m 大理ペー族自治州 ヒュー・ロフティング 塩素酸ナトリウム OSCAR GODZILLA ゴジラ キングコングの逆襲 tf BLAZBLUE アイシア シュトラウビング 福井商 ウィリアム・アイリッシュ 暗くなるまで待って 自動車泥棒 ビピリジン Mateo 1664 1077 フィリップ・ロス シェルブールの雨傘 緑黄色 2047 タイガー&ドラゴン 久留美 3700人 獣の数字 栄光学園 学校法人北海学園 無料コンテンツ カスパー・ダーヴィト・フリードリヒ CDレガネス ピエール・ド・ロンサール 少年の魔法の角笛 2625 強行規範 一の宮町 シン・レッド・ライン パンドラの匣 Bxc ゴジラの逆襲 臨時目的放送 987人 ボヴァリー夫人 Cupid 襟裳 2613 惜しむらくは 1483 ル・シッド プラス株式会社 となりのサインフェルド フランツ・シュレーカー ロンゲール Potsdam 653人 269人 アティ 八下 ガラテヤの信徒への手紙 ブルー・シャトウ アンナ・アフマートヴァ レナート・ババル 大丸ピーコック 白い牙 同人舎プロダクション RME 咲-Saki- 内山夕実 週刊ぼくらマガジン パシフィック・リム まじっく快斗 YAIBA ルパン三世VS名探偵コナン ルパン三世VS名探偵コナン THE MOVIE 新幹線大爆破 週刊少年サンデーS Pál リンツ・ブルックナー管弦楽団 おもひでぽろぽろ Karin 神との対話 除湿機 ガンヘッド フロントミッションシリーズ 南小泉 釜山アイパーク Kitten パニオニオス ばんこくはくらんかい Jiří 734人 スコット・スピード 月刊アニメージュ 『\\'』 天使の歌声 アントニオ・ロペス 鈴木隆 掉尾を飾る item イアン・リビングストン 鷹司松平家 大分三好 Shields 759人 スカイロケット 定襄郡 高速えんがる号 Parallels イル・ド・フランス地域圏 近代麻雀ゴールド ブラックホーク・ダウン TEI 23℃ 耐蝕 書泉 TAXi 相互銀行法 黒鉄ヒロシ 569人 日知屋 ダニエル・シュミット リリー・マルレーン 人文書院 Haro 美篶 4900人 山本浩 アルル・ナジャ 魔導物語1-2-3 暴力教室 法科学 葦プロ としごろ おはようスタジオ 沢田ユキオ デラックスボンボン FIFAコンフェデレーションズカップ2005 ラメセス ゲッサン カリオストロ伯爵夫人 ラッペーンランタ ネルケ 3057 スペイン北東部 ヒノヒカリ 別冊少年チャンピオン メイプルタウン物語 新メイプルタウン物語 出張公演 体育学研究科 後作 じん肺 ブラザー劇場 ガンスリンガー ポケットモンスター 赤・緑 ヘキサシアニド ニップ トムフール ダニー・ハボック マチカネフクキタル Gaetano プリマス・アーガイルFC ホームワーク ヤングアニマルあいらんど 1738 メデリン Sanity Impressions \"）、\" 航空管制運航情報官 中山の補題 325km 鬼警部アイアンサイド ガールズルール アツミサオリ 手小 3320 3370 ウンポコ Tamara 阿武川ダム 音声資料 ゴジラ・エビラ・モスラ 南海の大決闘 愛の戦士レインボーマン リチャード・ドナー 舞-HiME 33.3% 大藪春彦賞 角川マーケティング 花組芝居 ゴクウブラック さむか マジレンジャー 46件 Selfish 東武宇都宮百貨店 ワークフォース ザ少年倶楽部 坂手 WBU 8031 機動戦士ガンダム サンダーボルト neo sports 必殺仕置人 神奈川県立希望ヶ丘高等学校 95日 ストラサーン Alcock フライト・プラン スィースターン・バルーチェスターン 銘酒屋 DRAGONBALL ツフル ドラゴンボール ゼノバース プーアル みどりのマキバオー ∀\" バンクーバー・カナックス エイリアンVSプレデター 4時間目 2512 2507 バームクーヘン FM北海道 由利本荘 菊池一仁 コータローまかりとおる! テレビくん 866人 ord マリア・アマーリエ 箒虫 くすくす XVII ダミアン・サンドウ カビリア 大人は判ってくれない ジーニョ Neurology コーム BDS 戸高秀樹 Daemon ククルカン ヘアドライヤー 紀伊国屋演劇賞 870人 みどりの未来 イオンモール幕張新都心 PEACH-PIT ブランスフィールド ゆーりんプロ 519人 narrative エード responsible 機動戦士ガンダムF90 1379 オールド・ボーイ 和歌山1区 物理数学 鱒沢 230k dihydroxy 花の生涯 モーターボート記念競走 魍魎戦記MADARA Handsome マイアミ・オレンジボウル \\'+ 外国語学研究科 CROSS ROAD wax コンスタンティン・ブランクーシ Morel 108打点 ちょうば パラサイト・イヴ Bayou シェフィールド・ユナイテッド ごぶごぶ PINKY カレン・ロバート B-DASH ニール・サイモン FC岐阜SECOND （、, 広島高等裁判所 dz ジョ ACアジャクシオ 小型自動車競走法 読切り ヴィルヌーブ 帰休兵 Adele とうへい immediately anonymous citizens appear interview Hillary allowed followed didn raised objective provide importance extremely particularly raise substitution offer volunteers represented reports protect respect attempt carried result marked conducted mostly prior ウィリアム・シャーリー 宇木 ウェスタン・シドニー・ワンダラーズ 機動戦士ガンダム00 -A wakening of the Trailblazer- マークスグループ 月刊コミック@バンチ アニメ コンテンツ エキスポ 1441 シクラーゼ 読売新聞社杯全日本選抜競輪 本河内 Intrepid ラグナ・ビーチ バンビプロモーション マルセロ・メロ 英雄伝説 閃の軌跡 英雄伝説シリーズ トム・ジョンストン 47.9% パウル・ヴィルト 栃木県日光 2551 クレメント・アトリー ぼくらの七日間戦争 イングロリアス・バスターズ Parasol 定西市 軍国歌謡 ディシディア ファイナルファンタジー Darts アルスーア セイバーマリオネットJ アルバリーニョ 魔術士オーフェン LEGACY 長浦駅 C76 コミックマーケット76 マッカサン駅 チャチューンサオ 生徒諸君! ターキッシュ・バスケットボール・リーグ MERMAID 昌寧 ブラオエン・シュベルター 出雲全日本大学選抜駅伝競走 10.5km 1946年生まれ 558人 DATV 2445 オーランド・シティSC イスタンブール・パーク リッジウッド 春のめざめ ロンドン市警察 イングリッシュ・ホルン ジェフ・ブリッジス グッド・ワイフ ラリン テファン はんけい 中国国家航天局 熊本ヴォルターズ ゴンゾー 内部障害 ラ・マスカラ 2007年製 瑞々しく Marchetti 八木沼悟志 0805 0825 ラッツェブルク Malus 野杁正明 月刊ガンガンJOKER 瓦房店市 まんがホーム 見返 GALAXY Tab WWN ビストリツァ Donja 撫州市 桐一葉 カール・アーバン operational アウトサイダーアート プロフェッショナル・ダーツ・コーポレイション ちゃおちゃお アイアンマン3 アイアンマン2 ウォーマシン 7250 ベレス・サルスフィエルド ヘラクレス・アルメロ バレンシュテット Sloane 819人 マンガのくに ジャクソン・ジェネラルズ エル・パソ・チワワズ チキチキマシン猛レース ミシシッピ・ブレーブス マイナスワン FCアムカル・ペルミ シビラ せきもん マル・マル・モリ・モリ! 金色のガッシュベル!! スクラントン・ウィルクスバリ・レイルライダース 経遠 テレビドラマデータベース 佐々駅 ガルフ・コーストリーグ・ヤンキース スクラントン・ウィルクスバリ・ヤンキース REINCARNATION 日本翻訳大賞 北中部州 原子力発電環境整備機構 潮見台 エフエム徳島 科学技術社会論 国立国際医療センター とらドラ! 大菩薩嶺 バーガンディ フレゼリクスハウン Lister HMT ガブリエル・ゴンザーガ 成州 スロヴァン・リベレツ チキータ provides essence 風街ろまん 俺の嫁 シルエット・ロマンス コマルカ・デ・ベリン CLIFF EDGE アカネマニアックス 紀元前515年 コマルカ・デ・サンティアーゴ キャッシュマン カインド・オブ・マジック 新潟県警察部 引っ越さ 腹上死 クリミア州 ポーキュパイン コマルカ・デ・ポンテベドラ コマルカ・ド・リベイロ 杉崎智介 メンフィス・レッドバーズ 月刊コミックブレイドアヴァルス ノーサンプトン・タウンFC アドルフォ・スアレス 後宮からの誘拐 ジャンニ・スキッキ 月刊ヤングキング 月刊ヤングキングアワーズGH 561人 スターレイプロダクション Sikorsky ドナルド・フェイゲン 126kg ブレディスローカップ 電撃マオウ Aspects true tears クリシューマEC 漂流教室 GDR ジャンプ改 モンスターエンジン チベット死者の書 langue ドクター・ドリトル ハマウツボ 215km 白い恐怖 ガス燈 さきどり ベルウッドレコード SKET DANCE ホーエンシュタイン 環境経営 2836 アリアンロッド いつかきっと カザフスタン・プレミアリーグ トマス・ピンチョン J-One Records 永峰 AiRI マンソリー ボエーム 永遠の0 世界選手権自転車競技大会ロードレース 陸軍重砲兵学校 外傷性脳損傷 BCC 別册文藝春秋 シチリア海峡 ビーンズエース ボグダン・フメリニツキー 太平川 必殺仕事人2009 玉渓市 7才 シアター・イメージフォーラム じっぷ 607人 アンゲリク・ケルバー 43打点 機動戦士ガンダム ギレンの野望 オフィスもり apart イ・サン Achilles 白河ことり Samtgemeinde ASSE モーニング・ツー プライムエージェンシー トッド・ブラウニング 吾田 ホリア・テカウ 信陽市 川村学園女子大学 FCメタリスト・ハルキウ 岡山区 宮河家の空腹 トンカワ 劇場版マクロスF 2521 ベルフラワー Hysteric Blue マウリティウス 最後の誘惑 びゃくや ワンズファクトリー ナムコミュージアム 平越 ストロベリーナイト 立教女学院短期大学 伊集院町郡 まんがタイムジャンボ スィイルト 桃華月憚 イヴェット スマイルカンパニー 「青春ガールズ」公演 「目撃者」公演 福岡県立明善高等学校 1552 ネイサン・マーコート CWFC フュルステンフェルトブルック コヴァスナ 北会津郡 WORLD WIDE マキラ Gabriele 937人 ティラ 札幌山の手 A-Sketch コミ語 スクールデイズ トゥルー・ロマンス アンナとシャム王 ハリー・ポッターと炎のゴブレット ハリー・ポッターと不死鳥の騎士団 タス オフェリア FTB 世界スカウトジャンボリー 生成り まよチキ! キャンドール SAFE 23打点 97打点 55打点 61.1% ペイト 乱鴉の饗宴 氏原ワタル 1512 カマリ NORIYUKI ピエロ・デラ・フランチェスカ Dr.コトー診療所 GANTZ Eisenach 3751 624人 2181 876人 シュライツ 針刺し 土曜スタジオパーク 果川 RO-KYU-BU! アクセル・ワールド 650キロ 済州ユナイテッドFC 6950 5160 フェロシトクロム acetyl 芸術学研究科 Владимир マクロス・ザ・ライド 宣毅 PIKA★★NCHI DOUBLE トランスフォーマー/リベンジ 日立グローバルストレージテクノロジーズ アルティボニット県 幻影の覇者 ゾロアーク 爆誕 変形!ヘンケイ!トランスフォーマー 33時間 喰霊 ぎょくざ ポトマック・ナショナルズ シラキュース・チーフス 義貴 山梨県立日川高等学校 provinces 碁ワールド 機動戦士ガンダム めぐりあい宇宙 Pilar Uprising さわこ nikkei SPICA ウェーブマスター BESIDE フィールーズ・シャー・トゥグルク men\\'s egg アールグルッペ Îles ドーン・オブ・ザ・デッド タマラ・スミルノワ Voyages Krzysztof Tsutomu 離婚弁護士 Phyllis 846人 リリカルなのは 魔法少女リリカルなのはA\\'s トム・トムスク ふたりのロッテ アベリストウィス メロード ラウンド・ミッドナイト 1971年製 フライングハイ 山名教之 茘湾 03863 メンシコフ 俺の妹がこんなに可愛いわけがない ブクログ ムー一族 レフウィヤSC 新券 ギルバート・エリオット マルグレーテ1世 グリゴリー・ネウイミン ベーケーシュチャバ 51.5% 村田重治 東海テレビ制作昼の帯ドラマ 76センチ Stepping 富士教導団 アンハルト＝ベルンブルク 4020 音楽座ミュージカル 中村弘二 マリーンカップ 飯田浩司 ソウル支局長 桂塩鯛 シグマ・セブンe 石原夏織 クリス・パイン セッカ オロト酸 37周目 804人 三木プロダクション デス・プルーフ in グラインドハウス 新潟市民芸術文化会館 124度 マックミック アウン・サン サン＝ニコラ デラックスマーガレット オフィス薫 ピースプロモーション ラ・マルシュ カヤー オキソグルタル スカイラウンジ レモンピープル あまとりあ社 ソフィテル フォックス・テリア Uganda 34.7% 844人 ドラゴン・タトゥーの女 ベンジャミン・バトン 数奇な人生 VALLEY Aries フェルデンツ philosophie 宮崎シャイニングサンズ つくばロボッツ ドント・クライ ひきかえ レギーナ ゴジラvsキングギドラ Marburg Sanger McLaughlin メルヘヴン 715m 258m レハブアム エンスヘーデ いくつになっても 夢十夜 Zé ふたりはプリキュア Max Heart シベル・ケキリ エイダン・ギレン 鋼鉄都市 在英国日本国大使館 レンブラント・ファン・レイン アルベルティーナ Exodus ディンカ ザクマシンガン れっど ガリレオシリーズ ヘルザ Croiseur 775m チームスカイ シチリア方言 柳田ヒロ クナル Fabrice ターコイズステークス チチカステナンゴ ディー・ツァイト デメトリアス・ジョンソン ジョセフ・ベナビデス 捜索機 東京消防庁航空隊 リーガMX ホモソーシャル 素晴らしき日々 5024 レイフ・セーゲルスタム Proteus アモルフィス エンシフェルム ノーサー iCarly Dr.HOUSE ナビー 上安 オウカ 内江市 1285 はじまりのうた サン・イルデフォンソ 143度 クアポー ジャラシュ 昌元 61日間 ラディスラフ ヴィズミック 若江城の戦い まんがぱれっとLite 村浜武洋 榊一郎 Reine リュエイユ＝マルメゾン 静岡市長 静岡1区 アベンジャーズ/エイジ・オブ・ウルトロン キャプテン・アメリカ/ザ・ファースト・アベンジャー 21ジャンプストリート 2336 ウォッチン!みやぎ 419人 サトゥルン・ラメンスコーエ 日本言語学会 まんが4コマぱれっと Americas BHP 涼宮ハルヒの消失 エファテ クローバーフィールド/HAKAISHA イコ マンガ・エロティクス・エフ 東京ドームシティホール さっかー パンテッレリーア wonderful 急性ストレス障害 ビーディ・アイ 立花忠茂 アル・ワスル triangle \"|-|||||| ゾンバ Qg マリヤンポレ Neustadt ネフチ・バクー 855人 プロ野球ワールドスタジアム コロコロイチバン! ,…, 東チモール ポプラ社小説大賞 FANTASIA Malo 199位 大宮エリー セミダブル 38回目 てつこ crossover HJKヘルシンキ 浜松市西区 グウィネット・ブレーブス 132km 佐賀県警察部 小富士 完全なる飼育 1995年製 ヤッコ・エルティン マルティン・ダム ジェール・モション・ショプロン ヨーロッパ卓球選手権 good!アフタヌーン 葵せきな 生徒会の一存 ドラゴンランス Sorcerer CAMPAIGN シューイチ 7300人 ハッチポッチステーション 631人 35.8% m + Phipps 685人 927人 1975年製 リッパー・コリンズ ファイナルファンタジーXIII FFX-2 月刊ヒーローズ そぼ ゃはんばい しゅうり 愛三工業 アル・マドリル oxoglutarate ピエシュチャニ アリーチェ ゴング格闘技 テルマエ・ロマエ ロシア民話 打ちっぱなし Cline Zack 879人 3760 コリドー サラ・エラニ 473人 ニューギニアヤリガタリクウズムシ グリーンアノール ノヤギ きんちょう 智武 従動 キャロライン・シューメーカー 中原俊 捜索者 3561 CABOFE オルランド・サリド ローマン・マルチネス オルギン 霍州 緒形健一 四角錐数 822人 Guise オルデス 畿内丸 ポーパス級潜水艦 五本木 経営者団体 ばとる サルマン・ラシュディ Leopoldo サンティアゴ・デ・カリ ソヴール HARU GONG ポケットモンスター ブラック・ホワイト ゾフィー・ホテク プラチナム・パスポート ガンダムW 滋賀銀行 「恋愛禁止条例」公演 金沢大学附属高等学校 電エース Fernanda 彦根高等商業学校 古座 アナベル・メディナ・ガリゲス アナスタシア・パブリュチェンコワ 東京成徳大学 文宣 バーチ・キシュクン レイト・ショー・ウィズ・デイヴィッド・レターマン 0846 レイトン教授シリーズ トゥールガウ州 ホップマンカップ 139km クシャナ 徳島文理 COZY バイオハザード5 co-op ラプチャー ボリス・ネムツォフ 戦場のヴァルキュリア 虎の牙 Portsmouth 長恨歌 ロレートの聖母 イブキトラノオ ネーション・オブ・ドミネーション Batu ユージュアル・サスペクツ Meadows ヒポクラテスの誓い ミセス・ダウト アンドリアノフ ペガソ 祈る人 STANCE PUNKS もりちよこ 財務総合政策研究所 オルジュ dpkg ダックスープ メネゼス ファイズ キングダム ハーツ バース バイ スリープ sport Liège AG2R・ラ・モンディアル 崔龍洙 アルフォンソ・キュアロン 特別自治 ヴラディスラフ 紅い花 Wi-Fiルータ クロッシィ ミッドアトランティック・タッグ WET 北森鴻 上川井 バーンダーラー レンズブルク 1.FCウニオン・ベルリン offered suffer スーパー・ハイ・マテリアルCD ABDeh HGe フルヴィア こうらく 小高光太郎 伝説の勇者の伝説 epimerase チネ Modena performed ニンジニアスタジアム ニューライフ GOEMON ストット 15日目 フレドリック・ブラウン 5004 梁山市 エスコバー Oakley 795m 超人ハルク ヘーグ Judd IGU ハルギタ 中国石油天然気集団公司 エストフォル 615人 シーエン 戦え!超ロボット生命体トランスフォーマー2010 御所浦 水原希子 ゴンチャロフ 炉辺 国府川 ジョルジェット コッキーポップ きよく ツトン 天宮1号 カレハガ 根方 イングリッシュ・マスティフ dimethyl KBS演技大賞 ラインフェルス 134位 So What? 李相日 盾津 Shiga 下河辺牧場 568人 史村翔 carboxylate ウイニングポスト SRC13 応用倫理学 パサマクォディ 影なき男 Marron manzo Pollack BBC Three サラソタ おしま づしょうがっこう 0816 オ・カルバジーニョ ナハネ ネポムク トレチェント Mil ベロイト・スナッパーズ ニューブリテン・ロックキャッツ アーカンソー・トラベラーズ ソルトレイク・ビーズ アクロン・エアロズ ルイビル・バッツ 世界平和研究所 1754 トロルヘッタン さけん Elisa モンティ・パイソン・アンド・ホーリー・グレイル マリア・ブエノ 25階建て fī 300秒 hg アンドロマック アリートゥス アークル ボーン・アイデンティティー ポール・グリーングラス ボーン・レガシー ザ・リバース ピンクハウス あかべぇそふとつぅ Nxf スタイルキューブ ハレ晴レユカイ 苗場山 2242 Vladimír モーニントン アリュール 肋間神経痛 恋の手ほどき rpg 36年後 ラ・メール Anatoly 51.7% 岐阜テレビ 2214 典礼言語 パリの恋人 フォルソム テレオモルフ 別宮貞雄 古川学園 Danilo ambiguous ジュエルズ フィールド・オブ・ドリームス 1993年製 butyl JARTIC きよせ )+( アルビレオ新潟 長靴をはいた猫 従軸 サッカーマガジン エスパーダ 睦沢 アメリカ橋 復讐するは我にあり ジョン・グリシャム 富田浜 バリントン 九二式重装甲車 磁気コンパス JTBエンタテインメント フリー聖餐 塩、コショウ ウルトラマン列伝 平和出版 67打点 74打点 Tomasz HOOKnSHOOT 黒執事 34打点 なかよしラブリー PENGIN のぼうの城 新寺町 ドラマチック・サンデー ジムカデ 0068 城内町 Holm セナール エルブフ 0133 0201 0122 116打点 天羅WAR アンダーセン空軍基地 歯科矯正学 はいすくーる まんがタイムきららフォワード 446人 Dubois ヘルマン・ミュラー ダンガンロンパ チャンバワンバ リヤコンビネーションレンズ 貴志祐介 マリンケ 寒極 Ust ドラゴンマスター カベルネ ポカブ シューティー 64話 Reinhard ブレスレス 服部平次 ふぞろいの林檎たち オラはにんきもの Tec 愛知県知事選挙 オフロードタイプ Gheorghe FlexComixネクスト 雨に唄えば NIAGARA TRIANGLE Beryl TPマゼンベ 谷本貴義 シックス・フィート・アンダー Castelnuovo \")-( deaminating 城北町 Amar ヴェロニカ・マーズ マクスウェルの悪魔 536人 ウリセス・ソリス 美嚢 フリスコ・ラフライダーズ スリーライズ tearbridge オマハ・ストームチェイサーズ 78打点 かみあまくさ Syria カマール UNDOF スポーツフェスティバル レッキー メルボルン・ビクトリー Chameleon おおいなる キャプテン・アメリカ/ウィンター・ソルジャー サイパFC トルベツコイ 724人 月刊ジェイ・ノベル イェスパー LGBTQ マイノリティ・リポート 東京シティ競馬中継 中村順司 月刊アクション COMIC SEED! 月刊コミックジーン 女系家族 さくらまち ティーアイネット ホスホ 上方演芸ホール 黒須克彦 Vampires オキソブタン 新ソード・ワールドRPGリプレイ 利益相反行為 まんが4コマKINGSぱれっと 英国式庭園 十二湖 非婚 ゅいち どしり でないと 船山基紀 Vol.18 徳安 うたかたの恋 生活ほっとモーニング 超次元ゲイム ネプテューヌ リーハイバレー・アイアンピッグス 松ヶ崎村 NHE ワイルドフラワー ディクレア ブレイキング・バッド ラドゥ ウォーターフロントパーク フォーティーン 大手前女子大学 すみよ 辻村深月 アトレバテス せっぷん ザ・リバティ ヤコブス・デ・ウォラギネ ウィル・ライト 文芸春秋社 ポートランド・シードッグス ありがとッ! 林与一 花咲くいろは どですか! nii 火曜曲! 相続税法 不都合な真実 チェックシート 2820 レ・シルフィード ボウイ・ベイソックス ハイス 523m ロシェ アグリー・ベティ 生命の花 ポール・W・S・アンダーソン コレスタン アヴィニョン演劇祭 全日本学生柔道連盟 ヴァーレ ディスティネーション サクラメリーメン 株式会社ファミリーマート ターミネーター3 ダーラ decarboxylating 裸麦 FM FUJI Manny 32kg 南大通り アホルン 0845 3221 Sonderburg ベルンブルク サンジェイ・ダット ハクション大魔王 Marian オフシアター 小川紳介 バルセロス FCパソス・デ・フェレイラ ドゥンボヴィツァ 木曜ミステリー Jang 巴波川 riya あらまち Cross Days マグラ BLEND 緊塞 VOYAGER 岡山地方裁判所 サマリー 石川直樹 amount eds 債務不存在確認訴訟 鉄西区 ビングリー Aile クベタ・ペシュケ ロベルタ・ビンチ ミッドランド・ロックハウンズ 東のエデン 福岡空港駅 わくわく動物ランド マウロ・ボロニーニ シクロペンタン しらみつぶし ダーメ ベラー 如シ メアリー・テューダー 十二角形 エンゲルン Georgios 元城 ブリスベン・ロアーFC Wall Street グランダンス県 鍋釜 ポーの一族 木曜ミステリーシアター プラチナイト アンドレアス・セッピ ニック・キリオス サム・クエリー Mr.サンデー 98度 ブレイス タイ王国空軍 ロトルー SFが読みたい! 神奈川県横浜市南区 作業船 Oha!4 芳賀紀行 ベルデン 0863 クルーム TMF トリブバン impacts 890万 夕焼 Fallon df 電気工事業 マリアージュ アゲシポリス ヘルミオネ ヘイゼルウッド 稲川素子事務所 落窪物語 日本ガス協会 (、、) 中抜き 3660 ウィリアム・ヘンリー・ヴァンダービルト 蒸気ブレーキ Eleganceイブ Orbis 幸造 マックG Attila Irina BIG WAVE スーペル BFW ウィンクル コナミ工業 生化学会 ネロリ 765m マクラッケン 野生のエルザ フリップアップ 995人 京都府選挙区 ヒラメキ 磯島 けんめい イリンガ トヨタ自動車アンテロープス ティターノ ポポロクロイス物語 ポサーダス チャコ州 マキシモ 契約の自由 2161 SDウエスカ カルムイク語 ディアマン ブラッチャーノ Matchbox Makihara かわいそうなぞう 前田斉広 ホタルイ キング・オブ・ザ・ヒル 平塚球場 ビスホスホグリセリン 菊地創 聖隷クリストファー大学 恋と選挙とチョコレート AXL ネピア 丁亥 ウメ星デンカ 米原秀幸 ホセ・ロペス Miroslav カア Mallory クルシェネク 光増 人事労務管理 mutase あかね台 ビジネスソフトウェア ラリ 黄金銃を持つ男 Kristin Cummings Few 高の原 FRA サン出版 わりに フルーツバスケット Travelling Meteor 中美 テキサス・チェーンソー Lansing ララビー 永安県 ウォールストリートジャーナル ペケ×ポン れおな GeoEye ガーゴイルズ ATARU GiRL ねおん 水垣偉弥 19.4cm テルナーナ・カルチョ FCルツェルン EXCEL ベン・ヘンダーソン ペティス サイアン モデナFC Towns ガジェットリンク 蓮堤区 ドナルド・セラーニ ギルバート・メレンデス ハファエル・ドス・アンジョス 皆目 ダン・ウェルドン REPLAY ヘナン・バラオン Armas グランドコンボイ 北海道医療大学 隴南 redballoon ONE PIECE FILM STRONG WORLD オフ・ザ・ウォール アーサー・ベイカー 紳士同盟 宮川村 Hog 生見 池森 海軍教育本部 アルフレッド・ベスター リトル・ミス・サンシャイン タラバ 任意定数 0832 ∈\" Tsuchiya 633人 693人 アレクサンデル・ポベトキン 風葉和歌集 お引越し 新藤兼人賞 ライオン奥様劇場 文安県 0812 ウォーク・ザ・ライン/君につづく道 火曜スーパーワイド Ladislav ケルソー タンタンの冒険 東建 Tadeusz C-ZONE せいへい \"′(\" 九月虐殺 20.5m ネイチャーゲーム ヌーベル 701人 ヒックスヴィル クラウド・ナイン ヤナ Devotion レザボア・ドッグス ジェームズ・ヒルトン 失われた地平線 セインズベリー Rousseau ダンピエール 大塚隆史 とれいん COMET 威し 972人 ジョエル・ヘイスティングス・メトカーフ 日本比較文学会 コミック アース・スター Alexandr 徳留 大事MANブラザーズバンド 僕の宝物 Blackstar GFA アルシャードセイヴァー ヤシマ ルパ 中華人民共和国中央軍事委員会 Boomerang 丸亀競艇場 ポトカルパチェ 2375 Mathews 鮫島具重 スソ Mistake マリー・ドルレアン グリセロ Fagus 2228 クリアビジョン スノーバード プエルトリコ戦 醍醐駅 川部駅 窪川駅 茂木駅 バグウェル Janusz 8006 8040 2272 BROWN ひうらさとる 沖縄こどもの国 MAMORU MIYANO PAW グラン・ブルー エロル ジョン・ヘダー レイト・ナイト・ウィズ・コナン・オブライエン エドワード・ズウィック vasútvonal スクリプス まんがライフWIN Joaquín プレショウ MŠKジリナ リーハイバレー étude 2370 楡林市 寝ろ カラスヤサトシ ファンタスター 嘲笑い はんで 黒いオルフェ 立ち上り トータル・イクリプス パスラボ山形ワイヴァンズ トロワAC がんばれ!ベアーズ スチュアート・リトル モグール Physique DAISUKI Avro viridis 743人 ドレミファ・どーなっつ! Φなる・あぷろーち アンダンティーノ MER Hamid ハラフ シュルギ 光の雨 1266 1346 FCガンジュ岩手 イニャツィオ LOVE LIFE 本高 ナウ・アンド・ゼン 1139 タイ王国代表 写真時代 SDガンダムフォース 新しい夜明け いい旅・夢気分 ヒダルゴ ドッグヴィル スチャラカ社員 パーネル・ウィテカー マルハニチロ食品 キルメスAC 日立ハイテクノロジーズ アランサス ニュープリマス 電子ランド杯王中王戦 十堰市 イキイキ ホタルノヒカリ オチゴ DOPING PANDA ,[ 荘佳容 アストライオス せつじ 加爾基 精液 栗ノ花 早川電機工業 ペリプルス 伊集院光 深夜の馬鹿力 DETECTIVE Germán 石油連盟 エアライナー ギマラス Arias 石川県かほく市 タリハ 戦火の馬 ベサニー・マテック＝サンズ Novum Slade 73期生 \",…,\" ラグナル 九州文化学園 マクロスフロンティア 月刊コミックゼノン Mauricio オンセ・カルダス 結束信二 マリアナ・フアレス 上牧 石狩当別駅 9周年 ヴィダルサスーン appears 赤江珠緒 平壌国際空港 34年後 ダンボール戦機W 津田健次郎 2433 航海訓練所 Ingram 1386 愛知県立刈谷高等学校 浅間高原自動車テストコース シャリ川 Französische トムソン・ロイター引用栄誉賞 ホラーM ミラクルジャンプ 月刊ヤングジャンプ Sauber 終わらざりし物語 アトランタ・スラッシャーズ 189m 国際平和協力本部 ジョン・コンスタブル パーキンソニズム Rowan processes implement 着信アリ 松居大悟 浄蓮寺 歩兵第9連隊 おもだった ラ・ペリ フォレスト・ガンプ/一期一会 ･･････。 ニーレジハーザ チューリン ドラゴンクエストIX 星空の守り人 妖女 コンチャーク 飛ぶ教室 Bitter & Sweet 駐馬店市 Kirsten サングレーザー Self Control プファルツ＝クレーブルク 三種混合ワクチン オースティン映画批評家協会 oxo 刑事貴族 桜の森の満開の下 スプリガン ハルジオン supernova スーザン・ボイル Panzergrenadier 日本SF新人賞 シレト 少年ブラッド 1294 ホットロード 634人 manner improvement techniques accordance responsive コレシストキニン シリウスB ノイマルクト ドブジン ハルナ トレンメア・ローヴァーズ カーライル・ユナイテッドFC 藤本京太郎 ゴスフォード メルボルン・シティFC 実話ナックルズ Михаил 能登有沙 声優アニメディア クリテリウム・デュ・ドフィネ トワイライト〜初恋〜 Cheyenne スタートレック:ヴォイジャー 毛深く 2244 東京農業教育専門学校 クーサ One Tree Hill 旭川医科大学 ネクストジェネレーション フライムート・ベルンゲン アリケン Desa ゼカリヤ書 マスコーカ 伊勢本 レオニード・クロイツァー マタベレランド 悪魔の花嫁 蓮池町 かもめ食堂 山本貴嗣 マイティ・アベンジャーズ リコモーション コレア 中村晃 ソダーバーグ オーシャンズ11 オー・ブラザー! アレクサンダー・ペイン 1513 40.1% t3 Zepp Sendai ピロリン リベルタ・ラマルケ 836人 偽物語 エポニム Rallus 下関商 ベルリン・天使の詩 洋菓子メーカー だるまさん まさの SCJ ラウリル硫酸ナトリウム シュピールベルク 佐藤拓也 モンゴメリー・ビスケッツ Hobbit Ettore 50.6% トレホン 山田ミネコ 2275 タパチュラ シーズンズ かなしき ドックサイド・ステージ 569m 1405 カーボランダム 2133 連邦軍出動指揮司令部 クルト・ゲオルク・キージンガー ニーダーシュテッテン ザ・ドラゴン シゾール LPWA 自然対数の底 ルセロ ベストディガー ホルバイン 20ユーロ 表現自体 秋日和 468人 えいへい ドライゼ アリステウス アウトライダー TBq 能代駅 びがく 韓国取引所 PLAYBUTTON CEM キャリクファーガス Meaning グリーンメディア 1692 バルドエージェンシー えいごであそぼ 聖職叙任権 ママと恋に落ちるまで NMI ノイベルク コウェタ ヴィラ・ノヴァ ファンタジア文庫 スラムドッグ$ミリオネア サンタイサベル 666人 かきつばた ナシメント クライマーズ・ハイ アステラス・トリポリス ディファ 2223 Departamento 父親たちの星条旗 HAPPY END xUnit 法政大学大原社会問題研究所 マンニッヒ反応 853人 Nifty 君田 ディジメーション Cortés エーライツ フリービット シンクレア・ルイス にそう ヤンヤン歌うスタジオ 中村とうよう ヤクルトホール MarkII スーパーグッピー ポセイドン・アドベンチャー レオポール・セダール・サンゴール 28日後 月刊!スピリッツ 啤酒 中須賀 Ensign Mécanique ウースチー・ナド・ラベム Sunya 「PARTYが始まるよ」公演 「ラムネの飲み方」公演 グリシンベタイン 日大山形 thiol エフ・エム・ジー 2175 立原あゆみ ビッグコミックオリジナル増刊 バルブマチック ペンギンクラブ ムーンライト伝説 デメンチェワ シャハー・ピアー KKR 艦隊これくしょん -艦これ- ?）） 東京都中野区本町 ベツコミ クラッシャー・ブラックウェル 伷 fc2 古手梨花 京都大学霊長類研究所 クピド 99打点 ポドラシェ ザ・タウン 梟の城 グアンチェ族 又野 オザスコ 歴史秘話ヒストリア 國民の創生 あかね色に染まる坂 波上 篠原千絵 梅南 流水大賞 マップス イソップ物語 Nikita Raj 樫尾 0807 七瀬葵 126km 帰去来 ルーカス・ドロウヒー コソボ議会 イブラヒム・ルゴヴァ マカロニほうれん荘 がきデカ 本気! アリス・イン・ワンダーランド 予示 51打点 マイク・ナポリ リバーデイル 蘇える金狼 グローイング・アップ 58654 Soul Link 0866 病は気から ろくしょう プロポーズ大作戦 （,、 エズナ reddit フェデラテン Kotaku 123位 家政婦のミタ 子安駅 アンリーシュド ピイ Feb 甲賀忍法帖 maps コネチカット州議会 閃乱カグラ バイオハザード4 りとる みにくいアヒルの子 アンソニー・ムンディン FCアーラウ 春香伝 美しさと哀しみと Clint ロード・オブ・ザ・リング/二つの塔 サイトロン・デジタルコンテンツ モン・サン＝ミシェル オクラホマシティ・ドジャース 155k カサノバ 起爆薬 FC鈴鹿ランポーレ mathbf mathrm MY LITTLE LOVER スパンブリー県 ブラックナイト 高木八尺 Salt Lake City 仮面ライダーバトル ガンバライド 仮面ライダーエグゼイド 石井克人 ベッティーナ 4009 observation エージェント・オブ・シールド ミュスカデ マン・オブ・スティール おもしろ荘 クレイマー、クレイマー 粛王 河池市 アムステル Aleksandar ゆめゆめ 市川新之助 ユリス ザ・エージェント 第27戦 北爪 結婚できない男 オカンとボクと、時々、オトン 田口・白鳥シリーズ サッカー女子日本代表 通りぬけフープ ウォーターフォール・モデル 12012 1417 讀賣テレビ dxe クロシェット ジフェニル 43.6% ヒナゲシ マルセラ プチヴリ Unholy SDコマンド戦記 712m 湊かなえ 湖北駅 熊沢川 黒沢年男 タラッサ 司法試験法 ニョロ Cannonball 京急ストア HOP CLUB NHK福島放送局 Simpsons フランチシェク FNN DATE LINE Reuben Thieves デンビ Irma 富樫直美 佐川印刷京都 Recall 特例民法法人 Jar FCヴィクトリア・プルゼニ やらし ボルゲーゼ美術館 島津綱貴 イリ・キリアン ルーベン・ジェームズ 城戸康裕 阿部野橋 42件 ゅのうかいぎ R and C Ltd. Cousins プファルツ＝ズルツバッハ McCulloch リュドミーラ・ジュラヴリョーワ ザ・リング 藪下めぐみ 2280 EBA )^{ OLIVIA トリート 米華 スカルマン 分島花音 ロシア国内軍 徳弘正也 MY STORY 色素性乾皮症 プリティーリズム・ディアマイフューチャー DIVE II entertainment 世界一初恋 ガス冷却炉 Khalid アロマセラピスト CHIHIRO スホイ ノーデンス ウズベキスタンのサッカー ポール・オースター キャピトル・ヒル Favorites チェンジH ラブ・アクチュアリー カスティーリョ マキシング 芝不器男俳句新人賞 車椅子バスケットボール 光泉 春畑 道哉 -(\" モビスター・チーム 九一式十糎榴弾砲 冒険遊び場 4850 サリーナ 東所沢 ループス RABDe ジャス tacica トッド・フィリップス 好夫 Missing Link 頼茂 イパチンガ 戦国無双シリーズ ファイン・アート TsD ベーブラ ブライテンバッハ WMAF ザンベジ 京都府京都市南区 建昌県 Michał レミュザ 95打点 孝仁 サステイナビリティ 第五位 のび太と緑の巨人伝 新・のび太と鉄人兵団 みっひーランド サンディエゴ・コミコン COOP 東芝機械 ホーソン・レスリー Kiel ヴィーゼル エルディング ブラザーズ&シスターズ ジョシュ・コスチェック île イマティア チクタク 阿里山郷 エアーコンバット 大久保薫 Vandenberg 父君 仁川ユナイテッドFC 敷戸団地 イトゥアーノ キャラぱふぇ エジプト・プレミアリーグ スタディオ・ジュゼッペ・メアッツァ ウーヴェ・ボル スクリップス ザフィ 東京都豊島区目白 ライトウェイト カタン ハバナ州 福岡2区 光速エスパー トム・ジョンソン 松尾芸能賞 白糸台 世界樹の迷宮 岡山村 Aperture トレーポレモス ワーロック 金月 イルデフォンソ モロト 身の回り品 Oranje 忠恵 特別背任罪 スタア誕生 チップス先生さようなら 狂人日記 天売 UFZS 音楽ガッタス しゅごキャラエッグ! 商工中金 チラン 川島だりあ インペラ 新現実 四季シリーズ スーパーロボット大戦OG ORIGINAL GENERATIONS 第4次スーパーロボット大戦 スーパーロボット大戦F ぬらりひょんの孫 Hussain スーパーストリートファイターII X REVIVAL ラナオ ケーシー・デラクア 静岡県志太 BLOOD+ セブンスヘブン 10号誕生!仮面ライダー全員集合!! 第98話 1496 V-air イェータ ゲシュタルト療法 日本大学櫻丘高等学校 フューチュリティ ミラノ・トリエンナーレ LESS 鳶ヶ巣山 H12 ウナス アムル・イブン・アル＝アース Mahmoud ストラトスフィア Republika 蒸気船ウィリー EF55 セッテベロ スカコア 臧式毅 花の冠 デイヴィッド・ジンマン 銭ゲバ ネステロフ アノルトシス・ファマグスタ 台湾式 姫川玲子シリーズ フィズ ルチオ・フルチ 逆転検事 ドラ焼き origami リゾ 細川村 1559 神奈川県相模原市南区 マーガレット・テューダー 青い体験 吉岡村 terre 世宗路 おんたま 0843 スタッフ・アップ YAB 国民年金基金 徐栄 (〜 シュルレアリズム サンアントニオ・ミッションズ 東京無線 Pembroke ホア アレクサンドロフスク アースフレンズ東京Z モルガン・スタンレー証券 本当にあった笑える話 第3次スーパーロボット大戦α 終焉の銀河へ シャンピオン フォナック 玉ネギ ジョン・ホプキンス 合作金庫銀行 バーネット・ロンドン特別区 ウィルズデン・ジャンクション 児童画 さより 欧州ハンドボール連盟 ロバートソン郡 9015 アントニオ・シウバ 61枚 幼獣マメシバ desert 十年式手榴弾 中小企業団体中央会 佐倉中学校 Naomi 容疑者 室井慎次 7601 サーヴェロ・テストチーム 文京区湯島 キュウ Velasquez ミシェル・ノストラダムス師の予言集 在独 イバン 19週 カズキヨネ なみのり 蔵書票 3330 明和の大火 秋色 久武 pratique 汐見橋 新郷市 孝感市 Adriaan 金色のガッシュ!! O20 愛知5区 リエトゥヴォス・リータス サヴ Squalus ゃだんほうじん マートルビーチ・ペリカンズ メノーラー オロミア おふでさき BE-PAL paix 1982年生まれ 風の国 カザーレ・モンフェッラート ラソ インデペンディエンテ・メデジン 女子美 辰市城 萱生 タッグ・オブ・ウォー Giorgi ファイド エタ・ジェイムズ ジャーメイン・ジャクソン 先駆舎 チアゴ・アウベス タンパク質構造予測 2443 私立極道高校 ドジっ娘 マニサスポル テオドール・ヘルツル 4530 ロザリオ・ドーソン 種子田健 ザルヴァトール いずみ野 げんしけん 福祉タクシー FUTSAL地域チャンピオンズリーグ リリイ・シュシュのすべて 魔法少女リリカルなのはシリーズ =（ 46.6% IId 2182 メディコ ウィルチェアーラグビー Andrey 阜新市 ノルトヴィント作戦 チェー インソムニア 大場つぐみ ボーイズバラエティ協会 3355 アクトン・タウン駅 PICCOLO TOWN プリバーナー ユダの手紙 大塚商会アルファーズ バルトの楽園 ワシャクトゥン ポポル・ヴフ Muḥammad ザカルパッチャ州 花葬 Matti ヒーウマー レフ・ポズナン 音無小鳥 萩原雪歩 中切 北京地下鉄15号線 順義区 Fiona TETSUYA KOMURO 蔵敷 タクシラ ジュリアン・ベネトー みっしつ 緊急速報メール 佐藤幸治 マンガくん 少年ビッグコミック エキノコックス どのみち ジャクソンビル・サンズ 自乗可積分函数 ミリセント honneur honour グレートレイクス・ルーンズ 焼け死ぬ 暦物語 Moraes ロマンシング サ・ガ カーロス・コンディット 全日本クラブ選手権 蒲郡競艇場 サイボーグクロちゃん 朝霧JAM ロシアの女性 リュドミーラ・チェルヌイフ こう称 ベラルーシ・プレミアリーグ ダイル 430904 スリーピー・ホロウ 土佐丸 1568 WWII シアトル・ストーム 零式輸送機 テルノーピリ州 うしおととら よしもとクリエイティブエージェンシー ベルナドッテ王朝 北海道岩見沢 137回 ジャン・ルーシュ 日本橋兜町 ペルチェ Porn オーエル こくりゅう ナント三大陸映画祭 燃素 リノ・エーシズ シャーロット・クーパー こいのうた BE・LOVE 3900人 ヒュンドラの歌 エクスカバータ 尺には尺を アテネのタイモン アイシン・エィ・ダブリュ ウィングス ビル・タルバート グルヴェイグ 未収金 新宇宙戦艦ヤマト lg 川上稔 ヘビクビガメ サンジェルヴェ 小林政広 大阪府立生野高等学校 嘆きの天使 経済の奇跡 バリー・リンドン 暗闇でドッキリ 当たり屋 マーライオン キカ カスタムロボ バッカーノ! 635m TVおじゃマンボウ 遊☆戯☆王ARC-V オモニア・ニコシア ヴィーヴ Truly 秋山輝男 行部 トラロック シャルル・ボワイエ ジュール・ロマン symphony いがくぶ アイアンフィスト ヴァルチャー Kurz Fayray 修羅雪姫 コーパス言語学 ヒッコリー・クロウダッズ ドラゴンクエスト4コママンガ劇場 1068 ANIMAL 佐藤康夫 HTA プエブラ・パロッツ ティクリーティー ハエドクソウ 我那覇響 沼倉愛美 城島高次 ポンフレット 3608 3310 Abner サフル大陸 ブランディッシュ 吉川潔 Growler 若森 アルコル 三つ目がとおる ファイナルファンタジーVI あなたに夢中 ストレートアームバー マーガレット・アトウッド さしあげ ドリン LEV 天地を喰らう ザ・サイコー ダイチ 65打点 マルドゥック・スクランブル スティール・ボール・ラン 闘神都市 月のしずく グンツェンハウゼン シュタイナハ タンバリンアーティスツ スウォン Александр ヨーハン・ジギスムント Asterisk カカクコム メアリー・セレスト UNEF 札幌市役所 マルコフ性 せん滅 夢占い 赤羽根町 おもいやり Dorian メトロイドシリーズ 影牢 真章 ハニートラップ ドレスシャツ vol.16 玄人受け 高橋伊望 アドバンテッジパートナーズ アエトリア 拡張実数 ねずみ捕り ルイーズ・ド・サヴォワ 江門市 Castiglione オセット語 星くず兄弟の伝説 Departed ガールポップ フラマトム Broughton モンソー ロックマンゼロシリーズ ロックマンX ナウファッションエージェンシー HELLSING ：+ 自然写真 グレン・フォード エイベックス・ピクチャーズ バタシー発電所 3027 ファイブ☆エイト Hauptsturmführer ジル・バレンタイン 沙村広明 Diggy-MO\\' 奈半利駅 スワデーシー Pieve Retrieved Villanova 銭形雷 phospho タルサ・ドリラーズ カラーパープル 第70話 ブリーフ&トランクス JESSE アレクサンダー・ウスティノフ destination 470km からき Playground ザ・ビュー 新耳袋 朝鮮語の方言 東南方言 お兄系 Damon シャングリ・ラ ファンタジーゾーン 200センチ 赤ちょうちん 86打点 ダライアスツイン サイバリオン ロス・ロボス WINDS OF GOD イバラモ ジョシュ・グローバン アルファフライト ジャストプロ ヘカテ エクセルヒューマンエイジェンシー 事解男命 アルファヴィル カルカシュー 前原町 日本名輪会 ヴォルスンガ・サガ ツヨシしっかりしなさい BOYS BE… ニューオーリンズ・ゼファーズ 最終兵器彼女 ジュゼッペ・トルナトーレ ラーザリ・カガノーヴィチ 貢が やまと虹一 ブンタウ ジョン・チャールズ 取り纏める フェデリコ・バルバロ NEB Juneau ウルトラストリートファイターIV ウルIV コミックトム 短編アニメ賞 ジョシュ・トムソン トゥルンハウト 柊かがみ ジョン・クランコ ASDS 杉浦嘉十 川村栄二 ビューティフル・マインド SOLDIER 恋する女たち ライフ・オブ・ブライアン 肉体の悪魔 から騒ぎ フィフス・エレメント ショーン・オブ・ザ・デッド 1709 エンバンクメント駅 シュリンクラップ契約 ゴールデンナイター 3507 Hampshire 逆転イッパツマン 57巻 パンタグリュエル スパンブリー ガーサント 4301 神丸 Spadefish セクシーコマンドー外伝 すごいよ!!マサルさん コルン Phoebus プレコミックブンブン スパロウ どうた フェアチャイルド・ドルニエ ラリサ県 SUEMITSU & THE SUEMITH スーパーマリオ64DS ピクミン2 ガモウひろし Antonín 資本集約 コナミレーベル ギルダ 報道ステーション SUNDAY 新日本証券 福寿町 恋する日曜日 健康心理学 ولاية Herrmann 1974年製 ルッザーラ W52T Wahoo Queenfish カラミアン Asarum アシーナ きんとん 崇左市 ホワイトサイド 千歳海軍航空隊 ノキア・ジャパン マラウイ共和国 ドラゴン危機一発 キンキ 詐欺被害 476人 元もと 崇徳高等学校 カギっ子 オオカミウオ ルイーセ・アウグスタ グラディウスV フェルディナント・マリア )、『』( ナクラ サハデーヴァ レッキングクルー モーニングコール 函館基地隊 伊藤整文学賞 163年 テネシー・スモーキーズ ピオリア・チーフス トリプルファイター フィリピンパブ 浄心寺 5320 オリゾンティ ヨトゥン マット・ブラウン 埼玉県立浦和第一女子高等学校 discipline アールエフ マリー・レクザンスカ アリシア・モリク 土星人 ニキビダニ マイケル・チミノ ディア・ハンター ダントー 強制結婚 モバMAN 染み込む エクベルト 死の島 火曜劇場 月経前症候群 YOURS アリス九號. ケイエムシネマ企画 ネイムマネジメント ヒット出版社 ミステルバッハ 純と愛 隠し持ち ダイヤモンド・アイ 幻想水滸伝シリーズ アレクサンドロヴナ ベネズエラ・ボリバル共和国 ウォークラフト 盪寇 テイア 0599 よこはま・たそがれ -‘ ザ・ファントム Flasher アウタードアハンドル 6004 3420 或る列車 Patti バレーボールロシア男子代表 金天 ガシャ クライ・ベイビー ニューヨーク州立大学オールバニ校 烈風伝 Romulus 怠ける アンシュ Corvus エンダーのゲーム アンドロメロス 長くつ下のピッピ ガンダム・インレ マルコム in the Middle 地上より永遠に COH ますた ジャンプSQ カルタヘナ法 這いずり 然しながら パラシューツ メグナ アトル Y・M・O 能登かがり火 プッカ 牛久保六騎 TTM ミハイール Andromeda 魔装機神サイバスター 77打点 モーモールルギャバン トネリ お笑いマンガ道場 桜木花道 4560 科捜研の女 バンドーラ 原始家族フリントストーン 92億円 香川清登 ケロット ロバート・Z・レナード 国際経済法 デルクール モーターホーム あかだ ルイ・デリュック ロックマンXシリーズ 魔法にかけられて チュムポーン県 75打点 ドアン 世界時計 シカソ サボー 備北交通 冒険王ビィト Kokusai Angler 281年 \")=\" Projector 131度 経基王 パンジャービー語 天足彦国押人命 スターオーシャン ケースワーク バートランド メイル・カハネ ネロ・カエサル ドルシッラ フランス杯 ウルト 浦和高等学校 ハリス島 銀河鉄道物語 4030 4073 4510 アルメニア文字 ジャーロ 日本ミステリー文学大賞新人賞 nouveau People\\'s Party ボクシング・マガジン 続資治通鑑 44打点 MOTHER2 ギーグの逆襲 MOTHERシリーズ デニング 共通言語基盤 お茶犬 ライド・オン ヴェルノン メディウム プリティ・ウーマン 手をつなごう モプティ州 第14回NHK紅白歌合戦 キハ181 スウプスク やぶにらみ 渡辺久江 とばく 兄弟仁義 飛蚊症 ジンキ スペードの女王 二人の貴公子 ホフマン物語 Mikado 金銀糸 クリスチャン・ミハレス フェリックス・シュトルム ミッケル・ケスラー カール・フランプトン フランク・ウォーレン スコット・クィッグ 武邑 リッチモンド・フライングスクウォーレルズ ピチュー テッド・ダンソン ツーソン・サイドワインダーズ フランク・パーカー 0106 スリーエム コミックガンマ 新鹿駅 カシウス・バロイ Grayling 限りなく透明に近いブルー クラッシャージョウ マザーウェルFC 佐藤勉 ラズ語 745m Sonderkommando 東淀川 チルド飲料 輝く季節へ 三井不動産株式会社 ジ・アニメ 虹の女神 武威市 年央 Equilibrium YAMATO2520 シティ・オブ・ゴッド ベサ П 北海道深川市 象皮病 979人 エリミネート アラウージョ 石西礁湖 みなみけ コングリーヴ・ロケット セントラル・セント・マーチンズ わかつきめぐみ 泥の河 ファイナルファンタジーII マウルティア コーフィールド タヤ ヨルズ 積層電池 爆乳三国志 胸の谷間にうもれ隊 ティルヴァンナーマライ サットヴァ 動物園前 レスヴォス 誘惑者 名探偵モンク ドーマー Kiss PLUS 武里 マイリンゲン リドン 日本証券アナリスト協会 nga 大乱闘スマッシュブラザーズ ラファイエット・マクローズ Farnese ヒースロー・コネクト ウェディングピーチ 愛天使伝説ウェディングピーチ シエンフエゴス ワクフバンク スピーシーズ ソース焼きそば クラウ ビッセル 稲田浩司 分つ メイド・イン・ヘヴン おかずのクッキング ルヴァロワ＝ペレ 改メ Aspect セントラル子供劇団 フィギュアスケーティングインストラクター 監禁罪 ショウ・ザマ 光州広域市都市鉄道公社1号線 ハッシュパピー マキナック 2423 新逗子 カタンドゥアネス キャラの! 240k 妖星ゴラス ニプマク ニューイングランド大学 ロスシー なめ猫 ほるまりん ダーナヴァ フロジノーネ・カルチョ BLOGOS ··· アレクサンドル・ボロディン オキナワアナジャコ シヴ サハ101 演奏記号 森岳 人面瘡 3220 モハ210 & LOVE 2333 銃夢 よつばと! Firefly 暁の女神 グアルダ 9820 Barbier ゲシェネン ブラチスラバ ferro Garner 篠尾 辛光洙 うたわれるものらじお 謙抑 スコット・スミス ヘドウィグ フラッシュポイント Lulu Mak アドメトス 106位 コロンブスの卵 ブザウ 特定毒物 ハコヨコクビガメ 盛りあがる デチェン 785m 1597 28週 坂本博之 新庄直頼 小電力無線局 天守物語 講談社コミックプラス チャイドル ジョージ・アレン ショートトン 羅瑞卿 エメリア共和国 STRIPS Researches 8402 acquired 老人と海 バタフライナイフ ローディ県 クレア・レッドフィールド 猪苗代氏 カンヌ国際映画祭審査員賞 威武 ファンタスマゴリア インファナル・アフェア 368年 魏豹 1989年製 3630 民族派学生組織 SLもおか ジョニー・ゴンサレス コーサ 遠藤淑子 キャッチ・ミー・イフ・ユー・キャン MBSニュース ブリクサ ファインディング・ニモ メガミマガジン 娘TYPE カルタニッセッタ コミックマスター 飯島魁 懸崖 徳島地方裁判所 森園みるく ファイヤーボール フィールドノート リヒテンラーデ アクリル繊維 シアン化銅 フィンガーシフト アイツヴォル はぴねす! ケセド プカンバル 徳州市 サマル 上諏訪町 2686 ぼくの伯父さん Kogyo 穴内川 セント・メアリーズ 恐竜戦隊コセイドン Hitomi ：? ビッグコミック増刊号 押原 流星人間ゾーン 87分署シリーズ 名古屋高等検察庁 仁淀 カシノ （)、 パムンキー Frazier Corynebacterium トワイライトプリンセス 美亜 ディヴィジオン・アン なよたけ 夏の花 バインゴリン・モンゴル Gino まもって守護月天! 渚滑線 星界の戦旗 びさい ブラック・ハウス 漫画ブリッコ Cocohana サムットソンクラーム 楊度 Norbert おさがり ウィキア 雲長 destruction 若返りの泉 フィジカル・グラフィティ パチャカマック 小袋谷 部垂 旭電化工業 Lo-Fi 機動戦士ガンダム シルエットフォーミュラ91 模型戦士ガンプラビルダーズ ビギニングG 安順 パッタルン 那覇地方裁判所 湖岸道路 ザリエル 720K 鳴門駅 溝端淳平 エンジェルス・イン・アメリカ ジェイムズ・テイト・ブラック ノイズ・レコード 茨城県立下妻第一高等学校 陰茎骨 ブラッド・スポーツ Drury 劉興居 ニューヨーク市立大学ハンター校 ふしぎの国のアリス いちご姫 ヌマガメ 八八式七糎野戦高射砲 岐阜羽島 CEPT LMG ビジネスプロデューサー Jayne FIPRESCI デスマーチ 日本語の乱れ バードケージ ドゥラッツォ 285m 小見川藩 弘中邦佳 スーパーロボット大戦OG 7月4日に生まれて グリフィス・スタジアム 44件 塚本天満 他動 \\'; 晴明丘 ニューギニア沖海戦 0500 ザルカヴァ ジャイレース はたく ポール・バーホーベン polymerase ニカド電池 ザ・プレミアム カエデチョウ 岡川 SUP 国民生活金融公庫 ホテルオークラ東京 文芸首都 ガヴァナー デイトン・ドラゴンズ WABC ケイト・ベッキンセイル ボビー・ルード スモルツ トルケスタン 立替え 笹沢左保 360モデナ 有閑倶楽部 ジェミナイ ゴクウ アウエルシュタット 夜光虫 Lindsey 5850 48打点 三国伝 ボレスラフ Niger Emberiza ジャック・ドワイヨン テケテケ 夢幻戦士ヴァリス 7009 MQM ミンデロ Courses Helloween 126フィルム 栄山 HNO STRANGE 戸町 粟田丸 環式有機化合物 チャームキッズ ラマト・ダヴィド トルビアック C2C Losing カプリヴィ 正智深谷 かね丸 Songbird ホーチャンク 大鶴義丹 カリュプソー ロジ モービル・ベイベアーズ FALKEN ブライアン・ビロリア フェルナンド・モンティエル )。( lu 1634 レーベンブロイ ヤーマ Call of Duty パイロットフィッシュ ドゥルヴァ 逗葉 ゴジラ対ヘドラ 花と蛇 世界忍者戦ジライヤ 美少女仮面ポワトリン きぬこ )\", スイス・カップ ほんいんぼう トゥルチャ ダブリューイーエー・ジャパン 白林少年館 マラウイ人 綿矢りさ アッシャー家の崩壊 オリンピア・アスンシオン フェイスレス ラスボラ 北村想 ∖ 網干線 フレネルレンズ 3059 マキバオー 栃尾市 のそ さしかかり シガーライター 5440 ディーター・フォン・レーダー ：－ ターチャーン カルーサ アルバニア人民共和国 エヌシーバス おねがい☆ティーチャー Free! 大森東 Marseille ラ・スペツィア県 イスラエル・バスケス 首都圏整備委員会 きけ わだつみのこえ 15線 紅世の王 3Dプリント 巫山 桃尻娘 吉田鉄郎 昇州 のろく クルロタルシ エイチ・ツー・オー Welles 横浜エフエム放送 下反 スピードキング 端田 ミリオンダラー・ベイビー エスクイリヌス 書剣恩仇録 キャシャーン 新南部 ニコクレス オコゼ 116度 ジェームスサリバン 野中郁次郎 高谷裕之 OORONG 歴史時代作家クラブ 航空兵団 menu Bent バケルくん ピッカピカ サンタンデール県 Katarzyna WCG 柳亭燕路 9850 N.U. 治療指数 5106 スターシップ・トゥルーパーズ ターナー・フィールド シブネフチ Madeline しんきろう 戦国無双2 トレビア カレドニアン・スリーパー マリオン・コティヤール WITH LINE フェリックス・シュタイナー こどもの国駅 三太郎峠 ソール・ベロー 撲殺天使ドクロちゃん それでも夜は明ける ハスカー・ドゥ affinis 菊陽 シャーリィ タタバーニャ シャルル・ド・ヴァロワ ヴォン・ヴィレブランド チューリングジャンプ アイオー 青海町 2077年 切創 CANON JADGE みっかい 小西貴雄 上条上杉家 スコット・ブラウン BFF 2704 2444 踊る大紐育 青森県議会議員 ぎんいろ スターダストクルセイダース スレード 城卓矢 大町町 ゾンダ ノルトマルク アイシンシーホース プワヴィ 3921 カルロッタ・ジョアキナ 高橋氏文 324m 1616 マニエマ エドガル・ソーサ \"\\u2009 オーシャン・カラー・シーン メンペルガルト スティーブニッジ ステパネク バレーボールロシア女子代表 鏡明 鹿の湯 てんてん カベゾン 2709 Steamship 生徒会役員共 Sublime ファントムブラッド ハル・ハートリー コールド・リーディング ヤスミン バトルドッジボール フー・ウォンツ・トゥ・ビー・ア・ミリオネア セビリヤ ウランゲル マンネングサ 国道346号 ラビタ・バクー プリンシパル・インベストメンツ 作戦班 ホルモゴルイ ドラゴンボート JMO 児玉・後藤政治 アエギディウス YESTERDAY EF200 Obergruppenführer 副市町村長 Deep Love CASL アテナイの学堂 Ours 千々 実利論 クズロルダ Trapp PKNS トゥブ Rival ほも ファースト・トレイラー ∑ センター・オブ・ジ・アース デビー・レイノルズ グルシュコ オーバリン SAFFC mongoliensis エドワード・キッツィス トップ・オブ・ザ・ワールド マクザム ジャドソン・キルパトリック アンティオキア県 ピチット県 ルヴァン FRINGE/フリンジ キャプテン・フューチャー バスカヴィル家の犬 カールトン・カレッジ 秋田市立体育館 1830m ベラト ヤコウガイ マセナ 0211 キプロス・ファーストディビジョン PFK ツチスドリ カスタリア ジャック・ソック 2241 展転社 ストロムネス 厚生労働省設置法 ギルデンスターン 広州富力 テリー・ノリス 9050 長城県 土居下 海腹川背 いずこねこ Chine 君の瞳に恋してる africana ランチョクカモンガ・クエークス サントゥルツィ サムス・アラン ラ・モンテ・ヤング シャーロット市 GAMESS ドクロクシー レイドロー 女囚さそりシリーズ 弱微分 ヒト型爬虫類 消費CAPM スタイルワン イースタン・パーク 卭 GRG モヤモヤさまぁ〜ず2 レティムノ ラフター セコムラガッツ グータン 孝感 0842 こがね丸 アメリカアリゲーター 白川郷・五箇山の合掌造り集落 メロキュア PhysX マンハント メリダとおそろしの森 テレンス・クロフォード ソコアゲ 法印大五郎 ジャン＝バティスト・カミーユ・コロー 液体呼吸 シュトヘル レニ・レナペ レバディア・タリン レイクカウンティ・キャプテンズ オメでたい頭でなにより 76年間 福井口駅 マサカ 3161 武蔵野書院 Kの昇天 冬の蠅 Dyer Nothing\\'s Carved In Stone きいやま商店 サントリー地域文化賞 Ogawa ネウケン州 佐藤誠 プロスチェヨフ BKA ヴィース Spitfire カトリ 城南FC ジャンプSQ.19 regia the oc サランボー キオン ペスカロロ・スポール 宮下町 タイムレス ゴッドマーズ 星雲仮面マシンマン 日はまた昇る セアラーSC アリストマコス くノ一忍法帖 マレーシアサッカー協会 エッジコム げいは Sykes アライブエンタテインメント リチャード・イーウェル フカル 2382 』､『 52.4% RCAF コミックマーケット75 A.L.C. 聖闘士星矢 NEXT DIMENSION 冥王神話 5950 George Harrison Discoveries タカサゴ NRPS alanine はいからさんが通る リヤード ミツバウツギ ジェームス・マクドネル アンソニー・ジョシュア エヴフロシニヤ エコテロリスト サルキシャン こたえてちょーだい! 局所凸位相ベクトル空間 アフィン写像 スウェンソン オール・ザ・ベスト PH1 ラグラジアン しまじろうのわお! 影のない女 ウォルフ・ライエ マーヴ FVL 橘いずみ フルーム はなまるカフェ ネオンテトラ バンドワゴン KNOCK OUT MONKEY 山形県立鶴岡南高等学校 ザイヌル・アービディーン ラジエー タイカレー Shāh グランド・ストリート シャワートイレ 20世紀フォックス・ホーム・エンターテイメント・ジャパン Love Collection ハニガン グランヴィル・ルーソン＝ゴア オーフェン madagascariensis オクタ ホレイショ・ライト マルホランド・ドライブ ウォラストン メトディウス 海都 7950 セントヘレナ・アセンションおよびトリスタンダクーニャ ラナイ デボンポート トマス・オブ・ウッドストック フェラーリス まんがタイムきららミラク 月下美人 紀伊国屋ホール 陽都 ヤーヌス コッラード 東京魔人學園伝奇 マウントレーニアホール ツーソン・パドレス 九五式重戦車 アザンデ ボートダビット 犯人隠避 趙良弼 スマートカジュアル イバイサバル 兗青 ブレマー ブリーセーイス 若大将のゆうゆう散歩 ミハイル・カシヤノフ 315km 恩施 ナマイキ part1 ペトロルル・プロイェシュティ 宜野湾市長 タンコ エフィンガム ビニー エデ Shogo アイススター EPW バルヒフェルト ダファリン Luxemburg 川上氏 新元史 the house オリオール・パーク・アット・カムデン・ヤーズ ジョナ・ヒル マザリンの宝石 まだらの紐 好摩 宇津保 Automobiles にんしん オプ・アート 普通科教導連隊 visit Wilfried サッスーン シニャンガ Barat 平戸町 バンディオンセ加古川 ONGC バトルライン ハイファイブ シアトル・レインFC エンジェル出版 黄金狂時代 チュムポーン Len パンズ・ラビリンス アタラ 希望的リフレイン シャブリ スマイア ケミ川 アルフレッド・プレソントン Franciscus ゴゴー ソニックX Raceway 後藤正文 8401 キルッコヌンミ \".\" 仙台市立病院 島嶼ケルト語 ヤクドゥ 宇宙戦艦ヤマト2202 愛の戦士たち ラージョ・バジェカーノ ジャージー・ボーイズ 137度 鏡城郡 ヴァンタドゥール リュイヌ Wheatley CONFUSION なめんなよ 四十八体仏 メロディオン Imre PXC カラモジャ メルボルン・ビクトリーFC ニューフォレスト カセセ 金星堂 フェアリージャパン ドレパナ われら生きるもの 薔薇の名前 ラフィー・ウッダラジャート カンファレンス・ノース ラージプーターナー 42センチ OPENING Authors チジック・ハウス 法宝 ユーリエフ 茶屋町プレミアムナイト オーガスタ・グリーンジャケッツ ドレゴヴィチ 少年ジャンプNEXT!! ウィリアム・ジョーンズカップ 上総牛久駅 ワーマス コエ PBT 平野村 アルント ルンダ 学校博物館 光尚 明智軍記 けんぺい コルガス チャールズ・フィッツロイ 幼年期の終り 2510 青の祓魔師 地方自治庁 the band LabVIEW ケル・ブルック ヘルナンド 性交体位 アメリカン・スナイパー circular 腐男子 ESRO 稲田村 ミレーヌ・ジーナス キジムシロ 57日 オラキオ カシュカダリヤ ハッピーフライト エルジー 丸森線 静岡中学校 Hydrogen 南コルドファン 沈黙の艦隊 ペリカンズ クレーヴの奥方 RBライプツィヒ チャナッカレ Roo フラッシュフォワード アーザーデガーン・リーグ 張寔 アン・ネヴィル 終物語 八熊 オデ テソ 広島ライトニング 対話路線 未着 avex globe モダン・ファミリー KENWOOD あめふり イェヴレ グレンコフ・ジョンソン ソモフ ラーデ 1429 恐怖の谷 沛王 ザ・ユニバース リアルワールド まつ毛エクステンション ノルトエルビエン タカタ ニーム・オリンピック カガヤン・バレー スア FCノアシェラン NOSS 神様のカルテ 川崎病 ナヴァル Mr.King vs Mr.Prince 桃園書房 マジェスティックプリンス PECズヴォレ 神奈川県横浜市栄区 サラシナショウマ シヴァガンガイ マラディ Naumann ジャンビ ウェス・クレイヴン 新水俣駅 Miura Pogo 佐香智久 ランドールズ SHIROBAKO 桜上水駅 京王多摩センター ヒルトンヘッドアイランド 白鳥麗子でございます! ナイト ミュージアム 渡辺航 犨 ヴェルニエ Jaroslav 賀島 最終絶叫計画 ハッチー サクライソウ Aff サマンサ・フォックス Lina Travelers Addison スノードロップ 一海 パコルス 小さな恋のメロディ 「会いたかった」公演 クールラント・ポケット ヒメラの戦い Blackwell Zeta 河辺村 ミッキーマウス・クラブ ])、 アルチ・ノヤン ピフ 大分空港道路 桑野川 マキシムス ガードン ジェイミー・モイヤー ホルムデール ビクトリアーノ・ウエルタ シラ・トージ 古い日記 青森1区 にこにこぷんがやってきた! 招商銀行 中央県 南流山 クワラ レメク フェドーラ SysRq 重樹 三菱UFJリサーチ&コンサルティング 夢から醒めた夢 パストラール グランパパプロダクション 太陽の法 ららぽーと新三郷 アロハ・スタジアム アールスト Kal 児童福祉司 ラグラッツ オンド Chaim 今日の5の2 ダーウィンが来た Holloway べっぴんさん BASEBALL L!VE 井伊直盛 Revive 8550 エリシウム マラヴァーン ギリジャー・プラサード・コイララ YPF カルドア ニャメ 伝説のチャンピオン DJ.taiki ヴィクター・フレミング レズニック 産業資源 2711 5009 セレニティー 宣教学 ウェーバ シャックリ キース・サーマン ロバート・チェンバース ドラゴンライダー ネットランナー ピアノ・マン ポーポー カリーラとディムナ Gidget 特別敏感海域 タリク ガウス・ボネ 姫ちゃん ヤムスクロ ネオマール・セルメニョ ゴルダ Released コウヴォラ エネマグラ MRW nucléaire フェアプレイ ハドレー ソラリアターミナルビル cinerea aes マイク・コンリー COMIC快楽天 ニュースタッフエージェンシー 広告批評 BIOGRAPHY ハンツィ パンチブラザーズ ニッケル・クリーク Pedersen テムリュク ノーメ・カリュ ピエリア Jed 東日本トップクラブリーグ プルデンシャル生命 アハイア 似非科学 クローバ コスタナイ ランボオ 梶原龍児 Rutherford S-310 明花 ロバート・マートン エチェバリア ブルックフィールド デイヴィッド・エディングス チャッティースガル オーランド市 Hiroyuki 変イ g8 単純加群 phenylalanine evergreen リデンプション ノヴァウニオン 横戸 ミニヨン クラドノ スタンボ イソメ ナンキョクブナ 胤綱 ナグザット アドリアーナ・ルクヴルール 仲野親王 デポック フランツ・フォン・エップ 法思想史 林由美香 ペチョラ クリャージマ ロング・グッドバイ ウニヴェルシタテア・クルジュ TECI 嗅ぎタバコ カドカワノベルズ ド・ラ・ポール 高木敏雄 大阪府立泉陽高等学校 ジーベル 軍浦市 apg ソンタム デ・パルマ 7021 ロッキー3 イシク・クル 羅憲 藤山コンツェルン セレツェ・カーマ エウェ ara ケビン・アンダーソン ワーサル ワラチャ ヒルベルト多項式 バック・イン・ブラック RNVR ラディーノ Cullen Schiller 抒情組曲 サイコメトリー ゴールデンアックス ヨハネの手紙三 ヨハネの手紙二 ヨロイザメ glucosidase ラジオマガジン 原子力飛行機 クラブ・レオン ドゥプニツァ サラブリー ザルビンツィ ユタ・スターズ Viktorovich worked イスラボニータ 文学フリマ ヒレントルプ ステファニー・メイヤー トレイナー ヴィコント ルピ カモテス デュルヴィル Bon Voyage 18900 ダフラク フランケンウィニー ホスホヒドロラーゼ bisphosphate 高知県立高知追手前高等学校 meldac 天心区 共終数 Milnor ジメチルアミン エリシュカ サーメット プライマーゼ アルバネーゼ Sent ジョン・タトゥーロ 中野雄太 マイクロボット ロシアの選択 ジョルジュ・ダンダン シュタインフルト ピンポン! ラ・コンチャ ビルバオ・トラム Bloomfield キャンパスナイトフジ 下御霊神社 テーニ スベリン ドイツ・リート Cagayan ジェフ・アメン マルクス・テレンティウス・ウァロ ベラヤ 怪談新耳袋 ダブル・ファンタジー nigricans ツルレイシ 証券代行 Parents チリッチ 燕州 なまけもの コルィマ 長瀞駅 NTR ボルドー液 2234 ベイリーフ 成瀬台 ボルゴ・ヴァルスガーナ ペイルライダー 斉次函数 爆乳甲子園 エルネスト・バルベルデ ヤクシニー グエン・カオ・キ ティルヴァッルール プラッシー 戸外制作 ルーイン まほろ駅前多田便利軒 ボォス プローラ ドレイコ シルシ 21200 パイア 田宮良子 ウーンソケット フランツ・シーゲル 3041 兼高 バンダー 恩平区 梅ノ木 エオリア 福建艦隊 溜池山王駅 名もなき毒 SIESTA ニアサ ウィットソン ウェサガセット 3605 ほのぼの君 ジンギスカン鍋 オキナ 国時 薔薇刑 クラリー スルエタ グレゴワール アンフィトリオン マット・ライナート ヤブロコ ソタヴェント諸島 スパイダーズ ドウダンツツジ バリー・ソネンフェルド アダムス・ファミリー キアロスタミ ピンネース Nagar 中地山 カミギン ヴェゼール マンドラゴラ Höhere ダウンジャケット ザルツベーデ マータレー インキピット コスモスクエア ツバサ-RESERVoir CHRoNiCLE- スラヴォンスキ・ブロド 生物海洋学 ルー・グラム フェーリング セガエイジス2500 ソニック・ザ・ヘッジホッグ2 MH4G 景直 ゼレノグラード 岬にての物語 北長野駅 学陽書房 DIAMOND☆DOGS ダイヤモンズ アクシオス ディヴィ・ジョーンズ 錨を上げて リヤドロ 孫壱 境界の彼方 。, TZD オロロン マルプラケ バレーボールブラジル男子代表 プエブロ・マヒコ テトラクロリド Send 2341 上坊 メノー スピントロニクス アラビス アライバル 快傑えみちゃんねる ブケディ ウルトラゼロファイト ゲルゴウィア 口吉川 アセトアセチル 2651 雑誌記事索引 北海道3区 チェリーブロッサム アルゴリダ アグラヴェイン バルケスィル ビービースターズ レ・ミゼラブル 少女コゼット ジズドラ 村上朝日堂 PCBP ガンドランダー グランドセイコー 市立名寄短期大学 ウィリマンティック ドラゴンハート Kuraki バリー・ジト コピエテルス 万朶 WSUS ゼンショーグループ 木村次郎右衛門 essere パパのいうことを聞きなさい! 富吉駅 近鉄蟹江駅 界磁チョッパ ネン TRIX ルブアルハリ砂漠 スノースピーダー 沖縄基地隊 racemase ムネエソ 福里 ウカシェヴィチ 寒露 青柳信雄 こいずみまり アシス グローバル・コミュニケーション イボ・カルロビッチ レッタ バスキーフィールド phosphorylating ルクラ ジャナクプル ぴた Hi-Fi CAMP ギンダラ 長老ヨハネ ビスケットエンターティメント 業務スーパー KDP ポプラ文庫 フルト サモトラキ なつかしのみんなのうた ヴィルヘルム・ライヒ 輝盛 ZETMAN 蜘蛛女 器楽的幻覚 スパイダーマン3 シチナヴァ ライヒリング ゾーア コリアーズ・ウィークリー 竜江省 スターリツァ dT ヴワディスワフ・オドニツ Hendrick HabitatII ヴェルタハ 北海道北見 ベールイ ナローズ エウレカセブン 古河銀行 AYUSE KOZUE Günter NIGHT HEAD オスク語 transhydrogenase ラーオディケー 伊良湖試験場 カミングズ サクセサ ザカフカーズ ライブオン 谷井田 アローン・イン・ザ・ダーク ロミロミ 丹治峯均筆記 ピリッチ ガビエネ 西郷川 マーメイドメロディー ディスクレス イチケリア カルロヴォ 三遠ネオフェニックス タルー 84億円 東京電話 ニャンジャ Ḥasan アルドナ ショットランサー 浅い夢 ニューイングランド・ジャーナル・オブ・メディシン Mプラス VHR インターネット依存症 ブラントーム 日本通運グループ 野村将希 七つの海のティコ シデテス MorphOS ソヨンボ 佐々木譲 ロックン・ロール・ミュージック ウエスト・ハイランド・ホワイト・テリア トロポミオシン ゼーガペイン メー 安定・成長協定 寺畑 ウィ・ビロング・トゥゲザー 長野智子 モランディ 田沢湖駅 ネオガンダム α・アジール SEWACO ウイットプロモーション 重国籍者 マクロペディア 中央ライナー 御所ケ丘 乃木坂春香の秘密 マンジュラ ワークブーツ 阿川毛利家 東条藩 NOëL モリツバメ 母子保健法 はまかいじ 完全版コミックス 廣田瑞人 クド 関空快速・紀州路快速 Hirado メーリケ 見明川 池山直 ドルゴルーコフ Gunma しばいぬ子さん キャプテンEO 新・必殺仕置人 ファルメル 関甲新学生野球連盟 ネウケン ARBiH SuperS 時の扉 正精 Gackt.C ポケットモンスター ファイアレッド・リーフグリーン ポケットモンスター ルビー・サファイア ロカイユ ドーベルマン刑事 CoM ベーラム ポリング フータ・ジャロン フトマニ ドイッチュ MOMOE フリースナー Wat Shěng パスカルの賭け Xfire Wheelchair 遙かなる影 臼杵駅 パッタルン県 LVI 新宿大ガード フッ化銀 咥利 西新田 後腰 東川口 コーデュロイ アロガント 宇宙空母ブルーノア クリテリウム・アンテルナシオナル 手使海ユトロ ヱビス Bizスポ サバラガムワ マクア ウルトラマンノア わんぱっくコミック 西保 若手騎手限定競走 毘咄 爆乳ヤンキー イノベイド 東成田 ゼイラム わたなべまさこ POWER6 ウィラポン・ナコンルアンプロモーション 電光超人グリッドマン チンクル Larus アンタル 夜も一生けんめい。 取材許可証 秋山瑞人 CSUN ヘキサクロリド 鉄人タイガーセブン QVCジャパン IREM シュトラハヴィッツ DKA 天満駅 中市 三洋電機レッドソア ピクミン3 花旗 エンジニアブーツ 長野県安曇野市豊科 クンパニィス 宮久保 二川村 ハッスルエンターテインメント 北条時氏 鎌倉書房 pater 落花流水 佐味 絶体絶命でんぢゃらすじーさん 雒城 eCos 稙国 マガール キミハ・ブレイク ゲームハイ 水酸化リチウム じゃが 北京地下鉄2号線 安西ひろこ RGS セロゴード らしんばん マクロス ダイナマイト7 ソウヤー カプーア プレウローン スタリ・モスト コピーキャット コロちゃん ゅうろくにち タカトシ牧場 火星のプリンセス 松山運転所 うまッチ! 報ステ 重言 ゴナイーヴ BabeStar プレミアムボックス 大隅線 エルピー・プル 篠山線 （：, 内野駅 E129系 平端駅 堅上 祖国・全ロシア 特撮エース 臼井駅 文京区役所 デンキナマズ 痛快!エブリデイ 新鎌ケ谷 世界征服者の歴史 いわき湯本温泉 カックラキン大放送!! バラダ おはようエクスプレス サンジャポ カタラウヌムの戦い スレッガー・ロウ 機動戦士ガンダム0079 吉岡氏 つけあわせ ドデカニサ 砂漠の惑星 ナニワ音楽ショウ タクワパー 14760 カルマン渦 三柿野駅 ジェネレーションY ショット・ウェポン ドラムロ Branta 寒河江駅 さちかぜ 赤芝 七十門徒 ブルーサンダー ロスト・イン・トランスレーション かげろうお銀 堀ノ内駅 ポワトリン FNN NEWSCOM Zbigniew PartIII ETカード STVホール じっかい ヴィセンテ 大前駅 北海道エアシステム マルモンテル 周参見駅 ゼロテスター ナハネフ 総士 リオ・グランデ・ド・スル CLAMP学園探偵団 ハズブラートフ 油須原線 漆生 ロマネス 浦安鉄筋家族 こわれもの アンコーレ王国 クレマー 非訟事件手続法 テロケファルス メリクリウス 無責任艦長タイラー ホーエンハイム 土塚理弘 マテリアル・パズル からす座 カパネウス 魔性の子 波川 花簪 TOKYO TRIBE2 15200 リトラクタブル サトラレ 木次鉄道部 櫛ケ浜 カマキラス ガインゴブ ラジオ・スターの悲劇 ギャラクシア アビシャイ 豊後森 フェーマルン タージマハル・ホテル ファイナルファンタジー・クリスタルクロニクル 目黒祐樹 言論出版妨害事件 熱帯樹 differenze versione Halcyon 国地頭 Costa Rica アイギアレイア 仁保城 イル・アルスラン バーノン郡 パネルでポン むんこ 新世紀エヴァンゲリオン2 新スーパーロボット大戦 ヘビトンボ 機動戦士SDガンダム 佐藤藍子 主任がゆく! ベン・ベラ ネオブロックス VOW WOW 白塚駅 ロックフェラー・リパブリカン パロパロ DUP 全球凍結 猫目小僧 新山城 ザ・ネクスト スペースビースト 箱島 Pensacola イスメト・イノニュ オカンパ ガビチョウ アダド・ニラリ グラウケー 伏完 ハイデッカ アブドッサラーム・アーリフ ダイニン ドゥジャイル 日電歩道 皆川藩 四国運輸局 プロジェリア インボイスSEIBUドーム D-snap チャバカノ \"′, 珸瑤瑁 パンチDEデート 国際会議観光都市 シュム ヤーダブ オッゴ インレ 裸の大将放浪記 RUP 機動戦士ガンダムF91 フォーミュラー戦記0122 懲毖 ヤンピース アナクサンドリデス シュトリゴン パイプフィッシュ 大多和 エルゴン山 ナハリヤ 北西連邦管区 イェニー キュステンディル州 7577 顔恵慶 ツァ ユーホーム いぬかみっ! 北西部州 意向形 アロンダイト パウル・ゲッツ イスファンディヤール ファン・フランシスコ・エストラーダ インターネットワーキング メタウルス グレヴェナ アラグアイア Gartner パクサス クーターガメ フランツ・カイザー ハネジネズミ 寺垣 ディアルガVSパルキアVSダークライ テレウティアス スキアボーネ 宗義真 ツヴィステ レチクル座 ジアーガ 白地図 市野谷 アンティマコス ピタゴリオ ブレレン チャネルボンディング 桜井古墳 市川壽海 ブルー・ハワイ フェー 豊かの海 ウィキバーシティ エッチンガー 浜原 エキサイトボクシング ネマティック液晶 セメナウィ・ケイバハリ キャサリン・スウィンフォード くちよ グローフェ レア王 }^{ 曽祢まさこ 解離性健忘 カヴァイヨン .hack//SIGN メルツェン かっぺい パワーグローブ 対馬海峡西水道 ポケットモンスター ハートゴールド・ソウルシルバー 東京ラプソディ バートベルゲン boldsymbol ヘルドニア 筒賀村 Rie fu トミネ ベネヴェントゥム 軟骨伝導 ヴァレンホルスト タプー シュワルツシルト半径 井上三太 岡造道 ドラゴン・レディ Discreet LuxRender 詩を書く少年 ガーサー モハーチ トゥジ キュクノス 益陽市 ノグリキ駅 渝中 セイエル 孫立人 サーレポル チヘ エディルレイド 大門軍団 長沼村 ベルガリアード物語 マロリオン物語 ぶぶ漬け 里48 stella ナイトスクープ HΛL 裴潜 アナール ミマロパ チンチロリン 螢雪時代 高圧ガス製造保安責任者 STOICSTONE シープシャンクス マゼラン級 DnaB Tiberius 長崎屋バスターミナル 氏繁 虫姫さま ポセイダル クラフト＝エビング エネルギー管理士 惑星冒険もの スーパーまつかぜ スーパーおき エッガーランド AChE レトロ電車 有機スズ化合物 ヘラクロナス ルッツェ 蘇岩礁 ドンブラ トゥクルティ・ニヌルタ アッシュール・ニラリ ティオーネ・ディ・トレント ティルッチラーッパッリ カダルール カムイオー ヴィリュップラム アッガ 三毛猫ホームズ ラーマナータプラム トカゲモドキ 吸血鬼ゴケミドロ ネサス シャミセンガイ 大更駅 宇野みなと線 インディス F.S.S. サーノフ 広近 おーはしるい トルステンソン スーパーシルフ 下笹目 ヴァルスガーナ・エ・テジーノ ドルカス ゴケミドロ クリムチャク サハ111 南八幡 古島清孝 磐梯急行電鉄 バハル・アル・ガザール 猫缶 ヨムスヴァイキング Shenzhen Canavese KASKR Mesoplodon trek ファティック županija ペルジーネ・ヴァルスガーナ BLOODY オラトリオ・タングラム ドラッケン エグゼリカ 古久喜 ミラソウ 鹿角花輪駅 徳山地域鉄道部 せとうち地域鉄道部 パプワ サロ110 Dearborn 伊勢甚 マールスフェルト グロースアルメローデ Geophys 内方次元界 オノマルコス タイガー・ラグ 慶南地方警察庁 ウスバゼニゴケ フジクロームベルビア D-Rive UIATF DAMIJAW オン・ヌ・シャンジュ・パ スースロワ Radziwiłł アラマキー 石月 中畝 バルカイザー カルディツァ グラフ社 ドキハキ エレコーゼ テイズウェル ゲイラクス ネッツグラーフィ Com.A 幽霊ゾンビ スロシ NICAM LMTO 志摩ようこ じあまり 遙輦 JOSTAR'"
            ],
            "application/vnd.google.colaboratory.intrinsic+json": {
              "type": "string"
            }
          },
          "metadata": {},
          "execution_count": 10
        }
      ]
    },
    {
      "cell_type": "markdown",
      "metadata": {
        "id": "d3ggj2nSfOoY"
      },
      "source": [
        "### サイズが最小のクラスタを調べる"
      ]
    },
    {
      "cell_type": "code",
      "metadata": {
        "id": "uviB0AC-YyxM",
        "colab": {
          "base_uri": "https://localhost:8080/",
          "height": 177
        },
        "outputId": "7918c3d6-259e-46e1-981d-9ba91d570b51"
      },
      "source": [
        "' '.join(words[labels == sorted_clusters[99]])"
      ],
      "execution_count": 11,
      "outputs": [
        {
          "output_type": "execute_result",
          "data": {
            "text/plain": [
              "'求めよ 連れ戻そ だろ しよ ご 戻ろ 盗も あろ 受け取ろ 抑えよ 登ろ けんど 戻そ 取り持と つこ させよ 押し通そ せよ 示そ 集めよ こんど 出そ 討と 高めよ 行なお 語ろ 納めよ 言お 渡そ 及ぼ でしょ 立と 抜こ 斬ろ やろ 付けよ 見よ 殺そ 収めよ 立ち去ろ 引き返そ 慰めよ 切ろ いえよ 返そ もらお ましょ 帰ろ 見極めよ 殴ろ 探ろ してやろ かかろ まいと さそ 奪お あげよ 聞こ 刺そ 買お 捕らえよ 送ろ 贈ろ 戦お ちろ 備えよ ぶろ 迎えよ ほしょ えんど 決めよ 伝えよ 知らせよ 遊ぼ かいきょ 受けよ かんす 出よ いこ おこ 立て直そ かわそ 渡ろ たろ 保と かけよ 与えよ 役立てよ 行お 得よ 逃げ出そ 助けよ 近づこ 合わせよ ていりゅうじょ 洗お みよ 始まろ 図ろ 彷徨 届けよ 減らそ 辞めよ なろ 立てよ られよ 起こそ 封じよ 結ぼ 調べよ 救お ごまかそ 避けよ 抱きしめよ 防ご 歌お 守ろ 上げよ 導こ 述べよ 割ろ 打と 死の いよ 見せよ よかろ 取り戻そ 売り出そ 変えよ 目指そ 逃げよ 乗ろ 言えよ 妨げよ 知ろ 乗り切ろ 作り上げよ 育てよ 入れよ 認めよ 及ぼそ 加えよ 作ろ しじょ 乗り込も 留めよ 尽くそ 働こ 続けよ 組み込も 潰そ 広げよ 挑も 探そ げんこ 進も 座ろ 掴も ぎゅ 見出そ つけよ 書こ 倒そ 見直そ 開こ 追い払お 乗っ取ろ 用いよ 譲ろ 行こ 追い出そ れよ 説こ 絶する 置こ づけよ 笑お 盛り上げよ 食お やめよ じゃろ できよ 狙お 止めよ ぶそ 盛り込も ぶしゅ 葬ろ 通り過ぎよ 取ろ 始めよ 捨てよ 応えよ 逃れよ 補お 握ろ 進めよ 強めよ 当たろ 起きよ 壊そ 描こ 採ろ 貫こ 持と ありか 使お 極めよ 抜け出そ 果して 消そ 会お きんじろ 出かけよ 召し出そ ぎじょ とうじょ 貸そ 触ろ げつよ 仕立てよ 覚えよ 明かそ 済ませよ 稼ご 去ろ 貰お 捕まえよ 滅ぼそ 逃がそ 移そ 確かめよ っしょ 消えよ つくろ むそ 退けよ 就こ 封じ込めよ 暴こ 応じよ 仕えよ 定めよ 支えよ 攻めよ 考えよ 話そ 攻め込も 引こ 掛けよ 飛び込も 動かそ 隠そ 伸ばそ 持ち出そ はかろ もたらそ 売り込も 裂こ 引き出そ 挙げよ 広めよ 取り上げよ 深めよ はも 増やそ 暮らそ 正そ 忘れよ 委ねよ 飲み込も 引き受けよ げんど 生み出そ 下ろそ 活かそ 着こ 食い止めよ 頼ろ 飾ろ 連れ去ろ 焼こ 果たそ ひらこ 推し進めよ 射よ 捉えよ しまお けんじろ 晴らそ 教えよ 見つけよ 勝と 離れよ 運ぼ 拾お いちこ 追いつこ 近付こ 食べよ とどめよ 向かお 引き継ご 旅立と 話し合お 捧げよ 計ろ 取り込も 払お 就けよ 近づけよ 残そ なかろ 継ご 持ち上げよ てんこ 答えよ 楽しも 下げよ 試みよ 成し遂げよ 呼び込も 解こ 寝返ろ 飲も 盗み出そ 生き残ろ 許そ 引き裂こ 乗り越えよ 頼も はじめよ こよ 引き戻そ 頑張ろ 直そ 無くそ 呼び寄せよ 選ぼ ふそ 呼び戻そ 据えよ 整えよ 打ち出そ 送り込も 遂げよ 和らげよ 改めよ 決しよ 学ぼ 読も 超えよ 阻も かわこ くちゅ 持ち込も 断ろ 過ごそ 抑え込も 受け入れよ 手放そ 沈めよ 残ろ 仕掛けよ 襲お 弱めよ 終わろ 営も 作り出そ 向けよ 築こ 諦めよ 合お 弾こ 免れよ 裏切ろ 取り合お 走ろ 入ろ 勝ち取ろ 取り締まろ 置き換えよ 祝お 立ち上がろ 観よ いたろ 来よ 越えよ 襲いかかろ 助け出そ こうじろ 雇お はくしゅ 代わろ くりょ 迫ろ やり直そ 除こ 建てよ 撮ろ 鎮めよ 追いかけよ 取り入れよ 訴えよ 授けよ 放と ひょうど 任せよ 覆そ いじろ じきょ 込も 取り付けよ のも 課そ 取り組も 立ち向かお 移ろ 問お 従お 吸お だそ 脅かそ 向き合お 待と 賄お 追い返そ 下そ 隠れよ 生かそ ふしょ 当てよ 陥れよ 落とそ りゅうじょ 訪ねよ 突き止めよ 帰そ 着せよ 治めよ 当てはめよ とらえよ 救い出そ しりょ 加わろ たくらん 通そ 通ろ 嗤 追お やこ 信じよ 扱お 読み取ろ 通り抜けよ ちょうじょ 誘お 引き起こそ 変わろ 撃と えんしょ 取り返そ 投げよ 組も 押しつけよ ちょうちょ あやかろ 売ろ 促そ 打ち立てよ 設けよ 奪い取ろ 押し付けよ 売りつけよ 叩こ 犯そ こきゅ 造ろ 引き抜こ 操ろ 掛かろ 過ぎよ 取り出そ 赴こ 飛び降りよ 開けよ 臨も 上ろ 迎え入れよ 打ち破ろ おびき出そ 治そ うたお 遠ざけよ 出来よ 遅らせよ 癒そ 埋めよ 持ち帰ろ 託そ 別れよ 呼ぼ 訪れよ 起ころ 告げよ 絶と ゆこ 描き出そ 削ご 引き止めよ ふじつ てんゆ 留まろ 借りよ 写そ 奪い返そ 泊まろ しんぞ 引き込も 崩そ 無から こも 乗り出そ 買い取ろ 歩も 叶えよ 結びつけよ 任じよ 招こ びきょ 名付けよ 報いよ もうそ 引き取ろ てよ 断ち切ろ 興そ 儲けよ 引き上げよ やり過ごそ 触れよ 突こ 住も ゆうじょ 諌めよ 創ろ 引きずり込も 巻き込も くりゅ とめよ 見届けよ 降ろ 真似よ 満たそ 取り入ろ 飛び立と 引き離そ 鍛えよ 繋げよ 覗こ 見捨てよ 引き渡そ しめよ まとめよ 脱ご 衝こ 退こ あてよ じょうじょ 上がろ 解き明かそ 試そ かえろ 押さえ込も ひほ 励まそ じゅうじろ 論じよ 貶めよ 抜けよ つなげよ げんじろ 探し出そ 傷つけよ 捕えよ 追い込も 経と 口説こ 追い落とそ 落ち延びよ 塞ご 施そ 踊ろ 見いだそ つなご 固めよ 聴こ 替えよ 引き入れよ 騙そ 燃やそ 迎え撃と 終えよ 関わろ 敷こ 獲ろ しんじろ 取り掛かろ 連れ出そ 愛そ 寝よ きいちろ 乗せよ 至ろ 思い出そ 横切ろ 破ろ 生き延びよ しょこ 惹こ 聞き出そ 飛ばそ 充てよ えいじろ こごろ 表そ 続こ にんきょ 流れよ 見つけ出そ しょくど 閉じよ けんしろ 飛ぼ 取り除こ なそ げきと 切り替えよ 呼び出そ 結び付けよ 捕ろ 預けよ かばお なおそ みせよ 取り押さえよ なだめよ げじょ 回り込も 降りよ 努めよ 懲らしめよ 取り立てよ 護ろ 掲げよ 生き抜こ 逃げ込も せしめよ なくそ 目立と 押さえよ ほっしょ 位置づけよ へんちょ 流そ 見せかけよ 演じよ'"
            ],
            "application/vnd.google.colaboratory.intrinsic+json": {
              "type": "string"
            }
          },
          "metadata": {},
          "execution_count": 11
        }
      ]
    },
    {
      "cell_type": "markdown",
      "metadata": {
        "id": "hxg_othufTgX"
      },
      "source": [
        "### サイズが中間的なクラスタを調べる"
      ]
    },
    {
      "cell_type": "code",
      "metadata": {
        "id": "CKbaZrHJZhM-",
        "colab": {
          "base_uri": "https://localhost:8080/",
          "height": 177
        },
        "outputId": "3d95aeb8-9fa9-4cbd-da1d-b1d92d2533b3"
      },
      "source": [
        "' '.join(words[labels == sorted_clusters[49]])"
      ],
      "execution_count": 12,
      "outputs": [
        {
          "output_type": "execute_result",
          "data": {
            "text/plain": [
              "'称号 1675年 1680年 1731年 1740年 1750年 王子 司教 紋章 1804年 1805年 1806年 1822年 1825年 1846年 1827年 1852年 1847年 1813年 1816年 男系 特権 ザイン 2世 パッサウ オーストリア 聖 シュテファン 大聖堂 アウクスブルクの和議 1855年 1786年 1854年 レオン フランス 死後 ヴィルヘルム ドルスキニンカイ ポーランド人 貴族 公爵 ワルシャワ アレクサンドル ＝ 1863年 公 もとで ブルゴーニュ公国 ハプスブルク家 1814年 1830年 ルクセンブルク大公国 同君連合 朝 1世 王 イングランド 王位 1707年 国王 フェリペ 5世 王妃 サヴォイア ヴィットーリオ・アメデーオ 公女 マリア ルイーザ フェルナンド 即い サンチョ Sancho アラゴン王国 ナバラ アラゴン ラミロ 4世 カスティーリャ王 アルフォンソ 世 即位 カスティーリャ レオン王国 ラ王 バルバストロ ペドロ1世 伯 3世 イサベル 1662年 1679年 1682年 1718年 1832年 ハンガリー 男爵 ピピン 1522年 国教会 卿 王女 ベレンガリア イングランド王 リチャード1世 妃 ブランカ シャンパーニュ ティボー テオバルド 1714年 デヴォンシャー 1610年 1721年 1723年 1722年 1788年 1831年 1840年 フィリップ 1630年 1748年 1811年 南フランス ミラノ 1784年 伯爵 1809年 1761年 君主 王族 クレオパトラ イギリスの君主 ピョートル大帝 皇帝 ケルン ルイ13世 枢機卿 リシュリュー ジャンヌ・ダルク ミラボー フランス革命 エカチェリーナ2世 家長 ポーランド立憲王国 1815年 ナポレオン・ボナパルト ワルシャワ公国 ポーランド王国 ロシア皇帝 ナポレオン クレメンス メッテルニヒ ニコライ デカブリストの乱 1848年 農奴解放令 シュラフタ スウェーデン＝ノルウェー カール ニコライ2世 退位 ロマノフ朝 リヨン ニース 祝う 1767年 1715年 1812年 1834年 1775年 1794年 プロヴァンス ジャ ユダヤ教徒 アル 1771年 1819年 1795年 1808年 ローマ王 ローマ教皇 戴冠 神聖ローマ皇帝 ドイツ王 ローマ皇帝 帝位 ザクセン ハインリヒ オットー イタリア王 教皇 叙任権闘争 グレゴリウス7世 ハインリヒ4世 対立教皇 Imperator カトリック 聖職者 1147年 帝国都市 金印勅書 選帝侯 マインツ 大司教 ケルン大司教 トリーア大司教 ボヘミア ライン宮中伯 ブランデンブルク ジギスムント フリードリヒ 帝冠 ボローニャ 戴冠式 カール大帝 コルヴァイ コンラート ホーエンシュタウフェン ループレヒト ヴェルフ 対立王 アーヘン パヴィア イタリア遠征 マクシミリアン 統治者 神聖ローマ帝国 フランス皇帝 ナポレオン1世 Roi 1818年 オーストリア皇帝 フランツ 女王 フランシスコ会 ポルトガル王 フェリペ2世 マドリード 王宮 キリスト教徒 ローマ市民権 パウロ スペイン国王 1618年 1620年 バチカン 教皇庁 オーモンド アグネス アンナ トリノ 1638年 1642年 ハレム イギリス王室 トランシルヴァニア カルロス 宮殿 聖職 レビ ウリエル アブラハム ニコメデス フィレンツェ 1737年 1773年 1785年 清教徒革命 オリバー・クロムウェル 1653年 1648年 イングランド共和国 1629年 親政 1639年 主教戦争 クロムウェル イングランド国教会 イングランド内戦 聖者 トマス・ウェントワース カンタベリー大主教 ウィリアム・ロード 大主教 1536年 1547年 アナーニ事件 ボニファティウス 聖王 ルイ9世 フランドル 三部会 身分制議会 コロンナ テンプル騎士団 ローマ教会 アヴィニョン アイルランド議会 フリードリヒ・アウグスト 護国卿 1485年 王室 1650年 リチャード・クロムウェル ピューリタン 王政復古 1660年 ジェームズ2世 1764年 合同法 1779年 1849年 1623年 ヴィクトリア インド総督 1654年 ペトロス ドミニコ会 フェルディナン 1526年 1520年 1523年 1529年 1620年代 1634年 1781年 1789年 アントニウス 1538年 プリンス・オブ・ウェールズ 1701年 1807年 1844年 1857年 1858年 帝室 ドイツ皇帝 イングランド王国 ウィリアム1世 シュレースヴィヒ＝ホルシュタイン シュレースヴィヒ公国 ホルシュタイン公国 デンマーク 王家 オルデンブルク ゴットルプ 共同統治 シュレースヴィヒ 1713年 ホルシュタイン プロイセン王国 1754年 ラースロー 修道士 修道院 聖人 マヌエル 1770年 1828年 1720年 1664年 1689年 キエフ 1742年 1787年 1826年 アルフレート 1835年 7月革命 プロイセン国王 フリードリヒ・ヴィルヘルム 1851年 先王 ナポレオン3世 グスタフ ニュルンベルク アルダシール 1719年 1756年 1760年 1755年 1792年 1802年 1692年 グラーツ マルセイユ 1765年 ハン 1774年 1783年 子爵 1768年 1777年 アウクスブルク ルター派 カルヴァン 宮廷ユダヤ人 シュマルカルデン トリエント シュマルカルデン戦争 モーリッツ クルムバッハ 辺境伯 アルブレヒト・アルキビアデス フェルディナント 公領 1524年 マルティン・ルター 宗教改革 騎士 シュヴァーベン チロル テューリンゲン フランケン地方 1525年 農奴 シチリア 1294年 1533年 オルレアン 宮廷 コンスタンティヌス 聖遺物 イギリス王 侯 ヴェネツィア 総督 侯爵 ハレ リシャール royale ルイ14世 1700年 爵位 Baron 1797年 1866年 1734年 アルル 1801年 ノーサンバーランド 1730年 1751年 1766年 1778年 1790年 1793年 1799年 カール・テオドール 臨席 カーン マルク 駐在大使 1661年 婚礼 1717年 1726年 1758年 1759年 1745年 1757年 1820年 1829年 七月革命 ムスタファ 1772年 大首長 サバーハ 1769年 副王 アンリ フランソワ アルベール ルイ カラカラ 殉教者 ガッラ・プラキディア アウグスタ メディオラヌム アンブロシウス 霊廟 ウィクトル テオドリック マクシミアヌス ユリアヌス 預言者 ユスティニアヌス テオドラ 廷臣 相続人 ザロモン フォンテーヌブロー 1839年 1727年 1729年 ケーテン レオポルト 祭司 ペテロ メーヌ ハーデクヌーズ クヌート クヌーズ マグヌス 摂政 王位継承 ブルッヘ アングロ エゼルレッド ジークフリート 宮廷画家 ポリニャック 男性名 リディア ブルターニュ リヴォルノ ペルージャ バレンシア パルマ エリザベート シエナ アンドレイ エリザヴェータ ベルク セーヌ 1800年 宗主 ヨアヒム 1838年 亡くなり 王冠 ヘンリー8世 エリザベス2世 1622年 ナポリ王国 サルデーニャ王国 カルロ 1821年 1823年 1625年 1685年 1688年 マドリッド 聖母 昇天 1752年 持参金 復活祭 サマセット 1676年 クリストフ オルロフ 1631年 デン・ハーグ ユリウス エヴォラ エマヌエーレ アレッサンドロ マイセン ヴィリニュス ブリュン オセール バルセロナ マルクス・アントニウス オクタウィアヌス アウグストゥス 執政官 ルキウス ユリア プブリウス・クロディウス・プルケル アウルス・ガビニウス ファラオ 復位 独裁官 コンスル ブルトゥス アルシノエ オクタウィア ローマ市民 カリグラ クラウディウス ネロ 第一帝政 第二帝政 第一共和政 ラフィット 改宗 ギィ 1404年 ストラスブール フィンランド人 息子たち バイエルン 大公 バルバロッサ ロタール ゲルトルート トスカーナ アルブレヒト 聖堂参事会 サンタ・マリア ポルト オルシーニ フェデリーコ メディチ家 サント シャー アミール ヴィットーリオ・エマヌエーレ 王太子 サンクト 1668年 火刑 1744年 1666年 1842年 1796年 イギリス国王 1539年 1667年 ドラゴン騎士団 カミッロ・カヴール サヴォワ カヴール モデナ 1860年 1859年 司祭 ブーローニュ ダライ・ラマ パンチェン・ラマ ゾフィー エンツォ ルドルフ トート アレクサンドル・ネフスキー ウラジーミル 守護聖人 ラヴラ 1606年 ヤコブ ピカルディー マリア・テレジア ヨーゼフ 1780年 ロベール アラス バスティーユ 相続権 バラス ヴァンドーム 洗礼名 ローマ・カトリック教会 修道院改革 殉教 1534年 カルメル会 1537年 ペトロ セゴビア ピアチェンツァ 宗教裁判 グレゴリウス ブルゴス 列聖 シュタイン ロイス アンデレ 騎馬像 ボーヴェ 信教 フメリニツキー ヤロスワフ 教徒 フランス王国 ヴワディスワフ 府主教 エルサレム総主教 モーゼ モルダヴィア公国 ペレヤースラウ 正教徒 アールパード マルコス グレゴリオ トゥッルス・ホスティリウス アルバ セルゲイ・ヴィッテ 小村 ラント ペドロ 1803年 ルートヴィヒ フランツ・ヨーゼフ 1098年 1824年 薔薇戦争 ヨーク公 ウォリック伯 バッキンガム ノーサンバランド アンジェ ロリス 1521年 エドワード7世 1747年 1776年 1817年 1791年 ジョン・アダムズ グレンヴィル ロッキンガム 1763年 1837年 との 成久 フランチェスコ イブラヒム グイード ボルジア ホーコン 司教区 ボルドー ヨハネ・パウロ2世 ヤロスラフ トヴェリ サライ ミハイル クレモナ 1798年 インペラートル ツァーリ チェルニゴフ ポロツク ピョートル1世 ニスタット シノド グレートブリテン王国 パーヴェル ミハイル・ロマノフ ロマノフ家 ピョートル アレクセイ 1782年 カンバーランド公 アイルランド貴族 1762年 トマス・ペラム ジョン・ステュアート ウォルポール フレデリック・ノース ロロ 1626年 1628年 ジョゼフィーヌ カロリーヌ シャルル 上王 司教座 1415年 キルデア ヘッセン ブロイ アイルランド総督 自由国 サムエル イタリア国王 ウンベルト1世 主教 ウィルバーフォース ウィリアム・ペティ ガーター勲章 アイルランド王国 グレートブリテン アミアンの和約 フランス第一帝政 ジェームズ1世 政略結婚 東方正教会 モナコ ハサン クラレンドン コンスタンディノス コンスタンティノス ゲオルギオス パウロス マクデブルク ネブカドネザル ジョゼフ・ボナパルト 1655年 ブランデンブルク＝プロイセン デンマーク＝ノルウェー 王位継承権 プファルツ スウェーデン国王 カール・グスタフ プロイセン公国 ホーエンツォレルン家 城伯 アンスバッハ ゲオルク・フリードリヒ ゲオルク・ヴィルヘルム ゲオルク ヴェストファーレン条約 ハルバーシュタット 司教領 カミン ソビェスキ マグナート フォンテーヌブローの勅令 ユグノー ボヘミア王国 レオポルト1世 カッ 聖人暦 聖名祝日 聖名 ベルク城 ヨハン バシレイオス Castrum アンドラーシュ カーロイ フニャディ・ヤーノシュ ハプスブルク ブザンソン セイア デュラン シャルル9世 カトリーヌ・ド・メディシス サン＝ドニ 殿下 ネストリ 1690年 1710年 エレフテリオス・ヴェニゼロス アンドレアス ペーザロ ジョヴァンニ 1409年 洗礼者ヨハネ ステファノ ロレンツォ・デ・メディチ ロレンツォ エルンスト シュテルン ゲルラッハ カリストゥス2世 ユーグ エウゲニウス マヌエル1世 コムネノス アレクサンデル アフォンソ 1220年 ダヴィド ジョン王 第7回十字軍 グユク シリア正教会 エンリケ航海王子 ジョアン2世 リスボン エカチェリーナ カロル リポン グル マフムード アタベク スルタン クルチ・アルスラーン カリフ ワズィール エルサレム王 ヘルマン ドイツ系 ボリス・ゴドゥノフ ブルトン リューベック ハイメ 1810年 海軍卿 ウルヘル司教 ブルゴーニュ 大天使 ミカエル ブルゴーニュ公 セント・オールバーンズの戦い ソールズベリー ラドロー ダドリー アーサー・ウェルズリー アンリ4世 ナント 1841年 ヘント デンマーク人 ナポリ 魔女裁判 ファイフ メスキルヒ バーデン ヴュルテンベルク ドイツの政治 レーゲンスブルク ヴァイマル 1535年 ダルムシュタット ハノーファー アウグステ ルイーゼ アン王女 マンスター ウェールズ人 女王陛下 ヴォルフ コンスタンツェ 1635年 シュタイアー 宮宰 アルヌルフ アウストラシア ネウストリア ブルグント カール・マルテル ペルピニャン エティエンヌ トゥールーズ ルイ＝ナポレオン クラクフ ヴェルサイユ コンスタンティン モナコ公国 マルティン イル ルイ16世 ヴァレンヌ事件 大法官 ベンジャミン・ディズレーリ アラー ブルグンド カロリング朝 西フランク王国 アデライード オータン ジェルマン シャルル3世 ロレーヌ 聖俗 ソワソン 聖別 ギゼルベルト カロリング ムテサ シエーナ パレルモ 正教 ヴァロワ ヴィッテルスバッハ マティルダ ブランデンブルク辺境伯 ホラント伯 エノー伯 ルクセンブルク家 ヴァルデマール ブランデンブルク辺境伯領 マルガレーテ 伯領 ヨハネス 廃位 ニコラウス エドワード3世 ボルコ ギヨーム 1665年 ヘトマン 法王 女帝 トゥール ヘルツォーク ダニール ボリス ジャクリーヌ ウジェーヌ オイゲン ヘラクレイオス ルーアン マドレーヌ ノートルダム大聖堂 フランシスコ ミェシュコ ポズナン ヘンリク グウォグフ ブレスラウ 1746年 ニーダーシュレージエン チェンストホヴァ マゾフシェ デキウス ムハンマド ヴィスコンティ ノルマンディー公国 封土 セビリア ジョージ5世 フェレンツ 公子 ザクセン公国 ザクセン王国 ベルンハルト アスカーニエン ザクセン＝ラウエンブルク ヴェッティン ヨハン・フリードリヒ ポーランド継承戦争 ヴィッテンベルク エルネスティン アルベルティン ヨハン・ヴィルヘルム コーブルク アイゼナハ アンハルト マイセン辺境伯 賢公 ヨハン・ゲオルク アウグスト ライン同盟 ザクセン選帝侯領 ハノーファー王国 ナッサウ メルゼブルク ブラウンシュヴァイク ディジョン ジェルジ ハドリアヌス マルクス・アウレリウス ジグモンド 聖ミカエル マーチャーシュ 大公国 ル・ボン 1054年 無原罪の御宿り von マントヴァ リヨン公会議 インノケンティウス ベネディクト ハーン クリルタイ ルブルク 勅書 モンゴル皇帝 プトレマイオス1世 ピリッポス 紀元前323年 アンティパトロス アルコン 僭主 ロンドン塔 バッキンガム宮殿 ラヨシュ ランツフート 妻方 オスカル ジャコバイト 名誉革命 ステュアート オランダ総督 ウィレム メアリー2世 王位継承法 戴く ハノーヴァー朝 アン女王 アーガイル ロバート・ウォルポール 僭王 スペンサー・コンプトン ペラム ルイ15世 イングランド議会 ブリテン 1435年 1516年 ゴットフリート アイルランド王 コーンウォール公 スクーン アルノルト ベルナール トスカーナ大公 フェルディナンド バルバラ マリヤ アントワーヌ ヤール スウェーデン王 エステルイェートランド 1266年 スペイン王室 公爵家 儀礼称号 ヘンリー・ペティ＝フィッツモーリス タレーラン スコットランド貴族 ウィリアム・グラッドストン カーゾン ウェストミンスター寺院 シャー・ジャハーン アーガー・ハーン リソルジメント ブルボン スヴェン ヴォルムス ヴォルムス協約 叙任権 継承戦争 狂信的な トリーア エルンスト・アウグスト 諸聖人の日 カタリナ オルド 1217年 ジャンヌ カラ フランシア フアン・マヌエル・デ・ロサス ブラジル帝国 コインブラ ローズベリー ボナ ランカスター公 バイエルン王国 コノート アミアン アフマド コンスタンチン ジャービル アントウェルペン カイザースラウテルン アンヌ 寵姫 ギリシャ正教 ユーリー イーゴリ インスブルック カレル フルダ エーリヒ エリーザベト ティリー 方伯 ヒルデスハイム ブラウンシュヴァイク＝リューネブルク ヴァンフリート エアフルト カンポ・フォルミオ条約 帝国自由都市 アイオロス ジョアシャン・ミュラ ジョアン1世 イザベル マルグリット フランシュ ルネ アドルフ マフムト パシャ 宮廷文化 マフ 参事会 フレデリク ウルリカ・エレオノーラ フリードリヒ4世 スタニスワフ・レシチニスキ スタニスワフ アフメト スタニスワフ・アウグスト・ポニャトフスキ チャルトリスキ ゲルツ フレドリク フリードリヒ大王 リエージュ ベルタ クシー フェリペ6世 フアン・カルロス 全名 フアン アストゥリアス レオノール ドミトリー ジェントリ ボンヌ アンジュー ポントワーズ トゥーレーヌ フランドル伯 アルトワ アルマニャック ブラバント ゴンザーガ 1513年 1517年 リヴォフ 1430年 1209年 スレイマン ジャーミー パーディシャー オスマン1世 オルハン ムラト バヤズィト ダルヴィーシュ メフメト 征服王 スィ アブデュルメジト メクレンブルク ボードゥアン マティルデ コンヴェルサーノ カルヴァーリョ 伯爵夫人 オランジュ トゥドハリヤ ルッカ 斬首刑 コジモ トスカーナ大公国 シニョリーア ラッツィンガー ヴォルフェンビュッテル 公カ カロリーネ ルイ18世 亡命貴族 レオポルド クラレンス公 フレデリック・ルイス 英国王 シャトー ヴィッテン ロルシュ スフォルツァ スフ ヴュルテンベルク王国 ゴータ ミハイ ホーエンツォレルン 1431年 教皇領 トマス・クランマー 清教徒 マリー・アントワネット ビクトリア女王 コンスタンティヌス1世 マリク・シャー アッバース ベアルン 南仏 アキテーヌ マルグレーテ ハーラル ノルウェー国王 オーラヴ ハラルド マッタ ニーダロス アルベール2世 ロレンス ベアトリクス エリナー フーケ エリゼ宮 マリー・ド・メディシス テュイルリー宮殿 リウトプランド カールマン ザカリアス クロヴィス ステファヌス パトリキ ナルボンヌ 1753年 コルベール アメンホテプ アクエンアテン アメン ベアトリス アヴィス サイード ガルバ アンティオコス ナターリア 修道院長 マルティヌス サラゴサ カリストゥス チェーザレ・ボルジア フェラーラ ガンディア チェーザレ ルクレツィア バスティーユ牢獄 ルイ・フィリップ モラ ノルマン朝 ハインリヒ5世 ジョフロワ アンジュー家 ブロワ サリカ法 カンタベリー大司教 スコットランド王 ブローニュ プランタジネット朝 カペー家 ユーグ・カペー カペー カペー朝 ウード エンリケ ポルトゥカーレ フェルナンド1世 ジョアン4世 ドルー ニカイア帝国 ブランシュ フアナ 母后 シャルル・ダンジュー ジョヴァンナ フィリップ3世 クレルモン ブルボン家 ブルボン朝 ヴァロワ朝 エヴルー ジェーン・シーモア ピエトロ ベルナルド カアン 1519年 総司教 ヴァルデック 勲位 フリース ゲルデルン クレーヴェ ゼーラント ミデルブルフ ニュージーランド総督 シャルロット カルロス3世 サッ コンティ イェルサレム ル・ピュイ ベラスケス マルタン アリー オルジェイトゥ イスマーイール テオドシウス1世 宮廷楽長 サルデーニャ王 ゲルフ ロンバルド＝ヴェネト王国 1066年 ジョージ・ゴードン アッ マグデブルク 東方典礼カトリック教会 総主教庁 レオ13世 ピウス ベネディクト会 在俗 ヒエロン レイスウェイク 準男爵 ピール 一代貴族 王配 聖ニコラス マクベス フェラン ナキア 藩王 アレクシオス レーモン アルフォンス ベルトラン カラーウーン ラムセス セリム トゥトゥシュ イクター スルターン バルキヤールク イブラーヒーム イブン・アル スライマーン トゥグリル マスウード ジョスラン サーリフ ユースフ ハイル ウマル 十分の一税 コルテス クィントゥス・ファビウス・マクシムス マルケッルス アシェル ウマイヤド・モスク 1570年代 バハードゥル ホラント州 プファルツ選帝侯 帝国代表者会議主要決議 エルンスト・ルートヴィヒ バリャドリッド アルフォンソ10世 イサベル1世 国王自由選挙 君侯 アルプ・アルスラーン ニザームルムルク バルクーク ヴァーサ フリードリヒ・カール エルザス カジミェシュ リヴァ ブラバント公国 ユーリヒ 1503年 バイエルン公国 バヴァリア プレスブルクの和約 ザルツブルク大司教 バイロイト ヴレーデ オソン プレスブルク コンピエーニュ コルネイユ ボソ ヴィエンヌ 私権 大祭司 マニ ナーセロッディーン・シャー 聖ヨハネ騎士団 ホスピタル騎士団 ケーニヒ 1499年 1505年 コプト正教会 ニカイア公会議 クールラント ゴドルフィン 1437年 ベッドフォード フォアポンメルン ストックホルム条約 ロストック エリザベス女王 プジョル 死ま シルウェステル ジェルベール ヒメネス カルマル同盟 エーリク ウィルヘルム ヴィレム 特許状 エリザベス1世 ジョージ・ゴードン・バイロン サヴォイア家 フランス語名 グリエルモ 国家元帥 ゴリツィン ローマ法王 西ローマ皇帝 ロタリンギア クロタール カール1世 マクシミリアーノ 福者 シーサワーンウォン モスクワ総主教 シュルツェ ドミニコ ディートリヒ バルセロナ伯 ラモン・バランゲー 教書 1410年 ミンダウガス トラカイ ヴィータウタス クズルバシュ タフマースブ 1494年 聖パウロ フランツ・ヨーゼフ1世 ファドゥーツ ヨーハン ヴラジーミル ソフィヤ ジョン・ハワード 金羊毛騎士団 1215年 エドゥアルト・シュトラウス ローマカトリック教会 ナヴァフルダク ヤズデギルド シュリー ハーティントン 繰上勅書 皇帝教皇主義 アンブロジウス コンスタンディヌーポリ総主教 総主教 コンスタンス オフリド パレオロゴス王朝 イサキオス フォティオス トマス・クロムウェル ボーフォート コンデ 婚姻の無効 ヴァランス 火薬陰謀事件 ケイツビー 国王至上法 トマス・モア カトリックの信仰 オラニエ公 アンテミウス ホノリウス ロムルス リキメル モンペリエ フェルナンド3世 モハンマド・レザー・シャー シャープール シュタット カトリーヌ パヴィアの戦い ジャンヌ・ダルブレ ツェリェ アンベール イヴァン 家門 傭兵隊長 ボナパルト家 ボナパルティスト 百日天下 復古王政 ルイ・ボナパルト オルレアン家 オルレアニスト シャルル10世 レジティミスト ボナパルト フランス第二帝政 1397年 聖金曜日 エンマ ロドヴィコ トロワ サン＝レミ ピカルディ アレマニア 王カ スポレート ジャコモ マンフレーディ サンヘドリン ヨハネ・パウロ ランベルト コンクラーヴェ マルチンクス アグリッパ 登極 オットーネ ピオ ツェティニェ ゴンサロ ファドリケ 騎士団長 サンタンジェロ シャルロッテ ヴァレンシュタイン 世俗化 ケストリッツ ミュラ ウェルス リヒテンシュタイン家 レーエン 質入れ ウルリヒ マールバラ ジョン・チャーチル バーデン＝バーデン イザベラ ヴロツワフ ファールーク フセイン1世 ランスロ ジャック・ネッケル アルバート・ギャラティン スタール ガーリチ エボラクム コンスタンティウス エグバート エイリーク エドワード懺悔王 スコットランド王国 プランタジネット エドワード黒太子 ランカスター朝 リチャード3世 ボズワース ヨーク朝 ヘンリー7世 アルクィン シモン・ド・モンフォール ゴドフロワ ウルビーノ タンクレーディ リナルド ルッジェーロ 先夫 ジョン・ロックフェラー カスティリオーネ アジャンクールの戦い セビーリャ ファイサル ガージー ファイサル1世 ハーシム 王太 王位請求者 ピウスツキ エステルハージ フランチェスコ・スフォルツァ イッポーリト ウィンザー城 ヨハン・シュトラウス1世 リンツ 外交革命 ハプスブルク＝ロートリンゲン家 シュレジエン ウェストミンスター条約 ポンパドゥール リュネヴィルの和約 セルギウス 助祭 サン・ピエトロ大聖堂 ガエータ バチカン宮殿 ベネディクトゥス ヨハンナ シメオン ヌムール カルロス2世 フアン2世 トロッパウ アナスタシウス フス シクストゥス クレメンス8世 ウルバヌス パスカリス 聖座 最高神祇官 ツェラー ジャンセニスム ビューディンゲン ハーナウ ゼーリゲンシュタット アルカラ・デ・エナーレス ピーター・ストイフェサント フアン1世 ロートシルト ロートリンゲン マグナ・カルタ リー5世 テューダー朝 貴族代表議員 クランボーン 法服貴族 紋章院 イングランド貴族 グレートブリテン貴族 連合王国貴族 ジェズアルド ブレナム宮殿 ネクタネボ 公ジ ウゴ 徴収権 年のうち ヴィテプスク インペラートル・アレクサンドル オストロフ 大宰相 カール・ルートヴィヒ フェルナン シトー会 カラト ヤギェウォ ゾグ ギーズ シャルトル ペドロ2世 ペラ 異端審問 ヨアキム 1780年代 ゴドウィン ピストイア サン＝ピエール 素イ ワッハーブ派 フィリップ・ヴィルヘルム ジョアン5世 チェコ人 ジェローム・ボナパルト マクセンティウス シャンベリ フルク クリュニー修道院 アウグステ・ヴィクトリア ハリール ブランドフォード イギリス国教会 カンタベリー大聖堂 アレクサンドラ ウェスパシアヌス エドワード1世 ボーシャン フランス第一共和政 イエナ ニコラオス ウーゴ ラーマ5世 受爵 ベネディクト16世 エディンバラ公 ラーマ4世 モンクット ドゥカート サフィー イシュトヴァーン エステルゴム 聖イシュトヴァーンの王冠 マーリア ミクローシュ ポジョニ ナッサウ家 ヴァーツラフ セーケシュフェヘールヴァール ビトム エルジュビェタ ラーコーツィ ラーコーツィ・フェレンツ ミゲル カシム 伯爵令嬢 アルテンブルク 先触れ ザイス インクヴァルト シャトレ ロマノフ王朝 グリマルディ マルケ グロース リモージュ モラヴィア シビーユ ゼノン セイム コルネリウス ツァールスコエ・セロー 預言者ムハンマド マンチーニ パウルス ヴォルフガング ワリード サヴォイア公国 ボルゲーゼ テレーザ シェール アッシジ ナヴァール アクバル イマーム 中フランク王国 フェーデ エクス＝アン＝プロヴァンス リエル テューダー アブデュルハミト2世 ウンベルト 公現祭 レオーン マクシモス ウィール 聖ヤ 馬上槍試合 ドージェ モンフェラート アル＝アーディル ペーテル エドワード王子 イヴァン4世 帯剣 ヴァルデマー エドマンド アイユーブ メリザンド ジョゼ セバスティアン ポンバル 公コ シュパイアー サイイド シャリーフ フィリッポ サン＝ジェルマン＝アン＝レー ポワシー シュヴルーズ シャティヨン パレ・ロワイヤル マリー・テレーズ ティトゥス カール・ヴィルヘルム・シェーレ ハイレ・セラシエ1世 フォワ タウンゼンド ノイシュトレーリッツ デッサウ クヴェードリンブルク コンスタンツ クリュニー シャフツベリ ラテラン フッガー家 シュトラスブルク トマ トトメス イアフメス 副総督 チューリンゲン ベルギー王室 グレゴリウス1世 フォンセカ ラーマ9世 モンターギュ ジョン・ネヴィル グロスター公 ジョン・オブ・ゴーント 公ジョ ナウムブルク アーラム ギー ウスマーン シャー・ルフ 王領地 フィリッポス アッタロス フラスカーティ キャンピオン オポーレ パドヴァ シェーンブルン宮殿 マルギト イーゼンブルク 安息日 ラシュタット リューネブルク ラジヴィウ ケント公 Buckingham フランス東部 エイレーネー 大空位時代 ペンブルック 正統カリフ ロドリーゴ フィリッパ モスクワ会社 ガイウス クァエストル プラエトル ドルスス カガン ブールジュ マアムーン カタルーニャ人 ベラスコ ゲーラ 王シ キョプリュリュ シトー クレルヴォーのベルナルドゥス アリエノール ベルナルドゥス ボルボン ドーファン マルゲリータ クラーゲンフルト マロ カトリック両王 アブド・アッラフマーン イブン オルタンス マリア・アンナ ラングドック ゲイジ アウラングゼーブ ムガル エーベルハルト グスタフ・アドルフ エリク エミリア ルフェーブル メイフラワー アリエノール・ダキテーヌ シャテルロー ジョウン カール・アウグスト アシャ ロシャンボー 1791年憲法 公妾 非カルケドン派 アルメニア使徒教会 ボードゥアン1世 リーベ ロシア正教 ユグノー教徒 セザール アゼルスタン マティアス ヴェンツェル ブラガンサ フィリペ デンマーク国王 ラヴァル マイエンヌ モハンマド・レザー・パフラヴィー オークニー アルクール ハビエル ホルティ・ミクローシュ カルパントラ カルマパ アミール・キャビール ペシュト ヘンリエッタ ヴァランシエンヌ エノー オーヴェルニュ アグリコラ エドワード6世 アイルランド国教会 ニコラ・フーケ オドアケル ドーフィネ モラヴィア地方 デ・メディチ ベネヴェント アルビ スペイン・ブルボン朝 世襲制 カプ ドゥアルテ アングレーム 十人委員会 カール・フィリップ ビュッケブルク アグリッピナ ハルデンベルク レカ マグダレーナ ソフォニスバ マシニッサ エズラ ムアーウィヤ 紋章官 コンゴ自由国 コールハース ブラバント公 ヘンドリック シュヴェリーン アマーリエ ルノー・ド・シャティヨン ギー・ド・リュジニャン セント・ジェームズ宮殿 エリシャ カタリーナ フランチェスコ1世 ペトロシャン キュアクサレス フランセス プレブス ヨアヒム・エルンスト ドロテア マンスフェルト ヴィンプフェン プラハ条約 テュレンヌ フランクフルト・アン・デア・オーダー フョードル リヴァディア 冬宮殿 オリガ ジグマリンゲン カール・アントン バイエルン人 ティベリウス クリスティアン ガッチナ クサーヴァー エレオノーレ ゴーティエ 獅子心王 アリックス アルビジョア十字軍 イオアン 女子修道院長 バーベンベルク オストマルク ベレンガーリオ アデライーデ セボルガ ツェツィーリア ヨハン・パリサ ジュリアーノ ファエンツァ ラテラノ アーデルハイト ワイマール ユンカー ハーシム家 アメンエムハト フォルリ アダルベルト アダルベロン アルヌール レオ1世 ウァレンティニアヌス ラーマ3世 グランビー ラクナウ 総大司教 マドリード条約 司祭枢機卿 司教枢機卿 枢機卿団 ケレスティヌス オゴデイ ドレゲネ オゴデイ家 ルボー リニー カンブレー アリー・ハーン パレオロゴス 国王陛下 スコロパードシクィイ アポーストル ヤン・ザモイスキ ジグムント シルミウム ガレリウス ウラッハ エーバーハルト カルロ・エマヌエーレ アオスタ ワルドー クリンク ハサナル・ボルキア ミハウ ラーマ6世 ワチラーウット ゲルハルト テオドシウス 生神女 バンベルク シュタウフェン マリアンネ ユスティヌス ジャミ 立憲王政 サンタンジェロ城 フサイン・イブン・アリー 近親婚 ボッビオ テオファヌ スエトニウス ハカム ジャアファル パルマ公 アレッサンドロ・ファルネーゼ 白山の戦い プラート ハールーン・アッ＝ラシード マルチン エル・シッド シャルル7世 グイド エドワード・コーク ジョアン6世 キュリロス メトディオス プシェミスル アブー・サイード アブドゥッラフマーン・ハーン ハマド ヴァルトブルク パウリーネ ブルク コンコルダート ホリールード キリル フランドル人 ランズベルギス コンモドゥス ブレスト合同 アレクシイ 独立正教会 エレニ ルイジ ルドヴィーコ フサイン 推定相続人 リチャード・ネヴィル ヘンリー・ボーフォート シュルーズベリー プッリャ コスタンツァ ヌマ・ポンピリウス ベルナルト ミュンツェンベルク ファルケンシュタイン ヘレーネ ローラント 宮中伯 ヘッセン方伯 シュトイベン ニッダ 羽地朝秀 ハノーヴァー ルクレティア ジョン・クィンシー・アダムズ 法定推定相続人 フランス7月革命 ピサロ ボルハ ハーキム ハフス エゼルベルト プリンケプス 秘蹟 ジークムント ルカーチ スパルタ王 ウジェニー トマス・ベケット マウリキウス プリスクス キュチュク・カイナルジ条約 グリゴリー・ポチョムキン ボリングブルック コンラド ジャン・ド・ブリエンヌ ボスウェル アブー・アル カースィム アブー・バクル ジョアン3世 ミラのニコラオス サウード ファハド アブドゥッラー サウード家 ハーリド アブドゥルアズィーズ ベイン ポワチエ リミニ ウンベルト2世 ガレアッツォ ヴィラール アリクブケ ガザン・ハン ハイメ1世 フェルセン フレゼリク オトン ルイトポルト モデナ公 ゲルトルード フロリス ティエリー ペトラ レグニツァ カステルヌオーヴォ カルロ・アルベルト ヤーコプ 帰天 クリスチャンスボー城 デンマーク王室 アブサロン ヴァツワフ フェリーチェ ホスロー ノロドム ヴュルテンベルク公国 シャウムブルク ヘロデ大王 エル・エスコリアル シャラントン モンタルジ エカテリーナ ヨランド ルイ・ナポレオン エルジェーベト ズリーニ ペータル ラーコーツィ・ジェルジ テケリ・イムレ ホーエンローエ ベトレン オロモウツ フリーデリケ 王位継承順位 長子相続制 ペタル プロノイア コムネノス王朝 イタリア王家 アブドゥルマリク ダ・ポンテ カトリック同盟 ザラストロ ヘロデ ボレスワフ カリシュ アデマール 忠誠の誓い ファーティマ マウリッツ ゲルマニクス ドミティアヌス アントニヌス・ピウス ウップランド クニャージ オレグ バーティ マクヴェーグ フランツ・フェルディナント モントローズ バルトロメオ マルタ騎士団 ヒルデブラント コルマール ジョン・ベイリャル フォルカーク バカン 受胎告知 ニンフェンブルク宮殿 ベルトルト カメハメハ ムーロム ドミートリー・ドンスコイ リュジニャン アーディル ジョン・バイロン フェリクス ムハンマド・アフマド ニオール マオン マヨルカ王国 兵役拒否 アストルガ モンフェッラート イグナチェフ ブラガンサ家 オシフィエンチム サラエボ事件 補佐司教 不朽体 オビエド マテオス カトリコス ゲオルギー 輔祭 修道司祭 ヴァルソロメオス シャンティイ カテリーナ ジャン＝ポール・マラー カエサレア ジャヤーヴァルマン メクレンブルク＝シュヴェリーン ヨハン・アルブレヒト シュトルベルク ノイブルク マザラン フロンドの乱 列福 ヘルツェグ 修道名 スクーンの石 シュタンデスヘル ラティボル ランゲンブルク オーバーシュレージエン フュルステンベルク ケンジントン宮殿 ライニンゲン ディアーヌ ベジエ アイテル マンク ラ・トゥール アーダルベルト 王領ハンガリー バーデット ヴィルヘルミーネ モゼル ボープレオ タルモン ヤドヴィガ モーク・チャンク ヴァソウラス ペトロポリス ミコワイ アラー・ウッディーン・ハルジー アラー・ウッディーン ギヤースッディーン フサイン・バイカラ ビフザード メディチ ヴィテニス ゲディミナス ポラツク ヴィーデマン アッシュバートン モリスコ追放 アグスティン マルゴット ハンプトン・コート宮殿 バッテンベルク ツィタ ジャハーンギール フスロー ランジート・シング ムタワッキル アブー・アル＝アッバース マンスール アルタクセルクセス レーヴェンシュタイン ルートヴィヒスブルク コシチュシュコ シュヴァルツェンベルク ニーノ ザーヒル・シャー チンキム ストイベン リーブル シャイフ ルクセンブルク大公 ヴォードルイユ ティモクラテス 1520年代 イブラヒム・パシャ リュステム・パシャ グラティアヌス サムイル ステファン・ウロシュ ミルティン デチャンスキ 専制公 カンガス・デ・オニス カルリスタ villa アタワルパ ドルトレヒト モンモランシー ミハイロフ カール・アレクサンダー トゥルン・ウント・タクシス ロプコヴィッツ ノイエンシュタット ミュンヒハウゼン ミュンヒハウゼン男爵 ブルガリア正教会 プロシャ オタカル ロイヒテンベルク モレアス サアグン ジュヌヴィエーヴ ジャン＝バティスト・コルベール ベーラ ムスタファ・ケマル・アタテュルク シューレンブルク リリウオカラニ ヤショヴァルマン スーリヤヴァルマン ヴァンダ インドラヴァルマン ヨランダ ウィルヘルミナ ハインリヒ24世 ロアン ベラグア ハールィチ ニーダーエスターライヒ州 ポストゥムス ダムロン ギヤースッディーン・トゥグルク フィールーズ・シャー ホージャ チョバン ザクセン＝コーブルク＝ゴータ公国 セギュール ザクソン ゲーザ テオドロス 伯爵戦争 クリストファ 特免 ジョージ・ヴィリアーズ ザルム ルーヴル宮殿 シェションク ブランデンブルク＝シュヴェート ポメレリア ピャスト シフィエントペウク ヴィエルコポルスカ 諸公 メヘレン 結婚契約書 アランソン公 アンリエット ロヴィーサ ペイシストラトス ベルナドッテ ポワトゥー ラス・カサス ユーハン ガザン アメデーオ ジンメルン アンヌ・ドートリッシュ タリアン ブリュール シギスムンド セティ タイバーン カラカウア ロマノフ タルノヴォ ステファン・ネマニャ コンスタンディヌーポリ総主教庁 首座主教 ヴラディスラヴ イコノクラスム ホーフブルク宮殿 アグスティン・デ・イトゥルビデ イトゥルビデ ベルク公国 クリストフォルス ペトルス・ダミアニ ゲラシウス 助祭枢機卿 エミーリエ ブルンヒルド ベルナドット エカテリーナ2世 デランシー ニケフォロス アンティオキア総主教 対抗宗教改革 ヴァンヌ ジョージ王子 クリオージョ ジェプツンダンバ・ホトクト シアヌーク アンドラーシ 聖年 カスパー エマヌエーレ・フィリベルト ヘウム セヴィニエ エチオピア皇帝 ミロシュ・オブレノヴィッチ トミスラヴ バイエルン選帝侯領 キルデベルト オルドーニョ ベルムード ヤヌシュ ボグスワフ ペリグー ナミュール コメルシー リジュー ジェイムズ・ダグラス 11月蜂起 バルト・ドイツ人 マウントバッテン シリキット ミロスラフ カジミール ゴーラー ヨハン・フォン・ルクセンブルク クランマー ムハンマド6世 リトムニェジツェ サパ・インカ セルギイ ヴァシーリー コンスタンティノス11世 生神女就寝大聖堂 ウスペンスキー リヴォニア戦争 雷帝 リューリク朝 イェレミアス アレクサンドリア総主教 フィラレート ニーコン ニコライ・カサートキン アンドロニク 自治正教会 ポマレ グラフトン公 ジュール・マザラン 公リ ヘルムシュテット グレプ ログヴォロド 主日 アレクサンダル オーラック メリコフ ペーチ ユリアナ ヴィート 教会大分裂 ウロシュ ドゥシャン コンドッティエーレ コンスタンツ公会議 フィリベール レオニダス バーゼル公会議 ピエール・デュポン シノン ビルギッタ ニコロ テムル 国璽尚書 ビルケンフェルト ツヴァイブリュッケン バイエルン継承戦争 インペラートル・ニコライ セウェルス朝 ロムルス・アウグストゥルス モデナ公国 マリーア・ベアトリーチェ モリナ パルマ公国 ツェーリンゲン デ・ウィット コッラディーノ フュルスト アンギャン 偽ドミトリー1世 ノートルダム教会 ブランシュ・ド・カスティーユ ウルスラ シュジェール シュヴァーレンベルク アントン・ウルリヒ アマデオ エキュ 新教会 ブライスガウ アルギルダス インファンテ ティグラト・ピレセル マリー・ヴェッツェラ ヤーノシュ ロレーヌ公国 ゲオルギ ギレイ ザモシチ ヴラド プウォツク トゥーロフ トライデニス ナワーブ ミルチャ クリューガー レシェク チェシン オソルコン ゴルディアヌス シャルマネセル オムリ ヒルカノス アウレリウス ヘリオガバルス リュクサンブール ルカン グィネヴィア ステファン・バートリ クシシュトフ クレイユ アンヌ・ド・モンモランシー トンブリー イドリース1世 イドリース ハンティンドン タワー・ヒル トマス・ハワード サリーム カラマンリー ツヴィングリ コーネリアス・ヴァンダービルト バウム フランス復古王政 ヴァルミー アランフエス グスタフ・フォン・カール ラムザン・カディロフ ルウェリン 男色家 フェロン エルヌ ピレネー条約 マルクス・アウレリウス・アントニヌス グリゴリオス マハル デミドフ ヌヴェール サン・バルテルミ ガッルス カリストス ヴァルテンベルク エルコレ エッケハルト ボーフォール アブデュルアズィズ ムスワティ アリストブロス グリュックスブルク家 グローガウ ルイ・アントワーヌ クローマー シュヴェート オールトラップ子爵 ドン・フアン・デ・アウストリア カヴェナンター ファウスティナ セーチェーニ シュトラースブルク 中世イングランド カロヤン アンセルムス 托鉢修道会 クリシュナ・ラージャ オスマン家 アーサフ・ジャー タウフィーク ムスチスラフ ウグリチ ハールィチ公国 ダーニ ウズベク・ハン ボヤール カルケドン公会議 オットー・フォン・ハプスブルク ザクセン＝コーブルク＝ゴータ家 コハーリ カッラーラ レッジョ ケーストゥティス ヨガイラ ナリマンタス サンドウィッチ伯爵 ホラント王国 プリンキパトゥス カトー・カンブレジ ゾグー プレンツラウ ダニーロ ノヴゴロド・セヴェルスキー スヴャトスラフ フセヴォロド リューベチ ヴィーナ シュヴィトリガイラ クレヴォ ジーギマンタス・カリブタイティス グニェズノ 偽ドミトリー2世 ハインリヒ・ラスペ クート ラチブシュ コンラト サンドミェシュ ヴェスターラント ドラグティン ラザル・フレベリャノヴィチ トヴルトコ ウィリアム・セシル イリノイ州知事 ウィリアム・テンプル ヴィルロワ エボリ ゲデレー ラダマ オラニエ＝ナッサウ家 シリントーン アイバク マリア・テレサ 血の中傷 コリニー ヘンリー・グレイ サポヤイ・ヤーノシュ カタルーニャ君主国 ウスマーン・アリー・ハーン ジョチ カナダ国王 ポドルスキ エレナ・パヴロヴナ トゥルネー カルティール ナルセ ホーヤ ヤズィード アルバート公 フランス元帥 ロマノス ヨハン・ウィレム・フリーゾ リュ Normandie イニゴ 教皇冠 モンフォール ミニステリアーレ ペピ メンチュヘテプ アミーン コンスタンティナス ブイエ サティー 1580年代 サヴォイア伯国 マンネルヘイム オステルマン デオン ミハイロ ミロシュ 親仏 ポトツキ ドースト・ムハンマド・ハーン プラエトリアニ アルカディウス パヴィーア ロンドン大火 ハルドゥーン 訪英 ビロン シスネロス グアスタッラ ウラースロー オスカ ズルツバッハ ルウェリン・アプ・グリフィズ 金口イオアン 福音宣教省 ウスマン カッツェネルンボーゲン トルシー フッテン パロウ ゼムスキー・ソボル ヴォイヴォダ ルネ・ダンジュー マリア・アントーニア カラジョルジェヴィチ グラッツ ミヒャエリス ワート アントニヌス テオドラス アルメニア教会 ダーンリー シャンボール アンボワーズ ヘンリー・ボリングブルック オッドーネ ランブイエ アジャン アラ・パキス ウィレム＝アレクサンダー カールマーン プファルツ選帝侯領 ブーゲンハーゲン ベク ホルエムヘブ カロリング小文字体 ロンドン議定書 ワシリイ ザーイド スキルガイラ アギス マルギット ブランケンブルク テフナクト グリエルモ1世 マリア・テレザ アル＝カーミル アセン イヴァン・アセン フラガ シコルスキ エセックス伯 ロバート・デヴァルー モンケ・テムル クリームヒルト マルグリット・ドートリッシュ トルトーナ シェイズの反乱 ポンテコルヴォ ポワトゥー＝シャラント クリッソン グザヴィエ マラテスタ マリア・アレクサンドロヴナ ヘンリー王子 テューラ ジョン・モンタギュー カシケ ナルイシキン ヴァフタング マルファ アンリ・クリストフ メッサリナ プラエフェクトゥス・プラエトリオ ブッルス アウレリア アルテュール アンドロニコス マリー・ルイーズ ソテル バハラーム ミハイロヴィッチ ミルポワ マリア・アントニア トゥーサン フルーリー アーベンベルク タルクィニウス・スペルブス ボヤーレ ベンガル太守 インド皇帝 聖ジョ ルドヴィーコ・スフォルツァ ダールベルク マリア・デ・パディーリャ マリー・アンヌ オノレ 国王一座 グナエウス・ドミティウス・アヘノバルブス クフナ・ウルゲンチ トゥパク・アマル チェルムスフォード ヨシフ ガムラ・ウプサラ パウラ ファルサ カリマン インノチェンツォ エリザベッタ マウリツィオ ウィテッリウス ツォレルン ボルボーネ パトモス島 ゲッツ・フォン・ベルリヒンゲン カスペ ストルーエンセ アプーリア カスルリー ニッコロ パヴロフスク ルイ・フェルディナント デュ・バリー アンナ・アンダーソン ヤロポルク マケドニア王朝 エウフェミア タラール フライジング サンバージー シャーフー ファッルフシヤル バージー・ラーオ ホールカル家 ガーイクワード家 バーラージー・バージー・ラーオ ヴァドーダラー マーダヴ・ラーオ ラグナート・ラーオ ナーナー・ファドナヴィース ヤシュワント・ラーオ・ホールカル ケティ シャムシ・アダド マールワール王国 トルイ イジャスラフ ウルバヌス8世 ディオニュシウス カミロ セイラム魔女裁判 バイア 七月王政 スタンド・ワティー ユスポフ スヴャトポルク モーリス・ド・サックス クリスチャン・アウグスト ディクタトル トネール リッシュモン ラ・トレモイユ ジル・ド・レ ベンケンドルフ マームーン アーサー・マッカーサー アルミホ マルケータ ヨハンネス ネルウァ ザミーンダール ファルネーゼ リュクルゴス ザモイスキ セバスティアン1世 ウダイ・シング エティエンヌ・マルセル アブドゥルアズィーズ・イブン ラーケン フアード 取り仕切ら カピチュレーション ポデスタ ローミン ボカサ ルフェーヴル ペレヤスラヴリ ヴャチェスラフ アガフィヤ ディポヌゴロ オールドカースル シュノンソー ブーリン サン・ジェルマン ダーラー・シコー バイエルン大公 ルーヴォワ リュネヴィル エウドキア プラキディア ヴェルジェンヌ フィリップ・ド メネリク アレム アイスレーベン トゥーサン・ルーヴェルチュール オーラミュンデ （\"→ グレゴリオス コンスタンツィア マギステル・ミリトゥム イムレ シュタイ 邦良 ケトラー バラカ ベルナルダ ルサ スネフェル センウセルト ハドリアヌス6世 オ・レ・アオ・オ・レ・マーロー エドワード長兄王 ティグラ アルテシア ウィリアム・キッサム・ヴァンダービルト ロスチャイルド家 デジレ ファージング ロスチスラフ ユーリー・ドルゴルーキー ジャン＝ジャック・デサリーヌ ビレンドラ ディペンドラ ギャネンドラ ジャン・ド・モンフォール ザーヒル 聖職禄 ローエングラム リッテンハイム カッシオドルス ルボミルスキ ジーモン ドゥエー パヴレ ショワズール フロンド 最高枢密院 ヴォルピ マルワーン セイヤヌス エップシュタイン フエロ ネパール王国 プリトビ・ナラヤン・シャハ マシュクール アルバニア王 ジャントー アソール ラグージー・ボーンスレー ツィーゲンハイン ジョン・ビング アルジャン 朱友珪 ラナヴァルナ カルカソンヌ フランス東インド会社 クリシュナ・デーヴァ・ラーヤ テオドロス2世 エドマンド・アンドロス アンベール王国 カーナーヴォン ポサードニク ハッツフェルト ベネディクト15世 ヴェリーキー・クニャージ ブリャチスラフ ジェプツンタンパ ラーム・シング ドメーヌ ジャーギール トマス・ウルジー ウルジー ラーフェンスベルク グラーム・カーディル・ハーン ヴィトゥス アリアガ ハマン リュバルタス パトリキウス フェルミン ハメンクブウォノ スティリア チャールズ・ハワード ドルツク カームラーン カイシャン ナメストニク ラ・ロッシュ ヴォエヴォダ ヴァシリコ クラーメル ヌール・ジャハーン 宮廷舞踏会音楽監督 アールモシュ ウィリアム征服王 コシラ イヴレーア バイラム・ハーン ペーシュワー ナーラーイ ガーター騎士団 タマル ギオルギ サーニー シャターブディー ダマー ヴェンカタ シュリーランガ ムラード・バフシュ トロ・ボラト クルプスキー アルグ ゴドイ アヴェイロ ジャハーンダール・シャー ズルフィカール・ハーン バーラージー・ヴィシュヴァナート チャウタ ビュジェ マールワール クロチルド ジャーンシー パンアテナイア カルナータカ太守 シュターデン フニャディ ジョチ家 アブル＝ガーズィー シュジャー・ウッダウラ サアーダト・アリー・ハーン エイナル ジョン・ウィンスロップ 王笏 シャーフージー ハールーン フトバ コムネノス・ドゥーカス エル・テムル リエゴ ブルンスヴィック カンデー・ラーオ ジョルジェ シャミール チャブイ クリスティアーネ アブル ヤン・ファン・リーベック カリオストロ レーニエ ナスル エクザルフ チャパル イェリング トートレーベン サン＝ジェルマン＝アン＝レー城 アン・ハッチンソン サアベドラ カマルッディーン・ハーン ボワイエ 沈福宗 モンゴムリ サラボージー サフダル・アリー・ハーン ミール・ジャアファル アラーハーバード条約 オランダ王室 スピノラ ワッハーブ イヴァン・アレクサンダル イヴァン・スラツィミル パリ・ロチルド ル・バ ミランド マハーバト・ハーン フィジャック デットフォード スペイン異端審問 エーバーバッハ トゥコージー・ラーオ メフメト6世 マサソイト 盛名座 ログネダ プシェミスワフ クエリャル アリーヴァルディー・ハーン モショエショエ テレキ ヘドヴィグ シグエンサ シールクーフ シャラモン リクサ オラトリオ会 イレネ アティス バルバリア エトルリア王国 デシデリウス ゾエ ヴァーベルン ラーマーティボーディー チャーマ・ラージャ ハッジャージュ マリー・テレーズ・ドートリッシュ アウィトゥス マリエット タデウシュ・コシチュシュコ ラテュロス ブジェク フリスティアン ポモジェ マンスール・アリー バフリーヤ アンドリュス ロチルド ムスタアスィム ラージン ジェモミスウ レプニン オルディナト フォルケ・ベルナドッテ オプリーチニナ オプリーチニキ ソブーザ ネッセルヴァング テケリ シギショアラ カンタクゼノス エゼルウルフ カイホスロー ナスィールッディーン・トゥースィー オルガナ ヨドクス 什一 マビヨン ルーゲ ビューロウ サポヤイ フラーテル ネマニッチ アジーズ ジェクス ヨアニス 博恭 ナイペルク イフシード ラシュタット条約 ヘルメネギルド マウルブロン \"》《 アタルヤ 陳守度 兄弟姉妹婚 リウィッラ フラーテス 新致命者 トルデシリャス ソフロニオス アラウンシードゥー ジャヤ・シンハヴァルマン モレームのロベール ケサル テグデル ツェント ディミトリオス ネマニャ ラウフェン セオドロス 首席枢機卿 グンドバト ボリル フアン・ホセ モクテスマ モンディディエ ベルナボ ポウノル リオノウンズ サールヴァ・ナラシンハ トルネドラ アレクサンドラス ブッテンハイム 三兵戦術 マヌイル テウデベルト バシリスクス オドニツ ジョスカン セサリア カンダウレス マリーア・ジョゼ エーバーハルト・ルートヴィヒ キュスティーヌ ロストフツェフ マクシミヌス・ダイア グル・ゴービンド・シング ランデルノー ピンヤ サウマ プサメティコス ランフランクス ヴォロディーミル シンダコム ステピナツ リウィウス・セウェルス シルヴァカンヌ セナンク モレーム アメンヘテプ ステファン・ハーディング'"
            ],
            "application/vnd.google.colaboratory.intrinsic+json": {
              "type": "string"
            }
          },
          "metadata": {},
          "execution_count": 12
        }
      ]
    },
    {
      "cell_type": "markdown",
      "source": [
        "* 全てのクラスタについて、ランダムな50語を表示"
      ],
      "metadata": {
        "id": "rqhlPN_t8xZx"
      }
    },
    {
      "cell_type": "code",
      "metadata": {
        "id": "lsCiMW4-Zmqc",
        "colab": {
          "base_uri": "https://localhost:8080/"
        },
        "outputId": "22c3e2cf-a222-4b97-805b-d110564356a2"
      },
      "source": [
        "for i in range(len(sorted_clusters)):\n",
        "  members = words[labels == sorted_clusters[i]]\n",
        "  np.random.shuffle(members)\n",
        "  print(' '.join(members[:50]))\n",
        "  print('-'*80)"
      ],
      "execution_count": 20,
      "outputs": [
        {
          "output_type": "stream",
          "name": "stdout",
          "text": [
            "フラッシュマン 日本ミステリー文学大賞新人賞 ザ・サンデー 金色のガッシュ!! 山本浩 サニングデール 国立大学協会 後宮からの誘拐 カッコーの巣の上で 工業意匠 シカゴ商品取引所 西保 ジョン・クランコ 彼氏彼女の事情 オオカミ少年 ネイチャーゲーム トータル・イクリプス ラグラジアン 静岡中学校 部垂 86打点 箱島 トラベルトレイン 自然対数の底 アムンゼン フォックス・テリア 夫神 ミヒャエル・ハイドン プチヴリ 臨時目的放送 なめ猫 2234 グリーンメディア 阜新市 国際平和協力本部 Psyche リュドミーラ・ジュラヴリョーワ Squalus スティーブニッジ 宴のあと メンカウラー王 久貝 ヴィボ・ヴァレンツィア インデペンディエンテ・メデジン パシフィック・リム 谷本貴義 マルタイ 2231 リンコサウルス 2133\n",
            "--------------------------------------------------------------------------------\n",
            "フォーミュラワン スィヤードヴァーダ ベルリヒンゲン HORC 14496 ピロピロ 救難員 競泳水着 藤枝順心 カーシージ カルネアデス 宛平県 SSゾイド ナメラ 掖門 大フーガ シンオウ ファーストステップ 名古屋おもてなし武将隊 57年ぶり ネオテニー GCSB Convoy 1557 台風17号 南充市 大阪10区 ジャック・ホーナー 米韓連合司令部 タノーム アステリオン 代替放送 マデルノ ゴシックロリータ BOURBON サイドスラスター ファースト・クラス めでたし クルチャトフ テルカ 技能労働者 シンプレックス ダンテス マルロー 過酸化ベンゾイル 玉ノ井部屋 ロクテ ジェイムズ＝ヤンガー・ギャング 国道270号 第34戦\n",
            "--------------------------------------------------------------------------------\n",
            "へんせい くり ろくし ひっと くさい とっと すたー かいしん かせ まりか かんぽ ちちゅう あゆか つるおか ねむり きじゅ はむ けつ きわ らち くうぼ かえ きちょう しり みえ はなよめ かいまく ともよ びほう やまと わー おせ さいわい れき らむ えいじ やよい にし じゅうごう いほう こうあ ぞう くうち しっこう ふっ まなぶ てらし げた うんそう むく\n",
            "--------------------------------------------------------------------------------\n",
            "じほう ふさこ ヘルマプロディートス BAP 9350 ルネ・ラコステ 車谷 嘉助 エドミュア 北海道教職員組合 こぶしファクトリー ねむろ 朝鮮総督府政務総監 天尾 パーシキヴィ 1698 亠 いきものカード イルゼー けぶ 丹後田辺藩 ちよの 3.1m KAT 藤重政孝 もくしろく 3080 陸奥圓明流 NOE めいり ゅじ Gianni かくけん 幸明 滋賀県野洲市 ベイビーレイズJAPAN 終末から どうりつ ワール 778人 2124 vol.9 旗標 植月 162年 しんきょく たくら 730万 ウチナーヤマトグチ ろくもん\n",
            "--------------------------------------------------------------------------------\n",
            "フィールドホッケー ジロ 北島康介 ATPワールドツアー・ファイナル 接戦 スタート直後 北京五輪 WHA 判定負け 6日間レース ビッグイヤー 引分 昨シーズン 大金星 ベアズリー アロンソ 3冠 レンジャーズ 最高齢 Auto GP 上位進出 マジック・ジョンソン 日本プロゴルフ協会 開幕前 第3セット バイエルン・ミュンヘン ワールドリレーズ 初戦敗退 クラブ 18点 ファーストレグ 激震 アヤックス 3R ホーリーロード 52年ぶり FLAGS もつれる インファイト インディアンス ヒーローインタビュー 23戦 ひしぎ イタリア戦 サンマリノグランプリ セバスチャン・ベッテル ミスユニバース シックス・ネイションズ バーレーン戦 団体総合\n",
            "--------------------------------------------------------------------------------\n",
            "特例子会社 真正町 府中村 椿台 大入川 大橋町 大鳥居駅 荒井村 地蔵山 谷中湖 佐古川 羅先特別市 鰻谷 星里もちる 特定第3種漁港 芳町 銚子川 川口発電所 九州農政局 木江 久々利 五十里ダム 真鶴半島 今市宿 藩政村 伏見市 東加茂 松尾町 菊割れ蓋 日光杉並木 夜叉ヶ池 海尻 藤橋 96番 西河原 アトランタ・フルトン・カウンティ・スタジアム 竹ヶ鼻 西田村 銀座一丁目 本町四丁目 秋川市 ダイハツ九州 野坂山地 大津県 千歳車塚古墳 平成5年8月豪雨 吐含 長慶寺 見瀬丸山古墳 御花畑\n",
            "--------------------------------------------------------------------------------\n",
            "ヘウムノ ボリーバル県 ハイアニス ブラッドフォード・オン・エイヴォン ハンネ アベビル ミュンヒェン ハサカ サヴォ サンタカタリーナ州 ノースポート リュソン Bukit サンラフェル ゼーフェルト ドランメン ロッブリー県 ナーン県 テルグ オーバード オルドス市 マルシュ ジンメン インディギルカ ソンドリオ県 チヤン 勝連半島 ストーク・マンデビル コモロ連合 サン＝ジョルジュ ヴュルム コルテ スヴァン サフォード クリストバル しゅうりつ ノヴォモスコフスク カシーラ オーデンヴァルト郡 マタンサ カラチェフ セレスタ Burgos ウンター・デン・リンデン メスキータ アルヘンティーノ サランスク ストラスクライド バッティカロア エヴィア\n",
            "--------------------------------------------------------------------------------\n",
            "OTODAMA バーチャ 風花舞 march メロディック・ハードコア 岸本早未 MONDO21 輪舞曲 コタロー アペル エスケイプ 8 1/2 Lace デュラララ!! インターナショナル・スーパーヒッツ! 柳ジョージ&レイニーウッド 音楽作家 千一夜物語 SEIKO TOKYO DOME CITY HALL おおきく振りかぶって Monsieur 十二国記 kawaii* ヴェリー CUTiE ひとひら A BATHING APE こんにちは赤ちゃん トイ・ストーリー3 サンデープレゼント オルタナティヴ・ミュージック さとうきび畑 岡崎律子 ヤー・ヤー・ヤーズ トッド・マッカーシー けっさく カセットブック タイマーズ トラッシュ エリカ・バドゥ 春の海 DEE Men's egg ザッツ・オール・ライト 第33回NHK紅白歌合戦 VAMPIRE 森の都 ファースト写真集 田口淳之介\n",
            "--------------------------------------------------------------------------------\n",
            "増援 グスタフ・クルケンベルク 宮城事件 防禦 第3次防衛力整備計画 近海 ミュンヒェベルク 入港 大和型戦艦 大鳳 川西航空機 荒天 大鯨 ノルゲ 南号作戦 ピアーヴェ川の戦い 新編 特車 キスカ島 同日午後 梯団 ブレッチリー・パーク 爆装 オーレリア 式司 村雨 スールー海 タラント空襲 航空総隊 巡閲 ベスパ クイーンフィッシュ 山本五十六 ギルバート諸島沖航空戦 灯火管制 北部軍 護国丸 リムパック トライトン 払暁 北アフリカ戦線 樺型駆逐艦 チャレンジャー号 南西方面艦隊 クズネツォフ でりい丸 アンブロジオ・スピノラ 第75レンジャー連隊 座乗 名古屋大空襲\n",
            "--------------------------------------------------------------------------------\n",
            "花園ラグビー場 ムリーロ・ブスタマンチ ウェスタンリーグ ロチェスター・ロイヤルズ 小突い 福西崇史 三菱水島FC ネットボール LSC デルフィーノ・ペスカーラ1936 佐川急便大阪SC 37戦 ムジェロ ケニー・ダルグリッシュ JudoInside ラシャード・ルイス ボビー・アブレイユ セス・グライシンガー CRヴァスコ・ダ・ガマ リクルーティング 和毅 ジャガーズ 20連勝 リバプールFC ジャンニ・モルビデリ 全日本女子ユース (U-18)サッカー選手権大会 スュペル・リグ ビャルヌ・リース リーゼル・フーバー ルカ・トーニ ワシントン・セネターズ 89試合 本山雅志 152年 計画倒れ レアル・ムルシア エストゥディアンテス プルオーバー ランディ・マモラ ウィンブルドンFC タッグリーグ・ザ・ベスト 佐藤昭大 東野峻 ボブキャッツ シュトルム 鹿児島ユナイテッドFC 柳時熏 マットグロッソ州 茂原アルカス アローズ北陸\n",
            "--------------------------------------------------------------------------------\n",
            "文七元結 大盤解説 民藝運動 昌史 前田製菓 井島 宗尹 関西美術院 北野劇場 保次郎 冬島泰三 力弥 積極行動主義 三生 昌男 天つ神 藤堂高次 尼子十勇士 湯原昌幸 シルヴィオ また弟子 相馬眼 直安 君ヶ濱 胚芽米 近世邦楽 鞨鼓 エディソン・デニソフ 竹田敏浩 雷切 留太 51期生 ささえる 章生 松宮一彦 楊丞琳 濵 上連雀 村元 学校医 永里 鴻ノ巣 地獄草紙 浩市 幸英明 東京品川 GQ JAPAN 薄紙 うたたね 千畑\n",
            "--------------------------------------------------------------------------------\n",
            "孫策 聊城 蕭大 上表文 錦の御旗 貊 劉銘伝 王駿 達奚武 張騫 台州 北斉 義和団 蜀漢 門下省 督戦 郭威 南陽郡 偉 茲に 建徳 琮 博陵郡 昆明 伊 人士 はばかっ 金田蜂起 辮髪 後梁 戴 六国 建文帝 高廉 唐国 荀崧 枢密 武后 叔 田弘 留異 周処 悼王 イェヘ 応天 武烈王 棻 濡須 中務省 眜\n",
            "--------------------------------------------------------------------------------\n",
            "Moreira Björn Pow Cecilia Governance price climate Witnesses Tomlinson Lama Constantin sunt Zentrum shoe Hadley Conditional Lutheran Searching Mineral Projects AMCA communications Documentation Chuo Himalayan The Ring Lao Minority Combo ase Tanker Abreu Vanishing アクアビット patrol Pinot Hilaire Sail relative done presidential Wilhelmina Someday AMIS Shelton Lectures Sirius temporary Oceanic Gail\n",
            "--------------------------------------------------------------------------------\n",
            "聞き逃 ずんぐりむっくり 讃えよ だんまり 消せる チャロ すべり芸 からむ セイゴ 団らん 心掛ける 転がり込み 危なく 遠からず あてつけ おしく チャン・コーハン ジャンヌダルク バンパイヤ クション いなし はばかる 宇治原 羨ましく リトケ スキッキ 怒鳴りつける 魔夜 端っこ 端座 張り込む シャク 殺める ジロン 閑古鳥 ぐるぐるカーテン 受け流す 遠巻き マカッチェン ザモラ オイラ 程々 闘お 喚い 何も言わずに 刻み込ん Chell 言付け また旅 ウィンク\n",
            "--------------------------------------------------------------------------------\n",
            "セガン トワイヤン エイキン マーロン トムリンソン ギュンター・ヴァント ラトナー クレンショー W.A.S.P. ムーア郡 Sheppard マンツ ウェイド・ハンプトン Bowman McGee アンセルム ギャバジン ドーリー ノーネーム アンドルー王子 ラニア シュバイツァー フランス・メトロポリテーヌ ラボーチキン R.J.レイノルズ・タバコ・カンパニー パラード ジョンズ カナダ大使館 トム・ワトソン ウェブリー ウェンブリー・アリーナ グロッソ デュラス アル・コステロ マイズ Julián カニングハム 聖バーソロミュー病院 ザールフェルト チャールズ・ウェスレー スピア カルバン Willard フィラデルフィア憲法制定会議 ルグロ ローランギャロス ナチュラリスト 苫米地英人 McKinley ジョセフィン\n",
            "--------------------------------------------------------------------------------\n",
            "als Distinguished Chop Feather Stronger ENGINEERING Alien Journals dit Bombs Savage (“ Story Headquarters Captain Slowly Rules Wolf Tell Destroyer Bronze Southwest Aster Turtle crisis Ego Commando Guild Draft Flow .）」 .\"（ Advisory Thinking El Elder ,\" Aerospace Quest Kampf years Europe Vs Nobody Lives Global Almost Sport Ya ris\n",
            "--------------------------------------------------------------------------------\n",
            "アフレック 杉江敏男 イ・ビョンホン フライシャー・スタジオ 橋爪功 東映Vシネマ 石垣純哉 ストルガツキー兄弟 レオニード・マシーン ぷちこ スカイズ ブルック・シールズ 浪曼劇場 電車男 オリジナル映画 ハビエル・バルデム コミック作家 奥菜恵 うえだゆうじ 人間革命 キテレツ大百科 石田昌也 ジェシカ・アルバ 田中泯 高畑淳子 汚れた英雄 中村義洋 伊藤武雄 眠り姫 スティーヴン・フリアーズ 時をかける少女 綾野剛 二百三高地 石川英郎 キカイ 新人アナ 清水愛 テツヤ 日野聡 アイラブママ トニー・カーティス おはなはん 伊藤美紀 七三分け ミューラス ドメニキーノ エドワード・G・ロビンソン 幽霊列車 今夜は最高! オーラの泉\n",
            "--------------------------------------------------------------------------------\n",
            "月桂冠 東遊 古注 小物成 ねずみ算 授刀衛 両所 酉陽雑俎 雷峰塔 東北怪談の旅 臨済宗南禅寺派 娘子 烈女 牛弘 滝沢馬琴 拳聖 神呪 菊理媛神 滝行 艶本 つたわる 正眼 闍 ドナトゥス 之男 金峯神社 下官集 闕字 日干 雨夜 筆墨 聞得大君 濊貊 大念仏寺 密蔵院 五教 波羅提木叉 文虎 海川 東大寺二月堂 儒林 止利 三十六計 滝山寺 二盃口 いらつめ 上棟 玉陵 田毎 二條\n",
            "--------------------------------------------------------------------------------\n",
            "アダム・ビナティエリ Intel Core 2 PDPシリーズ 9241 M1アストレイ おおすみ型輸送艦 140k ランフラットタイヤ SEED MSV B-70 MEDIAS H-IIB STAMP DVL LaVie FTL シリコーンゴム Tegra 3 ゼペリオン 仮想デスクトップ KZ フォーマ・エフ ロートドーム アナログシンセ ロジクール 昼間点灯 カローラアクシオ 次元潜航艇 エアマスター リランチ 二次加工 ポリッシュ 3DNow! GPWS ヴェンチュラ TQ スバル・レオーネ 2805 プレサージュ Rijndael ファイナライズ FEAL ドラゴンボールヒーローズ ガンフロンティア UAA DCH Fairey 120k R級 FlaK\n",
            "--------------------------------------------------------------------------------\n",
            "岡山県久米 明智町 東京都小金井市 産業振興センター 大川郡 中条町 山梨県知事選挙 香南市 中信 昭和橋 0031 大阪市福島区 赤十字血液センター 宇出津 愛知県清須市 上都賀 岡郷 牟岐 めじろ 滋賀県甲賀市 高安山 北塩原村 二丈 高層気象台 斐川町 横浜市金沢区 東京都豊島区 大阪府吹田市 日本の歴史公園100選 札幌市手稲区 那須野ヶ原 矢祭町 橘町 東京都台東区 栃木県矢板市 西小 麻績村 圓山 東札幌 松島温泉 東京都豊島区高田 大広寺 北川辺 名古屋市中川区 浪岡町 浜北 高須賀 常磐町 広島市東区 いちりつ\n",
            "--------------------------------------------------------------------------------\n",
            "仙台市地下鉄 和光市駅 余部橋梁 豊田市駅 紀勢西線 赤羽駅 北神急行電鉄 千歳線 尼崎港 バス専用道路 都バス 八木駅 シティ・オブ・ニューオーリンズ 国道12号 青函トンネル 京福 尾北 北廻線 高田駅 東海交通事業 笹谷トンネル 出入口 北千里駅 羽後交通 上下線 ステーションサービス 武州鉄道 福塩線 中央環状線 モデル線 淡水線 部田駅 つくばセンター 中央本 首都高速道路 サービック 復路 美唄 大久保駅 南町通 武蔵小金井 大津駅 八潮 矢部線 小岩駅 渥美線 有楽町線 駅集中管理システム 夜行高速バス 国道406号\n",
            "--------------------------------------------------------------------------------\n",
            "岡山1区 雅義 庄子 忠勇 東京盲唖学校 福栄 依田勉三 直温 重美 小此木 楠小学校 松陽 国太郎 梅之助 耕一郎 丸一 統一郎 多賀英典 古荘 田之助 大経 林文子 石之 忠志 虚竹 フラワーアーティスト 荒畑 成城高等学校 李源 蔵之助 水交会 善子 知恵子 桃川 壺井繁治 弘毅 定輔 赤座 本因坊元丈 長太 犬伏 得能 行隆 北川正恭 儀間 三迫仁志 みやむ スーパーカートリオ 勝二 佐々木只三郎\n",
            "--------------------------------------------------------------------------------\n",
            "shares lemma Customer gauge topological かんげん その他の記号 block suit Terrain ガルタイト Processors recorded comunas update eXchange Thread IMT ようりく bi spaces cow Boo Ski '( Prediction Chapter ][ Propulsion Indicator tar た行 player Abstract lead (o) what Properties Aichi Bacillus disorders プトゥン able canon 1073 own Deutscher Coat Carrier 　)\n",
            "--------------------------------------------------------------------------------\n",
            "根室駅 京都市役所前駅 デトロイト・メトロポリタン・ウェイン・カウンティ空港 セマウル 勿来駅 西唐津駅 谷保駅 吉原町 土庄港 都営線 KRLジャボタベック 六甲北有料道路 梅田線 串本駅 欅平駅 火の見 沖縄都市モノレール タンゴディスカバリー 岳南電車 雑餉隈 徳島小松島港 黒野駅 エムウェーブ 河内松原駅 地下鉄3号線 青砥駅 山陽電気軌道 築館町 鷲羽 すすきの駅 国道311号 ベルナーオーバーラント鉄道 油津 広島岩国道路 マッターホルン・ゴッタルド鉄道 横浜ベイブリッジ ラコヴニーク 白金台駅 東岡崎 海芝浦駅 北前 中延 VBZ 交通系ICカード全国相互利用サービス 浜川崎支線 新十津川駅 北恵那鉄道線 昼行列車 弟子屈 西鉄久留米駅\n",
            "--------------------------------------------------------------------------------\n",
            "高倉天皇 清閑寺 別家 津軽信政 良縁 宗直 久成 才蔵 日遠 権中納言 敦 近習 小子 山内容堂 源義親 曽子 大谷光暢 政恒 藤原実資 政秀 非参議 九条家 庶 治済 忠勝 謝恩使 摂家 近江源氏 酒井忠勝 浄飯王 教主 織田信行 永原 信種 堀田正睦 蔵人頭 忠清 汲 辟召 北条時宗 高市皇子 長者 菅家 定子 御一新 政通 宣下 遺児 一条教房 藤原良房\n",
            "--------------------------------------------------------------------------------\n",
            "Software ハンズフリー OCL ATB ブレンディング デリゲート レジストラ IMP リモート PBM Eclipse OmegaT XOOPS Delay Scripting DCT 線文字 コーデック SONET Usenet DMA Cocoa coreboot 写真編集 クラウドソーシング Grid ハザード Byte DivX EFS Forms アラップ スタイルシート EEG 半導体メモリ マイクロプログラム方式 ワイゼンバウム フリック入力 アダプテック ICS オレンジプラン IPU ビットマップ XML インプット ゲームマスター Q符号 generate コネクションレス gzip\n",
            "--------------------------------------------------------------------------------\n",
            "実夏 浄智寺 取り次ぐ 亀姫 サトゥルニヌス 皆川広照 江島生島事件 海野棟綱 長光寺 下田城 実政 近衛稙家 忠篤 謙之 忠友 頼秀 安倍宗任 信基 曾我氏 とん挫 沼垂郡 実悟 夏陽 張猛 村上藩 二条斉敬 頼央 派し 国分盛重 清洲三奉行 金上盛備 清広 斯波家長 給し 大炊御門家 山吹城 万之助 武成 景範 岩城重隆 利重 毛利季光 平重 春秋五覇 有親 西生 順天倭城 世良田氏 基親 田中藩\n",
            "--------------------------------------------------------------------------------\n",
            "小倉市 出雲街道 江府町 キンアムプー 郡衙 石岡市 田富 長流川 和水町 長崎県佐世保市 時津町 国立市 農業協同組合連合会 上練馬村 勝浦町 おがま 同区 農業高校 旧自治体 壱岐市 奥多摩町 香川県 新潟県 本村 岡山県岡山市北区 墨田区 御坊市 金峰 下伊那郡 足寄 大阪市淀川区 山田小学校 飽託郡 弟子屈町 上郷 南地 胎内市 愛荘町 喜多郡 士別市 立中 大川村 相模原町 小繋 南埼玉郡 新町宿 東住吉区 深谷市 鳳来 燕三条\n",
            "--------------------------------------------------------------------------------\n",
            "事務局 府連 民間出身 ハワード・ディーン 県議会議員 古参 男女雇用機会均等法 民主党公認 成案 選挙違反 日本進歩党 社会保険庁長官 郵政解散 政治改革 コアビタシオン 議長 沖縄県議会 中野正剛 監察 読売新聞社 トントン・マクート グエン・ソン 郵政改革 国会運営 山本権兵衛 ホーリーネーム 鈴木貞一 改進党 多党制 ジョン・マケイン 荒舩清十郎 ギングリッチ グラッドストン 沖縄県知事 首席秘書官 北韓 警察庁長官 バタスナ 椎名悦三郎 清浦奎吾 除名 領導 福田内閣 政治経験 SED 日本プロレタリア作家同盟 イタリア首相 女性議員 加藤六月 暴動事件\n",
            "--------------------------------------------------------------------------------\n",
            "イミディエイト ストーンズ MISIA エレキギター 渋さ知らズ ホリーズ 東方神起 所属事務所 ティンバランド デーモン・アルバーン チャーリー・パーカー レコーディング・エンジニア プリプロダクション ウッドストック・フェスティバル ドナ・サマー アート・ロック シャンソン 梶浦 展開中 デヴィッド・ボウイ SHINGO ボレロ トラディショナル ジョン・コルトレーン クローバー ロック・オペラ ズ ガーファンクル テーマ曲 ドン・キホーテ Sweetheart ストラトヴァリウス デュエット スタジオ・ワン RAG FAIR 最新曲 ペリー・コモ 島倉 ウォーターズ フォークロック 山本寛斎 タイトルトラック ファースト B.B.キング 大橋純子 伊東たけし ゴールデン サカナクション 小室 アラン・トゥーサン\n",
            "--------------------------------------------------------------------------------\n",
            "国内オリンピック委員会 テハーノ クルド語 アフロ・アジア語族 ノルド ダウール スペイン・バスク マナス タパ メティ ソカ ベッセンバッハ オーフス ジアティス 語族 サル島 プラプラデーン チュニジア 五大陸 ガロンヌ川 ドロヘダ BBBofC 無アクセント リエーティ県 ペトロパブロフスク・カムチャツキー ジャスティン・トルドー カンパラ ヌバ グランドバンク ラ・ケマーダ カコトック バレンシア州 ペテルブルグ ペルシア湾 メヒコ ドラヴィダ語族 大同市 アフガン難民 ベッルーノ県 ユカギール ドルヴァル シナ・チベット語族 東北部 ギリシャ語 ゴビ砂漠 至聖三者聖堂 ルクソール オランダ王国 ニヴフ マルク州\n",
            "--------------------------------------------------------------------------------\n",
            "北朝鮮によるミサイル発射実験 アラブ連邦 保守強硬派 ヴァルダル・マケドニア エドワード・ヒース 赤い旅団 ローンウルフ 暴力装置 反動主義 ハイエ 金斗 カンボジア政府 バイイ 中国オリンピック委員会 デュクロ 台湾青年 鄧鏗 幣原外交 世界社会フォーラム ウェールズ議会 タリバーン 革マル 永井柳太郎 佐藤賢了 太政官制 Reichswehr ビルドゥ 日本キリスト教協議会 ザ・ストレーツ・タイムズ エチオピア人民革命民主戦線 共産主義者同盟赤軍派 カーフィル あつれき 松野鶴平 都市交 ザクセン＝ヴァイマル＝アイゼナハ大公国 東ベンガル ニューディール連合 安全保障委員会 国家安全保障局 連帯経済 クリーベル アイゼンハウアー KFX カルパト・ウクライナ スカリア フィデル・ラモス 私有化 きらっ 在ペルー日本大使公邸占拠事件\n",
            "--------------------------------------------------------------------------------\n",
            "プラズマ宇宙論 א コントロールストア 円グラフ 極限環境微生物 化学気相成長 出射 単純機械 重なり積分 + d pullback エナンチオ 海陸風 ディープスペースネットワーク 原始銀河 グリコールアルデヒド がか マックノート彗星 チキンゲーム 溶銑 熱拡散 プロトタイプベース アルカリイオン水 ヒッチン チャーチ＝チューリングのテーゼ 壁内 平均自由行程 ゲンタマイシン ばねばかり Diseases リタニ 日本癌学会 閉鎖系 ラングミュア ランドルト環 慣性の法則 イアペトゥス oxidation 内部細胞塊 把駐力 取込み shuttle Qe コグニティブ 操作変数法 ダイソン球 冥王星族 ページランク 人間ピラミッド ヒーローポイント\n",
            "--------------------------------------------------------------------------------\n",
            "加島 央 向島 久安寺 浅草区 那珂 今出川 美保関 杉沢 久米田寺 杉戸 桜田門 菅生 須原 越路 上町 三重 大東京 京都市右京区 高松村 淡路町 古渡 天竜 本所区 津村 室生 嘉島 身延 三富 上京区 新堀 奈良井川 玉祖神社 百貫 田結 東金 山国 たもと 大善寺 誉田 岩倉村 砧 大和街道 呂美 関内 御塩殿神社 内本町 奥多摩 外浜 甲斐路\n",
            "--------------------------------------------------------------------------------\n",
            "シェファード ビセンテ ジョルディ セルジオ ストン エドムンド マードック アウトフィット オーギュスト パウエル ヴェール シュー ホーキンス グレイブス チェ リー・ジョーンズ Reverend コマンダー ディープ・スロート ディッキー リッコーヴァー ヒックマン ストレンジ コバーン シャトルワース ミア ブリット エミール George ベール イニシャル ウォーター ジーン・ロッデンベリー ウィルコックス アンヘル ブラフ ウェイド フラー フィンチ エレクトラ スコティッシュ グティエレス アービング テックス ヒラリー コーンズ ジェイムズ カン コルレオーネ ブリス\n",
            "--------------------------------------------------------------------------------\n",
            "四条貴音 ランデヴー Metamorphosis 神宮外苑花火大会 NEVER Compendium COW -』( AMEMIYA MEGA MAX SEXY フィール ジェラシー paint 追加収録 オフィシャルブログ MIDNIGHT OZAKI ION ゼノサーガシリーズ チームA BREAKERZ Starry グレイテスト Fairies 川嶋あい FLOOR フェードイン シングルコレクション COMFORT 」@ MODE Mr ウィー MASH Album ミッシング ユメミライ YOU PLATINUM MOUSE disc COUNT VENUS アラビアン Reborn 蒼い Debut アージェント AWARD\n",
            "--------------------------------------------------------------------------------\n",
            "暮 御方 名部 赤銅 陰刻 長曽 佐久川 山焼 合方 歸 岫 宝恵 印籠 雉 玉皇大帝 御名 （｢ いの子 揃 奥深い 手筋 阪後 後略 巨 殖 吟 古手 南開 成山 鶏鳴 九つ 峨眉山 小龍 轅 ヒコ 御子 十干 貌 普賢 五音 〉) 筵 文覚 輦 閼伽 ウ音便 異聞 伐っ さむ 富士野\n",
            "--------------------------------------------------------------------------------\n",
            "グリチルリチン 消毒薬 ギムネマ 非金属 メチルマロニル kDa トシル クロザピン )- 前骨髄球 長期増強 漂白剤 共沸 高級アルコール 末梢神経系 安息香酸 グルタチオンペルオキシダーゼ MEA アミノ酸 フィトクロム 水素化リチウム 表現型 GOT 塩化銅 伝導 タンパク 初乳 オレイン酸 アシルトランスフェラーゼ DMT 放射性崩壊 μ 酸化バリウム 不純物 結晶学 青斑核 塩化アルミニウム 軟性 IUPAC 欠乏症 ドパミン DNAメチル化 脱 イオンポンプ クレゾール NSAIDs 中間子 プテリン ノックアウトマウス スクアレン\n",
            "--------------------------------------------------------------------------------\n",
            "ハラーム 明和地所 信牌 教育職員免許法施行規則 立体商標 近畿産業信用組合 価格表示 レセプトコンピュータ 海技士 台湾居民来往大陸通行証 リワーク 投資運用業 資本流入 十二大祭 核燃料サイクル 日本自転車振興会 YOSAKOIソーラン 保険法 MeSH 利敵行為 IMO 金融監督庁 DFSG 寺社本所領 京都事務所 OCA 無能力 外国為替及び外国貿易法 個別的自衛権 相成 参議院の緊急集会 海難救助 教育バウチャー 強制解約 手当金 日本船舶 総通 増ページ 健康保険法 不法無線局 当事者適格 未払金 一身上 塩村 動物愛護法 医制 ファニーメイ 抵当権消滅請求 新潟県警 渡航文書\n",
            "--------------------------------------------------------------------------------\n",
            "祝部 笠縫邑 如意輪寺 以酊 石清水 延命院 吉日 特別史跡 白山比咩神社 巡礼 碑石 山田寺 庵 十刹 旧蹟 ヵ 名号 掛け軸 法隆寺 八社 安養院 小豆餅 山名 遷さ 明治2年 阿房列車 万巻 藤川宿 仙台市博物館 和同開珎 山陵 持仏堂 六斎念仏 竪穴式住居 柴燈 雷電神社 揮毫 武徳殿 神郡 雪形 塔婆 間切 郷社 二祖 端午の節句 天台寺 曳山 喜多院 弥山 不動明王\n",
            "--------------------------------------------------------------------------------\n",
            "アウル ランドヴェーッティル ヴィジャヤ フィリッポス2世 アジ・ダハーカ ピソ アガスティヤ ミクトラン チャカ ハルパゴス イサク カーラヴェーラ オランダ海上帝国 ガリエヌス グラーム アトロパテネ クッレルヴォ フロリゼル オーリヤック テオス ヒュメナイオス エウクラティデス クリジェス エダイン ウィラコチャ ラデツキー テングリ ヴカシン ムシチュイ Β トリプトレモス エレシュキガル 爆牌 ヌアザ カイケーイー ヴィットーリオ エーレクトリュオーン テーラ 夏侯氏 マラーノ アナスタシヤ テイレシアース リコン 貧しき 陸英修 ガルディア クニグンデ ジャスワント・シング ヴァンパイアハンター イアン・グレン\n",
            "--------------------------------------------------------------------------------\n",
            "キトサップ アイドルワイルド リマ プレザンツ ボーモント シャイロー リッジウェイ テネシー川 エンフィールド ロタンダ カッセル ドーサン ブルー・プラーク コントラバンド ハートフォード 13植民地 アルコベンダス ナサニエル・バンクス ネイプルズ キングスタウン プロテスタント教会 ノースダコタ州 ダービーシャー ニューヨーク・セントラル鉄道 記念橋 アマースト 右投右打 アメリカ合衆国国勢調査局 ニューヨーク市 ケープタウン クイビシェフ セリー・オーク フェルデン ピオリア カスター郡 ロウワー・ナインス・ワード マッカレン チカソー オシュコシュ クラークス ダートマス イズリントン トーントン マーティン・ヴァン・ビューレン バーリントン マッコーリー プリンツィプ ハドソン川 アラマンス 行政上\n",
            "--------------------------------------------------------------------------------\n",
            "グルテン 合鴨 インレー モーニングサービス ちらし寿司 2杯 揚げ油 救急箱 ライチ 切削油 チチャ きつね色 食す イモ コシヒカリ 碾き 美容所 刻みネギ ラム酒 おみやげ 国産材 自然銅 ビードロ コンフィ ドリンクバー 炊い 松茸 タンブラー 鯨肉 日本農林規格 落雁 味噌汁 歯磨 カットソー ホットケーキ ドルマ カーボンブラック カレールー 茹で 竹製自転車 魚介類 軟白 パルプ 淹 白身魚 実演販売 一般用医薬品 フィロキセラ 馬乳酒 マカダミア\n",
            "--------------------------------------------------------------------------------\n",
            "交換関係 等電子的 線型代数学 LOD RAII ヘッセ行列 振幅 シューア 天体力学 曲線 シグモイド ダイアトニック 直観主義 閉路 タンジェント数 右手系 内周 (< セマフォ 留数 状態空間 開集合 ポイントトリックゲーム フェルミ 生命の起源 比例 ひずみ 縮退 非線型 正則化 Δ 幾何平均 定圧 アクティブ運用 同相写像 ブラウン運動 メビウス変換 古アイルランド語 ユークリッド 経験則 量子群 ロジット 代数方程式 電流源 閉道 換字 ユニフィケーション 相加平均 臨界点 色荷\n",
            "--------------------------------------------------------------------------------\n",
            "Hermann Kramer Estadio Heinrich Bruno Gamble ı Maynard Seminary Webb Dudley Marie Clermont ゲーベル Hayes Avon Deportivo بن エッシェンバッハ Fuller Joe Miriam Hahn 1858 テハマ プルス・ウルトラ Basil Hart Cleveland Murray Jesse Angus Steve Watts COMT ヴァイン Bergmann Barra Kobayashi rouge Palmer ボーヴェンデン Ross Kelley Nationale Benz Rothschild nad Ferenc 1881\n",
            "--------------------------------------------------------------------------------\n",
            "ミレーヌ トログロダイト ブレス 仮面 アルフ 第27話 グレイプニル epic トビ ペルソナ ツルギ デスラー ウッソ フランケンシュタイン シバ ミュウツー バイソン プロイツェン チャオ 妖刀 クランキーコング ハヤト メデューサ 野望 レディ・アン ナイトメア シリウス ゾイド グリフォン ハーピー グリズリー ソロモン72柱 トチロー 功業 神無 夜宮 ティンカー・ベル 未知 アイアンマン クン グレイブ パンドラの箱 合体 ハンブラビ 雑魚 ネイビー・シールズ ハモン 引き戻す 回復アイテム モーロック\n",
            "--------------------------------------------------------------------------------\n",
            "通信局 ポロロッカ ガリバーインターナショナル ワンオフモデル 仙台銀行 シカゴ・マーカンタイル取引所 労働科学研究所 フィルム・コミッション 写ルンです テレホーダイ やまや 守口大根 アズナス クラシエフーズ マクドネル・エアクラフト jig TBA 亀の尾 ユニーグループ・ホールディングス マキノプロダクション 仏壇店 PageMaker コスプレ系飲食店 日本ヒューレット・パッカード 花月園観光 シエーリング アマゾンジャパン エッシャーウイス eBookJapan SCEI 携帯電話キャリア 東京電力株式会社 霞が関ビル ハッピーセット MobileMe ビーピーエス KNT 日石三菱 ZSSK 大阪取引所 日債銀 大阪圏 京阪宇治交サービス 大阪市立天王寺商業高等学校 マツモトキヨシホールディングス ウェアハウス 韓国産業銀行 スマ放題 タカシマヤ ポスプロ\n",
            "--------------------------------------------------------------------------------\n",
            "海上封鎖 オマル・アル＝バシール パヴェリッチ 国際緊急援助隊 ベルリン封鎖 ポーランド共和国 ヴィシー 日露和親条約 オガデン戦争 中独合作 モスクワ宣言 反共主義者 戦時経済 領土問題 条約破棄 安重根 シュシュニック チベット人 民主化運動 スレイマーン マリウスの軍制改革 加瀬俊一 租借地 北京議定書 政治的不安定 総領事館 イスラム国 東大闘争 軍縮 陸軍機甲本部 報道官 中ソ友好同盟条約 公式訪問 チェーカー 特派員 破壊工作 サン・ステファノ条約 トルーマン大統領 職業軍人 イラク共産党 出版の自由 盟主 白系ロシア人 画定 和平 大本事件 対中政策 金奎植 レバノン軍 戦時\n",
            "--------------------------------------------------------------------------------\n",
            "尾部 映写機 ボビン ホバリング 腐食 横風 クリック 取り出す 使い切り タイプライタ チャフ 手ブレ 器 要求仕様 識別 航続距離 東京大学宇宙線研究所 コンバーター 発電効率 示 フラッター 光軸 ミサイルサイロ SUMPAC パルス波 ブイ リアクションホイール レドーム こうのとり3号機 スキルポイント 尾翼 アルミニウム オイルダンパ キャンバー 光電子増倍管 鍛造 LORAN TIMS 吸気 冷熱 増幅 重力 トランギア 取付け BESK 緩衝 蓄電池 接地 固定 潤滑\n",
            "--------------------------------------------------------------------------------\n",
            "バイエルン人 ケティ 1653年 諸聖人の日 ユーハン パウルス ゲルツ ヴォロディーミル チャウタ 西ローマ皇帝 先触れ ジョスラン イングランド王 ジーギマンタス・カリブタイティス グレートブリテン エレニ 帝国都市 セボルガ アラーハーバード条約 ナヴァール ジョゼフ・ボナパルト アルマニャック ブザンソン サヴォイア ソテル 1747年 ペラム 聖王 ウルバヌス8世 王政復古 トルシー エドワード黒太子 Sancho 大天使 ノーサンバーランド アウクスブルク 司教領 ヴォルピ ティグラ アングロ ステピナツ ハイレ・セラシエ1世 マフムト フェロン ラス・カサス フランス皇帝 アンギャン ルフェーヴル 兵役拒否 コンスタンティヌス1世\n",
            "--------------------------------------------------------------------------------\n",
            "佐藤義則 活動自粛 岩本勉 荒川博 メキメキ 若者頭 鹿取 Wリーグ ライオン軍 ジョージ・マイカン 遊ゴロ 前田智徳 朝日軍 三段 土井淳 級長 鈴木尚典 横浜高 加藤初 騎馬戦 若手中心 鳥栖 中華職業棒球大聯盟 打線 本西厚博 中国囲棋協会 63kg どよめき フォーシーム フリオ・ズレータ シーザージム 蹴手繰り FC東京 北信越 武宮 リンドプルバン インコース JTマーヴェラス 里崎智也 嶋田宗彦 中華職棒 V・ファーレン長崎 プロボウラー 川口和久 風間八宏 藤本敦士 札幌市円山球場 大家友和 デビルレイズ 練習メニュー\n",
            "--------------------------------------------------------------------------------\n",
            "撮影監督 うたのおにいさん マネキン 劇中劇 てんぷくトリオ 中村主水 バスローブ 藤山直美 仲代 山賀博之 関智一 O型 イッセー尾形 黄金バット 劇場型犯罪 田中真弓 ピクサー・アニメーション・スタジオ 藤原義江 陣内孝則 本郷猛 風と共に去りぬ 剣戟映画 渡部建 名コンビ 加藤剛 香川照之 フレッド・アステア 万象 山本晋也 陣内智則 国活 帝国館 NHK大河ドラマ C.A.L 布施博 こばと 三番館 第41話 佐木 笑う犬 作画監督 夏菜 志村けん スター誕生! 大作 コ役 アナウンス部 ルーニー・テューンズ 日枝久 カンフー映画\n",
            "--------------------------------------------------------------------------------\n",
            "おめでとう 一寸法師 いろは かくとうぎ みぃ ホンマ みあげ グーグー へたれ 猫耳 うぃず しゃっくり ゆうが も〜 ナイナイ も～ ッ あぁ にわか雨 寺島尚正 のる スラムダンク エムビーエス クッキング あかつき ただ今 除霊 ちー 両津勘吉 ドキ ひので 妻よ やさしい 夕陽 ファイト! 泣かないで みしら おたから ひらめ にだ 細美 正調 スローライフ かむり たんぽぽ キャンプサイト ロビ 倶楽部 もぎたて でんでん\n",
            "--------------------------------------------------------------------------------\n",
            "八代国治 アーリアン学説 第二次産業革命 デウス・エクス・マキナ ポストモダニスト 格物致知 イタリア文学 悪魔主義 貿易理論 唯美 混種語 行為論 穿頭 セクエンツィア 五指に入る ソーシャル・キャピタル 新植民地主義 指導原理 現代訳聖書 リンポチェ 神西清 アフターウォー マヌ法典 異分子 自然哲学の数学的諸原理 海洋底拡大説 フォレスト出版 又聞き 認知神経科学 根ざす ネーゲル 自然言語理解 なかんずく 計量学 口頭言語 カレル・チャペック 弁証法神学 古典言語 存在論的、郵便的 双書 内政不干渉の原則 文章題 ル・サロン スラッシュドット 二重基準 思弁的実在論 オリエント学 自民族中心主義 新文化運動 宇佐美徹也\n",
            "--------------------------------------------------------------------------------\n",
            "リバーサイドモール 商会 エア・ベルリン 住宅金融組合 paperboy&co. 貯蓄銀行 近海郵船 トラミエル バス運行会社 同社 中央交通 トリックス 映画会社 不動産投資信託 カイロ国際空港 休眠会社 飲料メーカー ドニエプルロケット キャセイパシフィック航空 サンスター文具 情報産業 ラリー・ペイジ 法律事務所 嚶鳴 カネボウ化粧品 八幡製鐵 三洋 OTA 化学工業 投資顧問会社 フィンランド航空 LLP ABB コリア 九州産業交通 投資グループ 共同石油 芙蓉グループ 愛馬会 自動車整備業 台湾電力 スポーツバー オール電化 三菱マテリアル 東京銀行 リージョナル KUKA エマルシェ 精機 システムズ\n",
            "--------------------------------------------------------------------------------\n",
            "帝国図書館 食品科学科 特任准教授 études 社会工学 東京都立大学附属高等学校 王立英国建築家協会 人間文化研究機構 鮎川信夫 名古屋学院大学 社会福祉施設 宮崎大学 Vocational 大阪福島 ワッハ上方 たずさわり 法経学部 日本化学会 英語学 人間禅 明道館 Normale 環境法 日本留学試験 日本キリスト教婦人矯風会 レファレンスサービス 女子大学 定員削減 相模女子大学 ノースウェスタン 旧制成蹊高等学校 理工 日本医師会会長 IHÉS 文教大学 航空研究所 選科 国立清華大学 広告大賞 慶應義塾高校 陸軍少年飛行兵 高等映画学院 講座制 日文研 物理療法 防具付空手 黒川紀章 馬場あき子 元自衛官 紫綬褒章\n",
            "--------------------------------------------------------------------------------\n",
            "広瀬 政史 桃中軒 昇 泰次郎 高田川 雷部屋 陶山 立原翠軒 孝慈 富之助 仙之助 江家 杉尾 木上 忠三郎 次郎 惣吉 五郎右衛門 周治 柳川次郎 重久 川勝 松倉 清水次郎長 隆 大坂屋 辻本 蜂谷 堀田 助太郎 東堂 淳 徳田球一 西崎 花井 清海 忠男 杉田 光浩 箕輪 頭取 久本 久太郎 新蔵 伊三郎 元美 唯 下斗米 石崎\n",
            "--------------------------------------------------------------------------------\n",
            "最奥 減水 干拓地 延びる 岩 千波湖 小月 石鎚山 峠 荒川 オホーツク海 ポート・ジャクソン湾 徳之島 五ヶ所湾 斜面 カヌー ナトロン湖 知床国立公園 創成川 相模トラフ 海 険しい 舳倉島 佐渡島 上海天長節爆弾事件 八甲田 づたいに 開渠 烏帽子岳 フレンキシェ・シュヴァイツ 焼島 三原山 険しく 残雪 飯野陣屋 高野川 雲貴高原 ヴィーエン 犀川 渟代 ナルテクス でんでんタウン マラウイ湖 はずれ 大火災 島原半島 加治川 相模野台地 九頭竜川 佐古地区\n",
            "--------------------------------------------------------------------------------\n",
            "年齢主義 啓蒙思想 国民性 ベンサム アフラ・マズダー 現代 定型詩 同性愛 シャンバラ 機略 サルトル イディオム 政体 善悪 混沌 牧歌劇 変格 進歩 マルサス われわれ 人種主義 三権分立 偽作 新時代 憧憬 社会構造 取引費用 ホッブズ 忌む 中華文明 近現代 世界宗教 排撃 恨 獨立 探究 自助 最後の審判 六師外道 不断 律令法 時宜 摂関政治 共感 並立 ドグマ 卓越 身心 隷従 恩寵\n",
            "--------------------------------------------------------------------------------\n",
            "1644 13.5m 9万円 2800 88cm 125m 2650 482 3075 1818 2152 FFH 783 245 407 414 1341 880円 入れかえ 39億 1015 2590 652 1523 373 493 576 トーティエント 28インチ 49 Ⅲ 309 418 12.5cm 5800 1229 1109 2.7m 729 665 010 991 6300 GZCA 105 5.4m 452 1362 64km 延床面積\n",
            "--------------------------------------------------------------------------------\n",
            "武経 沼田城 騎 武田信玄 衰亡 蘆名義広 討た 小野寺氏 上杉房定 結城宗広 小沢城 謙信 烏山藩 永禄の変 世直し一揆 甲越 小笠原 吉岡長増 奇兵隊 奥州管領 城内 昌幸 戦乱 衆 嘉隆 前田利家 押領使 顕家 脇坂安治 入洛 勝瑞城 牛久保 織田氏 元寇 塩谷氏 解官 侵出 吉継 遺命 義隆 内談衆 三原城 新田氏 則景 文治派 奥州藤原氏 多賀谷氏 後藤貴明 備中兵乱 九戸氏\n",
            "--------------------------------------------------------------------------------\n",
            "焚い 譬え 使い込む かしげる 落とし込ん 掘り進む 靄 逸らせる 向こう 悶絶 ロープ 火炎 取り出し 数歩 噴き上げ 脱がし 雄馬 ひとつだけ つなぎ止め 洗っ 考え出す うろつく ぐったり 流し込ん 金縛り 逆さま 落盤 ひっかかっ 噛みつく 突き落とし 指 ゴザ 舐め 運び込み 着込ん いくらでも シャワー あおぐ 持ち去る 火かき棒 へばりつく ウィケット 閉まり 浮い 荒波 見通す 切り込み 取り付い よどん 釣り合う\n",
            "--------------------------------------------------------------------------------\n",
            "遺著 道学 和漢書 囃子方 宇田川榕菴 教士 抄物 天外 花鳥諷詠 永く 示現流 斯道 志野 絵師 植芝盛平 按摩 南蛮文化 清満 小笠原流 秩父事件 俗人 相州伝 純 亀井南冥 浅山一伝流 兵法 上古 薮内 弓術 喜田貞吉 講説 森林太郎 中村草田男 行賞 良沢 儒学 下士 おおいに 武芸者 下級役人 四柱推命 中村元 有季 海紅 日朗 詠み 三昧 受持 煎茶道 土田麦僊\n",
            "--------------------------------------------------------------------------------\n",
            "コールサイン グレーン M12 WSC グリーゼ V3 バネット トミーガン 50インチ SVGA 16.5mm spec 16色 LPG SCDMA ASh サイレンサー Mバイト サイドアンダーミラー SV CGA ZVW 22600系 ストレラ A MEKO XX MMC カッパロケット Dash MX ユーロコプター IIIa ACアダプタ TNT 22mm PS装甲 Pentium III GA タスカン ストラーダ レギュラーガソリン 横滑り防止装置 40K HITAC トルコン 4B TH ミニミ パルスジェット\n",
            "--------------------------------------------------------------------------------\n",
            "腹巻き サドゥー 聟島列島 アリゲーターガー 遮光器土偶 灰緑 ニクバエ ハネカクシ 狩猟鳥 オワンクラゲ レンギョウ ニシツノメドリ 和賀山塊 戦争遺跡 バカガイ 青色巨星 ねばねば 流し網 クエン酸ナトリウム アセロラ ユメゴンドウ 中動態 あかぎれ 乾燥肌 946m 佐賀弁 トゲハシムシクイ トング 梳毛 コーヒー・リキュール ツチハンミョウ クリームソース 升麻 赤肉 民族料理 軽スポーツ ぎざぎざ 60g 形声 シリアゲムシ オクトピン 水蒸気噴火 シナノキンバイ pit コブハクチョウ アステカ神話 尾毛 メクラヘビ 絡みつく ヒメシジミ\n",
            "--------------------------------------------------------------------------------\n",
            "フレジュス アシア属州 バビロニア バンダ・オリエンタル クメール王朝 カズヴィーン キンナ ハンガリー軍 モドリン 遊牧国家 ダウラ リヴォニア 防壁 ハリプンチャイ王国 ガリツィア 9世紀 カブール ママイ バルバ ザビード ゾル人 イストリア ディオクレティアヌス 隠者ピエール バラク シャイレーンドラ朝 ローマ人 バルセロナ包囲戦 パーラ朝 アルセ 領内 ラブール ブーヴィーヌ スィースターン タルソス アルブケルケ アーシューラー バルフルール ウガリット メデューズ ネヴァ ガウガメラの戦い アルゴス メロヴィング朝 ヴャトカ コロムナ ウィリアム要塞 ギルダス モンゴルのポーランド侵攻 ニューネーデルラント\n",
            "--------------------------------------------------------------------------------\n",
            "安っぽく いいえ 面白い 恋愛経験 切ない っぱなし 冷や汗 今頃 こっち 云い 種明かし カッコ 言い訳 ヒナギク 萎え たわごと 気まずい 愛す 妄想 サービス精神 励ます カツアゲ スクルージ 冴える 独り言 お呼び 本気 欠かし なのは つまみ食い 乱馬 うぬぼれ 昨夜 儘 なのだ 文句 居心地 だれ とかいう 夫婦生活 だから 勘弁 片っ端から 恍惚 あざ笑う 口走る 君たち しきりに 疎ましく 大丈夫\n",
            "--------------------------------------------------------------------------------\n",
            "抑え 取り巻く 飲み込ま 封じ込める 担わ 彫りこま 生存 けなさ 造ら 探し出さ 分岐 はびこる 外れ 降さ 埋まっ 戻し 呈し ほのめかさ 繋げる 狙い撃ち 担える 切り倒さ 放置 持ち込ま 迎え 収録 廻さ 折り込ま 条件付け 焼き捨て 持ち寄り 未完成 からかわ 整え 欠く 空い 売り込ま 置き換わっ 着目 及ん 貸出さ 施し 打ち込ま 掛る 数多い 直結 覆さ 記す 明言 削ぐ\n",
            "--------------------------------------------------------------------------------\n",
            "検察側の証人 名古屋高等裁判所 道路運送法 新聞紙条例 詐欺行為 責務 破産手続開始決定 解散詔書 第9条 業務上 一般住民 即刻 点検 許可 身元 Jリーグ準加盟 監督者評議会 事実誤認 秩禄処分 特別清算 立件 死刑 五箇条の御誓文 道路交通法違反 WIPO 反逆罪 刑事事件 脱税 任免 扶養 出入国 無免許運転 起訴 発令 処罰 時効 欠員 入管 不動産登記法 マッカーサー草案 ICPO 科せ 労働者派遣法 改正 書換え 明文化 犯罪 検察当局 住民監査請求 服務規程\n",
            "--------------------------------------------------------------------------------\n",
            "尽く 発砲 取り入る 間も無く 用心深 タラン 疑心 伝え聞い デロリス 去る 頼み込み 罰する 頼っ 敵襲 キエントプース 入り乱れ 猟師 オデュッセウス 手渡す 踏み止まっ 命運 焚き付け あぐね ラル 牛耳ら 労っ ジルバーバウアー 空か 呼び止め 虜 火中 申しつけ 焼き打ち 手懐け 転進 欺く 暴漢 義縦 押さえ 無理矢理 統べ 思いこみ 道すがら 鉢合わせ ブラックケトル 危ぶん 玉梓 焼き払っ 隠し 打ち壊し\n",
            "--------------------------------------------------------------------------------\n",
            "ゴジダス 玉置宏 首都圏トライアングル アイドリング!!! 山口朝日放送 中西哲生 NNNドキュメント 体験会 テレビユー山形 広域放送 ABCフレッシュアップベースボール チャンネルNECO 日本語放送 スーパーJチャンネル 韓国放送公社 JFN 24時 ゲームセンターCX 朝まるJUST 雨傘番組 先行ネット ワールドビジネスサテライト 小川宏ショー KSB テレビタミン NAMARA テレビ信州 ラインネット スカパー!e2 道新 浅草東洋館 噂の!東京マガジン 通天閣歌謡劇場 ROK フランス3 アルディージャ ジャパンプレミア 大分放送 特別編 スペシャルドラマ 土曜競馬中継 国分太一 夢列島 NHK衛星第1 KFB アダルトスイム 帰省ラッシュ 28話 プチプチ・アニメ 105分\n",
            "--------------------------------------------------------------------------------\n",
            "工業用水道 チェックインカウンター 広域連合 平成19年 路面店 発祥地 京都迎賓館 大阪都 臨海副都心 ホームグラウンド 信金 球場 野口健 ヨットハーバー 区域 錦ケ丘 夜景 アル・プラザ 最上階 水産試験場 コインロッカー 都市施設 釜山港 船籍港 東京都港区 異人館 勾当台公園 ごうどうちょうしゃ 社葬 大阪市港区 日本銀行本店 熊本県庁 海水浴 サンシャイン60 バス事業者 渡り廊下 大規模マンション ビジネスホテル 設置 みゆき通り 苗場 ショッピングモール 地方卸売市場 世田谷 最終処分場 自転車歩行者道 25階 大阪市中央 浮桟橋 警ら\n",
            "--------------------------------------------------------------------------------\n",
            "石壁 尖塔 警棒 半狭母音 扉 シア 青色 濃淡 基本形 杮 レタリング 朝顔形埴輪 ウォークスルー 国士無双 吊す 桐葉 瓔珞 廊下 喉袋 表札 塔の前 エンドピン 迷路 栗色 23階 バス窓 ヤスリ 靭 和室 輓馬 凸面 プリーツ 4色 ペン先 渦巻 子供部屋 襞 純白 10円玉 片面 半地 穿き 二十・十二面体 袴 ワッペン ピンク色 装飾 舗道 向かい合わせ テューダー・ローズ\n",
            "--------------------------------------------------------------------------------\n",
            "大学への数学 綾辻行人 附録 曙出版 ショタ 虎の巻 シーブーラパー 19話 篠山紀信 京都地検 23巻 るろうに剣心 流行り神 トム・ウルフ 広辞苑 漫画ばんがいち サイエンス・フィクション 単行 改版 抜粋 MF文庫J アサヒグラフ 和英辞典 レディースコミック 録 少年雑誌 プラン9 フォーリナー AiR 中井英夫 密室殺人 週刊明星 ガンガンパワード 西島大介 名探偵・金田一耕助 フルスクラッチ 別冊 )〜 日本語翻訳 ロバート・A・ハインライン =『 定本 アラン・ムーア #『 貝類レッドリスト 日本評論社 立川文庫 日本製アニメ 小説新潮 小説推理新人賞\n",
            "--------------------------------------------------------------------------------\n",
            "79度 78度 収容人員 だいたい 月齢 バイコヌール宇宙基地 最高 96分 163センチ 17時間 与四死球 0.2m 19度 四捨五入 8000万人 命数 50km 100mm 債務残高 9安打 1m 6000人 商用電源周波数 40本 零下 ± 05 366日 4倍 フリードマン数 2項目 65度 飛行制限 80% 49分 HCU 10人 13度 99.3% 172km 27℃ 注 34分 行い 25人 120人 年前 108km 30時 震度6\n",
            "--------------------------------------------------------------------------------\n",
            "浦部 嘉章 利男 喜郎 喜代美 愛児 福ちゃん 日暮 君江 つき合い 遠藤章造 田仲 矢村 雄平 火鳥こずえ 西野 柳太郎 菜穂 古角 淳之介 瑠璃子 松濤幼稚園 昌子 耕平 ガチガチ 玲子 月野 孝則 麻里子 寿子 駿平 須貝 みつる 郁美 新崎 久作 真央 幹男 梨奈 優子 伸一 シオリ 春男 伊澤 樹里 早希 恭子 孝夫 みのる マサシ\n",
            "--------------------------------------------------------------------------------\n",
            "ファインアート チャーチ・オブ・クライスト ラザロ 小林隆男 幾つも ブラウン大学 イブン・スィーナー カレル・ヴァン・マンデル ジムロック 博愛主義 ファッション写真 ラムゼー リチャード・オーウェン マタイによる福音書 博学者 大十字章 極圏 ケンペル 神智学協会 着想 ドナト・ブラマンテ ヘブライ オッペンハイマー オランダ国籍 1907年 イオ・ミン・ペイ アルフレッド・スティーグリッツ 造園家 ロサンゼルス映画批評家協会 ニザーミーヤ ハーマン・メルヴィル ロビン・フッド 航海日誌 小説家 レーリンク カリグラフィー アズハル 古生物 ゴーリキイ ファウンデーション インテリゲンツィア ローレンス・バークレー国立研究所 バルバロ エルミタージュ エウスカルツァインディア カラヴァッジオ ハンブルク大学 ストウ チャールズ・グリーン ギュスターヴ・クールベ\n",
            "--------------------------------------------------------------------------------\n",
            "リアルタイムストラテジー BL オプス ポケモン図鑑 DVDオーディオ グラディウス Train Simulator lite エピソード1 コンディショナー 機動戦士ガンダム 逆襲のシャア maimai POWER2 W-SIM C64 Taito Type X タブリエ・コミュニケーションズ アペンド スピリッツ 機動戦士ガンダムSEED ハンディカム 無線綴じ Webカメラ Netflix ACTRESS ステージ2 パトレイバー 発売元 プラズマテレビ アイウェア 第6弾 STRIKE ゼノブレイド VDP スナップフィット PBW MMO ジュエルケース MacBook Lump of Sugar モノポリー Windows版 日本電気ホームエレクトロニクス DVD-BOX ブローニー デノン パックマン シー DS MSX\n",
            "--------------------------------------------------------------------------------\n",
            "身体障害者 空佐 図工 訓導 同志社 教養課程 介助 管理栄養士 千葉刑務所 小論文 育児相談 通学 高度専門士 救急車 カイロプラクティック 大型特殊自動車 居残り 車いすバスケットボール 国民英学会 教室 継続教育 荷物検査 GLOCOM 社員選手 派遣 市民大学講座 応援合戦 入院患者 木村秀政 海事代理士 委員会活動 難聴者 理学療法士 プログラミングコンテスト 楯の会 27年度 ブートキャンプ 予科 衣替え 救急 ものづくり 追試験 進度 通信教育 活動拠点 期生 育児 一年生 球技大会 歯学部\n",
            "--------------------------------------------------------------------------------\n",
            "寄生虫 毒棘 キキョウ ゾウガメ イワタバコ タカ メヒルギ アサザ テングタケ 日本産 バンドウイルカ ハンタウイルス 52種 海獣 ハイマツ ムシクイ類 イネ 腐肉食 釣れる ジャーマン・シェパード 白変種 イソギンチャク 標本 ニホンオオカミ 棘皮動物 木の葉 両生類 チャノキ 渡り鳥 放散 インコ サワガニ テンジクザメ 雑草 ゴカイ セイヨウタンポポ ズワイガニ ハマユウ ハナバチ アオウミガメ シャモア スピロヘータ シジュウカラ 雑菌 フラミンゴ フクロオオカミ セキレイ ヒラシュモクザメ 岩絵 ヒヨドリ\n",
            "--------------------------------------------------------------------------------\n",
            "バッグ カチューシャ キャビン インディカー ウィリアム・ライオンズ モーターボート カタナ ストール IMSA フォーメーション フラット トノー タイプライター フィッティパルディ サプライヤー パトカー 市販 民間機 コンパルソリー タイヤ交換 マンセル ガルウイング 東京オートサロン アテンション ディスタンス ハイブリッド車 ウィンド トレーラー アドミラルズ ブルバード BTCC レゴ YZR トニー・ブルックス FVA ローリング ライトバン コーニッシュ 富士重工 カロッツェリア シャドウ スティード CBR1000RR コンバイン パノス ライフル パテック・フィリップ GT フェイタル レッドブル\n",
            "--------------------------------------------------------------------------------\n",
            "開会式 台風第18号 12月12日 7月4日 運輸政策審議会答申第18号 4月27日 龍帝 2039年 78枚 当月 12月26日 一世代 103回 4611 NHK上方漫才コンテスト 7月5日 3月上旬 中3 アメリカ国立フィルム登録簿 益田競馬場 止まり 7月13日 1980年 10枚 2013年度 レセプション Ⅸ 7月20日 2003年 6月25日 108号 10年目 門司競輪場 42位 7枚 1952年 年末商戦 58期 こまちスタジアム 23番 15回目 48代 8回 技能五輪 保定陸軍軍官学校 ゴヤ賞 72回 瀬戸内国際芸術祭 9月13日 3月1日\n",
            "--------------------------------------------------------------------------------\n",
            "ギャラ 力不足 動き 捻挫 ビーンボール 試練 しだいに やりとり 気味 戦術 ホープリー 無策 慰留 多少 当たり前 フロック ラフプレー 不良 不遇 幾多 必ず ターニングポイント 米メディア 黒人差別 受けて 緊迫 する 然し 歩きスマホ かさん 諸般の事情 証拠 フォロー 本能 品薄 益々 部外者 不人気 軽い 社会現象 他者 た 最悪 自慰 暴力行為 失敗 円熟 行き場 一度 不安感\n",
            "--------------------------------------------------------------------------------\n",
            "障害者手帳 金庫 準則主義 連鎖販売取引 成功報酬 役金 過怠金 燃油サーチャージ 無利子 収得 完済 詐取 台湾元 賃貸住宅 650万円 たばこ税 申込み 質流れ プロパー 秘密保持契約 1000万円 本位金貨 銀元 配当 通信費 通関 360円 課税率 過払い 繰り延べ 税額控除 準備金 再販 小資本 権利義務 5000億円 300ドル 買取り 当期 贖宥 残高 70万円 日本円 130万円 130円 87億円 金銭債権 78億円 値上がり 農民工\n",
            "--------------------------------------------------------------------------------\n",
            "仙台弁 アイドル活動 好青年 リハーサル はじめる 飄々 カーアクション テーマ オシャレ パネラー 三枚目 子供っぽい ユニセックス 触手責め ジェスチャー 後姿 キャバレー 顔射 描き 締めくくり 身振り 優し 歌い手 クール 深み 幽霊部員 ケレン 噺家 パジャマ オンパレード そそる キャミソール 感慨深い 肉体美 総じて 一番 懐かしむ 独白 内向的 ファンサービス 鬼畜 ポラロイドカメラ 不得意 アーティスティック 着ぐるみ 詩情 凝っ ウェディングドレス 少な目 ずば抜け\n",
            "--------------------------------------------------------------------------------\n",
            "細胞腫 外側 鱗状 ひれ 腓腹筋 新世 心房 黄道 系統樹 凝固点 師部 プラーガ 導火 太陽 窩 自由大気 橙色 等圧線 移動性高気圧 した目 被殻 重なり合い 常伝導 ゼーベック セメント質 発光体 白夜 さいだん座 砂塵 黒み 地中 セイファート銀河 囊 泥土 膨れる 花柱 小臼歯 雲形 根出葉 飛沫 はくちょう座 咀嚼筋 くちばし 外套膜 400℃ 体側 200℃ 発地 基底膜 水塊\n",
            "--------------------------------------------------------------------------------\n",
            "人的資源 強まり 構想 論争 普通郵便局 策定 兼ね合い インドの経済 欧州中央銀行 不振 係争 利便 待遇改善 相次ぎ 底上げ シティ電車 全面禁止 地価税 見直し 旧石器捏造事件 実質賃金 資源ナショナリズム 外国人観光客 先進的 通貨スワップ 危機意識 産油国 先決 大学院重点化 ウルグアイ・ラウンド 統計 1950年代 6次産業 長期的 三位一体の改革 集客 買い控え 資料保存 欧化政策 田沼時代 児童労働 実体経済 データ改ざん みわけ 本格化 取りやめ 基本方針 船舶改善助成施設 地下鉄サリン事件 自動車産業\n",
            "--------------------------------------------------------------------------------\n",
            "左少 449年 永明 葡辞 威徳王 23年 1138年 文亀 264年 1228年 772年 422年 乾隆 702年 1202年 827年 563年 872年 十月 1083年 1262年 1406年 1428年 皇興 1018年 正四位下 145年 936年 文武天皇 231年 嘉吉 232年 1224年 937年 大中祥符 昌徳宮 643年 延和 252年 567年 1418年 天徳 103年 1374年 1115年 429年 58年 249年 1677年 応保\n",
            "--------------------------------------------------------------------------------\n",
            "悪寒 せん妄 自覚症状 ブチロフェノン フェニルブタゾン 実験動物 NICU 特発 C型肝炎 CT検査 性成熟 被曝 心不全 包茎 咳 メラミン 骨髄間質細胞 慢性胃炎 ノロウイルス 慢性腎不全 ペースメーカー シェーグレン症候群 珪肺 指定難病 血圧測定 排出 ジプレキサ デトックス 認知機能 ドメスティック・バイオレンス 内出血 尿失禁 BSE マスタードガス 強迫神経症 抗核抗体 眼瞼下垂 精神刺激薬 HAART 病原性大腸菌 偽陽性 血管系 ロボトミー 滑膜肉腫 遅発性ジスキネジア 糖尿病性昏睡 強皮症 齎す 止血 丹毒\n",
            "--------------------------------------------------------------------------------\n",
            "引き合わさ マオ 片親 新婦 同年代 継美 後添 ロッタ 自動車事故 いとこ婚 自営業 叔母 引っ越し 大部屋 ひとり 泥棒 マチュー カルエル ベイトマン 末弟 出自 伯母 ペペ 175センチ 感化院 旅先 女性社員 韓国人 子分 ハウスキーパー ベス 妾 ヘビースモーカー ヴァルモン サリー・ヘミングス 親子 宇宙艦隊アカデミー 共に 会い 同室 葉子 リューク 従姉 付き添い 家系 タケシ クレオ 22歳 使用人 ビアトリクス\n",
            "--------------------------------------------------------------------------------\n",
            "吹奏楽編曲 標題音楽 左手のためのピアノ協奏曲 グラミー 音楽家 メシアン フォーキン レナード・バーンスタイン ギルベール アランフェス セレナード 巨匠 ライオネル・ハンプトン 音楽監督 オーボエ協奏曲 威風堂々 美しく青きドナウ 印象主義 シンフォニエッタ 楽劇 ニキシュ ロジャー・ノリントン ピッコロ 名古屋フィルハーモニー交響楽団 34曲 吹奏 スーザフォン ヴェーベルン イサーク・アルベニス シュナーベル フーベルマン シューマン 至芸 京都市交響楽団 五月祭 ファリネッリ フィリップ・グラス メンデルスゾーン マーラー Memoriam フォークキャンプ リュリ 三善晃 野心作 クルーセル 神々の黄昏 アヴェ・マリア 奏者 アントニオ・サリエリ パブロ・カザルス\n",
            "--------------------------------------------------------------------------------\n",
            "見本 修業 学問料 山林 デリヘル 酒樽 奢侈禁止令 買い物客 精錬 杉原紙 運搬 有田焼 売春斡旋 美容院 はげん 性風俗 アイノコ 絹織 夜具 配達員 絹布 小袖 袋 蒸し風呂 水利 不動産業 1910年代 明治 廃屋 製紙 器物 優良 掘り 食肉市場 下番 土木 硯 酔客 店長 本業 瑞賢 小遣い 柿 進駐軍 日立鉱山 廠 装身具 酪農 砕石 漁家\n",
            "--------------------------------------------------------------------------------\n",
            "MAZADA バフ・バグウェル チャック・リデル ラウンドガール シコシス NBAデベロップメント・リーグ 神戸ワールド記念ホール バリー・ウインダム 協栄 愛知県体育館 アトランティックリーグ ISKA テリー・テイラー サンダー杉山 ロッキー・ジョンソン バリアント・ブラザーズ GFW 石井智宏 ロブ・ヴァン・ダム ハウス・ショー ブルーザー テリー・ゴディ ROH世界TV王座 鈴木みのる インターコンチネンタル ファン・デル・サール 長州力 ナイトロ 猛牛 デスペラード GRABAKA 斎藤了 舎利寺の戦い メンツ 高橋裕二郎 ムベキ シャークス フロントライン 亀田和毅 ボディ・プレス 仲間割れ スペル・シーサー ダスティン・ローデス 覆面レスラー グレート・カリ マーク・ヤングブラッド デビッド・フォン・エリック ミゲール・コット ジグラー ジェイク・ロバーツ\n",
            "--------------------------------------------------------------------------------\n",
            "82人 480万円 076 65人 918人 635人 アルザマス 46人 11.7% 230万円 22件 94% 3500人 99.8% 貧困線 598人 54% 777人 275人 699人 739人 320人 2300万人 のび太の新魔界大冒険 90人 340人 暫定値 42.9% 49% 970万 ㎡、 765人 66万人 92人 420万人 安全素数 62.8% 742人 外国人登録 506人 32万人 11.3% 539人 399人 7.7% 60% 18.5% 637人 069 880人\n",
            "--------------------------------------------------------------------------------\n",
            "ダイヤ改正 22000 電装 多層建て列車 増設 ツアーバス 車運車 勝田車両センター ICE 国鉄 東急車輛 タンクローリー 建設機械 宮地岳線 オールステンレス AGT 国際線 コンビーノ 普通二輪 1700系 長津田車両工場 20世紀特急 廃線 フレートライナー E1系 引き続い 九州島 鶴見事故 ナローボディ機 7000形 デハボ 渡り板 千田車庫 両分 ドリーム号 3000系 輸送力 青函連絡船 Frecciarossa 鋳鋼 5503 全鋼 189系 大宮総合車両センター 宇高航路 731系 動力近代化 復旧 3002 701系\n",
            "--------------------------------------------------------------------------------\n",
            "ワンコイン # 索引 公式ブログ グランドパス65 れ 番号ポータビリティ OCN フロア マイクロソフトポイント サブスクリプション 自転車旅行 賞品 スペシャルイベント iTunes Music Store 通常盤 携帯局 JBIS fusianasan スーパーアーツ 呼出し 発売予定 ファストパス エイプリルフール 検索ランキング はちま起稿 直送 五十音順 ブックマーク iモードメール ログアウト コピー 品書き スポーツ新聞 ステッカー ラベル 問合せ オープン価格 ウェブページ 悠遊カード プラス 衛星基幹放送局 プレミア WELL カオスエメラルド エーシーニールセン 発売中止 web リンク集 R-15\n",
            "--------------------------------------------------------------------------------\n",
            "豪風 社台ファーム 快勝 三連勝単式 ラトロワンヌ 好 セントレジャーステークス グレートヨルカ 貴ノ花 姫路競馬場 若ノ鵬 アーリントンミリオン スプリングカップ 佐賀記念 チョウサン モーリス・ド・ゲスト賞 最優秀2歳牡馬 スカレー 川田将雅 ディクタス 連勝中 ランドプリンス 香港国際競走 ホーリーブル 横浜国際女子マラソン 本馬場 デットーリ 看板大関 穴馬 クラシック競走 ソウル競馬場 テンメイ コダマ スティープルチェイス 八大競走 山元トレーニングセンター 白老ファーム 長野マラソン 11着 リアルシャダイ 騎手招待競走 棋聖 タイキブリザード 6番手 栗田勝 後塵 三浦弘行 競輪 セントウルステークス ダービー卿チャレンジトロフィー\n",
            "--------------------------------------------------------------------------------\n",
            "しげか なんにも 包み隠さ なれ 受けれ 惜しま 殆ど 微塵も 肯 止まら ためらわ しかた ぎこち かみ合わ 望ましく 曲がれ 手だて おごら けっして 記せ 能わ かかれ なくせ 有り得 眠れ 上回ら けして 賄え そろわ […] くだら 表せ 近けれ つか 傷つか 終えれ 侮れ 落ち込ま 等しかっ 潔し さしたる たゆま 低けれ 見付から 結び付か 立ち直れ 差し支え 途切れる 惜しげ あわ\n",
            "--------------------------------------------------------------------------------\n",
            "スポーティ 法外 凄惨 無法 俊敏 きらびやか 割安 厳正 不気味 狂暴 詳細 遠大 ギーク 正当 コンパクト 強欲 裕福 偉大 グローバルスタンダード 無学 無惨 一般的 不慣れ 有意義 公的 高潔 身軽 二義的 真っ赤 多情 不明朗 長命 シビア 気障 肝要 不得手 アップビート 嫌味 摩訶不思議 ざらざら ジャーナリスティック 後天的 派手 ロマンチック 陰険 雑多 大まか 不揃い 勇猛 大幅\n",
            "--------------------------------------------------------------------------------\n",
            "葬ろ しりょ 操ろ だろ 見よ 辞めよ 傷つけよ 引き離そ 出よ 尽くそ かいきょ 言お 報いよ 広めよ 関わろ 託そ 送り込も 拾お 支えよ てよ 貰お 取り上げよ 稼ご 焼こ 落とそ 治めよ 飛び降りよ 追い込も 代わろ 取ろ 組も 挑も 建てよ 忘れよ 崩そ しめよ ほしょ 引き止めよ 触れよ 行こ 降りよ 取り入ろ 込も 登ろ 癒そ 通そ 来よ 狙お やり直そ 飛ばそ\n",
            "--------------------------------------------------------------------------------\n"
          ]
        }
      ]
    },
    {
      "cell_type": "code",
      "source": [
        ""
      ],
      "metadata": {
        "id": "K2n9xJfb8Yk9"
      },
      "execution_count": null,
      "outputs": []
    }
  ]
}